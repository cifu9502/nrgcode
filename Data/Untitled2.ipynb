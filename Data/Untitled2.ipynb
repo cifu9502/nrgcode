{
 "metadata": {
  "name": "",
  "signature": "sha256:068c426b3841f8a3da73160fcf78643a6472d77452297b98d396485fd2197440"
 },
 "nbformat": 3,
 "nbformat_minor": 0,
 "worksheets": []
}