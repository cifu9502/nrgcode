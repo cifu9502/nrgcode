{
 "metadata": {
  "name": "",
  "signature": "sha256:efe6928265e95d9dd6cd16bcfd94bb1b9f621f70663b95ca1d9429fc0de5ac61"
 },
 "nbformat": 3,
 "nbformat_minor": 0,
 "worksheets": [
  {
   "cells": [
    {
     "cell_type": "code",
     "collapsed": false,
     "input": [
      "#from __future__ import division \n",
      "%pylab inline\n",
      "import string\n",
      "%matplotlib qt \n",
      "#%matplotlib notebook\n",
      "#%matplotlib nbagg\n",
      "import matplotlib.ticker as ticker\n",
      "import os\n",
      "\n",
      "txt = 'run'\n",
      "#txt = 'OldData/run'\n",
      "txt2 = '/rho_'\n",
      "inp ='/input_nrg.dat'\n",
      "\n",
      "\n",
      "rcParams.update({'font.size': 30})\n",
      "rc(\"text\", usetex = True)\n",
      "rc(\"font\", family = \"serif\")\n",
      "#rcParams['figure.subplot.hspace'] = 0.3\n",
      "rcParams['figure.subplot.wspace'] = 0.1\n",
      "from scipy.interpolate import griddata\n",
      "from scipy.optimize import curve_fit\n",
      "from scipy import interpolate\n",
      "mpl.rcParams['lines.linewidth'] = 2\n",
      "Gamma = 2.82691*0.01\n",
      "pi*Gamma\n",
      "\n",
      "\n",
      "def readfile(ini):\n",
      "        output = txt+repr(ini)+'/EntropyChain1Ch_NupPdn_zEQ1.dat'\n",
      "        output = txt+repr(ini)+'/EntropyImp1ChNupPdn_Majorana_zEQ1.dat'\n",
      "        infile = open(os.path.abspath(output), 'r')\n",
      "        text = infile.readlines()\n",
      "        \n",
      "        #Data managemente\n",
      "        Temp = [];         Tot = [];  Chain = [];  Imp = [];  \n",
      "        for x in text:\n",
      "            #print(list(x))\n",
      "            a =x.split(' ') ; a[3]=a[3].split('\\n')[0] \n",
      "            Temp.append(float(a[0]))\n",
      "            Tot.append(float(a[1]))\n",
      "            Chain.append(float(a[2]))\n",
      "            Imp.append(float(a[3]))\n",
      "        return array(Temp) , array(Tot) , array(Chain) , array(Imp)"
     ],
     "language": "python",
     "metadata": {},
     "outputs": [
      {
       "output_type": "stream",
       "stream": "stdout",
       "text": [
        "Populating the interactive namespace from numpy and matplotlib\n"
       ]
      }
     ],
     "prompt_number": 1
    },
    {
     "cell_type": "code",
     "collapsed": false,
     "input": [
      "#returns the parameter value of file ini  at the given line    \n",
      "def readfile_Param(ini, line):\n",
      "        #output = txt+repr(ini)+txt2 +repr(dot)+'_'+repr(dot)+'_OmegaRhow_zEQAVG.00.dat'\n",
      "        output = txt+repr(ini)+ inp \n",
      "        #output = '/home/cifucito/nrgcode/TwoChNRG/src/Main/Run/Run2DOtM/rho_2_2_OmegaRhow.dat'\n",
      "        infile = open(os.path.abspath(output), 'r')\n",
      "        text = infile.readlines()\n",
      "        return  float(text[line])   \n",
      "    \n",
      "    \n",
      "    \n",
      "#read files for folder ini and dot \n",
      "#return\n",
      "def readfile2(ini, dot):\n",
      "        output = txt+repr(ini)+txt2 +repr(dot)+'_'+repr(dot)+'_OmegaRhow_zEQAVG.00.dat'\n",
      "        \n",
      "        #output = txt+repr(ini)+txt2 +repr(dot)+'_'+repr(dot)+'_OmegaRhow.dat'\n",
      "        #output = 'NotSoOld_Data/'+txt+repr(ini)+txt2 +repr(dot)+'_'+repr(dot)+'_OmegaRhow.dat'\n",
      "        #output = 'OldData/'+txt+repr(ini)+txt2 +repr(dot)+'_'+repr(dot)+'_OmegaRhow.dat'\n",
      "        infile = open(os.path.abspath(output), 'r')\n",
      "        text = infile.readlines()\n",
      "        \n",
      "        #Data managemente\n",
      "        vec = [];        vec2 = []  \n",
      "        for x in text:\n",
      "            #print(list(x))\n",
      "            a =x.split(' ') ;            vec.append(float(a[-3]))\n",
      "            vec2.append(float(a[0]))\n",
      "        #if j%20 == 1 : vec = vec[::-1];\n",
      "        DOS= array(vec) ; w = array(vec2) \n",
      "        return DOS , w\n",
      "    "
     ],
     "language": "python",
     "metadata": {},
     "outputs": [],
     "prompt_number": 2
    },
    {
     "cell_type": "code",
     "collapsed": false,
     "input": [
      "ini = 152; line = 21\n",
      "Temp , Tot , Chain , Imp = readfile(ini)\n",
      "param = readfile_Param(ini, line)\n",
      "#semilogx(Temp , Tot/log(2) , label = 'Tot'+ ', \\eta_1 = '+ str(param) )\n",
      "#semilogx(Temp , Chain/log(2) , label = 'Chain' + ', \\eta_1 = '+ str(param) )\n",
      "semilogx(Temp , Imp/log(2) , label = 'Imp'+  ',\\eta_1 = '+ str(param) )\n",
      "legend(fontsize=18,loc='lower right')\n",
      "xlabel('Temperature')\n",
      "ylabel('$\\\\times \\log(2)$')"
     ],
     "language": "python",
     "metadata": {},
     "outputs": [
      {
       "metadata": {},
       "output_type": "pyout",
       "prompt_number": 3,
       "text": [
        "<matplotlib.text.Text at 0x7f94d01048d0>"
       ]
      }
     ],
     "prompt_number": 3
    },
    {
     "cell_type": "code",
     "collapsed": false,
     "input": [
      "legend(fontsize=23,loc='lower right')\n",
      "#xlabel('Temperature')\n",
      "#ylabel('$\\\\times \\log(2)$')"
     ],
     "language": "python",
     "metadata": {},
     "outputs": [
      {
       "metadata": {},
       "output_type": "pyout",
       "prompt_number": 13,
       "text": [
        "<matplotlib.legend.Legend at 0x7f6efe516b90>"
       ]
      }
     ],
     "prompt_number": 13
    },
    {
     "cell_type": "code",
     "collapsed": false,
     "input": [
      "ini = 150; line = 21\n",
      "Temp , Tot , Chain , Imp = readfile(ini)\n",
      "Rho , w  =readfile2(3, 0)\n",
      "plot(range(size(w[w>0])),log(Rho[w>0]) )\n",
      "plot(range(size(Imp[::-4])),Imp[::-4] )"
     ],
     "language": "python",
     "metadata": {},
     "outputs": [
      {
       "metadata": {},
       "output_type": "pyout",
       "prompt_number": 13,
       "text": [
        "[<matplotlib.lines.Line2D at 0x7f6f770930d0>]"
       ]
      }
     ],
     "prompt_number": 13
    },
    {
     "cell_type": "code",
     "collapsed": false,
     "input": [
      "fill_between(linspace(min(params)/2 ,max(params)*2, 10), 0.002, 0.01,  facecolor='yellow')\n",
      "\n"
     ],
     "language": "python",
     "metadata": {},
     "outputs": [
      {
       "metadata": {},
       "output_type": "pyout",
       "prompt_number": 57,
       "text": [
        "<matplotlib.lines.Line2D at 0x7f72cb7d8550>"
       ]
      }
     ],
     "prompt_number": 57
    },
    {
     "cell_type": "code",
     "collapsed": false,
     "input": [
      "def LogTransform(w , mult):\n",
      "    logw = log10(w)\n",
      "    return logw     "
     ],
     "language": "python",
     "metadata": {},
     "outputs": [],
     "prompt_number": 4
    },
    {
     "cell_type": "code",
     "collapsed": false,
     "input": [
      "from mpl_toolkits.axes_grid1 import make_axes_locatable\n",
      "\n",
      "\n",
      "def LogMajSig( initials , dot , line , f2,ax , Method , maxplot ,PrintAxis , mult):\n",
      "    W = [] ;T = [] ; Rho_values = [] ; t2=[] \n",
      "    \n",
      "    for ini in initials:\n",
      "        param =  readfile_Param(ini, line) ; t2.append(param) \n",
      "    Params = linspace(min(t2) , max(t2),500) ;     SQ = 8*Params**2  \n",
      "    Params= mult * LogTransform(Params , 1) ;     SQ = LogTransform(SQ , 1)\n",
      "    \n",
      "    KondoLims = array([0.002,0.01]) ; KondoLims = LogTransform(KondoLims , 1)\n",
      "    ax.axvline(x=KondoLims[0], color = 'red', label = '$t_{1,2} =0$ Kondo Peaks')\n",
      "    ax.axvline(x=KondoLims[1],color = 'red')\n",
      "    #fill_between(linspace(KondoLims[1] ,KondoLims[2], 10),-4,-3, facecolor='green', label='Kondo Satellites')\n",
      "    \n",
      "    \n",
      "    maxt2 = max(t2) ; mint2 = min(t2); t2 = []\n",
      "    print maxt2 -mint2 \n",
      "    \n",
      "    for ini in initials:\n",
      "        param =  readfile_Param(ini, line)\n",
      "        param = mult * LogTransform(param , 1)\n",
      "        t2.append(param)\n",
      "        \n",
      "        \n",
      "        rho , w = readfile2(ini, dot) ;  rho1, w1 = readfile2(ini+100, dot)\n",
      "        rho = 0.5*(rho +rho1) ; rho = rho[w>0] ; w = w[w>0]\n",
      "        \n",
      "        rhoD , w = readfile2(ini, dot+1) ;  rhoD1, w1 = readfile2(ini+100, dot+1)\n",
      "        rhoD = 0.5*(rhoD +rhoD1) ; rhoD = rhoD[w>0] ; w = w[w>0]\n",
      "        rho = rho/rhoD\n",
      "        \n",
      "        \n",
      "        maxi = max(-log10(w[w>0]))\n",
      "        logw = LogTransform(w, 1) ; w = logw\n",
      "        \n",
      "        for term in range(size(w)):\n",
      "            W.append(w[term]) ; T.append(param) ;  Rho_values.append(rho[term])      \n",
      "    points = zeros((size(W),2)) ; points[:,0] = array(W) ; points[:,1] = array(T) ; t2 = array(t2); w = array(w)\n",
      "    Rho_values = array(Rho_values) #/max(Rho_values) \n",
      "    grid_x, grid_y = mgrid[min(w):max(w):1000j, min(t2):max(t2):1000j]\n",
      "    grid_zA = griddata(points, Rho_values, (grid_x, grid_y), method=Method)\n",
      "    #grid_zA = griddata(points, Rho_values, (grid_x, grid_y), method='linear')\n",
      "    im = ax.imshow(grid_zA.T, extent=(min(w),max(w),min(t2),max(t2)),vmin=0.5, vmax=maxplot,cmap=\"gist_stern\", origin='lower')\n",
      "    \n",
      "    divider = make_axes_locatable(ax)\n",
      "    #cax = divider.append_axes(\"right\", size=\"5%\", pad=0.05);\n",
      "    #if colorAxis: \n",
      "    #ax.set_xlim(-wlims,wlims) ;\n",
      "    #t2 = sort(t2) ; #t2 = t2[::2]  \n",
      "    ax.plot(SQ , Params, 'b-',label = '$4t^2/U$')\n",
      "    ax.legend(fontsize=20, loc='upper left')\n",
      "    \n",
      "    if PrintAxis :\n",
      "        param_ticks = array([10**(-4), 10**(-3), 10**(-2)])\n",
      "        Y_logticks = mult * LogTransform(param_ticks , 1)\n",
      "        yticks(Y_logticks , ('$10^{-4}$','$10^{-3}$', '$10^{-2}$')) \n",
      "        #print 'ParamTicks =' , paramTicks_scaled , paramTicks\n",
      "        \n",
      "        ticks = array([10**(-8) , 10**(-6) ,10**(-4) , 10**(-2),1])\n",
      "        logticks = LogTransform(ticks , 1)\n",
      "        xticks(logticks , ('$10^{-8}$','$10^{-6}$','$10^{-4}$','$10^{-2}$', '$1$'))     \n",
      "        cbar = f2.colorbar(im)\n",
      "        cbar.set_ticks([0.5, 1,1.5, 2])\n",
      "        cbar.set_ticklabels(['$0.5$','$1$' ,'$1.5$', '$2$'])\n",
      "    #ticks_y = ticker.FuncFormatter(lambda t2, pos: '{0:g}'.format(t2*maxt2/mult))\n",
      "    #print t2 , ticks_x\n",
      "    #ax.yaxis.set_major_formatter(ticks_y)\n",
      "    \n",
      "    #y1 = mult*0.0025/maxt2\n",
      "    #ax.axhline(y=y1,linewidth=4, color='r', ls = '--')\n",
      "    \n",
      "    #y2 = mult*0.02/maxt2\n",
      "    #ax.axhline(y=y2,linewidth=4, color='g', ls = '--')\n",
      "    \n",
      "    return logticks  , Y_logticks "
     ],
     "language": "python",
     "metadata": {},
     "outputs": [],
     "prompt_number": 5
    },
    {
     "cell_type": "code",
     "collapsed": false,
     "input": [],
     "language": "python",
     "metadata": {},
     "outputs": [
      {
       "metadata": {},
       "output_type": "pyout",
       "prompt_number": 18,
       "text": [
        "3.141592653589793"
       ]
      }
     ],
     "prompt_number": 18
    },
    {
     "cell_type": "code",
     "collapsed": false,
     "input": [
      "def LogTransform2(w, maxi):\n",
      "    logw = zeros(size(w)) ; logw[w<0] = log10(-w[w<0]) ; logw[w>0] = log10(w[w>0]) \n",
      "    logw = -logw ;  #print \"b\" , logw\n",
      "    logw[size(logw)/2:] = -logw[size(logw)/2:]+ 2*maxi\n",
      "    logw =  logw -maxi\n",
      "    return logw     "
     ],
     "language": "python",
     "metadata": {},
     "outputs": [],
     "prompt_number": 9
    },
    {
     "cell_type": "code",
     "collapsed": false,
     "input": [
      "def LogMajt1t2( initials , dot , line , f2,ax , Method , maxplot ,PrintAxis , mult):\n",
      "    W = [] ;T = [] ; Rho_values = [] ; t2=[] \n",
      "    \n",
      "    for ini in initials:\n",
      "        param =  readfile_Param(ini, line) ; t2.append(param) \n",
      "    Params = linspace(min(t2) , max(t2),500) ;     SQ = 8*Params**2  \n",
      "    Params= mult * LogTransform(Params , 1) ;     SQ = LogTransform(SQ , 1)\n",
      "    \n",
      "    KondoLims = array([0.002,0.01]) ; KondoLims = LogTransform(KondoLims , 1)\n",
      "#     ax.axvline(x=KondoLims[0], color = 'red', label = '$t_{1,2} =0$ Kondo Peaks')\n",
      "#     ax.axvline(x=KondoLims[1],color = 'red')\n",
      "    #fill_between(linspace(KondoLims[1] ,KondoLims[2], 10),-4,-3, facecolor='green', label='Kondo Satellites')\n",
      "    \n",
      "    \n",
      "    maxt2 = max(t2) ; mint2 = min(t2); t2 = []\n",
      "    print maxt2 -mint2 \n",
      "    \n",
      "    for ini in initials:\n",
      "        param =  readfile_Param(ini, line)\n",
      "        param = mult * LogTransform(param , 1)\n",
      "        t2.append(param)\n",
      "        \n",
      "        \n",
      "        rho , w = readfile2(ini, dot) ;  rho1, w1 = readfile2(ini+100, dot)\n",
      "        rho = 0.5*(rho +rho1) ;# rho = rho[w>0] ; w = w[w>0]\n",
      "#         rho = rho*pi*Gamma ; w = w/Gamma\n",
      "        \n",
      "        \n",
      "#         rhoD , w = readfile2(ini, dot+1) ;  rhoD1, w1 = readfile2(ini+100, dot+1)\n",
      "#         rhoD = 0.5*(rhoD +rhoD1) ; rhoD = rhoD[w>0] ; w = w[w>0]\n",
      " \n",
      "        maxi = max(-log10(w[w>0]))\n",
      "        logw = LogTransform2(w, maxi) ; w = logw\n",
      "        \n",
      "        for term in range(size(w)):\n",
      "            W.append(w[term]) ; T.append(param) ;  Rho_values.append(rho[term])      \n",
      "            \n",
      "            \n",
      "    points = zeros((size(W),2)) ; points[:,0] = array(W) ; points[:,1] = array(T) ; t2 = array(t2); w = array(w)\n",
      "    Rho_values = array(Rho_values) #/max(Rho_values) \n",
      "    grid_x, grid_y = mgrid[min(w):max(w):1000j, min(t2):max(t2):1000j]\n",
      "    grid_zA = griddata(points, Rho_values, (grid_x, grid_y), method=Method)\n",
      "    #grid_zA = griddata(points, Rho_values, (grid_x, grid_y), method='linear')\n",
      "    im = ax.imshow(grid_zA.T, extent=(min(w),max(w),min(t2),max(t2)),vmin=0.5, vmax=maxplot,cmap=\"gist_stern\", origin='lower')\n",
      "    divider = make_axes_locatable(ax)\n",
      "    \n",
      "    \n",
      "    \n",
      "    #cax = divider.append_axes(\"right\", size=\"5%\", pad=0.05);\n",
      "    #if colorAxis: \n",
      "    #ax.set_xlim(-wlims,wlims) ;\n",
      "    #t2 = sort(t2) ; #t2 = t2[::2]  \n",
      "#     ax.plot(SQ , Params, 'b-',label = '$4t^2/U$')\n",
      "#         ax.legend(fontsize=20, loc='upper left')\n",
      "    \n",
      "    if PrintAxis :\n",
      "        param_ticks = array([10**(-4), 10**(-3), 10**(-2)])\n",
      "        Y_logticks = mult * LogTransform(param_ticks , 1)\n",
      "        yticks(Y_logticks , ('$10^{-4}$','$10^{-3}$', '$10^{-2}$')) \n",
      "    \n",
      "        ticks = array([-1,-10**(-3) ,-10**(-6) ,10**(-maxi), 10**(-6) ,  10**(-3),1])\n",
      "        logticks = LogTransform2(ticks , maxi)\n",
      "        xticks(logticks , ('$-1$','$-10^{-3}$', '$-10^{-6}$','$0$', '$10^{-6}$','$10^{-3}$', '$1$'))     \n",
      "        cbar = f2.colorbar(im)\n",
      "        \n",
      "    #ticks_y = ticker.FuncFormatter(lambda t2, pos: '{0:g}'.format(t2*maxt2/mult))\n",
      "    #print t2 , ticks_x\n",
      "    #ax.yaxis.set_major_formatter(ticks_y)\n",
      "    \n",
      "    #y1 = mult*0.0025/maxt2\n",
      "    #ax.axhline(y=y1,linewidth=4, color='r', ls = '--')\n",
      "    \n",
      "    #y2 = mult*0.02/maxt2\n",
      "    #ax.axhline(y=y2,linewidth=4, color='g', ls = '--')\n",
      "    \n",
      "    return logticks  , Y_logticks "
     ],
     "language": "python",
     "metadata": {},
     "outputs": [],
     "prompt_number": 34
    },
    {
     "cell_type": "code",
     "collapsed": false,
     "input": [
      "dot=1\n",
      "line = 13\n",
      "Method = 'linear' #; Method = 'Quadratic'\n",
      "initials = array([450,451,452,453,454,455,456,457,458,459])\n",
      "#initials = range(400,409)\n",
      "\n",
      "#initials = array([180,181,182,183,184,190 ,191,192,193,194,195,186,187,188,189])\n",
      "initials = range(811,819)\n",
      "f2, ax = subplots(1, 1, sharex='col', sharey='row', figsize=(10, 10))\n",
      "ax.set_title('Majorana Signature $\\\\rho_\\uparrow / \\\\rho_\\downarrow$', fontsize=22)\n",
      "ax.set_xlabel('$\\omega / D$')\n",
      "ax.set_ylabel('$t_1/D =t_2 / D$')\n",
      "\n",
      "maxplot = 0\n",
      "#for ini in initials:\n",
      "#     rho , w = readfile(ini, dot) ;     maxrho = max(rho[abs(w)<wlims*2]) ;    maxplot = maxrho if maxrho>maxplot else maxplot \n",
      "logticks  , Y_logticks  = LogMajt1t2( initials , dot , line , f2, ax, Method, 2.5, True , 2.5)\n"
     ],
     "language": "python",
     "metadata": {},
     "outputs": [
      {
       "output_type": "stream",
       "stream": "stdout",
       "text": [
        "0.04995\n"
       ]
      }
     ],
     "prompt_number": 36
    },
    {
     "cell_type": "code",
     "collapsed": false,
     "input": [],
     "language": "python",
     "metadata": {},
     "outputs": []
    },
    {
     "cell_type": "code",
     "collapsed": false,
     "input": [],
     "language": "python",
     "metadata": {},
     "outputs": []
    },
    {
     "cell_type": "code",
     "collapsed": false,
     "input": [],
     "language": "python",
     "metadata": {},
     "outputs": []
    },
    {
     "cell_type": "code",
     "collapsed": false,
     "input": [],
     "language": "python",
     "metadata": {},
     "outputs": []
    },
    {
     "cell_type": "code",
     "collapsed": false,
     "input": [
      "dot=0\n",
      "line = 13\n",
      "Method = 'linear' #; Method = 'Quadratic'\n",
      "initials = array([450,451,452,453,454,455,456,457,458,459])\n",
      "#initials = range(400,409)\n",
      "\n",
      "#initials = array([180,181,182,183,184,190 ,191,192,193,194,195,186,187,188,189])\n",
      "initials = range(811,819)\n",
      "f2, ax = subplots(1, 1, sharex='col', sharey='row', figsize=(10, 10))\n",
      "ax.set_title('Majorana Signature $\\\\rho_\\uparrow / \\\\rho_\\downarrow$', fontsize=22)\n",
      "ax.set_xlabel('$\\omega / D$')\n",
      "ax.set_ylabel('$t_1/D =t_2 / D$')\n",
      "\n",
      "maxplot = 0\n",
      "#for ini in initials:\n",
      "#     rho , w = readfile(ini, dot) ;     maxrho = max(rho[abs(w)<wlims*2]) ;    maxplot = maxrho if maxrho>maxplot else maxplot \n",
      "logticks  , Y_logticks  = LogMajSig( initials , dot , line , f2, ax, Method, 2, True , 2.5)\n",
      "\n",
      "\n",
      "#print maxrho  , maxplot"
     ],
     "language": "python",
     "metadata": {},
     "outputs": [
      {
       "output_type": "stream",
       "stream": "stdout",
       "text": [
        "0.04995\n"
       ]
      }
     ],
     "prompt_number": 7
    },
    {
     "cell_type": "code",
     "collapsed": false,
     "input": [
      "ax.legend(fontsize=19, loc='upper left')\n",
      "ax.set_title('Majorana Signature $\\\\rho_\\uparrow / \\\\rho_\\downarrow$', fontsize=22)\n",
      "xticks(logticks , ('$10^{-8}$','$10^{-6}$','$10^{-4}$','$10^{-2}$', '$1$'))\n",
      "yticks(Y_logticks , ('$10^{-4}$','$10^{-3}$', '$10^{-2}$'))"
     ],
     "language": "python",
     "metadata": {},
     "outputs": [
      {
       "metadata": {},
       "output_type": "pyout",
       "prompt_number": 8,
       "text": [
        "([<matplotlib.axis.YTick at 0x7f94b11ebe90>,\n",
        "  <matplotlib.axis.YTick at 0x7f94b11e2e90>,\n",
        "  <matplotlib.axis.YTick at 0x7f94b1e27e50>],\n",
        " <a list of 3 Text yticklabel objects>)"
       ]
      }
     ],
     "prompt_number": 8
    },
    {
     "cell_type": "code",
     "collapsed": false,
     "input": [
      "\n",
      "\n",
      "\n",
      "def GetTemp(ini , dot , trigger):\n",
      "    dot = (dot-1)*2 \n",
      "    rho , w = readfile2(ini,dot) ; rho1 , w = readfile2(ini+100,dot) ; rho = 0.5*(rho +rho1)\n",
      "    rhoD , w = readfile2(ini,dot+1) ; rhoD1 , w = readfile2(ini+100,dot+1) ; rhoD = 0.5*(rhoD +rhoD1)\n",
      "    Temp = w[rho/rhoD>trigger] \n",
      "    #semilogx(w,rho,w , rhoD)\n",
      "    return Temp[-1]\n",
      "    #semilogx(w,rho/rhoD)\n",
      "    \n",
      "ini = range(811,819)\n",
      "Temp1 = [] ;  Temp2 = [] ; params = []\n",
      "for i in ini:\n",
      "    Temp1.append(GetTemp(i, 1 , 1.3) )\n",
      "    Temp2.append(GetTemp(i, 1 , 1.95) )#/Gamma)\n",
      "    params.append(readfile_Param(i,12))\n",
      "    \n",
      "params = array(params)    \n",
      "\n",
      "\n",
      "\n",
      "x = linspace(min(params)/2 ,max(params)*2, 200)\n",
      "\n",
      "#loglog(tnew,f(tnew),'-' )\n",
      "loglog(params, Temp1 ,  'bo' , label='Limits of Majorana Satellites' )\n",
      "loglog(params, Temp2 ,  'bo' )#, label='Minimum Majorana Satellites' )\n",
      "loglog(x , 8*(x**2), 'r-' , label = '$4t^2/U$')\n",
      "#axhline(y=0.002, color='r', linestyle='-' , )\n",
      "#axhline(y=0.01, color='r', linestyle='-')\n",
      "fill_between(linspace(min(params)/2 ,max(params)*2, 10), 0.002, 0.01,  facecolor='green', label='Kondo Satellites')\n",
      "fill_between(params, Temp1, Temp2,  facecolor='silver' , label=' Majorana Satellite \\\\rho_\\uparrow / \\\\rho_\\downarrow >1.5')\n",
      "fill_between(params, min(Temp2), Temp2,  facecolor='gold' , label='Majorana Signature \\\\rho_\\uparrow / \\\\rho_\\downarrow =2')\n",
      "#fill_between(params, 0., Temp1,  facecolor='red' , label='Majorana Peaks')\n",
      "xlim(min(params) , max(params)) \n",
      "ylim(min(Temp2) , max(Temp1)) \n",
      "#for p in range(len(params)):\n",
      "    ##axvline(x=params[p], ymin= 2, ymax = 30)\n",
      "    #ymax=Temp1[p])\n",
      "#    print Temp2[p] , Temp1[p]\n",
      "\n",
      "#rho , w = readfile2(450,dot) ; rho1 , w = readfile2(450+100,dot) ; rho = 0.5*(rho +rho1)\n",
      "legend(fontsize=18, loc='lower right')\n",
      "xlabel('$t_1/D = t_2/D$')\n",
      "ylabel('T_M / D)')"
     ],
     "language": "python",
     "metadata": {},
     "outputs": [
      {
       "metadata": {},
       "output_type": "pyout",
       "prompt_number": 74,
       "text": [
        "<matplotlib.text.Text at 0x7fed813872d0>"
       ]
      }
     ],
     "prompt_number": 74
    },
    {
     "cell_type": "code",
     "collapsed": false,
     "input": [
      "legend(fontsize=18, loc='lower right')"
     ],
     "language": "python",
     "metadata": {},
     "outputs": [
      {
       "metadata": {},
       "output_type": "pyout",
       "prompt_number": 75,
       "text": [
        "<matplotlib.legend.Legend at 0x7fed80cd61d0>"
       ]
      }
     ],
     "prompt_number": 75
    },
    {
     "cell_type": "code",
     "collapsed": false,
     "input": [
      "from scipy import interpolate\n",
      "from scipy.optimize import curve_fit\n",
      "def func(x,a,b):\n",
      "     return a*x +b \n",
      "    \n",
      "tnew =  linspace(min(params) ,max(params), 100) #; f = interpolate.interp1d(params, Temp1 , kind='quadratic')\n",
      "popt, pcov = curve_fit(func, log(params), log(Temp1))   \n",
      "data=popt[1]*tnew**popt[0]\n",
      "#loglog(tnew ,data)\n",
      "semilogx(tnew,data)\n",
      "print tnew , data"
     ],
     "language": "python",
     "metadata": {},
     "outputs": [
      {
       "output_type": "stream",
       "stream": "stdout",
       "text": [
        "[  5.00000000e-05   5.54545455e-04   1.05909091e-03   1.56363636e-03\n",
        "   2.06818182e-03   2.57272727e-03   3.07727273e-03   3.58181818e-03\n",
        "   4.08636364e-03   4.59090909e-03   5.09545455e-03   5.60000000e-03\n",
        "   6.10454545e-03   6.60909091e-03   7.11363636e-03   7.61818182e-03\n",
        "   8.12272727e-03   8.62727273e-03   9.13181818e-03   9.63636364e-03\n",
        "   1.01409091e-02   1.06454545e-02   1.11500000e-02   1.16545455e-02\n",
        "   1.21590909e-02   1.26636364e-02   1.31681818e-02   1.36727273e-02\n",
        "   1.41772727e-02   1.46818182e-02   1.51863636e-02   1.56909091e-02\n",
        "   1.61954545e-02   1.67000000e-02   1.72045455e-02   1.77090909e-02\n",
        "   1.82136364e-02   1.87181818e-02   1.92227273e-02   1.97272727e-02\n",
        "   2.02318182e-02   2.07363636e-02   2.12409091e-02   2.17454545e-02\n",
        "   2.22500000e-02   2.27545455e-02   2.32590909e-02   2.37636364e-02\n",
        "   2.42681818e-02   2.47727273e-02   2.52772727e-02   2.57818182e-02\n",
        "   2.62863636e-02   2.67909091e-02   2.72954545e-02   2.78000000e-02\n",
        "   2.83045455e-02   2.88090909e-02   2.93136364e-02   2.98181818e-02\n",
        "   3.03227273e-02   3.08272727e-02   3.13318182e-02   3.18363636e-02\n",
        "   3.23409091e-02   3.28454545e-02   3.33500000e-02   3.38545455e-02\n",
        "   3.43590909e-02   3.48636364e-02   3.53681818e-02   3.58727273e-02\n",
        "   3.63772727e-02   3.68818182e-02   3.73863636e-02   3.78909091e-02\n",
        "   3.83954545e-02   3.89000000e-02   3.94045455e-02   3.99090909e-02\n",
        "   4.04136364e-02   4.09181818e-02   4.14227273e-02   4.19272727e-02\n",
        "   4.24318182e-02   4.29363636e-02   4.34409091e-02   4.39454545e-02\n",
        "   4.44500000e-02   4.49545455e-02   4.54590909e-02   4.59636364e-02\n",
        "   4.64681818e-02   4.69727273e-02   4.74772727e-02   4.79818182e-02\n",
        "   4.84863636e-02   4.89909091e-02   4.94954545e-02   5.00000000e-02] [  4.67185834e-08   3.18754177e-06   9.92240995e-06   1.96596375e-05\n",
        "   3.21167153e-05   4.71105735e-05   6.45078112e-05   8.42045944e-05\n",
        "   1.06116572e-04   1.30173125e-04   1.56313788e-04   1.84485886e-04\n",
        "   2.14642891e-04   2.46743235e-04   2.80749431e-04   3.16627405e-04\n",
        "   3.54345971e-04   3.93876417e-04   4.35192175e-04   4.78268543e-04\n",
        "   5.23082467e-04   5.69612351e-04   6.17837894e-04   6.67739965e-04\n",
        "   7.19300479e-04   7.72502302e-04   8.27329163e-04   8.83765580e-04\n",
        "   9.41796792e-04   1.00140870e-03   1.06258783e-03   1.12532124e-03\n",
        "   1.18959655e-03   1.25540185e-03   1.32272567e-03   1.39155699e-03\n",
        "   1.46188517e-03   1.53369994e-03   1.60699138e-03   1.68174990e-03\n",
        "   1.75796622e-03   1.83563135e-03   1.91473657e-03   1.99527343e-03\n",
        "   2.07723371e-03   2.16060944e-03   2.24539286e-03   2.33157644e-03\n",
        "   2.41915282e-03   2.50811487e-03   2.59845561e-03   2.69016825e-03\n",
        "   2.78324616e-03   2.87768288e-03   2.97347209e-03   3.07060763e-03\n",
        "   3.16908347e-03   3.26889371e-03   3.37003260e-03   3.47249449e-03\n",
        "   3.57627386e-03   3.68136532e-03   3.78776356e-03   3.89546340e-03\n",
        "   4.00445976e-03   4.11474765e-03   4.22632219e-03   4.33917857e-03\n",
        "   4.45331210e-03   4.56871815e-03   4.68539218e-03   4.80332975e-03\n",
        "   4.92252647e-03   5.04297804e-03   5.16468024e-03   5.28762891e-03\n",
        "   5.41181996e-03   5.53724938e-03   5.66391321e-03   5.79180757e-03\n",
        "   5.92092861e-03   6.05127257e-03   6.18283575e-03   6.31561448e-03\n",
        "   6.44960517e-03   6.58480427e-03   6.72120829e-03   6.85881378e-03\n",
        "   6.99761735e-03   7.13761566e-03   7.27880540e-03   7.42118332e-03\n",
        "   7.56474621e-03   7.70949092e-03   7.85541431e-03   8.00251331e-03\n",
        "   8.15078488e-03   8.30022601e-03   8.45083374e-03   8.60260516e-03]\n"
       ]
      }
     ],
     "prompt_number": 172
    },
    {
     "cell_type": "code",
     "collapsed": false,
     "input": [
      "GetTemp(810,1)"
     ],
     "language": "python",
     "metadata": {},
     "outputs": [],
     "prompt_number": 74
    },
    {
     "cell_type": "code",
     "collapsed": false,
     "input": [
      "dot = 0\n",
      "i = 115\n",
      "rho , w = readfile2(i,dot) ; rho1 , w = readfile2(i+100,dot) ; rho = 0.5*(rho +rho1)\n",
      "rhoD , w = readfile2(i,dot+1) ; rhoD1 , w = readfile2(i+100,dot+1) ; rhoD = 0.5*(rhoD +rhoD1)\n",
      "peaks = r_[True, rho[1:] < rho[:-1]] & r_[rho[:-1] < rho[1:], True]\n",
      "KondoTemp = w[rho>(0.5*max(rho))] \n",
      "print KondoTemp[-1]\n",
      "semilogx(w, rho, w, rhoD)\n",
      "#w[peaks]"
     ],
     "language": "python",
     "metadata": {},
     "outputs": [
      {
       "output_type": "stream",
       "stream": "stdout",
       "text": [
        "0.000175283469751\n"
       ]
      },
      {
       "metadata": {},
       "output_type": "pyout",
       "prompt_number": 72,
       "text": [
        "[<matplotlib.lines.Line2D at 0x7f72c9d39510>,\n",
        " <matplotlib.lines.Line2D at 0x7f72c9956d50>]"
       ]
      }
     ],
     "prompt_number": 72
    },
    {
     "cell_type": "code",
     "collapsed": false,
     "input": [
      "dot = 0\n",
      "#readfile2(450,dot)"
     ],
     "language": "python",
     "metadata": {},
     "outputs": [],
     "prompt_number": 78
    },
    {
     "cell_type": "code",
     "collapsed": false,
     "input": [
      "    ini = 450  ; dot = 0 \n",
      "    rho , w = readfile2(ini,dot) ; rho1 , w = readfile2(ini+100,dot) ; rho = 0.5*(rho +rho1)\n",
      "    rhoD , w = readfile2(ini,dot+1) ; rhoD1 , w = readfile2(ini+100,dot+1) ; rhoD = 0.5*(rhoD +rhoD1)\n",
      "    Temp = w[rho/rhoD>1.5] \n",
      "    semilogx(w, rho/rhoD , w , rho , w, rhoD)"
     ],
     "language": "python",
     "metadata": {},
     "outputs": [
      {
       "metadata": {},
       "output_type": "pyout",
       "prompt_number": 73,
       "text": [
        "[<matplotlib.lines.Line2D at 0x7fed88d22e90>,\n",
        " <matplotlib.lines.Line2D at 0x7fed818160d0>,\n",
        " <matplotlib.lines.Line2D at 0x7fed81816790>]"
       ]
      }
     ],
     "prompt_number": 73
    },
    {
     "cell_type": "code",
     "collapsed": false,
     "input": [],
     "language": "python",
     "metadata": {},
     "outputs": []
    }
   ],
   "metadata": {}
  }
 ]
}