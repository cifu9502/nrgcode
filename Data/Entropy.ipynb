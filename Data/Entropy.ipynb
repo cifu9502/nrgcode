{
 "cells": [
  {
   "cell_type": "code",
   "execution_count": 1,
   "metadata": {},
   "outputs": [
    {
     "name": "stdout",
     "output_type": "stream",
     "text": [
      "Using matplotlib backend: TkAgg\n",
      "Populating the interactive namespace from numpy and matplotlib\n"
     ]
    }
   ],
   "source": [
    "#from __future__ import division \n",
    "%pylab \n",
    "import string\n",
    "# %matplotlib qt \n",
    "#%matplotlib notebook\n",
    "#%matplotlib nbagg\n",
    "import matplotlib.ticker as ticker\n",
    "import os\n",
    "\n",
    "txt = 'run'\n",
    "#txt = 'OldData/run'\n",
    "txt2 = '/rho_'\n",
    "inp ='/input_nrg.dat'\n",
    "\n",
    "\n",
    "rcParams.update({'font.size': 30})\n",
    "rc(\"text\", usetex = True)\n",
    "rc(\"font\", family = \"serif\")\n",
    "#rcParams['figure.subplot.hspace'] = 0.3\n",
    "rcParams['figure.subplot.wspace'] = 0.1\n",
    "from scipy.interpolate import griddata\n",
    "from scipy.optimize import curve_fit\n",
    "from scipy import interpolate\n",
    "mpl.rcParams['lines.linewidth'] = 2\n",
    "Gamma = 2.82691*0.01\n",
    "pi*Gamma\n",
    "\n",
    "\n",
    "def readfile(ini):\n",
    "        output = txt+repr(ini)+'/EntropyChain1Ch_NupPdn_zEQ1.dat'\n",
    "        output = txt+repr(ini)+'/EntropyImp1ChNupPdn_Majorana_zEQ1.dat'\n",
    "        infile = open(os.path.abspath(output), 'r')\n",
    "        text = infile.readlines()\n",
    "        \n",
    "        #Data managemente\n",
    "        Temp = [];         Tot = [];  Chain = [];  Imp = [];  \n",
    "        for x in text:\n",
    "            #print(list(x))\n",
    "            a =x.split(' ') ; a[3]=a[3].split('\\n')[0] \n",
    "            Temp.append(float(a[0]))\n",
    "            Tot.append(float(a[1]))\n",
    "            Chain.append(float(a[2]))\n",
    "            Imp.append(float(a[3]))\n",
    "        return array(Temp) , array(Tot) , array(Chain) , array(Imp)"
   ]
  },
  {
   "cell_type": "code",
   "execution_count": 2,
   "metadata": {},
   "outputs": [],
   "source": [
    "#returns the parameter value of file ini  at the given line    \n",
    "def readfile_Param(ini, line):\n",
    "        #output = txt+repr(ini)+txt2 +repr(dot)+'_'+repr(dot)+'_OmegaRhow_zEQAVG.00.dat'\n",
    "        output = txt+repr(ini)+ inp \n",
    "        #output = '/home/cifucito/nrgcode/TwoChNRG/src/Main/Run/Run2DOtM/rho_2_2_OmegaRhow.dat'\n",
    "        infile = open(os.path.abspath(output), 'r')\n",
    "        text = infile.readlines()\n",
    "        return  float(text[line])   \n",
    "    \n",
    "    \n",
    "    \n",
    "#read files for folder ini and dot \n",
    "#return\n",
    "def readfile2(ini, dot):\n",
    "        output = txt+repr(ini)+txt2 +repr(dot)+'_'+repr(dot)+'_OmegaRhow_zEQAVG.00.dat'\n",
    "        \n",
    "        #output = txt+repr(ini)+txt2 +repr(dot)+'_'+repr(dot)+'_OmegaRhow.dat'\n",
    "        #output = 'NotSoOld_Data/'+txt+repr(ini)+txt2 +repr(dot)+'_'+repr(dot)+'_OmegaRhow.dat'\n",
    "        #output = 'OldData/'+txt+repr(ini)+txt2 +repr(dot)+'_'+repr(dot)+'_OmegaRhow.dat'\n",
    "        infile = open(os.path.abspath(output), 'r')\n",
    "        text = infile.readlines()\n",
    "        \n",
    "        #Data managemente\n",
    "        vec = [];        vec2 = []  \n",
    "        for x in text:\n",
    "            #print(list(x))\n",
    "            a =x.split(' ') ;            vec.append(float(a[-3]))\n",
    "            vec2.append(float(a[0]))\n",
    "        #if j%20 == 1 : vec = vec[::-1];\n",
    "        DOS= array(vec) ; w = array(vec2) \n",
    "        return DOS , w\n",
    "    "
   ]
  },
  {
   "cell_type": "code",
   "execution_count": 3,
   "metadata": {},
   "outputs": [
    {
     "ename": "IOError",
     "evalue": "[Errno 2] No such file or directory: '/home/cifu/nrgcode/Data/run152/EntropyImp1ChNupPdn_Majorana_zEQ1.dat'",
     "output_type": "error",
     "traceback": [
      "\u001b[0;31m---------------------------------------------------------------------------\u001b[0m",
      "\u001b[0;31mIOError\u001b[0m                                   Traceback (most recent call last)",
      "\u001b[0;32m<ipython-input-3-ed5a7283f78f>\u001b[0m in \u001b[0;36m<module>\u001b[0;34m()\u001b[0m\n\u001b[1;32m      1\u001b[0m \u001b[0mini\u001b[0m \u001b[0;34m=\u001b[0m \u001b[0;36m152\u001b[0m\u001b[0;34m;\u001b[0m \u001b[0mline\u001b[0m \u001b[0;34m=\u001b[0m \u001b[0;36m21\u001b[0m\u001b[0;34m\u001b[0m\u001b[0m\n\u001b[0;32m----> 2\u001b[0;31m \u001b[0mTemp\u001b[0m \u001b[0;34m,\u001b[0m \u001b[0mTot\u001b[0m \u001b[0;34m,\u001b[0m \u001b[0mChain\u001b[0m \u001b[0;34m,\u001b[0m \u001b[0mImp\u001b[0m \u001b[0;34m=\u001b[0m \u001b[0mreadfile\u001b[0m\u001b[0;34m(\u001b[0m\u001b[0mini\u001b[0m\u001b[0;34m)\u001b[0m\u001b[0;34m\u001b[0m\u001b[0m\n\u001b[0m\u001b[1;32m      3\u001b[0m \u001b[0mparam\u001b[0m \u001b[0;34m=\u001b[0m \u001b[0mreadfile_Param\u001b[0m\u001b[0;34m(\u001b[0m\u001b[0mini\u001b[0m\u001b[0;34m,\u001b[0m \u001b[0mline\u001b[0m\u001b[0;34m)\u001b[0m\u001b[0;34m\u001b[0m\u001b[0m\n\u001b[1;32m      4\u001b[0m \u001b[0;31m#semilogx(Temp , Tot/log(2) , label = 'Tot'+ ', \\eta_1 = '+ str(param) )\u001b[0m\u001b[0;34m\u001b[0m\u001b[0;34m\u001b[0m\u001b[0m\n\u001b[1;32m      5\u001b[0m \u001b[0;31m#semilogx(Temp , Chain/log(2) , label = 'Chain' + ', \\eta_1 = '+ str(param) )\u001b[0m\u001b[0;34m\u001b[0m\u001b[0;34m\u001b[0m\u001b[0m\n",
      "\u001b[0;32m<ipython-input-1-44d53dd9d23b>\u001b[0m in \u001b[0;36mreadfile\u001b[0;34m(ini)\u001b[0m\n\u001b[1;32m     30\u001b[0m         \u001b[0moutput\u001b[0m \u001b[0;34m=\u001b[0m \u001b[0mtxt\u001b[0m\u001b[0;34m+\u001b[0m\u001b[0mrepr\u001b[0m\u001b[0;34m(\u001b[0m\u001b[0mini\u001b[0m\u001b[0;34m)\u001b[0m\u001b[0;34m+\u001b[0m\u001b[0;34m'/EntropyChain1Ch_NupPdn_zEQ1.dat'\u001b[0m\u001b[0;34m\u001b[0m\u001b[0m\n\u001b[1;32m     31\u001b[0m         \u001b[0moutput\u001b[0m \u001b[0;34m=\u001b[0m \u001b[0mtxt\u001b[0m\u001b[0;34m+\u001b[0m\u001b[0mrepr\u001b[0m\u001b[0;34m(\u001b[0m\u001b[0mini\u001b[0m\u001b[0;34m)\u001b[0m\u001b[0;34m+\u001b[0m\u001b[0;34m'/EntropyImp1ChNupPdn_Majorana_zEQ1.dat'\u001b[0m\u001b[0;34m\u001b[0m\u001b[0m\n\u001b[0;32m---> 32\u001b[0;31m         \u001b[0minfile\u001b[0m \u001b[0;34m=\u001b[0m \u001b[0mopen\u001b[0m\u001b[0;34m(\u001b[0m\u001b[0mos\u001b[0m\u001b[0;34m.\u001b[0m\u001b[0mpath\u001b[0m\u001b[0;34m.\u001b[0m\u001b[0mabspath\u001b[0m\u001b[0;34m(\u001b[0m\u001b[0moutput\u001b[0m\u001b[0;34m)\u001b[0m\u001b[0;34m,\u001b[0m \u001b[0;34m'r'\u001b[0m\u001b[0;34m)\u001b[0m\u001b[0;34m\u001b[0m\u001b[0m\n\u001b[0m\u001b[1;32m     33\u001b[0m         \u001b[0mtext\u001b[0m \u001b[0;34m=\u001b[0m \u001b[0minfile\u001b[0m\u001b[0;34m.\u001b[0m\u001b[0mreadlines\u001b[0m\u001b[0;34m(\u001b[0m\u001b[0;34m)\u001b[0m\u001b[0;34m\u001b[0m\u001b[0m\n\u001b[1;32m     34\u001b[0m \u001b[0;34m\u001b[0m\u001b[0m\n",
      "\u001b[0;31mIOError\u001b[0m: [Errno 2] No such file or directory: '/home/cifu/nrgcode/Data/run152/EntropyImp1ChNupPdn_Majorana_zEQ1.dat'"
     ]
    }
   ],
   "source": [
    "ini = 152; line = 21\n",
    "Temp , Tot , Chain , Imp = readfile(ini)\n",
    "param = readfile_Param(ini, line)\n",
    "#semilogx(Temp , Tot/log(2) , label = 'Tot'+ ', \\eta_1 = '+ str(param) )\n",
    "#semilogx(Temp , Chain/log(2) , label = 'Chain' + ', \\eta_1 = '+ str(param) )\n",
    "semilogx(Temp , Imp/log(2) , label = 'Imp'+  ',\\eta_1 = '+ str(param) )\n",
    "legend(fontsize=18,loc='lower right')\n",
    "xlabel('Temperature')\n",
    "ylabel('$\\\\times \\log(2)$')"
   ]
  },
  {
   "cell_type": "code",
   "execution_count": 13,
   "metadata": {},
   "outputs": [
    {
     "data": {
      "text/plain": [
       "<matplotlib.legend.Legend at 0x7f6efe516b90>"
      ]
     },
     "execution_count": 13,
     "metadata": {},
     "output_type": "execute_result"
    }
   ],
   "source": [
    "legend(fontsize=23,loc='lower right')\n",
    "#xlabel('Temperature')\n",
    "#ylabel('$\\\\times \\log(2)$')"
   ]
  },
  {
   "cell_type": "code",
   "execution_count": 13,
   "metadata": {},
   "outputs": [
    {
     "data": {
      "text/plain": [
       "[<matplotlib.lines.Line2D at 0x7f6f770930d0>]"
      ]
     },
     "execution_count": 13,
     "metadata": {},
     "output_type": "execute_result"
    }
   ],
   "source": [
    "ini = 150; line = 21\n",
    "Temp , Tot , Chain , Imp = readfile(ini)\n",
    "Rho , w  =readfile2(3, 0)\n",
    "plot(range(size(w[w>0])),log(Rho[w>0]) )\n",
    "plot(range(size(Imp[::-4])),Imp[::-4] )"
   ]
  },
  {
   "cell_type": "code",
   "execution_count": 57,
   "metadata": {},
   "outputs": [
    {
     "data": {
      "text/plain": [
       "<matplotlib.lines.Line2D at 0x7f72cb7d8550>"
      ]
     },
     "execution_count": 57,
     "metadata": {},
     "output_type": "execute_result"
    }
   ],
   "source": [
    "fill_between(linspace(min(params)/2 ,max(params)*2, 10), 0.002, 0.01,  facecolor='yellow')\n",
    "\n"
   ]
  },
  {
   "cell_type": "code",
   "execution_count": 4,
   "metadata": {},
   "outputs": [],
   "source": [
    "def LogTransform(w , mult):\n",
    "    logw = log10(w)\n",
    "    return logw     "
   ]
  },
  {
   "cell_type": "code",
   "execution_count": 5,
   "metadata": {},
   "outputs": [],
   "source": [
    "from mpl_toolkits.axes_grid1 import make_axes_locatable\n",
    "\n",
    "\n",
    "def LogMajSig( initials , dot , line , f2,ax , Method , maxplot ,PrintAxis , mult):\n",
    "    W = [] ;T = [] ; Rho_values = [] ; t2=[] \n",
    "    \n",
    "    for ini in initials:\n",
    "        param =  readfile_Param(ini, line) ; t2.append(param) \n",
    "    Params = linspace(min(t2) , max(t2),500) ;     SQ = 8*Params**2  \n",
    "    Params= mult * LogTransform(Params , 1) ;     SQ = LogTransform(SQ , 1)\n",
    "    \n",
    "    KondoLims = array([0.002,0.01]) ; KondoLims = LogTransform(KondoLims , 1)\n",
    "    ax.axvline(x=KondoLims[0], color = 'red', label = '$t_{1,2} =0$ Kondo Peaks')\n",
    "    ax.axvline(x=KondoLims[1],color = 'red')\n",
    "    #fill_between(linspace(KondoLims[1] ,KondoLims[2], 10),-4,-3, facecolor='green', label='Kondo Satellites')\n",
    "    \n",
    "    \n",
    "    maxt2 = max(t2) ; mint2 = min(t2); t2 = []\n",
    "    print maxt2 -mint2 \n",
    "    \n",
    "    for ini in initials:\n",
    "        param =  readfile_Param(ini, line)\n",
    "        param = mult * LogTransform(param , 1)\n",
    "        t2.append(param)\n",
    "        \n",
    "        \n",
    "        rho , w = readfile2(ini, dot) ;  rho1, w1 = readfile2(ini+100, dot)\n",
    "        rho = 0.5*(rho +rho1) ; rho = rho[w>0] ; w = w[w>0]\n",
    "        \n",
    "        rhoD , w = readfile2(ini, dot+1) ;  rhoD1, w1 = readfile2(ini+100, dot+1)\n",
    "        rhoD = 0.5*(rhoD +rhoD1) ; rhoD = rhoD[w>0] ; w = w[w>0]\n",
    "        rho = rho/rhoD\n",
    "        \n",
    "        \n",
    "        maxi = max(-log10(w[w>0]))\n",
    "        logw = LogTransform(w, 1) ; w = logw\n",
    "        \n",
    "        for term in range(size(w)):\n",
    "            W.append(w[term]) ; T.append(param) ;  Rho_values.append(rho[term])      \n",
    "    points = zeros((size(W),2)) ; points[:,0] = array(W) ; points[:,1] = array(T) ; t2 = array(t2); w = array(w)\n",
    "    Rho_values = array(Rho_values) #/max(Rho_values) \n",
    "    grid_x, grid_y = mgrid[min(w):max(w):1000j, min(t2):max(t2):1000j]\n",
    "    grid_zA = griddata(points, Rho_values, (grid_x, grid_y), method=Method)\n",
    "    #grid_zA = griddata(points, Rho_values, (grid_x, grid_y), method='linear')\n",
    "    im = ax.imshow(grid_zA.T, extent=(min(w),max(w),min(t2),max(t2)),vmin=0.5, vmax=maxplot,cmap=\"gist_stern\", origin='lower')\n",
    "    \n",
    "    divider = make_axes_locatable(ax)\n",
    "    #cax = divider.append_axes(\"right\", size=\"5%\", pad=0.05);\n",
    "    #if colorAxis: \n",
    "    #ax.set_xlim(-wlims,wlims) ;\n",
    "    #t2 = sort(t2) ; #t2 = t2[::2]  \n",
    "    ax.plot(SQ , Params, 'b-',label = '$4t^2/U$')\n",
    "    ax.legend(fontsize=20, loc='upper left')\n",
    "    \n",
    "    if PrintAxis :\n",
    "        param_ticks = array([10**(-4), 10**(-3), 10**(-2)])\n",
    "        Y_logticks = mult * LogTransform(param_ticks , 1)\n",
    "        yticks(Y_logticks , ('$10^{-4}$','$10^{-3}$', '$10^{-2}$')) \n",
    "        #print 'ParamTicks =' , paramTicks_scaled , paramTicks\n",
    "        \n",
    "        ticks = array([10**(-8) , 10**(-6) ,10**(-4) , 10**(-2),1])\n",
    "        logticks = LogTransform(ticks , 1)\n",
    "        xticks(logticks , ('$10^{-8}$','$10^{-6}$','$10^{-4}$','$10^{-2}$', '$1$'))     \n",
    "        cbar = f2.colorbar(im)\n",
    "        cbar.set_ticks([0.5, 1,1.5, 2])\n",
    "        cbar.set_ticklabels(['$0.5$','$1$' ,'$1.5$', '$2$'])\n",
    "    #ticks_y = ticker.FuncFormatter(lambda t2, pos: '{0:g}'.format(t2*maxt2/mult))\n",
    "    #print t2 , ticks_x\n",
    "    #ax.yaxis.set_major_formatter(ticks_y)\n",
    "    \n",
    "    #y1 = mult*0.0025/maxt2\n",
    "    #ax.axhline(y=y1,linewidth=4, color='r', ls = '--')\n",
    "    \n",
    "    #y2 = mult*0.02/maxt2\n",
    "    #ax.axhline(y=y2,linewidth=4, color='g', ls = '--')\n",
    "    \n",
    "    return logticks  , Y_logticks "
   ]
  },
  {
   "cell_type": "code",
   "execution_count": 18,
   "metadata": {},
   "outputs": [
    {
     "data": {
      "text/plain": [
       "3.141592653589793"
      ]
     },
     "execution_count": 18,
     "metadata": {},
     "output_type": "execute_result"
    }
   ],
   "source": []
  },
  {
   "cell_type": "code",
   "execution_count": 6,
   "metadata": {},
   "outputs": [],
   "source": [
    "def LogTransform2(w, maxi):\n",
    "    logw = zeros(size(w)) ; logw[w<0] = log10(-w[w<0]) ; logw[w>0] = log10(w[w>0]) \n",
    "    logw = -logw ;  #print \"b\" , logw\n",
    "    logw[size(logw)/2:] = -logw[size(logw)/2:]+ 2*maxi\n",
    "    logw =  logw -maxi\n",
    "    return logw     "
   ]
  },
  {
   "cell_type": "code",
   "execution_count": 25,
   "metadata": {},
   "outputs": [],
   "source": [
    "def LogMajt1t2( initials , dot , line , f2,ax , Method , maxplot ,PrintAxis , mult):\n",
    "    W = [] ;T = [] ; Rho_values = [] ; t2=[] \n",
    "    \n",
    "    for ini in initials:\n",
    "        param =  readfile_Param(ini, line) ; t2.append(param) \n",
    "    Params = linspace(min(t2) , max(t2),500) ;     SQ = 8*Params**2  \n",
    "    Params= mult * LogTransform(Params , 1) ;     SQ = LogTransform(SQ , 1)\n",
    "    \n",
    "    KondoLims = array([0.002,0.01]) ; KondoLims = LogTransform(KondoLims , 1)\n",
    "#     ax.axvline(x=KondoLims[0], color = 'red', label = '$t_{1,2} =0$ Kondo Peaks')\n",
    "#     ax.axvline(x=KondoLims[1],color = 'red')\n",
    "    #fill_between(linspace(KondoLims[1] ,KondoLims[2], 10),-4,-3, facecolor='green', label='Kondo Satellites')\n",
    "    \n",
    "    \n",
    "    maxt2 = max(t2) ; mint2 = min(t2); t2 = []\n",
    "    print maxt2 -mint2 \n",
    "    \n",
    "    for ini in initials:\n",
    "        param =  readfile_Param(ini, line)\n",
    "        param = mult * LogTransform(param , 1)\n",
    "        t2.append(param)\n",
    "        \n",
    "        \n",
    "        rho , w = readfile2(ini, dot) ;  rho1, w1 = readfile2(ini+100, dot)\n",
    "        rho = 0.5*(rho +rho1) ;# rho = rho[w>0] ; w = w[w>0]\n",
    "#         rho = rho*pi*Gamma ; w = w/Gamma\n",
    "        \n",
    "        \n",
    "#         rhoD , w = readfile2(ini, dot+1) ;  rhoD1, w1 = readfile2(ini+100, dot+1)\n",
    "#         rhoD = 0.5*(rhoD +rhoD1) ; rhoD = rhoD[w>0] ; w = w[w>0]\n",
    " \n",
    "        maxi = max(-log10(w[w>0]))\n",
    "        logw = LogTransform2(w, maxi) ; w = logw\n",
    "        \n",
    "        for term in range(size(w)):\n",
    "            W.append(w[term]) ; T.append(param) ;  Rho_values.append(rho[term])      \n",
    "            \n",
    "            \n",
    "    points = zeros((size(W),2)) ; points[:,0] = array(W) ; points[:,1] = array(T) ; t2 = array(t2); w = array(w)\n",
    "    Rho_values = array(Rho_values) #/max(Rho_values) \n",
    "    grid_x, grid_y = mgrid[min(w):max(w):1000j, min(t2):max(t2):1000j]\n",
    "    grid_zA = griddata(points, Rho_values, (grid_x, grid_y), method=Method)\n",
    "    #grid_zA = griddata(points, Rho_values, (grid_x, grid_y), method='linear')\n",
    "    im = ax.imshow(grid_zA.T, extent=(min(w),max(w),min(t2),max(t2)),vmin=0.5, vmax=maxplot,cmap=\"gist_stern\", origin='lower')\n",
    "    divider = make_axes_locatable(ax)\n",
    "    \n",
    "    \n",
    "    \n",
    "    #cax = divider.append_axes(\"right\", size=\"5%\", pad=0.05);\n",
    "    #if colorAxis: \n",
    "    #ax.set_xlim(-wlims,wlims) ;\n",
    "    #t2 = sort(t2) ; #t2 = t2[::2]  \n",
    "#     ax.plot(SQ , Params, 'b-',label = '$4t^2/U$')\n",
    "#         ax.legend(fontsize=20, loc='upper left')\n",
    "    \n",
    "    if PrintAxis :\n",
    "        param_ticks = array([10**(-4), 10**(-3), 10**(-2)])\n",
    "        Y_logticks = mult * LogTransform(param_ticks , 1)\n",
    "        yticks(Y_logticks , ('$10^{-4}$','$10^{-3}$', '$10^{-2}$')) \n",
    "    \n",
    "        ticks = array([-1,-10**(-3) ,-10**(-6) ,10**(-maxi), 10**(-6) ,  10**(-3),1])\n",
    "        logticks = LogTransform2(ticks , maxi)\n",
    "        xticks(logticks , ('$-1$','$-10^{-3}$', '$-10^{-6}$','$0$', '$10^{-6}$','$10^{-3}$', '$1$'))     \n",
    "        cbar = f2.colorbar(im)\n",
    "        \n",
    "    #ticks_y = ticker.FuncFormatter(lambda t2, pos: '{0:g}'.format(t2*maxt2/mult))\n",
    "    #print t2 , ticks_x\n",
    "    #ax.yaxis.set_major_formatter(ticks_y)\n",
    "    \n",
    "    #y1 = mult*0.0025/maxt2\n",
    "    #ax.axhline(y=y1,linewidth=4, color='r', ls = '--')\n",
    "    \n",
    "    #y2 = mult*0.02/maxt2\n",
    "    #ax.axhline(y=y2,linewidth=4, color='g', ls = '--')\n",
    "    \n",
    "    return maxi , im "
   ]
  },
  {
   "cell_type": "code",
   "execution_count": 33,
   "metadata": {},
   "outputs": [
    {
     "name": "stdout",
     "output_type": "stream",
     "text": [
      "0.09995\n"
     ]
    }
   ],
   "source": [
    "dot=1\n",
    "line = 13\n",
    "Method = 'linear' #; Method = 'Quadratic'\n",
    "initials = array([450,451,452,453,454,455,456,457,458,459])\n",
    "#initials = range(400,409)\n",
    "\n",
    "#initials = array([180,181,182,183,184,190 ,191,192,193,194,195,186,187,188,189])\n",
    "initials = range(811,820)\n",
    "f2, ax = subplots(1, 1, sharex='col', sharey='row', figsize=(7, 6)) \n",
    "spin = '\\downarrow' if dot%2 == 1  else '\\uparrow';\n",
    "ax.set_title('$\\\\rho_'+ spin +'$')\n",
    "ax.set_xlabel('$\\omega / \\Gamma$')\n",
    "ax.set_ylabel('$t_1/D =t_2 / \\Gamma$')\n",
    "\n",
    "maxplot = 0\n",
    "#for ini in initials:\n",
    "#     rho , w = readfile(ini, dot) ;     maxrho = max(rho[abs(w)<wlims*2]) ;    maxplot = maxrho if maxrho>maxplot else maxplot \n",
    "logticks  , Y_logticks  = LogMajt1t2( initials , dot , line , f2, ax, Method, 2.5, True , 2.5)\n"
   ]
  },
  {
   "cell_type": "code",
   "execution_count": null,
   "metadata": {},
   "outputs": [],
   "source": []
  },
  {
   "cell_type": "code",
   "execution_count": null,
   "metadata": {},
   "outputs": [],
   "source": []
  },
  {
   "cell_type": "code",
   "execution_count": 29,
   "metadata": {
    "scrolled": true
   },
   "outputs": [
    {
     "name": "stdout",
     "output_type": "stream",
     "text": [
      "[0.0017687156648071572, 0.0035374313296143143, 0.01768715664807157, 0.03537431329614314, 0.1768715664807157, 0.3537431329614314, 1.0, 1.7687156648071571]\n",
      "1.76694694914 [ 0.0015015   0.01501502  0.15015015  0.84892192]\n",
      "0.04995\n",
      "[ 0.0015015   0.42521171  0.84892192] [ 0.00176872  0.50088436  1.        ]\n",
      "0.04995\n",
      "[ 0.0015015   0.42521171  0.84892192] [ 0.00176872  0.50088436  1.        ]\n"
     ]
    },
    {
     "name": "stderr",
     "output_type": "stream",
     "text": [
      "Exception in Tkinter callback\n",
      "Traceback (most recent call last):\n",
      "  File \"/usr/lib/python2.7/lib-tk/Tkinter.py\", line 1544, in __call__\n",
      "    return self.func(*args)\n",
      "  File \"/usr/lib/python2.7/lib-tk/Tkinter.py\", line 595, in callit\n",
      "    func(*args)\n",
      "  File \"/usr/lib/python2.7/dist-packages/matplotlib/backends/backend_tkagg.py\", line 323, in idle_draw\n",
      "    self.draw()\n",
      "  File \"/usr/lib/python2.7/dist-packages/matplotlib/backends/backend_tkagg.py\", line 304, in draw\n",
      "    FigureCanvasAgg.draw(self)\n",
      "  File \"/usr/lib/python2.7/dist-packages/matplotlib/backends/backend_agg.py\", line 430, in draw\n",
      "    self.figure.draw(self.renderer)\n",
      "  File \"/usr/lib/python2.7/dist-packages/matplotlib/artist.py\", line 55, in draw_wrapper\n",
      "    return draw(artist, renderer, *args, **kwargs)\n",
      "  File \"/usr/lib/python2.7/dist-packages/matplotlib/figure.py\", line 1299, in draw\n",
      "    renderer, self, artists, self.suppressComposite)\n",
      "  File \"/usr/lib/python2.7/dist-packages/matplotlib/image.py\", line 138, in _draw_list_compositing_images\n",
      "    a.draw(renderer)\n",
      "  File \"/usr/lib/python2.7/dist-packages/matplotlib/artist.py\", line 55, in draw_wrapper\n",
      "    return draw(artist, renderer, *args, **kwargs)\n",
      "  File \"/usr/lib/python2.7/dist-packages/matplotlib/axes/_base.py\", line 2437, in draw\n",
      "    mimage._draw_list_compositing_images(renderer, self, artists)\n",
      "  File \"/usr/lib/python2.7/dist-packages/matplotlib/image.py\", line 138, in _draw_list_compositing_images\n",
      "    a.draw(renderer)\n",
      "  File \"/usr/lib/python2.7/dist-packages/matplotlib/artist.py\", line 55, in draw_wrapper\n",
      "    return draw(artist, renderer, *args, **kwargs)\n",
      "  File \"/usr/lib/python2.7/dist-packages/matplotlib/image.py\", line 555, in draw\n",
      "    renderer, renderer.get_image_magnification())\n",
      "  File \"/usr/lib/python2.7/dist-packages/matplotlib/image.py\", line 782, in make_image\n",
      "    unsampled=unsampled)\n",
      "  File \"/usr/lib/python2.7/dist-packages/matplotlib/image.py\", line 451, in _make_image\n",
      "    output = self.norm(np.ma.masked_array(A_resampled, out_mask))\n",
      "  File \"/usr/lib/python2.7/dist-packages/matplotlib/colors.py\", line 928, in __call__\n",
      "    raise ValueError(\"minvalue must be less than or equal to maxvalue\")\n",
      "ValueError: minvalue must be less than or equal to maxvalue\n"
     ]
    }
   ],
   "source": [
    "\n",
    "#Plots 2 or 4 Dos plots\n",
    "#Input : LogPlot (boolean) : true - logPlot , false - Normal plot\n",
    "#        numplots (1,2) : 1 - plots only dots 0 and 1 , 2 - plots 4 dots\n",
    "#        initials - array of file numbers\n",
    "#        line - line of changing parameter \n",
    "#        wlims - defines the w limits if logPlot = false \n",
    "#        paramName - name of changing param \n",
    "#        Method: Method of approximation - 'Linear ' , 'Nearest'\n",
    "#        MaxRho: Maximum Permited DOS \n",
    "#        mult : Allows to change the dimensions of the plot if required\n",
    "def color4Dots( Plus ,   numPlots,  initials ,  line , wlims ,paramName, Method , MaxRho , mult ):  \n",
    "    f2, axarr = subplots(numPlots, 2, sharex='col', sharey='row', figsize=(16, 5*numPlots))\n",
    "    maxplot = 0 ; dots = range(2,4) ;  dots = range(2*numPlots) \n",
    "    t2 = [] \n",
    "    for ini in initials:\n",
    "        param =  readfile_Param(ini, line)/Gamma ;  t2.append(param)\n",
    "    print t2    \n",
    "    maxt2 = (max(t2) -min(t2)) ; t2 = sort(mult*array(t2)/maxt2 ) ;  t2 = t2[::2] \n",
    "    print maxt2 , t2\n",
    "    #for dot in dots:\n",
    "    #    for ini in initials:\n",
    "    #        rho , w = readfile(ini, dot) \n",
    "    #        maxrho = max(rho[abs(w)<wlims]) \n",
    "    #        #print maxrho , ini , dot\n",
    "    #        maxplot = maxrho if maxrho>maxplot else maxplot \n",
    "    for dot in dots:\n",
    "        spin = '\\uparrow'\n",
    "        if dot%2 == 1 : spin = '\\downarrow'; \n",
    "        ax = axarr[dot-dots[0]] if numPlots == 1 else axarr[dot/2 , dot%2 ]\n",
    "        \n",
    "        maxi , im = LogMajt1t2( initials , dot , line , f2, ax, Method, MaxRho, False , mult)\n",
    "        ticks = array([-1,-10**(-3) ,-10**(-6) ,10**(-maxi), 10**(-6) ,  10**(-3),1])\n",
    "        wTicks_scaled = LogTransform2(ticks , maxi)\n",
    "        wTicksLabels = ['$-1$','$-10^{-3}$', '$-10^{-6}$','$0$', '$10^{-6}$','$10^{-3}$', '$1$']\n",
    "            \n",
    "        param_ticks = array([10**(-4), 10**(-3), 10**(-2)])\n",
    "        Y_logticks = mult * LogTransform(param_ticks , 1)\n",
    "        yticks(Y_logticks , ('$10^{-4}$','$10^{-3}$', '$10^{-2}$')) \n",
    "        \n",
    "        \n",
    "        paramTicks_scaled = linspace(min(t2),max(t2),3) ;\n",
    "        paramTicks = paramTicks_scaled*maxt2/mult    \n",
    "        print  paramTicks_scaled, paramTicks\n",
    "        \n",
    "        setp(axarr, xticks = wTicks_scaled, xticklabels= wTicksLabels ,\n",
    "        yticks=paramTicks_scaled ,yticklabels=['$10^{-4}$','$10^{-3}$', '$10^{-2}$'] )\n",
    "        \n",
    "        #setting ticks\n",
    "        \n",
    "        title = '$\\\\rho_{1,2'+ spin +'}$' if numPlots == 1 else '$\\\\rho_{'+str(dot/2 + 1)+ spin +'}$'\n",
    "        ax.set_title(title)\n",
    "        if dot >= (numPlots*2-2) : ax.set_xlabel('$\\omega/\\Gamma'+ '$')\n",
    "        if dot%2 == 0 : ax.set_ylabel('$'+paramName+'$') \n",
    "            \n",
    "    cbar = f2.colorbar(im, ax=axarr.ravel().tolist() )\n",
    "    cbar.set_ticks([0, 0.5*MaxRho, MaxRho])\n",
    "    cbar.set_ticklabels(['$0$', '$'+str(0.5*MaxRho)+'$', '$>'+str(MaxRho)+'$'])\n",
    "    #cbar.ax.set_yticklabels(['< -1', '0', '> 1'])\n",
    "    #f2.subplots_adjust(right=0.8) ticks=[0, 0.5*MaxRho, MaxRho]\n",
    "    #cbar_ax = f2.add_axes([0.85, 0.15, 0.05, 0.7])\n",
    "    #f2.colorbar(im, cax=cbar_ax)\n",
    "\n",
    "    \n",
    "\n",
    "Method = 'linear' #; Method = 'nearest';  \n",
    "line = 13\n",
    "xtitle = [None]*23\n",
    "xtitle[4] = '\\epsilon_{d1}/\\Gamma' ; xtitle[12] = 't_1/\\Gamma = t_2/\\Gamma' ; xtitle[12] = 't_1/\\Gamma' ;\n",
    "xtitle[16] = '\\epsilon_{d2}/\\Gamma'; xtitle[15] = '\\epsilon_{d2}/\\Gamma = \\\\frac{-U_2}{\\Gamma}';xtitle[13] = 't_2/\\Gamma'\n",
    "xtitle[17] = 't_{dots}/\\Gamma ' ; xtitle[18] = '\\epsilon_m/\\Gamma ' ;xtitle[19] = '\\phi_1' ;  xtitle[20] = '\\phi_2' ;xtitle[21] = '\\eta_1' ;\n",
    "xtitle[22] = '\\eta_1' \n",
    "rcParams.update({'font.size': 30})\n",
    "initials = array([450,451,452,453,454,455,456,457,458,459,816,817,818])\n",
    "initials = range(811,819)\n",
    "\n",
    "\n",
    "\n",
    "color4Dots(True ,1,initials ,  line , wlims, xtitle[line], Method ,0.25,1.5)\n",
    "\n"
   ]
  },
  {
   "cell_type": "code",
   "execution_count": null,
   "metadata": {},
   "outputs": [],
   "source": []
  },
  {
   "cell_type": "code",
   "execution_count": null,
   "metadata": {},
   "outputs": [],
   "source": []
  },
  {
   "cell_type": "code",
   "execution_count": null,
   "metadata": {},
   "outputs": [],
   "source": []
  },
  {
   "cell_type": "code",
   "execution_count": 7,
   "metadata": {},
   "outputs": [
    {
     "name": "stdout",
     "output_type": "stream",
     "text": [
      "0.04995\n"
     ]
    }
   ],
   "source": [
    "dot=0\n",
    "line = 13\n",
    "Method = 'linear' #; Method = 'Quadratic'\n",
    "initials = array([450,451,452,453,454,455,456,457,458,459])\n",
    "#initials = range(400,409)\n",
    "\n",
    "#initials = array([180,181,182,183,184,190 ,191,192,193,194,195,186,187,188,189])\n",
    "initials = range(811,819)\n",
    "f2, ax = subplots(1, 1, sharex='col', sharey='row', figsize=(10, 10))\n",
    "ax.set_title('Majorana Signature $\\\\rho_\\uparrow / \\\\rho_\\downarrow$', fontsize=22)\n",
    "ax.set_xlabel('$\\omega / D$')\n",
    "ax.set_ylabel('$t_1/D =t_2 / D$')\n",
    "\n",
    "maxplot = 0\n",
    "#for ini in initials:\n",
    "#     rho , w = readfile(ini, dot) ;     maxrho = max(rho[abs(w)<wlims*2]) ;    maxplot = maxrho if maxrho>maxplot else maxplot \n",
    "logticks  , Y_logticks  = LogMajSig( initials , dot , line , f2, ax, Method, 2, True , 2.5)\n",
    "\n",
    "\n",
    "#print maxrho  , maxplot"
   ]
  },
  {
   "cell_type": "code",
   "execution_count": 8,
   "metadata": {},
   "outputs": [
    {
     "data": {
      "text/plain": [
       "([<matplotlib.axis.YTick at 0x7f94b11ebe90>,\n",
       "  <matplotlib.axis.YTick at 0x7f94b11e2e90>,\n",
       "  <matplotlib.axis.YTick at 0x7f94b1e27e50>],\n",
       " <a list of 3 Text yticklabel objects>)"
      ]
     },
     "execution_count": 8,
     "metadata": {},
     "output_type": "execute_result"
    }
   ],
   "source": [
    "ax.legend(fontsize=19, loc='upper left')\n",
    "ax.set_title('Majorana Signature $\\\\rho_\\uparrow / \\\\rho_\\downarrow$', fontsize=22)\n",
    "xticks(logticks , ('$10^{-8}$','$10^{-6}$','$10^{-4}$','$10^{-2}$', '$1$'))\n",
    "yticks(Y_logticks , ('$10^{-4}$','$10^{-3}$', '$10^{-2}$'))"
   ]
  },
  {
   "cell_type": "code",
   "execution_count": 74,
   "metadata": {},
   "outputs": [
    {
     "data": {
      "text/plain": [
       "<matplotlib.text.Text at 0x7fed813872d0>"
      ]
     },
     "execution_count": 74,
     "metadata": {},
     "output_type": "execute_result"
    }
   ],
   "source": [
    "\n",
    "\n",
    "\n",
    "def GetTemp(ini , dot , trigger):\n",
    "    dot = (dot-1)*2 \n",
    "    rho , w = readfile2(ini,dot) ; rho1 , w = readfile2(ini+100,dot) ; rho = 0.5*(rho +rho1)\n",
    "    rhoD , w = readfile2(ini,dot+1) ; rhoD1 , w = readfile2(ini+100,dot+1) ; rhoD = 0.5*(rhoD +rhoD1)\n",
    "    Temp = w[rho/rhoD>trigger] \n",
    "    #semilogx(w,rho,w , rhoD)\n",
    "    return Temp[-1]\n",
    "    #semilogx(w,rho/rhoD)\n",
    "    \n",
    "ini = range(811,819)\n",
    "Temp1 = [] ;  Temp2 = [] ; params = []\n",
    "for i in ini:\n",
    "    Temp1.append(GetTemp(i, 1 , 1.3) )\n",
    "    Temp2.append(GetTemp(i, 1 , 1.95) )#/Gamma)\n",
    "    params.append(readfile_Param(i,12))\n",
    "    \n",
    "params = array(params)    \n",
    "\n",
    "\n",
    "\n",
    "x = linspace(min(params)/2 ,max(params)*2, 200)\n",
    "\n",
    "#loglog(tnew,f(tnew),'-' )\n",
    "loglog(params, Temp1 ,  'bo' , label='Limits of Majorana Satellites' )\n",
    "loglog(params, Temp2 ,  'bo' )#, label='Minimum Majorana Satellites' )\n",
    "loglog(x , 8*(x**2), 'r-' , label = '$4t^2/U$')\n",
    "#axhline(y=0.002, color='r', linestyle='-' , )\n",
    "#axhline(y=0.01, color='r', linestyle='-')\n",
    "fill_between(linspace(min(params)/2 ,max(params)*2, 10), 0.002, 0.01,  facecolor='green', label='Kondo Satellites')\n",
    "fill_between(params, Temp1, Temp2,  facecolor='silver' , label=' Majorana Satellite \\\\rho_\\uparrow / \\\\rho_\\downarrow >1.5')\n",
    "fill_between(params, min(Temp2), Temp2,  facecolor='gold' , label='Majorana Signature \\\\rho_\\uparrow / \\\\rho_\\downarrow =2')\n",
    "#fill_between(params, 0., Temp1,  facecolor='red' , label='Majorana Peaks')\n",
    "xlim(min(params) , max(params)) \n",
    "ylim(min(Temp2) , max(Temp1)) \n",
    "#for p in range(len(params)):\n",
    "    ##axvline(x=params[p], ymin= 2, ymax = 30)\n",
    "    #ymax=Temp1[p])\n",
    "#    print Temp2[p] , Temp1[p]\n",
    "\n",
    "#rho , w = readfile2(450,dot) ; rho1 , w = readfile2(450+100,dot) ; rho = 0.5*(rho +rho1)\n",
    "legend(fontsize=18, loc='lower right')\n",
    "xlabel('$t_1/D = t_2/D$')\n",
    "ylabel('T_M / D)')"
   ]
  },
  {
   "cell_type": "code",
   "execution_count": 75,
   "metadata": {},
   "outputs": [
    {
     "data": {
      "text/plain": [
       "<matplotlib.legend.Legend at 0x7fed80cd61d0>"
      ]
     },
     "execution_count": 75,
     "metadata": {},
     "output_type": "execute_result"
    }
   ],
   "source": [
    "legend(fontsize=18, loc='lower right')"
   ]
  },
  {
   "cell_type": "code",
   "execution_count": 172,
   "metadata": {},
   "outputs": [
    {
     "name": "stdout",
     "output_type": "stream",
     "text": [
      "[  5.00000000e-05   5.54545455e-04   1.05909091e-03   1.56363636e-03\n",
      "   2.06818182e-03   2.57272727e-03   3.07727273e-03   3.58181818e-03\n",
      "   4.08636364e-03   4.59090909e-03   5.09545455e-03   5.60000000e-03\n",
      "   6.10454545e-03   6.60909091e-03   7.11363636e-03   7.61818182e-03\n",
      "   8.12272727e-03   8.62727273e-03   9.13181818e-03   9.63636364e-03\n",
      "   1.01409091e-02   1.06454545e-02   1.11500000e-02   1.16545455e-02\n",
      "   1.21590909e-02   1.26636364e-02   1.31681818e-02   1.36727273e-02\n",
      "   1.41772727e-02   1.46818182e-02   1.51863636e-02   1.56909091e-02\n",
      "   1.61954545e-02   1.67000000e-02   1.72045455e-02   1.77090909e-02\n",
      "   1.82136364e-02   1.87181818e-02   1.92227273e-02   1.97272727e-02\n",
      "   2.02318182e-02   2.07363636e-02   2.12409091e-02   2.17454545e-02\n",
      "   2.22500000e-02   2.27545455e-02   2.32590909e-02   2.37636364e-02\n",
      "   2.42681818e-02   2.47727273e-02   2.52772727e-02   2.57818182e-02\n",
      "   2.62863636e-02   2.67909091e-02   2.72954545e-02   2.78000000e-02\n",
      "   2.83045455e-02   2.88090909e-02   2.93136364e-02   2.98181818e-02\n",
      "   3.03227273e-02   3.08272727e-02   3.13318182e-02   3.18363636e-02\n",
      "   3.23409091e-02   3.28454545e-02   3.33500000e-02   3.38545455e-02\n",
      "   3.43590909e-02   3.48636364e-02   3.53681818e-02   3.58727273e-02\n",
      "   3.63772727e-02   3.68818182e-02   3.73863636e-02   3.78909091e-02\n",
      "   3.83954545e-02   3.89000000e-02   3.94045455e-02   3.99090909e-02\n",
      "   4.04136364e-02   4.09181818e-02   4.14227273e-02   4.19272727e-02\n",
      "   4.24318182e-02   4.29363636e-02   4.34409091e-02   4.39454545e-02\n",
      "   4.44500000e-02   4.49545455e-02   4.54590909e-02   4.59636364e-02\n",
      "   4.64681818e-02   4.69727273e-02   4.74772727e-02   4.79818182e-02\n",
      "   4.84863636e-02   4.89909091e-02   4.94954545e-02   5.00000000e-02] [  4.67185834e-08   3.18754177e-06   9.92240995e-06   1.96596375e-05\n",
      "   3.21167153e-05   4.71105735e-05   6.45078112e-05   8.42045944e-05\n",
      "   1.06116572e-04   1.30173125e-04   1.56313788e-04   1.84485886e-04\n",
      "   2.14642891e-04   2.46743235e-04   2.80749431e-04   3.16627405e-04\n",
      "   3.54345971e-04   3.93876417e-04   4.35192175e-04   4.78268543e-04\n",
      "   5.23082467e-04   5.69612351e-04   6.17837894e-04   6.67739965e-04\n",
      "   7.19300479e-04   7.72502302e-04   8.27329163e-04   8.83765580e-04\n",
      "   9.41796792e-04   1.00140870e-03   1.06258783e-03   1.12532124e-03\n",
      "   1.18959655e-03   1.25540185e-03   1.32272567e-03   1.39155699e-03\n",
      "   1.46188517e-03   1.53369994e-03   1.60699138e-03   1.68174990e-03\n",
      "   1.75796622e-03   1.83563135e-03   1.91473657e-03   1.99527343e-03\n",
      "   2.07723371e-03   2.16060944e-03   2.24539286e-03   2.33157644e-03\n",
      "   2.41915282e-03   2.50811487e-03   2.59845561e-03   2.69016825e-03\n",
      "   2.78324616e-03   2.87768288e-03   2.97347209e-03   3.07060763e-03\n",
      "   3.16908347e-03   3.26889371e-03   3.37003260e-03   3.47249449e-03\n",
      "   3.57627386e-03   3.68136532e-03   3.78776356e-03   3.89546340e-03\n",
      "   4.00445976e-03   4.11474765e-03   4.22632219e-03   4.33917857e-03\n",
      "   4.45331210e-03   4.56871815e-03   4.68539218e-03   4.80332975e-03\n",
      "   4.92252647e-03   5.04297804e-03   5.16468024e-03   5.28762891e-03\n",
      "   5.41181996e-03   5.53724938e-03   5.66391321e-03   5.79180757e-03\n",
      "   5.92092861e-03   6.05127257e-03   6.18283575e-03   6.31561448e-03\n",
      "   6.44960517e-03   6.58480427e-03   6.72120829e-03   6.85881378e-03\n",
      "   6.99761735e-03   7.13761566e-03   7.27880540e-03   7.42118332e-03\n",
      "   7.56474621e-03   7.70949092e-03   7.85541431e-03   8.00251331e-03\n",
      "   8.15078488e-03   8.30022601e-03   8.45083374e-03   8.60260516e-03]\n"
     ]
    }
   ],
   "source": [
    "from scipy import interpolate\n",
    "from scipy.optimize import curve_fit\n",
    "def func(x,a,b):\n",
    "     return a*x +b \n",
    "    \n",
    "tnew =  linspace(min(params) ,max(params), 100) #; f = interpolate.interp1d(params, Temp1 , kind='quadratic')\n",
    "popt, pcov = curve_fit(func, log(params), log(Temp1))   \n",
    "data=popt[1]*tnew**popt[0]\n",
    "#loglog(tnew ,data)\n",
    "semilogx(tnew,data)\n",
    "print tnew , data"
   ]
  },
  {
   "cell_type": "code",
   "execution_count": 74,
   "metadata": {},
   "outputs": [],
   "source": [
    "GetTemp(810,1)"
   ]
  },
  {
   "cell_type": "code",
   "execution_count": 72,
   "metadata": {},
   "outputs": [
    {
     "name": "stdout",
     "output_type": "stream",
     "text": [
      "0.000175283469751\n"
     ]
    },
    {
     "data": {
      "text/plain": [
       "[<matplotlib.lines.Line2D at 0x7f72c9d39510>,\n",
       " <matplotlib.lines.Line2D at 0x7f72c9956d50>]"
      ]
     },
     "execution_count": 72,
     "metadata": {},
     "output_type": "execute_result"
    }
   ],
   "source": [
    "dot = 0\n",
    "i = 115\n",
    "rho , w = readfile2(i,dot) ; rho1 , w = readfile2(i+100,dot) ; rho = 0.5*(rho +rho1)\n",
    "rhoD , w = readfile2(i,dot+1) ; rhoD1 , w = readfile2(i+100,dot+1) ; rhoD = 0.5*(rhoD +rhoD1)\n",
    "peaks = r_[True, rho[1:] < rho[:-1]] & r_[rho[:-1] < rho[1:], True]\n",
    "KondoTemp = w[rho>(0.5*max(rho))] \n",
    "print KondoTemp[-1]\n",
    "semilogx(w, rho, w, rhoD)\n",
    "#w[peaks]"
   ]
  },
  {
   "cell_type": "code",
   "execution_count": 78,
   "metadata": {},
   "outputs": [],
   "source": [
    "dot = 0\n",
    "#readfile2(450,dot)"
   ]
  },
  {
   "cell_type": "code",
   "execution_count": 73,
   "metadata": {},
   "outputs": [
    {
     "data": {
      "text/plain": [
       "[<matplotlib.lines.Line2D at 0x7fed88d22e90>,\n",
       " <matplotlib.lines.Line2D at 0x7fed818160d0>,\n",
       " <matplotlib.lines.Line2D at 0x7fed81816790>]"
      ]
     },
     "execution_count": 73,
     "metadata": {},
     "output_type": "execute_result"
    }
   ],
   "source": [
    "    ini = 450  ; dot = 0 \n",
    "    rho , w = readfile2(ini,dot) ; rho1 , w = readfile2(ini+100,dot) ; rho = 0.5*(rho +rho1)\n",
    "    rhoD , w = readfile2(ini,dot+1) ; rhoD1 , w = readfile2(ini+100,dot+1) ; rhoD = 0.5*(rhoD +rhoD1)\n",
    "    Temp = w[rho/rhoD>1.5] \n",
    "    semilogx(w, rho/rhoD , w , rho , w, rhoD)"
   ]
  },
  {
   "cell_type": "code",
   "execution_count": null,
   "metadata": {},
   "outputs": [],
   "source": []
  }
 ],
 "metadata": {
  "kernelspec": {
   "display_name": "Python 2",
   "language": "python",
   "name": "python2"
  },
  "language_info": {
   "codemirror_mode": {
    "name": "ipython",
    "version": 2
   },
   "file_extension": ".py",
   "mimetype": "text/x-python",
   "name": "python",
   "nbconvert_exporter": "python",
   "pygments_lexer": "ipython2",
   "version": "2.7.15rc1"
  }
 },
 "nbformat": 4,
 "nbformat_minor": 1
}
