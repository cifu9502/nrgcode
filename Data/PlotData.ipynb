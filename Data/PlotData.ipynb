{
 "cells": [
  {
   "cell_type": "markdown",
   "metadata": {},
   "source": [
    "\n",
    "# Code Outline\n",
    "\n",
    "This file includes the graphic codes for the DOS data coming from the  <span style=\"color:blue\"> *NRG*</span> code ($i$-files) and the exact green functions ('di' folders) written by <span style=\"color:blue\"> *GreenFunctions.nb.* </span>\n",
    "\n",
    "## Read Files\n",
    "In this file we define the functions to read the density of states from the output data of the NRG code :\n",
    "\n",
    "1. readfile($i$, $n_{dot}$) -  read DOS data from NRG of dot $n_{dot}$ in file $i$.\n",
    "2. readfile_Param($i$, $l$) - read DOS parameter of the line $l$ in file $i$.\n",
    "3. readMath(title) - read the data obtained from the Green functions written by the file GreenFunctions.nb. \n",
    "\n",
    "The NRG configurations of the file parameters $i$ are detailed in the file GUIDE.txt. \n",
    "\n",
    "Line parameter $l$, selection values: \n",
    "1. $a$\n",
    "2. $\\Gamma_1$ \n",
    "3. $\\epsilon_d$\n",
    "4. $\\Lambda$\n",
    "\n",
    "And ...\n",
    "\n",
    "11. $h$\n",
    "12. $t_1$\n",
    "13. $t_2$\n",
    "14. $U_2$\n",
    "15. $\\Gamma_2$               \n",
    "16. $e_2$                        \n",
    "17. $t_{dots}$\n",
    "\n",
    "## Plot functions\n",
    "Plot single dot functions for the output data from NRG and GreenFunctions.nb.\n",
    "\n",
    "1. plotMath - Plot DOS of the data obtained from the Green functions written by the file GreenFunctions.nb\n",
    "2. plotOneDot - Plot DOS of the NRG data in one dot\n",
    "3. plotFullDot- Plot DOS of the NRG data in one dot for spin-up and spin-down. Options: Adding inset images and low-energy zooms. (Useful to print the Majorana configuration)\n",
    "\n",
    "\n",
    "## Subplot building\n",
    "The functions here build n-level subplots that will be used to describe the final results. \n",
    "\n",
    "## Code implementations\n",
    "Examples of plots produced with this method. "
   ]
  },
  {
   "cell_type": "markdown",
   "metadata": {},
   "source": [
    "## Initializing Parameters"
   ]
  },
  {
   "cell_type": "code",
   "execution_count": 1,
   "metadata": {},
   "outputs": [
    {
     "name": "stdout",
     "output_type": "stream",
     "text": [
      "Using matplotlib backend: TkAgg\n",
      "Populating the interactive namespace from numpy and matplotlib\n",
      "This is $\\pi \\Gamma$ 0.08880999688359521\n"
     ]
    }
   ],
   "source": [
    "\n",
    "#Interactive plots \n",
    "%pylab \n",
    "\n",
    "\n",
    "\n",
    "# inline\n",
    "import string\n",
    "import matplotlib.ticker as ticker\n",
    "from mpl_toolkits.axes_grid1.inset_locator import inset_axes\n",
    "from mpl_toolkits.axes_grid1.inset_locator import zoomed_inset_axes, mark_inset\n",
    "import os\n",
    "\n",
    "#%matplotlib qt \n",
    "#%matplotlib notebook\n",
    "#%matplotlib nbagg\n",
    "#from __future__ import division \n",
    "\n",
    "txt = 'run'\n",
    "#txt = 'OldData/run'\n",
    "txt2 = '/rho_'\n",
    "inp ='/input_nrg.dat'\n",
    "densPath = '/home/cifucito/nrgcode/TwoChNRG/Images/Density/run'\n",
    "\n",
    "rcParams.update({'font.size': 30})\n",
    "rc(\"text\", usetex = True)\n",
    "rc(\"font\", family = \"serif\")\n",
    "#rcParams['figure.subplot.hspace'] = 0.3\n",
    "rcParams['figure.subplot.wspace'] = 0.1\n",
    "from scipy.interpolate import griddata\n",
    "from scipy.optimize import curve_fit\n",
    "from scipy import interpolate\n",
    "mpl.rcParams['lines.linewidth'] = 2\n",
    "Gamma = 2.82691*0.01\n",
    "print 'This is $\\pi \\Gamma$ ' + repr(pi*Gamma)\n"
   ]
  },
  {
   "cell_type": "markdown",
   "metadata": {},
   "source": [
    "## Read Files"
   ]
  },
  {
   "cell_type": "code",
   "execution_count": 2,
   "metadata": {},
   "outputs": [],
   "source": [
    "#The following functions read the NRG outputs\n",
    "\n",
    "#read files for folder ini and dot \n",
    "#Inputs: ini = 1 - 1000 , dot = 0,1,2,3,4 \n",
    "#return DOS - Density of states , w - energy\n",
    "def readfile(ini, dot):\n",
    "        output = txt+repr(ini)+txt2 +repr(dot)+'_'+repr(dot)+'_OmegaRhow_zEQAVG.00.dat'\n",
    "        #output = txt+repr(ini)+txt2 +repr(dot)+'_'+repr(dot)+'_OmegaRhow.dat'\n",
    "        #output = 'NotSoOld_Data/'+txt+repr(ini)+txt2 +repr(dot)+'_'+repr(dot)+'_OmegaRhow.dat'\n",
    "        #output = 'OldData/'+txt+repr(ini)+txt2 +repr(dot)+'_'+repr(dot)+'_OmegaRhow.dat'\n",
    "#         infile = open(os.path.abspath(output), 'r')\n",
    "#         text = infile.readlines()\n",
    "        dat = loadtxt(output, delimiter = ' ') \n",
    "        DOS= dat[:,1] ; w = dat[:,0] \n",
    "        #Data managemente\n",
    "#         vec = [];        vec2 = []  \n",
    "#         for x in text:\n",
    "#             #print(list(x))\n",
    "#             a =x.split(' ') ;            vec.append(float(a[-3]))\n",
    "#             vec2.append(float(a[0]))\n",
    "        #if j%20 == 1 : vec = vec[::-1];\n",
    "#         DOS= array(vec) ; w = array(vec2) \n",
    "        return DOS , w\n",
    "    \n",
    "\n",
    "#Given a line in the data file, readfile_Param returns the parameter value of file ini  at the given line    \n",
    "#inputs : ini = 1 ... 1000 , line = 1-17\n",
    "#return : float with the parameter of the line\n",
    "def readfile_Param(ini, line):\n",
    "        #output = txt+repr(ini)+txt2 +repr(dot)+'_'+repr(dot)+'_OmegaRhow_zEQAVG.00.dat'\n",
    "        #output = '/home/cifucito/nrgcode/TwoChNRG/src/Main/Run/Run2DOtM/rho_2_2_OmegaRhow.dat'\n",
    "        output = txt+repr(ini)+ inp \n",
    "        infile = open(os.path.abspath(output), 'r')\n",
    "        text = infile.readlines()\n",
    "        return  float(text[line])    \n",
    "\n",
    "    \n",
    "#Read Math : Reads the data obtaind from the Green functions in Mathematica\n",
    "# input: title of the data file from the di folders\n",
    "# output w , DOS\n",
    "def readMath( title):\n",
    "    LIMSX = 10 # Limit of the w values in the DOS\n",
    "    infile = open(os.path.abspath( title ), 'r')\n",
    "    text = infile.readlines()\n",
    "    Green = []\n",
    "    for x in text:\n",
    "         Green.append(pi*Gamma*float(x.split('\\n')[0]))\n",
    "    #return linspace(-10,10,500), array(Green)/(pi*Gamma)\n",
    "    return linspace(-LIMSX,LIMSX,500), array(Green)"
   ]
  },
  {
   "cell_type": "markdown",
   "metadata": {},
   "source": [
    "## Plot Functions"
   ]
  },
  {
   "cell_type": "code",
   "execution_count": 3,
   "metadata": {},
   "outputs": [],
   "source": [
    "# PlotMath: Plot the data from the Green functions\n",
    "# Input: ax-axis, title- title of the data file, lb -text in label ,\n",
    "#        col - color\n",
    "\n",
    "def plotMath( ax , title , lb , style,col):\n",
    "    LIMSX = 10 # Limit of the w values in the DOS\n",
    "    w , Green = readMath( title)\n",
    "    Green = Green#/(pi*Gamma)\n",
    "    NLN = 4\n",
    "    \n",
    "    if col == 'no':\n",
    "        if lb == '':\n",
    "            if col == 'b' or style == ':':\n",
    "                ax.plot(linspace(-LIMSX,LIMSX,500),Green, ls = style , linewidth=NLN)\n",
    "            else:\n",
    "                ax.plot(linspace(-LIMSX,LIMSX,500),Green, ls = style ) \n",
    "        else :\n",
    "            if col == 'b' or style == ':':\n",
    "                ax.plot(linspace(-LIMSX,LIMSX,500),Green, label = lb,ls = style,  linewidth=NLN)\n",
    "            else:\n",
    "                ax.plot(linspace(-LIMSX,LIMSX,500),Green, label = lb,ls = style)\n",
    "            \n",
    "    else:\n",
    "        if lb == '':\n",
    "            if col == 'b'or style == ':' :\n",
    "                ax.plot(linspace(-LIMSX,LIMSX,500),Green, ls = style , color = col, linewidth=NLN)\n",
    "            else:\n",
    "                ax.plot(linspace(-LIMSX,LIMSX,500),Green, ls = style , color = col) \n",
    "\n",
    "        else :\n",
    "            if col == 'b' or style == ':':\n",
    "                ax.plot(linspace(-LIMSX,LIMSX,500),Green, label = lb,ls = style, color = col , linewidth=NLN)\n",
    "            else:\n",
    "                ax.plot(linspace(-LIMSX,LIMSX,500),Green, label = lb,ls = style, color = col)\n",
    "            \n",
    "# Plot NRG results of a particular dot\n",
    "# Input: ax-axis, i (int)- file number, SUM(boolean) - Sum data with file i+10  ,\n",
    "#        Reverse (boolean)- Invert data\n",
    "def plotOneDot(ax,i , dot , SUM , Reverse): #U=8.6 \\Gamma_1 \n",
    "    vec , w = readfile(i, dot)\n",
    "    NLN = 4\n",
    "    if Reverse:\n",
    "        vec = vec[::-1]\n",
    "    if SUM :\n",
    "        # IMPORTANT DETAIL. USE: 10 FOR NEWFILES \n",
    "        #                        100 for Old files\n",
    "        rho , vec2 = readfile(i+100, dot) \n",
    "        if Reverse:\n",
    "            rho = rho[::-1]\n",
    "        vec = 0.5*(rho+vec)\n",
    "    #vec = vec#*pi*Gamma#*Hib\n",
    "    spin = '\\uparrow' if dot%2!=1 else '\\downarrow'\n",
    "    ln = 'k-' if dot%2!=1 else 'r-'\n",
    "            #plot DOS\n",
    "    p0 = vec[w>0][0]\n",
    "    print p0*pi*Gamma*2   \n",
    "    #plot(w/(Gamma*0.8),vec*pi*Gamma/0.944036503513, 'o',label= '$'  +spin + '$') \n",
    "    if dot%2 == 0 :\n",
    "        ax.plot(w/Gamma,Gamma*pi*vec, ln,label= '$ '  +spin + '$' ,  linewidth=NLN)\n",
    "#         ax.plot(w,vec, ln,label= '$ '  +spin + '$' ,  linewidth=NLN)\n",
    "    else:\n",
    "        ax.plot(w/Gamma,Gamma*pi*vec, ln,label= '$ '  +spin + '$' )\n",
    "#         ax.plot(w,vec, ln,label= '$ '  +spin + '$' )\n",
    "        \n",
    "#plotOneDot(22 , 0)\n",
    "#plotOneDot(22 , 1)\n",
    "#plotOneDot(22 , 2)\n",
    "#plotOneDot(22, 3)\n",
    "#plot(linspace(-10*Gamma,10*Gamma,500),Green, label = 'Green')\n",
    "#readMath('DQD')\n",
    "#readMath('Gamma1=0.0282691,Gamma2=0,tdots=0.02,t1=0,t2=0.02')\n",
    "#xlim(-20,20)\n",
    "#legend(fontsize=17, loc='lower right')\n",
    "\n",
    "\n",
    "# title = '/home/cifucito/nrgcode/TwoChNRG/Data/Green/Gamma1=2.,Gamma2=0.,tdots=0.,t1=5.,t2=0.,em=0.,e1=0.,e2=0..dat'\n",
    "#readMath(title)\n",
    "\n",
    "\n",
    "\n",
    "# Plot dot with spin-up and spin-down. \n",
    "# Options: Plot insets INSET(boolean)  IM= '' no image or file inset image\n",
    "# Inputs  ax-axis, num (int)- file number, SUM(boolean) - Sum data with file i+10  ,\n",
    "#        Reverse (boolean)- Invert data , dot - Dot number , IM- image file\n",
    "def plotFullDot(ax, IM , num , dot , SUM , INSET, Reverse):\n",
    "    plotOneDot(ax,  num , dot , SUM , Reverse)\n",
    "    #Eliminated to make another plot\n",
    "    #plotOneDot(ax,  num , dot+1 , SUM , Reverse)\n",
    "    \n",
    "    if INSET : \n",
    "        w = \"30%\" ; h = \"30%\"  ; pos = (-0.05, 0.07, 1.03, 1.4)\n",
    "        axins = inset_axes(ax,  width=w, height=h, bbox_to_anchor=pos,loc=7, bbox_transform=ax.transAxes )\n",
    "        \n",
    "        plotOneDot(axins,num , dot , SUM , Reverse)\n",
    "        #Eliminated to make another plot\n",
    "        #plotOneDot(axins,num , dot+1 , SUM , Reverse)\n",
    "        \n",
    "        \n",
    "#         Normal settings\n",
    "        axins.set_xlim(-1,1) ; axins.set_ylim(0,.3)\n",
    "#         axins.set_xticks(arange(-0.7,0.9, step=.7))\n",
    "#         axins.set_yticks(arange(0,1.2, step=.5))\n",
    "#         axins.set_xlim(-1.1,1.1) ; axins.set_ylim(0,0.26)\n",
    "\n",
    "#       t1>0\n",
    "#         axins.set_ylim(0,0.03)\n",
    "#         axins.set_xlim(-0.11,0.11)\n",
    "        \n",
    "#         axins.set_xticks(arange(-.1,.11, step=.2))\n",
    "#         setp(axins.get_xticklabels(), fontsize=23)\n",
    "        \n",
    "#         setp(axins.get_yticklabels(), fontsize=23)\n",
    "#         axins.set_yticks(arange(0,0.032, step=.03))\n",
    "\n",
    "\n",
    "#         axins.set_xticks([])\n",
    "#         axins.set_yticks([])\n",
    "        \n",
    "        \n",
    "        \n",
    "#         axins.set_yticks(arange(0,.3, step=.2))\n",
    "        axins.set_xticks(arange(-1,1.1, step=1))\n",
    "        axins.set_yticks(arange(0,.3, step=.1))\n",
    "#     ax.set_xlabel('$\\omega/ \\Gamma_1$')\n",
    "#     ax.set_ylabel('$$\\\\rho \\pi \\Gamma_1 $')\n",
    "    \n",
    "    if IM!='':\n",
    "        w = \"90%\" ; h = \"90%\" ;pos = (0, 0, .3, 1.2)\n",
    "        axmod = inset_axes(ax,  width=w, height=h, bbox_to_anchor=pos,loc=6, bbox_transform=ax.transAxes )\n",
    "        image = imread(IM,  format='png') ; axmod.imshow(image)\n",
    "        axmod.set_frame_on(False) ; axmod.get_xaxis().set_visible(False) ; axmod.get_yaxis().set_visible(False)\n",
    "\n",
    "        \n"
   ]
  },
  {
   "cell_type": "markdown",
   "metadata": {},
   "source": [
    "## Subplot building"
   ]
  },
  {
   "cell_type": "code",
   "execution_count": 4,
   "metadata": {},
   "outputs": [],
   "source": [
    "#SuperPlot of Mathematica files. 6 plots in one shot\n",
    "def Plot4Tits(axarr , G2 ,tdots,t1 ,t2 , lb ):\n",
    "    tits = DefineTitles(G2 ,tdots,t1 ,t2 ,0, 0 ,0)\n",
    "    plotMath(axarr[0,0],tits[1],'\\uparrow' , '-', 'b')\n",
    "    plotMath(axarr[0,0],tits[0],'\\downarrow', '-' , 'r')\n",
    "    plotMath(axarr[0,1],tits[3],' $  \\uparrow$ ' + lb , '-', 'b')\n",
    "    plotMath(axarr[0,1],tits[2],' $\\downarrow$ '+ lb , '-' , 'r')\n",
    "    tits = DefineTitles(G2 ,tdots,t1 ,t2 ,0, 5 ,0)\n",
    "    plotMath(axarr[1,0],tits[1],'\\uparrow' , '-', 'b')\n",
    "    plotMath(axarr[1,0],tits[0],'\\downarrow', '-' , 'r')\n",
    "    plotMath(axarr[1,1],tits[3],' $  \\uparrow$ ' + lb , '-', 'b')\n",
    "    plotMath(axarr[1,1],tits[2],' $\\downarrow$ '+ lb , '-' , 'r')\n",
    "    tits = DefineTitles(G2 ,tdots,t1 ,t2 ,0, 0 ,-5)\n",
    "    plotMath(axarr[2,0],tits[1],'\\uparrow' , '-', 'b')\n",
    "    plotMath(axarr[2,0],tits[0],'\\downarrow', '-' , 'r')\n",
    "    plotMath(axarr[2,1],tits[3],' $  \\uparrow$ ' + lb , '-', 'b')\n",
    "    plotMath(axarr[2,1],tits[2],' $\\downarrow$ '+ lb , '-' , 'r')    \n",
    "    \n",
    "#SuperPlot of Mathematica files. 6 plots in one shot. More flexibility and inner for.     \n",
    "def PlotNewARR(axarr , lb ):\n",
    "    lt = [':','--','-']\n",
    "    \n",
    "    G2 = 0 ; tdots = 0 ; t1 = 0 ; t2 = 0\n",
    "    for n in range(3):\n",
    "        Gvec = [0,1,2] ;  G2 = Gvec[n] \n",
    "        tits = DefineTitles(G2 ,tdots,t1 ,t2 ,0, 0 ,0)\n",
    "        print \"G2 =\" + repr(G2) +  ', tdots =' +repr(tdots) + ', t1 =' +repr(t1) +  ', t2 =' + repr(t2)\n",
    "        plotMath(axarr[0,0],tits[1],'' , lt[n], 'no')\n",
    "        #plotMath(axarr[0,0],tits[0],'', '-' , 'no')\n",
    "        plotMath(axarr[0,1],tits[3],'$\\Gamma_2 = ' + repr(G2) + '\\Gamma_1$', lt[n], 'no')\n",
    "        #plotMath(axarr[0,1],tits[2],' $\\downarrow$ '+ lb , '-' , 'no')\n",
    "         \n",
    "    \n",
    "    G2 = 0 ; tdots = 0 ; t1 = 0 ; t2 = 0\n",
    "    for n in range(3):\n",
    "        tdvec = [0,1,2] ;  tdots = tdvec[n] \n",
    "        tits = DefineTitles(G2 ,tdots,t1 ,t2 ,0, 0 ,0)\n",
    "        print \"G2 =\" + repr(G2) +  ', tdots =' +repr(tdots) + ', t1 =' +repr(t1) +  ', t2 =' + repr(t2)\n",
    "        plotMath(axarr[1,0],tits[1],'' , lt[n], 'no')\n",
    "#         plotMath(axarr[0,0],tits[0],'', '-' , 'r')\n",
    "        plotMath(axarr[1,1],tits[3],'$t_{dots} = ' + repr(tdots) + '\\Gamma_1$' , lt[n], 'no')\n",
    "#         plotMath(axarr[0,1],tits[2],' $\\downarrow$ '+ lb , '-' , 'r')\n",
    "        \n",
    "    \n",
    "    G2 = 1 ; tdots = 0 ; t1 = 0 ; t2 = 0\n",
    "    for n in range(3):\n",
    "        tdvec = [0,1,3] ;  tdots = tdvec[n]\n",
    "        tits = DefineTitles(G2 ,tdots,t1 ,t2 ,0, 0 ,0)\n",
    "        print \"G2 =\" + repr(G2) +  ', tdots =' +repr(tdots) + ', t1 =' +repr(t1) +  ', t2 =' + repr(t2)\n",
    "        plotMath(axarr[2,0],tits[1],'' , lt[n], 'no')\n",
    "#         plotMath(axarr[0,0],tits[0],'', '-' , 'r')\n",
    "        plotMath(axarr[2,1],tits[3],'$t_{dots} = ' + repr(tdots) + '\\Gamma_1$' , lt[n], 'no')\n",
    "#         plotMath(axarr[0,1],tits[2],' $\\downarrow$ '+ lb , '-' , 'r')\n",
    "\n",
    "\n",
    "#After printing a 6- multiplot file,  DrawInsets prints three called images in the indicated column. Used to print Majorana Models \n",
    "def DrawInsets(axarr , column , im1 , im2 , im3):\n",
    "    \n",
    "#     w = \"50%\" \n",
    "#     h = \"40%\" \n",
    "#     pos = (0, 0, 1.2, 1.25)\n",
    "    pos = (0, 0, 1.31, 1.25)\n",
    "    pos2 = (0, 0, 1.25, 1.25)\n",
    "    w = \"60%\" \n",
    "    h = \"50%\" \n",
    "    \n",
    "    \n",
    "    axins0 = inset_axes(axarr[0,column], width=w, height=h, bbox_to_anchor=pos,loc=7, bbox_transform=axarr[0,column].transAxes )\n",
    "    axins0.set_frame_on(False)\n",
    "    axins0.get_xaxis().set_visible(False)\n",
    "    axins0.get_yaxis().set_visible(False)\n",
    "    \n",
    "    pos = pos2\n",
    "    axins1 = inset_axes(axarr[1,column],  width=w, height=h, bbox_to_anchor=pos,loc=7, bbox_transform=axarr[1,column].transAxes )\n",
    "    axins1.set_frame_on(False)\n",
    "    axins1.get_xaxis().set_visible(False)\n",
    "    axins1.get_yaxis().set_visible(False)\n",
    "\n",
    "    axins2 = inset_axes(axarr[2,column],  width=w, height=h, bbox_to_anchor=pos,loc=7, bbox_transform=axarr[2,column].transAxes )\n",
    "    axins2.set_frame_on(False)\n",
    "    axins2.get_xaxis().set_visible(False)\n",
    "    axins2.get_yaxis().set_visible(False)\n",
    "    \n",
    "    image = imread(im1,  format='png')\n",
    "    axins0.imshow(image)\n",
    "\n",
    "    image = imread(im2,  format='png')\n",
    "    axins1.imshow(image)\n",
    "\n",
    "    image = imread(im3 ,  format='png')\n",
    "    axins2.imshow(image)\n",
    "    \n",
    "    \n",
    "#     image = imread('D3.png')\n",
    "#     axins0.imshow(image)\n",
    "\n",
    "#     image = imread('D2.png')\n",
    "#     axins1.imshow(image)\n",
    "\n",
    "#     image = imread('D1.png')\n",
    "#     axins2.imshow(image)\n",
    "#axins.set_visible(False)\n",
    "# , bbox_to_anchor=(0.4,0.1)\n",
    "# axins = axarr[2,1].inset_axes([0.5, 0.5, 0.47, 0.47])    \n",
    "\n",
    "\n",
    "# Defines the titles of the data to plot acording to the data parameters . Green Functions.nb\n",
    "# Inputs: G2 -Gamma2 , tdots, t1, t2 , em, e1 , e2 ---- Only integer values are admited. Gamma1 is the unit\n",
    "# Returs: title with the data for every dot\n",
    "def DefineTitles(G2 ,tdots,t1 ,t2 ,em, e1 ,e2):\n",
    "    title1 = 'd1/Gamma1=2.,Gamma2='+repr(int(G2*2) ) +'.,tdots='+repr(int(tdots*2))+'.,t1='+repr(int(2*t1))+'.,t2='+ repr(int(2*t2))+'.,em='+repr(int(2*em))+'.,e1='+repr(int(2*e1))+'.,e2='+repr(int(2*e2))+'..dat'\n",
    "    title2 = 'd2/Gamma1=2.,Gamma2='+repr(int(G2*2) ) +'.,tdots='+repr(int(tdots*2))+'.,t1='+repr(int(2*t1))+'.,t2='+ repr(int(2*t2))+'.,em='+repr(int(2*em))+'.,e1='+repr(int(2*e1))+'.,e2='+repr(int(2*e2))+'..dat'\n",
    "    title3 = 'd3/Gamma1=2.,Gamma2='+repr(int(G2*2) ) +'.,tdots='+repr(int(tdots*2))+'.,t1='+repr(int(2*t1))+'.,t2='+ repr(int(2*t2))+'.,em='+repr(int(2*em))+'.,e1='+repr(int(2*e1))+'.,e2='+repr(int(2*e2))+'..dat'\n",
    "    title4 = 'd4/Gamma1=2.,Gamma2='+repr(int(G2*2) ) +'.,tdots='+repr(int(tdots*2))+'.,t1='+repr(int(2*t1))+'.,t2='+ repr(int(2*t2))+'.,em='+repr(int(2*em))+'.,e1='+repr(int(2*e1))+'.,e2='+repr(int(2*e2))+'..dat'\n",
    "    return title1 , title2, title3 , title4\n",
    "\n",
    "\n",
    "# Uses the titles from DefineTitles to plot a 4-subplot with the data from Green Functions.nb.\n",
    "def Plot2Tits(axarr , G2 ,tdots,t1 ,t2 ,em, e1 ,e2 , lb):\n",
    "    tits = DefineTitles(G2 ,tdots,t1 ,t2 ,em, e1 ,e2)\n",
    "    plotMath(axarr[0],tits[1],'' , '-', 'b')\n",
    "    plotMath(axarr[0],tits[0],'', '--' , 'r')\n",
    "    plotMath(axarr[1],tits[3],' $  \\uparrow$ ' + lb , '-', 'b')\n",
    "    plotMath(axarr[1],tits[2],' $\\downarrow$ '+ lb , '--' , 'r')\n",
    "\n"
   ]
  },
  {
   "cell_type": "markdown",
   "metadata": {},
   "source": [
    "## Implementations\n",
    "Here we plot a 6 level NRG DOS"
   ]
  },
  {
   "cell_type": "code",
   "execution_count": 5,
   "metadata": {},
   "outputs": [
    {
     "ename": "IOError",
     "evalue": "[Errno 2] No such file or directory: 'run430/rho_0_0_OmegaRhow_zEQAVG.00.dat'",
     "output_type": "error",
     "traceback": [
      "\u001b[0;31m---------------------------------------------------------------------------\u001b[0m",
      "\u001b[0;31mIOError\u001b[0m                                   Traceback (most recent call last)",
      "\u001b[0;32m<ipython-input-5-ec19a12b6250>\u001b[0m in \u001b[0;36m<module>\u001b[0;34m()\u001b[0m\n\u001b[1;32m     34\u001b[0m \u001b[0;34m\u001b[0m\u001b[0m\n\u001b[1;32m     35\u001b[0m         \u001b[0;32mif\u001b[0m \u001b[0mi\u001b[0m \u001b[0;34m==\u001b[0m \u001b[0;36m0\u001b[0m \u001b[0;34m:\u001b[0m\u001b[0;34m\u001b[0m\u001b[0m\n\u001b[0;32m---> 36\u001b[0;31m             \u001b[0mplotFullDot\u001b[0m\u001b[0;34m(\u001b[0m\u001b[0maxarr\u001b[0m\u001b[0;34m[\u001b[0m\u001b[0mi\u001b[0m\u001b[0;34m,\u001b[0m\u001b[0mj\u001b[0m\u001b[0;34m]\u001b[0m\u001b[0;34m,\u001b[0m\u001b[0;34m''\u001b[0m\u001b[0;34m,\u001b[0m \u001b[0mnum\u001b[0m\u001b[0;34m[\u001b[0m\u001b[0mi\u001b[0m\u001b[0;34m]\u001b[0m \u001b[0;34m,\u001b[0m \u001b[0mj\u001b[0m\u001b[0;34m*\u001b[0m\u001b[0;36m2\u001b[0m \u001b[0;34m,\u001b[0m \u001b[0mTrue\u001b[0m\u001b[0;34m,\u001b[0m \u001b[0mFalse\u001b[0m \u001b[0;34m,\u001b[0m \u001b[0mFalse\u001b[0m\u001b[0;34m)\u001b[0m\u001b[0;34m\u001b[0m\u001b[0m\n\u001b[0m\u001b[1;32m     37\u001b[0m         \u001b[0;32melif\u001b[0m \u001b[0mi\u001b[0m \u001b[0;34m==\u001b[0m \u001b[0;36m1\u001b[0m\u001b[0;34m:\u001b[0m\u001b[0;34m\u001b[0m\u001b[0m\n\u001b[1;32m     38\u001b[0m             \u001b[0mplotFullDot\u001b[0m\u001b[0;34m(\u001b[0m\u001b[0maxarr\u001b[0m\u001b[0;34m[\u001b[0m\u001b[0mi\u001b[0m\u001b[0;34m,\u001b[0m\u001b[0mj\u001b[0m\u001b[0;34m]\u001b[0m\u001b[0;34m,\u001b[0m\u001b[0;34m''\u001b[0m\u001b[0;34m,\u001b[0m \u001b[0mnum\u001b[0m\u001b[0;34m[\u001b[0m\u001b[0mi\u001b[0m\u001b[0;34m]\u001b[0m \u001b[0;34m,\u001b[0m \u001b[0;36m2\u001b[0m \u001b[0;34m-\u001b[0m \u001b[0mj\u001b[0m\u001b[0;34m*\u001b[0m\u001b[0;36m2\u001b[0m \u001b[0;34m,\u001b[0m \u001b[0mTrue\u001b[0m\u001b[0;34m,\u001b[0m \u001b[0mFalse\u001b[0m \u001b[0;34m,\u001b[0m \u001b[0mFalse\u001b[0m\u001b[0;34m)\u001b[0m\u001b[0;34m\u001b[0m\u001b[0m\n",
      "\u001b[0;32m<ipython-input-3-acf12cd7b6b7>\u001b[0m in \u001b[0;36mplotFullDot\u001b[0;34m(ax, IM, num, dot, SUM, INSET, Reverse)\u001b[0m\n\u001b[1;32m     84\u001b[0m \u001b[0;31m#        Reverse (boolean)- Invert data , dot - Dot number , IM- image file\u001b[0m\u001b[0;34m\u001b[0m\u001b[0;34m\u001b[0m\u001b[0m\n\u001b[1;32m     85\u001b[0m \u001b[0;32mdef\u001b[0m \u001b[0mplotFullDot\u001b[0m\u001b[0;34m(\u001b[0m\u001b[0max\u001b[0m\u001b[0;34m,\u001b[0m \u001b[0mIM\u001b[0m \u001b[0;34m,\u001b[0m \u001b[0mnum\u001b[0m \u001b[0;34m,\u001b[0m \u001b[0mdot\u001b[0m \u001b[0;34m,\u001b[0m \u001b[0mSUM\u001b[0m \u001b[0;34m,\u001b[0m \u001b[0mINSET\u001b[0m\u001b[0;34m,\u001b[0m \u001b[0mReverse\u001b[0m\u001b[0;34m)\u001b[0m\u001b[0;34m:\u001b[0m\u001b[0;34m\u001b[0m\u001b[0m\n\u001b[0;32m---> 86\u001b[0;31m     \u001b[0mplotOneDot\u001b[0m\u001b[0;34m(\u001b[0m\u001b[0max\u001b[0m\u001b[0;34m,\u001b[0m  \u001b[0mnum\u001b[0m \u001b[0;34m,\u001b[0m \u001b[0mdot\u001b[0m \u001b[0;34m,\u001b[0m \u001b[0mSUM\u001b[0m \u001b[0;34m,\u001b[0m \u001b[0mReverse\u001b[0m\u001b[0;34m)\u001b[0m\u001b[0;34m\u001b[0m\u001b[0m\n\u001b[0m\u001b[1;32m     87\u001b[0m     \u001b[0;31m#Eliminated to make another plot\u001b[0m\u001b[0;34m\u001b[0m\u001b[0;34m\u001b[0m\u001b[0m\n\u001b[1;32m     88\u001b[0m     \u001b[0;31m#plotOneDot(ax,  num , dot+1 , SUM , Reverse)\u001b[0m\u001b[0;34m\u001b[0m\u001b[0;34m\u001b[0m\u001b[0m\n",
      "\u001b[0;32m<ipython-input-3-acf12cd7b6b7>\u001b[0m in \u001b[0;36mplotOneDot\u001b[0;34m(ax, i, dot, SUM, Reverse)\u001b[0m\n\u001b[1;32m     45\u001b[0m         \u001b[0;31m# IMPORTANT DETAIL. USE: 10 FOR NEWFILES\u001b[0m\u001b[0;34m\u001b[0m\u001b[0;34m\u001b[0m\u001b[0m\n\u001b[1;32m     46\u001b[0m         \u001b[0;31m#                        100 for Old files\u001b[0m\u001b[0;34m\u001b[0m\u001b[0;34m\u001b[0m\u001b[0m\n\u001b[0;32m---> 47\u001b[0;31m         \u001b[0mrho\u001b[0m \u001b[0;34m,\u001b[0m \u001b[0mvec2\u001b[0m \u001b[0;34m=\u001b[0m \u001b[0mreadfile\u001b[0m\u001b[0;34m(\u001b[0m\u001b[0mi\u001b[0m\u001b[0;34m+\u001b[0m\u001b[0;36m100\u001b[0m\u001b[0;34m,\u001b[0m \u001b[0mdot\u001b[0m\u001b[0;34m)\u001b[0m\u001b[0;34m\u001b[0m\u001b[0m\n\u001b[0m\u001b[1;32m     48\u001b[0m         \u001b[0;32mif\u001b[0m \u001b[0mReverse\u001b[0m\u001b[0;34m:\u001b[0m\u001b[0;34m\u001b[0m\u001b[0m\n\u001b[1;32m     49\u001b[0m             \u001b[0mrho\u001b[0m \u001b[0;34m=\u001b[0m \u001b[0mrho\u001b[0m\u001b[0;34m[\u001b[0m\u001b[0;34m:\u001b[0m\u001b[0;34m:\u001b[0m\u001b[0;34m-\u001b[0m\u001b[0;36m1\u001b[0m\u001b[0;34m]\u001b[0m\u001b[0;34m\u001b[0m\u001b[0m\n",
      "\u001b[0;32m<ipython-input-2-969ef325a6c0>\u001b[0m in \u001b[0;36mreadfile\u001b[0;34m(ini, dot)\u001b[0m\n\u001b[1;32m     11\u001b[0m \u001b[0;31m#         infile = open(os.path.abspath(output), 'r')\u001b[0m\u001b[0;34m\u001b[0m\u001b[0;34m\u001b[0m\u001b[0m\n\u001b[1;32m     12\u001b[0m \u001b[0;31m#         text = infile.readlines()\u001b[0m\u001b[0;34m\u001b[0m\u001b[0;34m\u001b[0m\u001b[0m\n\u001b[0;32m---> 13\u001b[0;31m         \u001b[0mdat\u001b[0m \u001b[0;34m=\u001b[0m \u001b[0mloadtxt\u001b[0m\u001b[0;34m(\u001b[0m\u001b[0moutput\u001b[0m\u001b[0;34m,\u001b[0m \u001b[0mdelimiter\u001b[0m \u001b[0;34m=\u001b[0m \u001b[0;34m' '\u001b[0m\u001b[0;34m)\u001b[0m\u001b[0;34m\u001b[0m\u001b[0m\n\u001b[0m\u001b[1;32m     14\u001b[0m         \u001b[0mDOS\u001b[0m\u001b[0;34m=\u001b[0m \u001b[0mdat\u001b[0m\u001b[0;34m[\u001b[0m\u001b[0;34m:\u001b[0m\u001b[0;34m,\u001b[0m\u001b[0;36m1\u001b[0m\u001b[0;34m]\u001b[0m \u001b[0;34m;\u001b[0m \u001b[0mw\u001b[0m \u001b[0;34m=\u001b[0m \u001b[0mdat\u001b[0m\u001b[0;34m[\u001b[0m\u001b[0;34m:\u001b[0m\u001b[0;34m,\u001b[0m\u001b[0;36m0\u001b[0m\u001b[0;34m]\u001b[0m\u001b[0;34m\u001b[0m\u001b[0m\n\u001b[1;32m     15\u001b[0m         \u001b[0;31m#Data managemente\u001b[0m\u001b[0;34m\u001b[0m\u001b[0;34m\u001b[0m\u001b[0m\n",
      "\u001b[0;32m/usr/lib/python2.7/dist-packages/numpy/lib/npyio.pyc\u001b[0m in \u001b[0;36mloadtxt\u001b[0;34m(fname, dtype, comments, delimiter, converters, skiprows, usecols, unpack, ndmin)\u001b[0m\n\u001b[1;32m    894\u001b[0m                 \u001b[0mfh\u001b[0m \u001b[0;34m=\u001b[0m \u001b[0miter\u001b[0m\u001b[0;34m(\u001b[0m\u001b[0mbz2\u001b[0m\u001b[0;34m.\u001b[0m\u001b[0mBZ2File\u001b[0m\u001b[0;34m(\u001b[0m\u001b[0mfname\u001b[0m\u001b[0;34m)\u001b[0m\u001b[0;34m)\u001b[0m\u001b[0;34m\u001b[0m\u001b[0m\n\u001b[1;32m    895\u001b[0m             \u001b[0;32melif\u001b[0m \u001b[0msys\u001b[0m\u001b[0;34m.\u001b[0m\u001b[0mversion_info\u001b[0m\u001b[0;34m[\u001b[0m\u001b[0;36m0\u001b[0m\u001b[0;34m]\u001b[0m \u001b[0;34m==\u001b[0m \u001b[0;36m2\u001b[0m\u001b[0;34m:\u001b[0m\u001b[0;34m\u001b[0m\u001b[0m\n\u001b[0;32m--> 896\u001b[0;31m                 \u001b[0mfh\u001b[0m \u001b[0;34m=\u001b[0m \u001b[0miter\u001b[0m\u001b[0;34m(\u001b[0m\u001b[0mopen\u001b[0m\u001b[0;34m(\u001b[0m\u001b[0mfname\u001b[0m\u001b[0;34m,\u001b[0m \u001b[0;34m'U'\u001b[0m\u001b[0;34m)\u001b[0m\u001b[0;34m)\u001b[0m\u001b[0;34m\u001b[0m\u001b[0m\n\u001b[0m\u001b[1;32m    897\u001b[0m             \u001b[0;32melse\u001b[0m\u001b[0;34m:\u001b[0m\u001b[0;34m\u001b[0m\u001b[0m\n\u001b[1;32m    898\u001b[0m                 \u001b[0mfh\u001b[0m \u001b[0;34m=\u001b[0m \u001b[0miter\u001b[0m\u001b[0;34m(\u001b[0m\u001b[0mopen\u001b[0m\u001b[0;34m(\u001b[0m\u001b[0mfname\u001b[0m\u001b[0;34m)\u001b[0m\u001b[0;34m)\u001b[0m\u001b[0;34m\u001b[0m\u001b[0m\n",
      "\u001b[0;31mIOError\u001b[0m: [Errno 2] No such file or directory: 'run430/rho_0_0_OmegaRhow_zEQAVG.00.dat'"
     ]
    }
   ],
   "source": [
    "#SuperPlot of Mathematica files. 6 plots in one shot\n",
    "numRows = 3\n",
    "numCols = 2\n",
    "\n",
    "# t1>0\n",
    "num = [350 , 356, 366]\n",
    "# t2>0\n",
    "# num = [370 , 376, 385]\n",
    "#t1=t2\n",
    "num = [330 , 335, 335]\n",
    "rcParams['figure.subplot.wspace'] = 0.04\n",
    "rcParams['figure.subplot.hspace'] = 0.1\n",
    "rcParams['figure.subplot.bottom'] = 0.14\n",
    "rcParams['figure.subplot.right'] = 0.98\n",
    "rcParams['figure.subplot.left'] = 0.18\n",
    "rcParams['figure.subplot.top'] = 0.92\n",
    "\n",
    "#f, axarr = subplots(numRows, numCols, sharex='col', sharey='row', figsize=(7, 5))\n",
    "f, axarr = subplots(numRows, numCols, sharex='col', sharey='row', figsize=(7.5, 6.5))\n",
    "for i in range(numRows):\n",
    "    for j in range(numCols):\n",
    "#         print i, j\n",
    "#         if (i == 0) & (j == 1) :\n",
    "#            print i , j\n",
    "# #            plotFullDot(axarr[i,j],'', num[i] , j*2 , False, True , False) \n",
    "#            plotFullDot(axarr[i,j],'', num[i] , j*2 , False, False , False) \n",
    "#         else:\n",
    "#             if i < 2 :\n",
    "#                 plotFullDot(axarr[i,j],'', num[i] , j*2 , False, False , False)\n",
    "#             else:\n",
    "#                 plotFullDot(axarr[i,j],'', num[i] , j*2 , False, False , True)\n",
    "\n",
    "# t1 = t2\n",
    "\n",
    "        if i == 0 :\n",
    "            plotFullDot(axarr[i,j],'', num[i] , j*2 , True, False , False)\n",
    "        elif i == 1:\n",
    "            plotFullDot(axarr[i,j],'', num[i] , 2 - j*2 , True, False , False)\n",
    "        else:\n",
    "            plotFullDot(axarr[i,j],'', num[i] , j*2 , True, False , True)\n",
    "        \n",
    "        axarr[2,j].set_xlabel('$\\omega/ \\Gamma_1$')\n",
    "        axarr[i,0].set_ylabel('$$\\\\rho \\pi \\Gamma_1 $')\n",
    "        \n",
    "#  t1=t2\n",
    "        axarr[i,j].set_xlim(-3,3)\n",
    "        \n",
    "        axarr[i,j].set_ylim(0,0.45)\n",
    "        axarr[i,0].set_yticks(arange(0,0.45, step=0.2))\n",
    "        axarr[0,j].set_ylim(0,0.3)\n",
    "        axarr[0,0].set_yticks(arange(0,0.25, step=.2))\n",
    "\n",
    "# t1>0\n",
    "#         axarr[i,j].set_xlim(-3,3)\n",
    "#         axarr[0,j].set_ylim(0,0.3)\n",
    "#         axarr[1,j].set_ylim(0,0.6)\n",
    "#         axarr[2,j].set_ylim(0,0.6)\n",
    "        \n",
    "        \n",
    "#         axarr[0,0].set_yticks(arange(0,0.3, step=.2))\n",
    "#         axarr[1,0].set_yticks(arange(0,0.6, step=.5))\n",
    "#         axarr[2,0].set_yticks(arange(0,0.6, step=0.5))\n",
    "\n",
    "# t2>0\n",
    "#         axarr[i,j].set_xlim(-3,3)\n",
    "#         axarr[0,j].set_ylim(0,0.6)\n",
    "#         axarr[1,j].set_ylim(0,0.6)\n",
    "#         axarr[2,j].set_ylim(0,0.6)\n",
    "        \n",
    "        \n",
    "#         axarr[0,0].set_yticks(arange(0,0.6, step=.5))\n",
    "#         axarr[1,0].set_yticks(arange(0,0.6, step=.5))\n",
    "#         axarr[2,0].set_yticks(arange(0,0.6, step=0.5))\n",
    "\n",
    "\n",
    "\n",
    "        axarr[0,0].set_title('Dot 1')\n",
    "        axarr[0,1].set_title('Dot 2')\n",
    "        \n",
    "for num,b in enumerate(('(a)', '(b)', '(c)', '(d)', '(e)','(f)')):\n",
    "    print num/2 , num%2 , b\n",
    "    axarr[num/2,num%2].text(0.05, 0.9, b, transform=axarr[num/2,num%2].transAxes, fontweight='bold', va='top')\n",
    "    \n",
    "rcParams.update({'figure.figsize': (500,500)}) \n",
    "\n",
    "# t1=t2\n",
    "DrawInsets(axarr, 0 ,  'D3.png' , 'D2V1.png' , 'D1V2.png')\n",
    "\n",
    "# t2>0\n",
    "# DrawInsets(axarr, 0 ,  'D3.png' , 'D1V1.png' , 'D1V2.png')\n",
    "\n",
    "# t1>0\n",
    "# DrawInsets(axarr, 0 ,  'D2.png' , 'D1V1.png' , 'D1V2.png')\n",
    "#for i in range(3):\n",
    "axarr[0,1].legend(fontsize=17, loc='upper right')"
   ]
  },
  {
   "cell_type": "code",
   "execution_count": null,
   "metadata": {},
   "outputs": [],
   "source": []
  },
  {
   "cell_type": "code",
   "execution_count": null,
   "metadata": {},
   "outputs": [],
   "source": []
  },
  {
   "cell_type": "code",
   "execution_count": null,
   "metadata": {},
   "outputs": [],
   "source": []
  },
  {
   "cell_type": "code",
   "execution_count": 16,
   "metadata": {},
   "outputs": [
    {
     "ename": "TypeError",
     "evalue": "plotOneDot() takes exactly 5 arguments (4 given)",
     "output_type": "error",
     "traceback": [
      "\u001b[0;31m---------------------------------------------------------------------------\u001b[0m",
      "\u001b[0;31mTypeError\u001b[0m                                 Traceback (most recent call last)",
      "\u001b[0;32m<ipython-input-16-0b41938a20a4>\u001b[0m in \u001b[0;36m<module>\u001b[0;34m()\u001b[0m\n\u001b[1;32m      1\u001b[0m \u001b[0mf\u001b[0m\u001b[0;34m,\u001b[0m \u001b[0max\u001b[0m\u001b[0;34m=\u001b[0m \u001b[0msubplots\u001b[0m\u001b[0;34m(\u001b[0m\u001b[0;36m1\u001b[0m\u001b[0;34m,\u001b[0m \u001b[0;36m1\u001b[0m\u001b[0;34m,\u001b[0m \u001b[0msharex\u001b[0m\u001b[0;34m=\u001b[0m\u001b[0;34m'col'\u001b[0m\u001b[0;34m,\u001b[0m \u001b[0msharey\u001b[0m\u001b[0;34m=\u001b[0m\u001b[0;34m'row'\u001b[0m\u001b[0;34m,\u001b[0m \u001b[0mfigsize\u001b[0m\u001b[0;34m=\u001b[0m\u001b[0;34m(\u001b[0m\u001b[0;36m7.5\u001b[0m\u001b[0;34m,\u001b[0m \u001b[0;36m6.5\u001b[0m\u001b[0;34m)\u001b[0m\u001b[0;34m)\u001b[0m\u001b[0;34m\u001b[0m\u001b[0m\n\u001b[0;32m----> 2\u001b[0;31m \u001b[0mplotOneDot\u001b[0m\u001b[0;34m(\u001b[0m\u001b[0max\u001b[0m\u001b[0;34m,\u001b[0m \u001b[0;36m101\u001b[0m \u001b[0;34m,\u001b[0m \u001b[0;36m0\u001b[0m \u001b[0;34m,\u001b[0m \u001b[0mFalse\u001b[0m\u001b[0;34m)\u001b[0m\u001b[0;34m\u001b[0m\u001b[0m\n\u001b[0m\u001b[1;32m      3\u001b[0m \u001b[0mplotOneDot\u001b[0m\u001b[0;34m(\u001b[0m\u001b[0max\u001b[0m\u001b[0;34m,\u001b[0m \u001b[0;36m101\u001b[0m \u001b[0;34m,\u001b[0m \u001b[0;36m1\u001b[0m \u001b[0;34m,\u001b[0m \u001b[0mFalse\u001b[0m\u001b[0;34m)\u001b[0m\u001b[0;34m\u001b[0m\u001b[0m\n\u001b[1;32m      4\u001b[0m \u001b[0mw\u001b[0m \u001b[0;34m=\u001b[0m \u001b[0;34m\"35%\"\u001b[0m\u001b[0;34m\u001b[0m\u001b[0m\n\u001b[1;32m      5\u001b[0m \u001b[0mh\u001b[0m \u001b[0;34m=\u001b[0m \u001b[0;34m\"35%\"\u001b[0m\u001b[0;34m\u001b[0m\u001b[0m\n",
      "\u001b[0;31mTypeError\u001b[0m: plotOneDot() takes exactly 5 arguments (4 given)"
     ]
    }
   ],
   "source": [
    "f, ax= subplots(1, 1, sharex='col', sharey='row', figsize=(7.5, 6.5))\n",
    "plotOneDot(ax, 101 , 0 , False)\n",
    "plotOneDot(ax, 101 , 1 , False)\n",
    "w = \"35%\" \n",
    "h = \"35%\" \n",
    "pos = (0, 0, 1.03, 1.3)\n",
    "axins = inset_axes(ax,  width=w, height=h, bbox_to_anchor=pos,loc=7, bbox_transform=ax.transAxes )\n",
    "plotOneDot(axins,101 , 0, False)\n",
    "plotOneDot(axins,101 , 1, False)\n",
    "#     axins.set_frame_on(False)\n",
    "#     axins.get_xaxis().set_visible(False)\n",
    "#     axins.get_yaxis().set_visible(False)\n",
    "ax.set_ylim(0,1.05)\n",
    "ax.set_xlim(-12,12)\n",
    "\n",
    "\n",
    "axins.set_xlim(-0.8,0.8)\n",
    "ax.set_yticks(arange(0,1.2, step=.5))\n",
    "axins.set_xticks(arange(-0.7,0.9, step=.7))\n",
    "axins.set_yticks(arange(0,1.2, step=.5))\n",
    "\n",
    "pos = (0, 0, 1.03, 1.3)\n",
    "axmod = inset_axes(ax,  width=w, height=h, bbox_to_anchor=pos,loc=6, bbox_transform=ax.transAxes )\n",
    "image = imread('QD1.png',  format='png') ; axmod.imshow(image)\n",
    "axmod.set_frame_on(False) ; axmod.get_xaxis().set_visible(False) ; axmod.get_yaxis().set_visible(False)"
   ]
  },
  {
   "cell_type": "code",
   "execution_count": 18,
   "metadata": {},
   "outputs": [
    {
     "name": "stdout",
     "output_type": "stream",
     "text": [
      "1.72525130383\n"
     ]
    },
    {
     "data": {
      "text/plain": [
       "[]"
      ]
     },
     "execution_count": 18,
     "metadata": {},
     "output_type": "execute_result"
    }
   ],
   "source": [
    "# Plot nice Kondo\n",
    "f, ax = subplots(1, 1, sharex='col', sharey='row', figsize=(7, 5))\n",
    "plotOneDot(ax,100 , 1, False,False)\n",
    "ax.set_xlabel('$\\omega$',fontsize=50)\n",
    "ax.set_ylabel('$\\\\rho$',fontsize=50)\n",
    "ax.set_xticks([])\n",
    "ax.set_yticks([])\n"
   ]
  },
  {
   "cell_type": "code",
   "execution_count": 26,
   "metadata": {
    "scrolled": true
   },
   "outputs": [
    {
     "name": "stdout",
     "output_type": "stream",
     "text": [
      "1.88181735531\n",
      "1.88181735531\n"
     ]
    },
    {
     "data": {
      "text/plain": [
       "Text(0,0.5,u'$\\\\rho \\\\pi \\\\Gamma_1$')"
      ]
     },
     "execution_count": 26,
     "metadata": {},
     "output_type": "execute_result"
    }
   ],
   "source": [
    "f, ax = subplots(1, 1, sharex='col', sharey='row', figsize=(7, 5))\n",
    "\n",
    "\n",
    "plotFullDot(ax, 'DQD.png', 100 , 0 , False , True , False)\n",
    "#plotFullDot(ax, 'QD1.png', 365 , 1 , False , True , False)\n",
    "\n",
    "\n",
    "\n",
    "rcParams['figure.subplot.bottom'] = 0.19\n",
    "rcParams['figure.subplot.right'] = 0.97\n",
    "rcParams['figure.subplot.left'] = 0.2\n",
    "rcParams['figure.subplot.top'] = 0.95\n",
    "\n",
    "\n",
    "# plotFullDot(ax, 'MQD.png', 115 , 0 , False , True , False)\n",
    "# ax.set_ylim(0,1);    ax.set_xlim(-12,12)\n",
    "# ax.set_yticks(arange(0,1.2, step=.5))\n",
    "# ax.set_ylim(0,.26);    ax.set_xlim(-12,12)\n",
    "# ax.set_yticks(arange(0,.3, step=.2))\n",
    "# ax.set_xlim(-0.5,0.5)\n",
    "#ax.set_yticks(arange(0,31, step=.1))\n",
    "ax.set_ylim(0,1);    ax.set_xlim(-12,12)\n",
    "# ax.set_yticks(arange(0,.3, step=.2))\n",
    "rcParams.update({'figure.figsize': (200,200)})\n",
    "ax.set_xlabel('$\\omega/ \\Gamma_1$')\n",
    "ax.set_ylabel('$\\\\rho_1 \\pi \\Gamma_1 = \\\\rho_2 \\pi \\Gamma_1 $')\n",
    "ax.set_ylabel('$\\\\rho \\pi \\Gamma_1$')\n",
    "\n",
    "# ax.axvline(x=8.8435)\n",
    "# ax.axvline(x=-8.8435)\n",
    "#ax.legend(fontsize=23 , loc='upper left')\n",
    "#plotFullDot(ax, 'QD1.png', 101 , 0 , False)"
   ]
  },
  {
   "cell_type": "code",
   "execution_count": null,
   "metadata": {},
   "outputs": [],
   "source": []
  },
  {
   "cell_type": "code",
   "execution_count": 23,
   "metadata": {},
   "outputs": [
    {
     "name": "stdout",
     "output_type": "stream",
     "text": [
      "1.2167372022\n",
      "0.608211756631\n",
      "0.121986193837\n",
      "0.0608059844873\n",
      "0.121986193837\n",
      "0.0608059844873\n"
     ]
    },
    {
     "data": {
      "text/plain": [
       "<matplotlib.legend.Legend at 0x7f99fc01c7d0>"
      ]
     },
     "execution_count": 23,
     "metadata": {},
     "output_type": "execute_result"
    }
   ],
   "source": [
    "# Plot extrange case\n",
    "f, ax = subplots(1, 2, sharex='col', sharey='row', figsize=(8, 3))\n",
    "rcParams['figure.subplot.bottom'] = 0.19\n",
    "rcParams['figure.subplot.right'] = 0.97\n",
    "rcParams['figure.subplot.left'] = 0.2\n",
    "rcParams['figure.subplot.top'] = 0.95\n",
    "plotFullDot(ax[0], 'IND.png', 410 , 0 , True , False , False)\n",
    "plotFullDot(ax[1], '', 410 , 2 , True , True , False)\n",
    "ax[0].set_ylim(0,.8);    ax[0].set_xlim(-1,1) ; ax[1].set_xlim(-1,1)\n",
    "ax[0].set_xlabel('$\\omega/ \\Gamma_1$') ; ax[1].set_xlabel('$\\omega/ \\Gamma_1$')\n",
    "ax[0].set_ylabel('$\\\\rho \\pi \\Gamma_1 $')\n",
    "ax[0].set_title('Dot 1')\n",
    "ax[1].set_title('Dot 2')\n",
    "ax[1].legend(fontsize=20, loc='upper left')"
   ]
  },
  {
   "cell_type": "code",
   "execution_count": null,
   "metadata": {},
   "outputs": [],
   "source": []
  },
  {
   "cell_type": "code",
   "execution_count": 24,
   "metadata": {},
   "outputs": [
    {
     "name": "stdout",
     "output_type": "stream",
     "text": [
      "0.462447189577\n",
      "0.231188996053\n",
      "0.462447189577\n",
      "0.231188996053\n"
     ]
    },
    {
     "data": {
      "text/plain": [
       "Text(0,0.5,u'$\\\\rho_1 \\\\pi \\\\Gamma_1 = \\\\rho_2 \\\\pi \\\\Gamma_1 $')"
      ]
     },
     "execution_count": 24,
     "metadata": {},
     "output_type": "execute_result"
    }
   ],
   "source": [
    "f, ax = subplots(1, 1, sharex='col', sharey='row', figsize=(7, 5))\n",
    "rcParams['figure.subplot.bottom'] = 0.19\n",
    "rcParams['figure.subplot.right'] = 0.97\n",
    "rcParams['figure.subplot.left'] = 0.2\n",
    "rcParams['figure.subplot.top'] = 0.95\n",
    "plotFullDot(ax, 'DQDM.png', 451 , 0 , True , True , False)\n",
    "ax.set_ylim(0,.25);    ax.set_xlim(-.5,.5)\n",
    "ax.set_xlabel('$\\omega/ \\Gamma_1$')\n",
    "ax.set_ylabel('$\\\\rho_1 \\pi \\Gamma_1 = \\\\rho_2 \\pi \\Gamma_1 $')\n"
   ]
  },
  {
   "cell_type": "code",
   "execution_count": null,
   "metadata": {},
   "outputs": [],
   "source": []
  },
  {
   "cell_type": "code",
   "execution_count": null,
   "metadata": {},
   "outputs": [],
   "source": []
  },
  {
   "cell_type": "code",
   "execution_count": null,
   "metadata": {},
   "outputs": [],
   "source": []
  },
  {
   "cell_type": "code",
   "execution_count": 8,
   "metadata": {},
   "outputs": [
    {
     "ename": "IOError",
     "evalue": "[Errno 2] No such file or directory: '/home/cifu/nrgcode/Data/d2/Gamma1=2.,Gamma2=8.,tdots=0.,t1=0.,t2=0.,em=0.,e1=0.,e2=0..dat'",
     "output_type": "error",
     "traceback": [
      "\u001b[0;31m---------------------------------------------------------------------------\u001b[0m",
      "\u001b[0;31mIOError\u001b[0m                                   Traceback (most recent call last)",
      "\u001b[0;32m<ipython-input-8-89da89f25924>\u001b[0m in \u001b[0;36m<module>\u001b[0;34m()\u001b[0m\n\u001b[1;32m     21\u001b[0m \u001b[0mG2\u001b[0m \u001b[0;34m=\u001b[0m \u001b[0;36m0\u001b[0m \u001b[0;34m;\u001b[0m \u001b[0mtdots\u001b[0m \u001b[0;34m=\u001b[0m \u001b[0;36m0\u001b[0m \u001b[0;34m;\u001b[0m  \u001b[0mt1\u001b[0m \u001b[0;34m=\u001b[0m \u001b[0;36m0\u001b[0m \u001b[0;34m;\u001b[0m \u001b[0mt2\u001b[0m \u001b[0;34m=\u001b[0m \u001b[0;36m0\u001b[0m \u001b[0;34m;\u001b[0m \u001b[0mem\u001b[0m \u001b[0;34m=\u001b[0m \u001b[0;36m0\u001b[0m \u001b[0;34m;\u001b[0m \u001b[0me1\u001b[0m \u001b[0;34m=\u001b[0m \u001b[0;36m0\u001b[0m \u001b[0;34m;\u001b[0m\u001b[0me2\u001b[0m \u001b[0;34m=\u001b[0m \u001b[0;36m0\u001b[0m\u001b[0;34m\u001b[0m\u001b[0m\n\u001b[1;32m     22\u001b[0m \u001b[0;32mfor\u001b[0m \u001b[0mG2\u001b[0m \u001b[0;32min\u001b[0m \u001b[0marray\u001b[0m\u001b[0;34m(\u001b[0m\u001b[0;34m[\u001b[0m\u001b[0;36m0\u001b[0m\u001b[0;34m,\u001b[0m\u001b[0;36m0.5\u001b[0m\u001b[0;34m,\u001b[0m\u001b[0;36m1\u001b[0m\u001b[0;34m,\u001b[0m\u001b[0;36m4\u001b[0m\u001b[0;34m]\u001b[0m\u001b[0;34m)\u001b[0m\u001b[0;34m:\u001b[0m\u001b[0;34m\u001b[0m\u001b[0m\n\u001b[0;32m---> 23\u001b[0;31m     \u001b[0mPlot2Tits\u001b[0m\u001b[0;34m(\u001b[0m\u001b[0maxarr\u001b[0m \u001b[0;34m,\u001b[0m \u001b[0mG2\u001b[0m \u001b[0;34m,\u001b[0m\u001b[0mtdots\u001b[0m\u001b[0;34m,\u001b[0m\u001b[0mt1\u001b[0m \u001b[0;34m,\u001b[0m\u001b[0mt2\u001b[0m \u001b[0;34m,\u001b[0m\u001b[0mem\u001b[0m\u001b[0;34m,\u001b[0m \u001b[0me1\u001b[0m \u001b[0;34m,\u001b[0m\u001b[0me2\u001b[0m \u001b[0;34m,\u001b[0m \u001b[0;34m'$\\Gamma_2 ='\u001b[0m\u001b[0;34m+\u001b[0m\u001b[0mrepr\u001b[0m\u001b[0;34m(\u001b[0m\u001b[0mG2\u001b[0m\u001b[0;34m)\u001b[0m\u001b[0;34m+\u001b[0m\u001b[0;34m'\\Gamma_1$'\u001b[0m\u001b[0;34m)\u001b[0m\u001b[0;34m\u001b[0m\u001b[0m\n\u001b[0m\u001b[1;32m     24\u001b[0m \u001b[0;34m\u001b[0m\u001b[0m\n\u001b[1;32m     25\u001b[0m \u001b[0;31m#for tdots in array([1,2,4]):\u001b[0m\u001b[0;34m\u001b[0m\u001b[0;34m\u001b[0m\u001b[0m\n",
      "\u001b[0;32m<ipython-input-8-89da89f25924>\u001b[0m in \u001b[0;36mPlot2Tits\u001b[0;34m(axarr, G2, tdots, t1, t2, em, e1, e2, lb)\u001b[0m\n\u001b[1;32m      9\u001b[0m \u001b[0;32mdef\u001b[0m \u001b[0mPlot2Tits\u001b[0m\u001b[0;34m(\u001b[0m\u001b[0maxarr\u001b[0m \u001b[0;34m,\u001b[0m \u001b[0mG2\u001b[0m \u001b[0;34m,\u001b[0m\u001b[0mtdots\u001b[0m\u001b[0;34m,\u001b[0m\u001b[0mt1\u001b[0m \u001b[0;34m,\u001b[0m\u001b[0mt2\u001b[0m \u001b[0;34m,\u001b[0m\u001b[0mem\u001b[0m\u001b[0;34m,\u001b[0m \u001b[0me1\u001b[0m \u001b[0;34m,\u001b[0m\u001b[0me2\u001b[0m \u001b[0;34m,\u001b[0m \u001b[0mlb\u001b[0m\u001b[0;34m)\u001b[0m\u001b[0;34m:\u001b[0m\u001b[0;34m\u001b[0m\u001b[0m\n\u001b[1;32m     10\u001b[0m     \u001b[0mtits\u001b[0m \u001b[0;34m=\u001b[0m \u001b[0mDefineTitles\u001b[0m\u001b[0;34m(\u001b[0m\u001b[0mG2\u001b[0m \u001b[0;34m,\u001b[0m\u001b[0mtdots\u001b[0m\u001b[0;34m,\u001b[0m\u001b[0mt1\u001b[0m \u001b[0;34m,\u001b[0m\u001b[0mt2\u001b[0m \u001b[0;34m,\u001b[0m\u001b[0mem\u001b[0m\u001b[0;34m,\u001b[0m \u001b[0me1\u001b[0m \u001b[0;34m,\u001b[0m\u001b[0me2\u001b[0m\u001b[0;34m)\u001b[0m\u001b[0;34m\u001b[0m\u001b[0m\n\u001b[0;32m---> 11\u001b[0;31m     \u001b[0mplotMath\u001b[0m\u001b[0;34m(\u001b[0m\u001b[0maxarr\u001b[0m\u001b[0;34m[\u001b[0m\u001b[0;36m0\u001b[0m\u001b[0;34m]\u001b[0m\u001b[0;34m,\u001b[0m\u001b[0mtits\u001b[0m\u001b[0;34m[\u001b[0m\u001b[0;36m1\u001b[0m\u001b[0;34m]\u001b[0m\u001b[0;34m,\u001b[0m\u001b[0;34m''\u001b[0m \u001b[0;34m,\u001b[0m \u001b[0;34m'-'\u001b[0m\u001b[0;34m,\u001b[0m \u001b[0;34m'b'\u001b[0m\u001b[0;34m)\u001b[0m\u001b[0;34m\u001b[0m\u001b[0m\n\u001b[0m\u001b[1;32m     12\u001b[0m \u001b[0;34m\u001b[0m\u001b[0m\n\u001b[1;32m     13\u001b[0m     \u001b[0mplotMath\u001b[0m\u001b[0;34m(\u001b[0m\u001b[0maxarr\u001b[0m\u001b[0;34m[\u001b[0m\u001b[0;36m0\u001b[0m\u001b[0;34m]\u001b[0m\u001b[0;34m,\u001b[0m\u001b[0mtits\u001b[0m\u001b[0;34m[\u001b[0m\u001b[0;36m0\u001b[0m\u001b[0;34m]\u001b[0m\u001b[0;34m,\u001b[0m\u001b[0;34m''\u001b[0m\u001b[0;34m,\u001b[0m \u001b[0;34m'--'\u001b[0m \u001b[0;34m,\u001b[0m \u001b[0;34m'r'\u001b[0m\u001b[0;34m)\u001b[0m\u001b[0;34m\u001b[0m\u001b[0m\n",
      "\u001b[0;32m<ipython-input-5-d976d3bd90ce>\u001b[0m in \u001b[0;36mplotMath\u001b[0;34m(ax, title, lb, style, col)\u001b[0m\n\u001b[1;32m     17\u001b[0m \u001b[0;34m\u001b[0m\u001b[0m\n\u001b[1;32m     18\u001b[0m \u001b[0;32mdef\u001b[0m \u001b[0mplotMath\u001b[0m\u001b[0;34m(\u001b[0m \u001b[0max\u001b[0m \u001b[0;34m,\u001b[0m \u001b[0mtitle\u001b[0m \u001b[0;34m,\u001b[0m \u001b[0mlb\u001b[0m \u001b[0;34m,\u001b[0m \u001b[0mstyle\u001b[0m\u001b[0;34m,\u001b[0m\u001b[0mcol\u001b[0m\u001b[0;34m)\u001b[0m\u001b[0;34m:\u001b[0m\u001b[0;34m\u001b[0m\u001b[0m\n\u001b[0;32m---> 19\u001b[0;31m     \u001b[0mw\u001b[0m \u001b[0;34m,\u001b[0m \u001b[0mGreen\u001b[0m \u001b[0;34m=\u001b[0m \u001b[0mreadMath\u001b[0m\u001b[0;34m(\u001b[0m \u001b[0mtitle\u001b[0m\u001b[0;34m)\u001b[0m\u001b[0;34m\u001b[0m\u001b[0m\n\u001b[0m\u001b[1;32m     20\u001b[0m     \u001b[0mGreen\u001b[0m \u001b[0;34m=\u001b[0m \u001b[0mGreen\u001b[0m\u001b[0;31m#/(pi*Gamma)\u001b[0m\u001b[0;34m\u001b[0m\u001b[0m\n\u001b[1;32m     21\u001b[0m     \u001b[0mNLN\u001b[0m \u001b[0;34m=\u001b[0m \u001b[0;36m4\u001b[0m\u001b[0;34m\u001b[0m\u001b[0m\n",
      "\u001b[0;32m<ipython-input-5-d976d3bd90ce>\u001b[0m in \u001b[0;36mreadMath\u001b[0;34m(title)\u001b[0m\n\u001b[1;32m      3\u001b[0m     \u001b[0;31m#infile = open(os.path.abspath('Gamma1=0.0282691,Gamma2=0,tdots=0.02,t1=0,t2=0.02'), 'r')\u001b[0m\u001b[0;34m\u001b[0m\u001b[0;34m\u001b[0m\u001b[0m\n\u001b[1;32m      4\u001b[0m     \u001b[0;31m#infile = open(os.path.abspath('Gamma1=0.0282691,Gamma2=0,tdots=0.02,t1=0.02,t2=0.'), 'r')\u001b[0m\u001b[0;34m\u001b[0m\u001b[0;34m\u001b[0m\u001b[0m\n\u001b[0;32m----> 5\u001b[0;31m     \u001b[0minfile\u001b[0m \u001b[0;34m=\u001b[0m \u001b[0mopen\u001b[0m\u001b[0;34m(\u001b[0m\u001b[0mos\u001b[0m\u001b[0;34m.\u001b[0m\u001b[0mpath\u001b[0m\u001b[0;34m.\u001b[0m\u001b[0mabspath\u001b[0m\u001b[0;34m(\u001b[0m \u001b[0mtitle\u001b[0m \u001b[0;34m)\u001b[0m\u001b[0;34m,\u001b[0m \u001b[0;34m'r'\u001b[0m\u001b[0;34m)\u001b[0m\u001b[0;34m\u001b[0m\u001b[0m\n\u001b[0m\u001b[1;32m      6\u001b[0m     \u001b[0mtext\u001b[0m \u001b[0;34m=\u001b[0m \u001b[0minfile\u001b[0m\u001b[0;34m.\u001b[0m\u001b[0mreadlines\u001b[0m\u001b[0;34m(\u001b[0m\u001b[0;34m)\u001b[0m\u001b[0;34m\u001b[0m\u001b[0m\n\u001b[1;32m      7\u001b[0m     \u001b[0mGreen\u001b[0m \u001b[0;34m=\u001b[0m \u001b[0;34m[\u001b[0m\u001b[0;34m]\u001b[0m\u001b[0;34m\u001b[0m\u001b[0m\n",
      "\u001b[0;31mIOError\u001b[0m: [Errno 2] No such file or directory: '/home/cifu/nrgcode/Data/d2/Gamma1=2.,Gamma2=8.,tdots=0.,t1=0.,t2=0.,em=0.,e1=0.,e2=0..dat'"
     ]
    }
   ],
   "source": [
    "\n",
    "\n",
    "f, axarr = subplots(1, 2, sharex='col', sharey='row', figsize=(9, 4))\n",
    "\n",
    "G2 = 0 ; tdots = 0 ;  t1 = 0 ; t2 = 0 ; em = 0 ; e1 = 0 ;e2 = 0\n",
    "for G2 in array([0,0.5,1,4]):\n",
    "    Plot2Tits(axarr , G2 ,tdots,t1 ,t2 ,em, e1 ,e2 , '$\\Gamma_2 ='+repr(G2)+'\\Gamma_1$')\n",
    "    \n",
    "#for tdots in array([1,2,4]):\n",
    "#    Plot2Tits(axarr , 0 ,tdots,t1 ,t2 ,em, e1 ,e2 , '$t_{dots}='+repr(tdots)+'\\Gamma_1$')      \n",
    "#\n",
    "\n",
    "\n",
    "\n",
    "#plotMath(axarr[0],tits[1],'Spin-$\\uparrow$', '-')\n",
    "#plotMath(axarr[1],tits[3],'Spin-$\\uparrow$', '-')\n",
    "#for t1 in array([1,2,3.5]):\n",
    "#    Plot2Tits(axarr , 0 ,1,t1 ,t2 ,em, e1 ,e2 , '$t_{1}='+repr(t1)+'\\Gamma_1$')      \n",
    "#\n",
    "\n",
    "#for t2 in array([1,2,3.5]):\n",
    "#    Plot2Tits(axarr , 0 ,1,t1 ,t2 ,em, e1 ,e2 , '$t_{2}='+repr(t2)+'\\Gamma_1$')      \n",
    "#\n",
    "\n",
    "G2 = 0 ; tdots = 0 ;  t1 = 0 ; t2 = 0 ; em = 0 ; e1 = 0 ;e2 = 0\n",
    "#for G2 in array([0,0.5,1,4]):\n",
    "#Plot2Tits(axarr , G2 ,1, 0,2 ,em, 0 , 0 , '')\n",
    "#Plot2Tits(axarr , G2 ,1, 2,0 ,em, 0 , 5 , '')\n",
    "Plot2Tits(axarr , 1 ,0, 1,1 ,em, 0 , 6 , '')\n",
    "\n",
    "\n",
    "axarr[0].set_ylim(0,12)\n",
    "axarr[0].set_xlim(-LIMSX,LIMSX)\n",
    "axarr[1].set_xlim(-LIMSX,LIMSX)\n",
    "axarr[0].set_title('Dot 1')\n",
    "axarr[1].set_title('Dot 2')\n",
    "axarr[0].set_xlabel('$\\omega/ \\Gamma_1$')\n",
    "axarr[1].set_xlabel('$\\omega/ \\Gamma_1$')\n",
    "axarr[0].set_ylabel('DOS')\n",
    "axarr[1].legend(fontsize=18 , loc='upper right' )\n",
    "axarr[0].set_xticks((-8,-4,0,4,8))\n",
    "axarr[1].set_xticks((-8,-4,0,4,8))\n",
    "axarr[0].set_yticks((0,5,10))"
   ]
  },
  {
   "cell_type": "code",
   "execution_count": 8,
   "metadata": {},
   "outputs": [
    {
     "data": {
      "text/plain": [
       "[<matplotlib.axis.XTick at 0x7fd203c4cfd0>,\n",
       " <matplotlib.axis.XTick at 0x7fd203c62150>,\n",
       " <matplotlib.axis.XTick at 0x7fd208247210>,\n",
       " <matplotlib.axis.XTick at 0x7fd208242310>,\n",
       " <matplotlib.axis.XTick at 0x7fd208242a10>]"
      ]
     },
     "execution_count": 8,
     "metadata": {},
     "output_type": "execute_result"
    }
   ],
   "source": [
    "axarr[1].legend(fontsize=20, loc='upper left' )\n",
    "#axarr[0].set_yticks((0,5,10,15))\n",
    "axarr[0].set_xticks((-8,-4,0,4,8))\n",
    "axarr[1].set_xticks((-8,-4,0,4,8))\n",
    "#axarr[0].set_yticks((0,3,6,9,12))"
   ]
  },
  {
   "cell_type": "code",
   "execution_count": 270,
   "metadata": {},
   "outputs": [],
   "source": []
  },
  {
   "cell_type": "code",
   "execution_count": 50,
   "metadata": {},
   "outputs": [],
   "source": [
    "\n",
    "        "
   ]
  },
  {
   "cell_type": "markdown",
   "metadata": {},
   "source": [
    "Here we plot a 6 subplot files with the Green functions coming from GreenFunctions.nb"
   ]
  },
  {
   "cell_type": "code",
   "execution_count": 29,
   "metadata": {},
   "outputs": [
    {
     "name": "stdout",
     "output_type": "stream",
     "text": [
      "AxesSubplot(0.16,0.673125;0.401961x0.246875)\n",
      "0 0 (a)\n",
      "0 1 (b)\n",
      "1 0 (c)\n",
      "1 1 (d)\n",
      "2 0 (e)\n",
      "2 1 (f)\n"
     ]
    },
    {
     "ename": "ValueError",
     "evalue": "could not convert string to float: -(Im[((0. + 0.0282691*I) + o + s + (0.0007991420148099999 + 0.*I)/((0. + 0.0282691*I) + o + s))^(-1)]/Pi)",
     "output_type": "error",
     "traceback": [
      "\u001b[0;31m---------------------------------------------------------------------------\u001b[0m",
      "\u001b[0;31mValueError\u001b[0m                                Traceback (most recent call last)",
      "\u001b[0;32m<ipython-input-29-60098268fdf5>\u001b[0m in \u001b[0;36m<module>\u001b[0;34m()\u001b[0m\n\u001b[1;32m     86\u001b[0m \u001b[0;34m\u001b[0m\u001b[0m\n\u001b[1;32m     87\u001b[0m \u001b[0;31m# t1=t2\u001b[0m\u001b[0;34m\u001b[0m\u001b[0;34m\u001b[0m\u001b[0m\n\u001b[0;32m---> 88\u001b[0;31m \u001b[0mPlot4Tits\u001b[0m\u001b[0;34m(\u001b[0m\u001b[0maxarr\u001b[0m \u001b[0;34m,\u001b[0m \u001b[0;36m1\u001b[0m \u001b[0;34m,\u001b[0m\u001b[0;36m0\u001b[0m\u001b[0;34m,\u001b[0m \u001b[0;36m2\u001b[0m\u001b[0;34m,\u001b[0m\u001b[0;36m2\u001b[0m\u001b[0;34m,\u001b[0m \u001b[0;34m''\u001b[0m\u001b[0;34m)\u001b[0m\u001b[0;34m\u001b[0m\u001b[0m\n\u001b[0m\u001b[1;32m     89\u001b[0m \u001b[0mDrawInsets\u001b[0m\u001b[0;34m(\u001b[0m\u001b[0maxarr\u001b[0m\u001b[0;34m,\u001b[0m \u001b[0;36m1\u001b[0m \u001b[0;34m,\u001b[0m \u001b[0;34m'D3.png'\u001b[0m \u001b[0;34m,\u001b[0m \u001b[0;34m'D2V1.png'\u001b[0m \u001b[0;34m,\u001b[0m \u001b[0;34m'D1V2.png'\u001b[0m\u001b[0;34m)\u001b[0m\u001b[0;34m\u001b[0m\u001b[0m\n\u001b[1;32m     90\u001b[0m \u001b[0;34m\u001b[0m\u001b[0m\n",
      "\u001b[0;32m<ipython-input-28-a286c0a3b5b4>\u001b[0m in \u001b[0;36mPlot4Tits\u001b[0;34m(axarr, G2, tdots, t1, t2, lb)\u001b[0m\n\u001b[1;32m      2\u001b[0m \u001b[0;32mdef\u001b[0m \u001b[0mPlot4Tits\u001b[0m\u001b[0;34m(\u001b[0m\u001b[0maxarr\u001b[0m \u001b[0;34m,\u001b[0m \u001b[0mG2\u001b[0m \u001b[0;34m,\u001b[0m\u001b[0mtdots\u001b[0m\u001b[0;34m,\u001b[0m\u001b[0mt1\u001b[0m \u001b[0;34m,\u001b[0m\u001b[0mt2\u001b[0m \u001b[0;34m,\u001b[0m \u001b[0mlb\u001b[0m \u001b[0;34m)\u001b[0m\u001b[0;34m:\u001b[0m\u001b[0;34m\u001b[0m\u001b[0m\n\u001b[1;32m      3\u001b[0m     \u001b[0mtits\u001b[0m \u001b[0;34m=\u001b[0m \u001b[0mDefineTitles\u001b[0m\u001b[0;34m(\u001b[0m\u001b[0mG2\u001b[0m \u001b[0;34m,\u001b[0m\u001b[0mtdots\u001b[0m\u001b[0;34m,\u001b[0m\u001b[0mt1\u001b[0m \u001b[0;34m,\u001b[0m\u001b[0mt2\u001b[0m \u001b[0;34m,\u001b[0m\u001b[0;36m0\u001b[0m\u001b[0;34m,\u001b[0m \u001b[0;36m0\u001b[0m \u001b[0;34m,\u001b[0m\u001b[0;36m0\u001b[0m\u001b[0;34m)\u001b[0m\u001b[0;34m\u001b[0m\u001b[0m\n\u001b[0;32m----> 4\u001b[0;31m     \u001b[0mplotMath\u001b[0m\u001b[0;34m(\u001b[0m\u001b[0maxarr\u001b[0m\u001b[0;34m[\u001b[0m\u001b[0;36m0\u001b[0m\u001b[0;34m,\u001b[0m\u001b[0;36m0\u001b[0m\u001b[0;34m]\u001b[0m\u001b[0;34m,\u001b[0m\u001b[0mtits\u001b[0m\u001b[0;34m[\u001b[0m\u001b[0;36m1\u001b[0m\u001b[0;34m]\u001b[0m\u001b[0;34m,\u001b[0m\u001b[0;34m'\\uparrow'\u001b[0m \u001b[0;34m,\u001b[0m \u001b[0;34m'-'\u001b[0m\u001b[0;34m,\u001b[0m \u001b[0;34m'b'\u001b[0m\u001b[0;34m)\u001b[0m\u001b[0;34m\u001b[0m\u001b[0m\n\u001b[0m\u001b[1;32m      5\u001b[0m     \u001b[0mplotMath\u001b[0m\u001b[0;34m(\u001b[0m\u001b[0maxarr\u001b[0m\u001b[0;34m[\u001b[0m\u001b[0;36m0\u001b[0m\u001b[0;34m,\u001b[0m\u001b[0;36m0\u001b[0m\u001b[0;34m]\u001b[0m\u001b[0;34m,\u001b[0m\u001b[0mtits\u001b[0m\u001b[0;34m[\u001b[0m\u001b[0;36m0\u001b[0m\u001b[0;34m]\u001b[0m\u001b[0;34m,\u001b[0m\u001b[0;34m'\\downarrow'\u001b[0m\u001b[0;34m,\u001b[0m \u001b[0;34m'-'\u001b[0m \u001b[0;34m,\u001b[0m \u001b[0;34m'r'\u001b[0m\u001b[0;34m)\u001b[0m\u001b[0;34m\u001b[0m\u001b[0m\n\u001b[1;32m      6\u001b[0m     \u001b[0mplotMath\u001b[0m\u001b[0;34m(\u001b[0m\u001b[0maxarr\u001b[0m\u001b[0;34m[\u001b[0m\u001b[0;36m0\u001b[0m\u001b[0;34m,\u001b[0m\u001b[0;36m1\u001b[0m\u001b[0;34m]\u001b[0m\u001b[0;34m,\u001b[0m\u001b[0mtits\u001b[0m\u001b[0;34m[\u001b[0m\u001b[0;36m3\u001b[0m\u001b[0;34m]\u001b[0m\u001b[0;34m,\u001b[0m\u001b[0;34m' $  \\uparrow$ '\u001b[0m \u001b[0;34m+\u001b[0m \u001b[0mlb\u001b[0m \u001b[0;34m,\u001b[0m \u001b[0;34m'-'\u001b[0m\u001b[0;34m,\u001b[0m \u001b[0;34m'b'\u001b[0m\u001b[0;34m)\u001b[0m\u001b[0;34m\u001b[0m\u001b[0m\n",
      "\u001b[0;32m<ipython-input-25-3904a5357d05>\u001b[0m in \u001b[0;36mplotMath\u001b[0;34m(ax, title, lb, style, col)\u001b[0m\n\u001b[1;32m      5\u001b[0m \u001b[0;32mdef\u001b[0m \u001b[0mplotMath\u001b[0m\u001b[0;34m(\u001b[0m \u001b[0max\u001b[0m \u001b[0;34m,\u001b[0m \u001b[0mtitle\u001b[0m \u001b[0;34m,\u001b[0m \u001b[0mlb\u001b[0m \u001b[0;34m,\u001b[0m \u001b[0mstyle\u001b[0m\u001b[0;34m,\u001b[0m\u001b[0mcol\u001b[0m\u001b[0;34m)\u001b[0m\u001b[0;34m:\u001b[0m\u001b[0;34m\u001b[0m\u001b[0m\n\u001b[1;32m      6\u001b[0m     \u001b[0mLIMSX\u001b[0m \u001b[0;34m=\u001b[0m \u001b[0;36m10\u001b[0m \u001b[0;31m# Limit of the w values in the DOS\u001b[0m\u001b[0;34m\u001b[0m\u001b[0m\n\u001b[0;32m----> 7\u001b[0;31m     \u001b[0mw\u001b[0m \u001b[0;34m,\u001b[0m \u001b[0mGreen\u001b[0m \u001b[0;34m=\u001b[0m \u001b[0mreadMath\u001b[0m\u001b[0;34m(\u001b[0m \u001b[0mtitle\u001b[0m\u001b[0;34m)\u001b[0m\u001b[0;34m\u001b[0m\u001b[0m\n\u001b[0m\u001b[1;32m      8\u001b[0m     \u001b[0mGreen\u001b[0m \u001b[0;34m=\u001b[0m \u001b[0mGreen\u001b[0m\u001b[0;31m#/(pi*Gamma)\u001b[0m\u001b[0;34m\u001b[0m\u001b[0m\n\u001b[1;32m      9\u001b[0m     \u001b[0mNLN\u001b[0m \u001b[0;34m=\u001b[0m \u001b[0;36m4\u001b[0m\u001b[0;34m\u001b[0m\u001b[0m\n",
      "\u001b[0;32m<ipython-input-13-f862772dc8c6>\u001b[0m in \u001b[0;36mreadMath\u001b[0;34m(title)\u001b[0m\n\u001b[1;32m     43\u001b[0m     \u001b[0mGreen\u001b[0m \u001b[0;34m=\u001b[0m \u001b[0;34m[\u001b[0m\u001b[0;34m]\u001b[0m\u001b[0;34m\u001b[0m\u001b[0m\n\u001b[1;32m     44\u001b[0m     \u001b[0;32mfor\u001b[0m \u001b[0mx\u001b[0m \u001b[0;32min\u001b[0m \u001b[0mtext\u001b[0m\u001b[0;34m:\u001b[0m\u001b[0;34m\u001b[0m\u001b[0m\n\u001b[0;32m---> 45\u001b[0;31m          \u001b[0mGreen\u001b[0m\u001b[0;34m.\u001b[0m\u001b[0mappend\u001b[0m\u001b[0;34m(\u001b[0m\u001b[0mpi\u001b[0m\u001b[0;34m*\u001b[0m\u001b[0mGamma\u001b[0m\u001b[0;34m*\u001b[0m\u001b[0mfloat\u001b[0m\u001b[0;34m(\u001b[0m\u001b[0mx\u001b[0m\u001b[0;34m.\u001b[0m\u001b[0msplit\u001b[0m\u001b[0;34m(\u001b[0m\u001b[0;34m'\\n'\u001b[0m\u001b[0;34m)\u001b[0m\u001b[0;34m[\u001b[0m\u001b[0;36m0\u001b[0m\u001b[0;34m]\u001b[0m\u001b[0;34m)\u001b[0m\u001b[0;34m)\u001b[0m\u001b[0;34m\u001b[0m\u001b[0m\n\u001b[0m\u001b[1;32m     46\u001b[0m     \u001b[0;31m#return linspace(-10,10,500), array(Green)/(pi*Gamma)\u001b[0m\u001b[0;34m\u001b[0m\u001b[0;34m\u001b[0m\u001b[0m\n\u001b[1;32m     47\u001b[0m     \u001b[0;32mreturn\u001b[0m \u001b[0mlinspace\u001b[0m\u001b[0;34m(\u001b[0m\u001b[0;34m-\u001b[0m\u001b[0mLIMSX\u001b[0m\u001b[0;34m,\u001b[0m\u001b[0mLIMSX\u001b[0m\u001b[0;34m,\u001b[0m\u001b[0;36m500\u001b[0m\u001b[0;34m)\u001b[0m\u001b[0;34m,\u001b[0m \u001b[0marray\u001b[0m\u001b[0;34m(\u001b[0m\u001b[0mGreen\u001b[0m\u001b[0;34m)\u001b[0m\u001b[0;34m\u001b[0m\u001b[0m\n",
      "\u001b[0;31mValueError\u001b[0m: could not convert string to float: -(Im[((0. + 0.0282691*I) + o + s + (0.0007991420148099999 + 0.*I)/((0. + 0.0282691*I) + o + s))^(-1)]/Pi)"
     ]
    }
   ],
   "source": [
    "# f, axarr = subplots(3, 2, sharex='col', sharey='row', figsize=(6, 5.6))\n",
    "f, axarr = subplots(3, 2, sharex='col', sharey='row', figsize=(6.8, 6.8))\n",
    "# f, axarr = subplots(3, 2, sharex='col', sharey='row', figsize=(12, 11))\n",
    "print axarr[0,0]\n",
    "\n",
    "rcParams['figure.subplot.wspace'] = 0.04\n",
    "rcParams['figure.subplot.hspace'] = 0.1\n",
    "rcParams['figure.subplot.bottom'] = 0.13\n",
    "rcParams['figure.subplot.right'] = 0.98\n",
    "rcParams['figure.subplot.left'] = 0.16\n",
    "rcParams['figure.subplot.top'] = 0.92\n",
    "\n",
    "\n",
    "for num,b in enumerate(('(a)', '(b)', '(c)', '(d)', '(e)','(f)')):\n",
    "    print num/2 , num%2 , b\n",
    "    axarr[num/2,num%2].text(0.05, 0.9, b, transform=axarr[num/2,num%2].transAxes, fontweight='bold', va='top')\n",
    "    \n",
    "for i in range(3):\n",
    "    for j in range(2):\n",
    "#         axarr[0,j].set_ylim(0,12)\n",
    "# #         axarr[0,j].set_ylim(0,3.1)\n",
    "#         #axarr[1,j].set_ylim(0,21)\n",
    "#         axarr[1,j].set_ylim(0,15)\n",
    "#         axarr[2,j].set_ylim(0,7)\n",
    "\n",
    "#    cong for t1 = t2\n",
    "        axarr[0,j].set_ylim(0,0.4)\n",
    "        axarr[1,j].set_ylim(0,1.1)\n",
    "        axarr[2,j].set_ylim(0,1.1)\n",
    "        axarr[0,0].set_yticks(arange(0,.4, step=.2))\n",
    "        axarr[1,0].set_yticks(arange(0,1.1, step=.5))\n",
    "        axarr[2,0].set_yticks(arange(0,1.1, step=0.5))\n",
    "        \n",
    "    \n",
    "#     cong for t1 > 0 connected t2 = G2 =0\n",
    "#         axarr[0,j].set_ylim(0,1.6)\n",
    "#         axarr[1,j].set_ylim(0,1.7)\n",
    "#         axarr[2,j].set_ylim(0,1.7)\n",
    "#         axarr[0,0].set_yticks(arange(0,1.6, step=.5))\n",
    "#         axarr[1,0].set_yticks(arange(0,1.7, step=.5))\n",
    "#         axarr[2,0].set_yticks(arange(0,1.7, step=0.5)).\n",
    "\n",
    "#     cong for t2>0 connected t1 = G2 =0\n",
    "#         axarr[0,j].set_ylim(0,1.6)\n",
    "#         axarr[1,j].set_ylim(0,1.7)\n",
    "#         axarr[2,j].set_ylim(0,1.7)\n",
    "#         axarr[0,0].set_yticks(arange(0,1.6, step=.5))\n",
    "#         axarr[1,0].set_yticks(arange(0,1.7, step=.5))\n",
    "#         axarr[2,0].set_yticks(arange(0,1.7, step=0.5))\n",
    "        \n",
    "        \n",
    "        #axarr[i,j].text(0.1, 0.9, 'A', transform=axarr[i,j].transAxes, fontweight='bold', va='top')\n",
    "        #axarr[1,0].text(-0.3, 0.5, 'B', transform=axarr[1,1].transAxes, fontweight='bold', va='top')\n",
    "        \n",
    "        \n",
    "#         axarr[0,0].set_yticks(arange(0,3.1, step=1))\n",
    "#         axarr[0,0].set_yticks(arange(0,13, step=5))\n",
    "#         #axarr[0,0].set_yticks((0,5,10))\n",
    "#         axarr[1,0].set_yticks(arange(0,13, step=5))\n",
    "#         axarr[2,0].set_yticks(arange(0,7, step=2))\n",
    "        \n",
    "       \n",
    "        \n",
    "        axarr[0,0].set_ylabel('$\\\\rho \\pi \\Gamma_1 $'  , fontsize=24)\n",
    "        axarr[1,0].set_ylabel('$\\\\rho \\pi \\Gamma_1$' , fontsize=24)\n",
    "        axarr[2,0].set_ylabel('$\\\\rho \\pi \\Gamma_1$', fontsize=24)\n",
    "#         axarr[0,0].set_ylabel('$\\\\rho(\\omega) $'  , fontsize=24)\n",
    "#         axarr[1,0].set_ylabel('$\\\\rho(\\omega)$' , fontsize=24)\n",
    "#         axarr[2,0].set_ylabel('$\\\\rho(\\omega)$', fontsize=24)\n",
    "        \n",
    "        #axarr[0,0].set_ylabel('$ \\\\mathbf{ \\epsilon_{1,2} = 0 }$ \\n  $\\\\rho(\\omega) $'  , fontsize=26)\n",
    "        #axarr[1,0].set_ylabel('$ \\\\mathbf{ \\epsilon_1 = 5\\Gamma_1}$ \\n $\\\\rho(\\omega)$' , fontsize=24)\n",
    "        #axarr[2,0].set_ylabel('$ \\\\mathbf{\\epsilon_2 = -5\\Gamma_1}$ \\n $\\\\rho(\\omega)$', fontsize=24)\n",
    "        \n",
    "        axarr[2,j].set_xticks((-8,-4,0,4,8))\n",
    "        \n",
    "        axarr[2,j].set_xlabel('$\\omega/ \\Gamma_1$')\n",
    "        axarr[0,0].set_title('Dot 1')\n",
    "        axarr[0,1].set_title('Dot 2')\n",
    "\n",
    "        \n",
    "#Plot4Tits(axarr , 0 ,1.5, 3,0, '')\n",
    "# DrawInsets(axarr, 1 ,  'D3.png' , 'D2.png' , 'D1.png')\n",
    "# Plot4Tits(axarr , 1 ,0, 2,2, '')\n",
    "# Plot4Tits(axarr , G2 ,tdots,t1 ,t2 , lb ):\n",
    "\n",
    "# t1=t2\n",
    "Plot4Tits(axarr , 1 ,0, 2,2, '')\n",
    "DrawInsets(axarr, 1 , 'D3.png' , 'D2V1.png' , 'D1V2.png')\n",
    "\n",
    "# t1>0\n",
    "# Plot4Tits(axarr , 0 ,1, 2,0, '')\n",
    "# DrawInsets(axarr, 1 ,  'D2.png' , 'D2V1.png' , 'D1V2.png')\n",
    "\n",
    "# t2 >  0\n",
    "# Plot4Tits(axarr , 0 ,1, 0,2, '')\n",
    "# DrawInsets(axarr, 1 , 'D3.png' , 'D4V1.png' , 'D3V2.png')\n",
    "\n",
    "\n",
    "\n",
    "rcParams.update({'figure.figsize': (200,200)})\n",
    "#DrawInsets(axarr, 0 ,  'DQD1.png' , 'DQD2.png' , 'DQD3.png')\n",
    "#PlotNewARR(axarr , '' )\n",
    "#for i in range(3):\n",
    "axarr[0,0].legend(fontsize=17, loc='upper right')"
   ]
  },
  {
   "cell_type": "code",
   "execution_count": null,
   "metadata": {},
   "outputs": [],
   "source": []
  },
  {
   "cell_type": "code",
   "execution_count": 259,
   "metadata": {},
   "outputs": [
    {
     "data": {
      "text/plain": [
       "<matplotlib.image.AxesImage at 0x7efdd2816090>"
      ]
     },
     "execution_count": 259,
     "metadata": {},
     "output_type": "execute_result"
    }
   ],
   "source": [
    "# for i,b in enumerate(('(a)', '(b)', '(c)', '(d)', '(e)','(f)')):\n",
    "#     print i , b\n",
    "    \n",
    "# fig = figure()\n",
    "# for i, label in enumerate(('A', 'B', 'C', 'D')):\n",
    "#     ax = fig.add_subplot(2,2,i+1)\n",
    "#     ax.text(0.05, 0.95, label, transform=ax.transAxes,\n",
    "#      fontsize=16, fontweight='bold', va='top')\n",
    "\n",
    "#plt.show() \n",
    "\n",
    "image = imread('D1.png')\n",
    "imshow(image)\n"
   ]
  },
  {
   "cell_type": "code",
   "execution_count": 7,
   "metadata": {},
   "outputs": [
    {
     "name": "stdout",
     "output_type": "stream",
     "text": [
      "AxesSubplot(0.125,0.53;0.369048x0.35)\n"
     ]
    },
    {
     "ename": "NameError",
     "evalue": "global name 'DefineTitles' is not defined",
     "output_type": "error",
     "traceback": [
      "\u001b[0;31m---------------------------------------------------------------------------\u001b[0m",
      "\u001b[0;31mNameError\u001b[0m                                 Traceback (most recent call last)",
      "\u001b[0;32m<ipython-input-7-d894488a8192>\u001b[0m in \u001b[0;36m<module>\u001b[0;34m()\u001b[0m\n\u001b[1;32m     48\u001b[0m \u001b[0;31m#PlotMode(axarr , 818 ,1 ,0, 2,2, '', True)\u001b[0m\u001b[0;34m\u001b[0m\u001b[0;34m\u001b[0m\u001b[0m\n\u001b[1;32m     49\u001b[0m \u001b[0;31m#PlotMode(axarr , 304 ,0 ,1, 2,0, '',False)\u001b[0m\u001b[0;34m\u001b[0m\u001b[0;34m\u001b[0m\u001b[0m\n\u001b[0;32m---> 50\u001b[0;31m \u001b[0mPlotMode\u001b[0m\u001b[0;34m(\u001b[0m\u001b[0maxarr\u001b[0m \u001b[0;34m,\u001b[0m \u001b[0;36m309\u001b[0m \u001b[0;34m,\u001b[0m\u001b[0;36m0\u001b[0m \u001b[0;34m,\u001b[0m\u001b[0;36m1\u001b[0m\u001b[0;34m,\u001b[0m \u001b[0;36m0\u001b[0m\u001b[0;34m,\u001b[0m\u001b[0;36m2\u001b[0m\u001b[0;34m,\u001b[0m \u001b[0;34m''\u001b[0m\u001b[0;34m,\u001b[0m\u001b[0mFalse\u001b[0m\u001b[0;34m)\u001b[0m\u001b[0;34m\u001b[0m\u001b[0m\n\u001b[0m",
      "\u001b[0;32m<ipython-input-7-d894488a8192>\u001b[0m in \u001b[0;36mPlotMode\u001b[0;34m(axarr, NumCase, G2, tdots, t1, t2, lb, SUM)\u001b[0m\n\u001b[1;32m     10\u001b[0m \u001b[0;32mdef\u001b[0m \u001b[0mPlotMode\u001b[0m\u001b[0;34m(\u001b[0m\u001b[0maxarr\u001b[0m \u001b[0;34m,\u001b[0m \u001b[0mNumCase\u001b[0m \u001b[0;34m,\u001b[0m \u001b[0mG2\u001b[0m \u001b[0;34m,\u001b[0m\u001b[0mtdots\u001b[0m\u001b[0;34m,\u001b[0m\u001b[0mt1\u001b[0m \u001b[0;34m,\u001b[0m\u001b[0mt2\u001b[0m \u001b[0;34m,\u001b[0m \u001b[0mlb\u001b[0m \u001b[0;34m,\u001b[0m\u001b[0mSUM\u001b[0m\u001b[0;34m)\u001b[0m\u001b[0;34m:\u001b[0m\u001b[0;34m\u001b[0m\u001b[0m\n\u001b[1;32m     11\u001b[0m     \u001b[0mi\u001b[0m \u001b[0;34m=\u001b[0m \u001b[0mNumCase\u001b[0m\u001b[0;34m\u001b[0m\u001b[0m\n\u001b[0;32m---> 12\u001b[0;31m     \u001b[0mtits\u001b[0m \u001b[0;34m=\u001b[0m \u001b[0mDefineTitles\u001b[0m\u001b[0;34m(\u001b[0m\u001b[0mG2\u001b[0m \u001b[0;34m,\u001b[0m\u001b[0mtdots\u001b[0m\u001b[0;34m,\u001b[0m\u001b[0mt1\u001b[0m \u001b[0;34m,\u001b[0m\u001b[0mt2\u001b[0m \u001b[0;34m,\u001b[0m\u001b[0;36m0\u001b[0m\u001b[0;34m,\u001b[0m \u001b[0;36m0\u001b[0m \u001b[0;34m,\u001b[0m\u001b[0;36m0\u001b[0m\u001b[0;34m)\u001b[0m\u001b[0;34m\u001b[0m\u001b[0m\n\u001b[0m\u001b[1;32m     13\u001b[0m     \u001b[0mplotMath\u001b[0m\u001b[0;34m(\u001b[0m\u001b[0maxarr\u001b[0m\u001b[0;34m[\u001b[0m\u001b[0;36m0\u001b[0m\u001b[0;34m,\u001b[0m\u001b[0;36m0\u001b[0m\u001b[0;34m]\u001b[0m\u001b[0;34m,\u001b[0m\u001b[0mtits\u001b[0m\u001b[0;34m[\u001b[0m\u001b[0;36m1\u001b[0m\u001b[0;34m]\u001b[0m\u001b[0;34m,\u001b[0m\u001b[0;34m''\u001b[0m \u001b[0;34m,\u001b[0m \u001b[0;34m'-'\u001b[0m\u001b[0;34m,\u001b[0m \u001b[0;34m'b'\u001b[0m\u001b[0;34m)\u001b[0m\u001b[0;34m\u001b[0m\u001b[0m\n\u001b[1;32m     14\u001b[0m     \u001b[0mplotMath\u001b[0m\u001b[0;34m(\u001b[0m\u001b[0maxarr\u001b[0m\u001b[0;34m[\u001b[0m\u001b[0;36m0\u001b[0m\u001b[0;34m,\u001b[0m\u001b[0;36m0\u001b[0m\u001b[0;34m]\u001b[0m\u001b[0;34m,\u001b[0m\u001b[0mtits\u001b[0m\u001b[0;34m[\u001b[0m\u001b[0;36m0\u001b[0m\u001b[0;34m]\u001b[0m\u001b[0;34m,\u001b[0m\u001b[0;34m''\u001b[0m\u001b[0;34m,\u001b[0m \u001b[0;34m'--'\u001b[0m \u001b[0;34m,\u001b[0m \u001b[0;34m'r'\u001b[0m\u001b[0;34m)\u001b[0m\u001b[0;34m\u001b[0m\u001b[0m\n",
      "\u001b[0;31mNameError\u001b[0m: global name 'DefineTitles' is not defined"
     ]
    }
   ],
   "source": [
    "f, axarr = subplots(2, 2,  sharex='col',sharey='row', figsize=(6, 6.6))\n",
    "print axarr[0,0]\n",
    "\n",
    "rcParams['figure.subplot.wspace'] = 0.06\n",
    "rcParams['figure.subplot.hspace'] = 0.19\n",
    "rcParams['figure.subplot.bottom'] = 0.16\n",
    "rcParams['figure.subplot.right'] = 0.99\n",
    "rcParams['figure.subplot.left'] = 0.2\n",
    "\n",
    "def PlotMode(axarr , NumCase , G2 ,tdots,t1 ,t2 , lb ,SUM):\n",
    "    i = NumCase\n",
    "    tits = DefineTitles(G2 ,tdots,t1 ,t2 ,0, 0 ,0)\n",
    "    plotMath(axarr[0,0],tits[1],'' , '-', 'b')\n",
    "    plotMath(axarr[0,0],tits[0],'', '--' , 'r')\n",
    "    plotMath(axarr[0,1],tits[3],' $  \\uparrow$ ' + lb , '-', 'b')\n",
    "    plotMath(axarr[0,1],tits[2],' $\\downarrow$ '+ lb , '--' , 'r')\n",
    "    tits = DefineTitles(G2 ,tdots,t1 ,t2 ,0, 0 ,5)\n",
    "    plotOneDot(axarr[1,0],i , 0 ,SUM)\n",
    "    plotOneDot(axarr[1,0],i , 1 ,SUM)\n",
    "    plotOneDot(axarr[1,1],i , 2 ,SUM)\n",
    "    plotOneDot(axarr[1,1],i , 3 ,SUM)\n",
    "\n",
    "    \n",
    "#y1 = 3.2  ;  ystep1=1\n",
    "#y2 = 3.2  ;  ystep2=1\n",
    "y1 = 16.2  ;  ystep1=4\n",
    "y2 = 6.2  ;  ystep2=2\n",
    "for i in range(2):\n",
    "    for j in range(2):\n",
    "        axarr[i,j].set_xlim(-10,10)\n",
    "        axarr[0,j].set_xlabel('$\\omega/ \\Gamma_1$')\n",
    "        axarr[1,j].set_xlabel('$(\\omega / \\Gamma_1)(U/ \\Gamma_1)$')\n",
    "        \n",
    "        axarr[0,j].set_ylim(0,y1)\n",
    "        axarr[0,j].set_yticks(arange(0,y1, step=ystep1))\n",
    "        axarr[1,j].set_ylim(0,y2)\n",
    "        axarr[1,j].set_yticks(arange(0,y2, step=ystep2))\n",
    "        #axarr[1,j].set_ylim(0,3)\n",
    "       # axarr[1,0].set_yticks((0,1,2,3))\n",
    "        #axarr[1,j].set_xticks((-8,-4,0,4,8))\n",
    "        axarr[1,j].set_xticks((-8,0,8))\n",
    "        axarr[0,0].set_ylabel('$\\\\textbf{U = 0}$ \\n  $ \\\\rho(\\omega)$' )\n",
    "        axarr[1,0].set_ylabel('$\\\\textbf{U=17} \\\\mathbf{\\Gamma_1} $ \\n  $  \\\\rho(\\omega) $')\n",
    "        \n",
    "        axarr[0,0].set_title('Dot 1')\n",
    "        axarr[0,1].set_title('Dot 2')\n",
    "\n",
    "#PlotMode(axarr , 818 ,1 ,0, 2,2, '', True)    \n",
    "#PlotMode(axarr , 304 ,0 ,1, 2,0, '',False) \n",
    "PlotMode(axarr , 309 ,0 ,1, 0,2, '',False)"
   ]
  },
  {
   "cell_type": "code",
   "execution_count": null,
   "metadata": {},
   "outputs": [],
   "source": []
  },
  {
   "cell_type": "code",
   "execution_count": null,
   "metadata": {},
   "outputs": [],
   "source": []
  },
  {
   "cell_type": "code",
   "execution_count": 192,
   "metadata": {},
   "outputs": [],
   "source": []
  },
  {
   "cell_type": "code",
   "execution_count": null,
   "metadata": {},
   "outputs": [],
   "source": []
  },
  {
   "cell_type": "code",
   "execution_count": 15,
   "metadata": {},
   "outputs": [
    {
     "name": "stdout",
     "output_type": "stream",
     "text": [
      "0.210479176604\n",
      "0.125096967206\n",
      "0.371148567426\n",
      "0.384840804128\n",
      "0.02 0.02\n"
     ]
    }
   ],
   "source": [
    "i = 458\n",
    "#i = 817\n",
    "\n",
    "i = 465\n",
    "#i = 304\n",
    "#i = 318\n",
    "f, axarr = subplots(1, 2, sharex='col', sharey='row', figsize=(10, 5))\n",
    "\n",
    "plotOneDot(axarr[0],i , 0)\n",
    "plotOneDot(axarr[0],i , 1)\n",
    "plotOneDot(axarr[1],i , 2)\n",
    "plotOneDot(axarr[1],i , 3)\n",
    "\n",
    "axarr[0].set_ylim(0,6)\n",
    "axarr[0].set_xlim(-10,10)\n",
    "axarr[1].set_xlim(-10,10)\n",
    "axarr[0].set_title('Dot 1')\n",
    "axarr[1].set_title('Dot 2')\n",
    "axarr[0].set_xlabel('$(\\omega / \\Gamma_1) \\\\times (U/ \\Gamma_1)$')\n",
    "axarr[1].set_xlabel('$(\\omega / \\Gamma_1) \\\\times (U/ \\Gamma_1)$')\n",
    "axarr[0].set_ylabel('DOS')\n",
    "axarr[1].legend(fontsize=18 , loc='upper right' )\n",
    "#axarr[1].legend(fontsize=20, loc='upper right')\n",
    "#axarr[0].set_xlim(-10,10)\n",
    "#axarr[1].set_xlim(-10,10)\n",
    "#axarr[0].set_xticks((-1.5,0,1.5))\n",
    "#axarr[1].set_xticks((-1.5,0,1.5))\n",
    "\n",
    "#axarr[0].set_ylim(0,11)\n",
    "#axarr[0].set_yticks((0,1,2,3))\n",
    "\n",
    "#axarr[0].set_title('Dot 1')\n",
    "#axarr[1].set_title('Dot 2')\n",
    "\n",
    "#axarr[0].set_xlabel('$\\omega/\\Gamma$')\n",
    "#axarr[1].set_xlabel('$\\omega/\\Gamma$')\n",
    "#axarr[0].set_ylabel('DOS')\n",
    "axarr[1].legend(fontsize=18 , loc='upper right' )\n",
    "print readfile_Param(i, 12) , readfile_Param(i, 13)"
   ]
  },
  {
   "cell_type": "code",
   "execution_count": 24,
   "metadata": {},
   "outputs": [
    {
     "data": {
      "text/plain": [
       "[<matplotlib.axis.YTick at 0x7f9031f6f610>,\n",
       " <matplotlib.axis.YTick at 0x7f9031f6fe10>,\n",
       " <matplotlib.axis.YTick at 0x7f9032be4c90>,\n",
       " <matplotlib.axis.YTick at 0x7f9032c51c50>,\n",
       " <matplotlib.axis.YTick at 0x7f9032e57290>]"
      ]
     },
     "execution_count": 24,
     "metadata": {},
     "output_type": "execute_result"
    }
   ],
   "source": [
    "axarr[1].legend(fontsize=20, loc='upper left' )\n",
    "#axarr[0].set_yticks((0,5,10,15))\n",
    "axarr[0].set_yticks((0,1,2,3,4))\n",
    "#axarr[0].set_yticks((0,3,6,9,12))"
   ]
  },
  {
   "cell_type": "code",
   "execution_count": 63,
   "metadata": {},
   "outputs": [
    {
     "name": "stderr",
     "output_type": "stream",
     "text": [
      "/usr/lib/python2.7/dist-packages/matplotlib/axes/_axes.py:519: UserWarning: No labelled objects found. Use label='...' kwarg on individual plots.\n",
      "  warnings.warn(\"No labelled objects found. \"\n"
     ]
    }
   ],
   "source": [
    "#mpl.rcParams['lines.linewidth'] = 3\n",
    "f, axarr = subplots(1, 1, sharex='col', sharey='row', figsize=(10, 5))\n",
    "G2 = 0 ; tdots = 0 ;  t1 = 0 ; t2 = 0 ; em = 0 ; e1 = 0 ;e2 = 0 \n",
    "#for t1 in array([0.5,1,2]):\n",
    "    #Plot2Tits(axarr , 0 ,tdots,t1 ,t2 ,em, e1 ,e2 , '$t='+repr(t1)+'\\Gamma_1$') \n",
    "#    tits = DefineTitles(G2 ,tdots,t1 ,t2 ,em, e1 ,e2)\n",
    "#    plotMath(axarr,tits[0],'Spin-$\\downarrow , \\ t='+repr(t1)+'\\Gamma_1$', '--')\n",
    "\n",
    "#for e1 in array([1,2,5]):\n",
    "    #Plot2Tits(axarr , 0 ,tdots,t1 ,t2 ,em, e1 ,e2 , '$t='+repr(t1)+'\\Gamma_1$') \n",
    "#    tits = DefineTitles(G2 ,tdots,1 ,t2 ,em, e1 ,e2)\n",
    "#    plotMath(axarr,tits[0],'Spin-$\\downarrow , \\ \\epsilon_1='+repr(e1)+'\\Gamma_1$', '--')\n",
    "    #plotMath(axarr,tits[1],'Spin-$\\uparrow$' , '-')\n",
    "\n",
    "#   \n",
    "#for em in array([0.5,1,3]):\n",
    "    #Plot2Tits(axarr , 0 ,tdots,t1 ,t2 ,em, e1 ,e2 , '$t='+repr(t1)+'\\Gamma_1$') \n",
    "#    tits = DefineTitles(G2 ,tdots,1 ,t2 ,em, e1 ,e2)\n",
    "#    plotMath(axarr,tits[0],'Spin-$\\downarrow , \\ \\epsilon_m='+repr(em)+'\\Gamma_1$', '--')\n",
    "    #plotMath(axarr,tits[1],'Spin-$\\uparrow$' , '-')\n",
    "\n",
    "    \n",
    "axarr.set_ylim(0,1)\n",
    "axarr.set_title('')\n",
    "axarr.set_xlabel('$\\omega/ \\Gamma_1$')\n",
    "axarr.set_ylabel('DOS')\n",
    "axarr.legend(fontsize=18 , loc='upper right' )\n"
   ]
  },
  {
   "cell_type": "code",
   "execution_count": 65,
   "metadata": {},
   "outputs": [
    {
     "data": {
      "text/plain": [
       "<matplotlib.legend.Legend at 0x7fe21e02d2d0>"
      ]
     },
     "execution_count": 65,
     "metadata": {},
     "output_type": "execute_result"
    }
   ],
   "source": [
    "axarr[1].legend(fontsize=15, loc='upper left' )"
   ]
  },
  {
   "cell_type": "code",
   "execution_count": 52,
   "metadata": {},
   "outputs": [],
   "source": [
    "'Green/Gamma1=2.,Gamma2=2.,tdots=0.,t1=2.,t2=2.,em=0.,e1=0.,e2=0..dat'\n",
    "readMath('Green/Gamma1=2.,Gamma2=2.,tdots=0.,t1=2.,t2=2.,em=0.,e1=0.,e2=0..dat')"
   ]
  },
  {
   "cell_type": "code",
   "execution_count": 53,
   "metadata": {},
   "outputs": [],
   "source": [
    "'Green/Gamma1=2.,Gamma2=2.,tdots=0.,t1=2.,t2=2.,em=0.,e1=0.,e2=0..dat'\n",
    "readMath('Green/Gamma1=2.,Gamma2=2.,tdots=0.,t1=2.,t2=2.,em=0.,e1=0.,e2=0..dat')"
   ]
  },
  {
   "cell_type": "code",
   "execution_count": 29,
   "metadata": {},
   "outputs": [
    {
     "ename": "SyntaxError",
     "evalue": "unexpected EOF while parsing (<ipython-input-29-62e236601272>, line 1)",
     "output_type": "error",
     "traceback": [
      "\u001b[0;36m  File \u001b[0;32m\"<ipython-input-29-62e236601272>\"\u001b[0;36m, line \u001b[0;32m1\u001b[0m\n\u001b[0;31m    print 'Green/Gamma1=2.,Gamma2='+repr(int(G2*2)\u001b[0m\n\u001b[0m                                                  ^\u001b[0m\n\u001b[0;31mSyntaxError\u001b[0m\u001b[0;31m:\u001b[0m unexpected EOF while parsing\n"
     ]
    }
   ],
   "source": [
    "print 'Green/Gamma1=2.,Gamma2='+repr(int(G2*2))"
   ]
  },
  {
   "cell_type": "code",
   "execution_count": 37,
   "metadata": {},
   "outputs": [
    {
     "data": {
      "text/plain": [
       "(-0.5, 0.5)"
      ]
     },
     "execution_count": 37,
     "metadata": {},
     "output_type": "execute_result"
    }
   ],
   "source": [
    "out = 'run2000/rho_0_0_OmegaRhow_zEQAVG.00.dat'\n",
    "dat = loadtxt(out, delimiter = ' ') \n",
    "w = dat[:,0] ; rho = dat[:,1]\n",
    "plot(w,rho)\n",
    "xlim(-.5,.5)"
   ]
  },
  {
   "cell_type": "code",
   "execution_count": 38,
   "metadata": {},
   "outputs": [
    {
     "ename": "IOError",
     "evalue": "[Errno 2] No such file or directory: 'run450/rho_0_0_OmegaRhow_zEQAVG.00.dat'",
     "output_type": "error",
     "traceback": [
      "\u001b[0;31m---------------------------------------------------------------------------\u001b[0m",
      "\u001b[0;31mIOError\u001b[0m                                   Traceback (most recent call last)",
      "\u001b[0;32m<ipython-input-38-1aeef3c08fff>\u001b[0m in \u001b[0;36m<module>\u001b[0;34m()\u001b[0m\n\u001b[1;32m      1\u001b[0m \u001b[0mout\u001b[0m \u001b[0;34m=\u001b[0m \u001b[0;34m'run450/rho_0_0_OmegaRhow_zEQAVG.00.dat'\u001b[0m\u001b[0;34m\u001b[0m\u001b[0m\n\u001b[0;32m----> 2\u001b[0;31m \u001b[0mdat\u001b[0m \u001b[0;34m=\u001b[0m \u001b[0mloadtxt\u001b[0m\u001b[0;34m(\u001b[0m\u001b[0mout\u001b[0m\u001b[0;34m,\u001b[0m \u001b[0mdelimiter\u001b[0m \u001b[0;34m=\u001b[0m \u001b[0;34m' '\u001b[0m\u001b[0;34m)\u001b[0m\u001b[0;34m\u001b[0m\u001b[0m\n\u001b[0m\u001b[1;32m      3\u001b[0m \u001b[0mw\u001b[0m \u001b[0;34m=\u001b[0m \u001b[0mdat\u001b[0m\u001b[0;34m[\u001b[0m\u001b[0;34m:\u001b[0m\u001b[0;34m,\u001b[0m\u001b[0;36m0\u001b[0m\u001b[0;34m]\u001b[0m \u001b[0;34m;\u001b[0m \u001b[0mrho\u001b[0m \u001b[0;34m=\u001b[0m \u001b[0mdat\u001b[0m\u001b[0;34m[\u001b[0m\u001b[0;34m:\u001b[0m\u001b[0;34m,\u001b[0m\u001b[0;36m1\u001b[0m\u001b[0;34m]\u001b[0m\u001b[0;34m\u001b[0m\u001b[0m\n\u001b[1;32m      4\u001b[0m \u001b[0mout\u001b[0m \u001b[0;34m=\u001b[0m \u001b[0;34m'run550/rho_0_0_OmegaRhow_zEQAVG.00.dat'\u001b[0m\u001b[0;34m\u001b[0m\u001b[0m\n\u001b[1;32m      5\u001b[0m \u001b[0mdat\u001b[0m \u001b[0;34m=\u001b[0m \u001b[0mloadtxt\u001b[0m\u001b[0;34m(\u001b[0m\u001b[0mout\u001b[0m\u001b[0;34m,\u001b[0m \u001b[0mdelimiter\u001b[0m \u001b[0;34m=\u001b[0m \u001b[0;34m' '\u001b[0m\u001b[0;34m)\u001b[0m\u001b[0;34m\u001b[0m\u001b[0m\n",
      "\u001b[0;32m/usr/lib/python2.7/dist-packages/numpy/lib/npyio.pyc\u001b[0m in \u001b[0;36mloadtxt\u001b[0;34m(fname, dtype, comments, delimiter, converters, skiprows, usecols, unpack, ndmin)\u001b[0m\n\u001b[1;32m    894\u001b[0m                 \u001b[0mfh\u001b[0m \u001b[0;34m=\u001b[0m \u001b[0miter\u001b[0m\u001b[0;34m(\u001b[0m\u001b[0mbz2\u001b[0m\u001b[0;34m.\u001b[0m\u001b[0mBZ2File\u001b[0m\u001b[0;34m(\u001b[0m\u001b[0mfname\u001b[0m\u001b[0;34m)\u001b[0m\u001b[0;34m)\u001b[0m\u001b[0;34m\u001b[0m\u001b[0m\n\u001b[1;32m    895\u001b[0m             \u001b[0;32melif\u001b[0m \u001b[0msys\u001b[0m\u001b[0;34m.\u001b[0m\u001b[0mversion_info\u001b[0m\u001b[0;34m[\u001b[0m\u001b[0;36m0\u001b[0m\u001b[0;34m]\u001b[0m \u001b[0;34m==\u001b[0m \u001b[0;36m2\u001b[0m\u001b[0;34m:\u001b[0m\u001b[0;34m\u001b[0m\u001b[0m\n\u001b[0;32m--> 896\u001b[0;31m                 \u001b[0mfh\u001b[0m \u001b[0;34m=\u001b[0m \u001b[0miter\u001b[0m\u001b[0;34m(\u001b[0m\u001b[0mopen\u001b[0m\u001b[0;34m(\u001b[0m\u001b[0mfname\u001b[0m\u001b[0;34m,\u001b[0m \u001b[0;34m'U'\u001b[0m\u001b[0;34m)\u001b[0m\u001b[0;34m)\u001b[0m\u001b[0;34m\u001b[0m\u001b[0m\n\u001b[0m\u001b[1;32m    897\u001b[0m             \u001b[0;32melse\u001b[0m\u001b[0;34m:\u001b[0m\u001b[0;34m\u001b[0m\u001b[0m\n\u001b[1;32m    898\u001b[0m                 \u001b[0mfh\u001b[0m \u001b[0;34m=\u001b[0m \u001b[0miter\u001b[0m\u001b[0;34m(\u001b[0m\u001b[0mopen\u001b[0m\u001b[0;34m(\u001b[0m\u001b[0mfname\u001b[0m\u001b[0;34m)\u001b[0m\u001b[0;34m)\u001b[0m\u001b[0;34m\u001b[0m\u001b[0m\n",
      "\u001b[0;31mIOError\u001b[0m: [Errno 2] No such file or directory: 'run450/rho_0_0_OmegaRhow_zEQAVG.00.dat'"
     ]
    }
   ],
   "source": [
    "out = 'run450/rho_0_0_OmegaRhow_zEQAVG.00.dat'\n",
    "dat = loadtxt(out, delimiter = ' ') \n",
    "w = dat[:,0] ; rho = dat[:,1]\n",
    "out = 'run550/rho_0_0_OmegaRhow_zEQAVG.00.dat'\n",
    "dat = loadtxt(out, delimiter = ' ') \n",
    "w = 0.5*(w +dat[:,0]) ; rho = 0.5*(rho + dat[:,1])\n",
    "plot(w,rho)\n",
    "xlim(-.5,.5)"
   ]
  },
  {
   "cell_type": "code",
   "execution_count": 28,
   "metadata": {},
   "outputs": [
    {
     "name": "stdout",
     "output_type": "stream",
     "text": [
      "-0.169157409848 0.169157409848 1.23959586262\n",
      "0.154973057649\n"
     ]
    }
   ],
   "source": [
    "\n",
    "\n",
    "axvline(x=8.8435)\n",
    "\n",
    "\n",
    "list = [1,3,9,5,2,5,6,9,7]\n",
    "\n",
    "# print diff(sign(diff(dat[:,1]))) \n",
    "twos = diff(sign(diff(dat[:,1]))) \n",
    "w = w[1:-1] ;  rho = rho[1:-1]\n",
    "wup = w[twos==-2] ; rhoup = rho[twos==-2] \n",
    "# plot(dat[:,1],'.')\n",
    "\n",
    "axvline(x=wup[-3],color ='r')\n",
    "axvline(x=wup[2],color ='r')\n",
    "\n",
    "print wup[2], wup[-3], rhoup[2]\n",
    "rho[rho <= (rhoup[2]/2)]\n",
    "# max(rho[])\n",
    "\n",
    "trick = (rho >= (0.8)) & (w  <= (-0.01))\n",
    "a =  [min(w[trick]) , max(w[trick]) ]\n",
    "axvline(x=a[0],color ='b')\n",
    "axvline(x=a[1],color ='b')\n",
    "print (a[1]-a[0])"
   ]
  },
  {
   "cell_type": "code",
   "execution_count": 27,
   "metadata": {},
   "outputs": [
    {
     "name": "stdout",
     "output_type": "stream",
     "text": [
      "1.41421356237 -1.4779133839\n"
     ]
    }
   ],
   "source": [
    "\n",
    "print(sqrt(2)) , 0.25/wup[2]"
   ]
  },
  {
   "cell_type": "code",
   "execution_count": 63,
   "metadata": {},
   "outputs": [
    {
     "name": "stdout",
     "output_type": "stream",
     "text": [
      "-0.169157409848 0.169157409848 1.23959586262\n",
      "0.0803811670413 -0.556689510137\n"
     ]
    }
   ],
   "source": [
    "print wup[2], wup[-3], rhoup[2]\n",
    "rho[rho <= (rhoup[2]/2)]\n",
    "# max(rho[])\n",
    "\n",
    "trick = (rho >= (rhoup[2]/2)) & (w  <= (-0.01))\n",
    "base = argmax(w[trick])\n",
    "print rho[base] , w[base]\n",
    "axvline(x=w[base],color ='y')"
   ]
  },
  {
   "cell_type": "code",
   "execution_count": 20,
   "metadata": {},
   "outputs": [
    {
     "name": "stdout",
     "output_type": "stream",
     "text": [
      "[ -6.92448940e-19   1.64662219e-19  -1.96134517e-19   2.17203814e-20\n",
      "  -5.26233689e-19   8.77416293e-19  -1.83368997e-18  -5.97642387e-18\n",
      "  -4.12190547e-18   2.83631351e-18   1.08183525e-18   4.79111317e-18\n",
      "   1.35210450e-17  -6.43992188e-18  -5.58933905e-18  -6.72211837e-17\n",
      "  -1.88320551e-17  -5.43935332e-17  -4.69304316e-17  -9.88057926e-17\n",
      "  -6.90548343e-17   7.25529377e-17  -2.90963777e-18   4.82767835e-17\n",
      "  -1.30584569e-18  -1.48314089e-16  -1.23802515e-17   1.29948907e-16\n",
      "   1.07956715e-16  -4.26144424e-16  -5.94080464e-16  -5.26658172e-16\n",
      "  -3.34998685e-16  -2.04774796e-16  -2.53426312e-16  -2.85804669e-16\n",
      "   3.86486953e-17   5.43426840e-16   5.79156238e-16  -7.06674212e-16\n",
      "  -3.73800990e-16  -1.91747833e-18  -7.12927540e-16  -1.14965826e-15\n",
      "  -8.34538602e-16  -7.79846939e-16  -4.50066444e-16   5.11751979e-16\n",
      "  -1.46304396e-15  -1.08464270e-15  -2.79894950e-17   1.12053457e-15\n",
      "  -7.63575021e-16  -4.05897506e-15  -9.51502826e-16  -1.44295645e-16\n",
      "   1.26098264e-16  -5.99727424e-15  -1.13548087e-14  -1.88717298e-15\n",
      "   6.16250391e-15   3.70240742e-15  -2.15959277e-14  -2.89370544e-14\n",
      "  -3.30977884e-15  -1.45383242e-15  -1.77388049e-14  -4.29614006e-14\n",
      "  -6.31387438e-14  -3.57513761e-14   2.87791593e-15  -1.54527800e-15\n",
      "  -1.35424651e-13  -1.53548040e-13  -9.06733515e-14  -3.81561887e-14\n",
      "  -1.06413610e-13  -1.78349888e-13  -2.47502185e-13  -1.65426500e-13\n",
      "   9.70106345e-15   1.32105146e-14  -4.40116177e-13  -5.26038272e-13\n",
      "  -3.89258630e-13  -1.73373136e-13  -3.40231948e-13  -6.20188737e-13\n",
      "  -8.92800863e-13  -6.72442967e-13   6.46481733e-14   9.67804640e-15\n",
      "  -1.32388059e-12  -1.59277201e-12  -1.12723505e-12  -5.36130335e-13\n",
      "  -7.21607580e-13  -1.65141538e-12  -2.76897782e-12  -2.18878070e-12\n",
      "  -4.70107390e-13  -4.76093945e-13  -3.54928308e-12  -4.08683509e-12\n",
      "  -3.75361625e-12  -2.16654900e-12  -2.53201772e-12  -3.38235712e-12\n",
      "  -4.81838189e-12  -4.46855804e-12  -1.77834158e-12  -5.65775159e-13\n",
      "  -2.89125801e-12  -5.12224400e-12  -6.49005736e-12  -5.00611500e-12\n",
      "  -2.07587594e-12  -9.35911383e-13  -5.89316721e-12  -7.91847297e-12\n",
      "  -7.24050651e-12  -1.49479496e-12   3.23584993e-12  -2.50295803e-12\n",
      "  -9.48157534e-12  -9.69438241e-12  -4.85717726e-13   4.70899082e-12\n",
      "  -1.28242255e-12  -7.14978945e-12  -1.16300853e-11  -1.43876557e-12\n",
      "   2.01028417e-11   7.33604485e-12  -7.89174901e-12  -1.16826044e-11\n",
      "   1.66358166e-11   1.66959419e-11  -9.44311750e-12  -1.56346611e-11\n",
      "  -3.42964655e-12   9.26982084e-12   2.72771960e-11   1.40070599e-11\n",
      "   2.33454221e-12  -1.06231817e-11   1.99344379e-11   2.34570312e-11\n",
      "  -6.62166648e-11  -5.87042669e-11   7.63104450e-11   6.63427029e-11\n",
      "   3.20492070e-11   2.62778099e-11   1.81984357e-11  -6.85726961e-12\n",
      "   1.82936283e-10   1.18943279e-10  -4.21293374e-10  -3.18826431e-10\n",
      "   4.16863189e-10   3.49073571e-10   3.22280052e-10   2.30692062e-10\n",
      "  -1.82867020e-10  -1.82630423e-10   5.95299498e-10   4.34223412e-10\n",
      "  -2.51835946e-09  -2.00993103e-09   2.04537087e-09   1.73801480e-09\n",
      "   2.00905697e-09   1.66080095e-09  -1.11118140e-11  -5.06726993e-10\n",
      "   3.84801031e-09   3.05507078e-09  -1.42437876e-08  -1.15722466e-08\n",
      "   1.33529073e-08   1.10511849e-08   1.06293139e-08   9.70415213e-09\n",
      "  -5.12713531e-10  -4.19330921e-09   2.11305325e-08   1.69749796e-08\n",
      "  -9.12797860e-08  -7.30340476e-08   8.01247602e-08   6.63359577e-08\n",
      "   5.81574642e-08   5.61188563e-08   3.32360583e-09  -2.27607288e-08\n",
      "   1.30064167e-07   1.02480583e-07  -5.67924584e-07  -4.52056368e-07\n",
      "   5.05314652e-07   4.16115375e-07   3.87082954e-07   3.68594973e-07\n",
      "   2.92860295e-08  -1.36179325e-07   8.22107188e-07   6.48599415e-07\n",
      "  -3.54536106e-06  -2.82099028e-06   3.17695529e-06   2.60997696e-06\n",
      "   2.47134678e-06   2.32365410e-06   1.85757553e-07  -8.46944603e-07\n",
      "   5.16633491e-06   4.08302520e-06  -2.21499943e-05  -1.76324175e-05\n",
      "   1.98012105e-05   1.62803946e-05   1.53413444e-05   1.44516919e-05\n",
      "   1.00767861e-06  -5.39342348e-06   3.21424830e-05   2.54222253e-05\n",
      "  -1.38800638e-04  -1.10422444e-04   1.23510801e-04   1.01618411e-04\n",
      "   9.58347012e-05   9.02680405e-05   6.68755216e-06  -3.34743371e-05\n",
      "   2.01002468e-04   1.58976927e-04  -8.67632138e-04  -6.90071802e-04\n",
      "   7.73032298e-04   6.35725699e-04   5.99414123e-04   5.64339611e-04\n",
      "   4.20982918e-05  -2.08919153e-04   2.08924885e-04  -4.21004554e-05\n",
      "  -5.64354842e-04  -5.99434878e-04  -6.35728158e-04  -7.73009580e-04\n",
      "   6.90062263e-04   8.67628742e-04  -1.58975143e-04  -2.01004501e-04\n",
      "   3.34770209e-05  -6.68897999e-06  -9.02691532e-05  -9.58352723e-05\n",
      "  -1.01605578e-04  -1.23490606e-04   1.10420584e-04   1.38796587e-04\n",
      "  -2.54262232e-05  -3.21462736e-05   5.38787690e-06  -1.01516728e-06\n",
      "  -1.44526154e-05  -1.53429082e-05  -1.62785670e-05  -1.97983109e-05\n",
      "   1.76315899e-05   2.21484266e-05  -4.08234579e-06  -5.16468414e-06\n",
      "   8.46563618e-07  -1.86205051e-07  -2.32484944e-06  -2.47283355e-06\n",
      "  -2.61032275e-06  -3.17793213e-06   2.82135776e-06   3.54552988e-06\n",
      "  -6.48301157e-07  -8.21391777e-07   1.37131537e-07  -2.79339183e-08\n",
      "  -3.68830821e-07  -3.87444419e-07  -4.15725031e-07  -5.04547399e-07\n",
      "   4.51980502e-07   5.67687174e-07  -1.02152321e-07  -1.29357629e-07\n",
      "   2.29469256e-08  -3.12240866e-09  -5.63247436e-08  -5.83970571e-08\n",
      "  -6.62181858e-08  -7.99883445e-08   7.29307918e-08   9.11791892e-08\n",
      "  -1.71207125e-08  -2.13237887e-08   4.10176294e-09   4.17941181e-10\n",
      "  -9.70442298e-09  -1.05779094e-08  -1.09922499e-08  -1.32291204e-08\n",
      "   1.16429829e-08   1.43515038e-08  -2.97047066e-09  -3.71497911e-09\n",
      "   5.70175202e-10   1.12925211e-10  -1.62976726e-09  -1.96433822e-09\n",
      "  -1.75981780e-09  -2.07550787e-09   2.01106280e-09   2.50994339e-09\n",
      "  -4.43612512e-10  -6.09630252e-10   1.88924628e-10   1.91140314e-10\n",
      "  -2.45501919e-10  -3.34065430e-10  -3.58921421e-10  -4.28702926e-10\n",
      "   3.26427113e-10   4.34114632e-10  -1.07075922e-10  -1.63777015e-10\n",
      "   1.84470456e-11  -4.44135974e-12  -2.13877902e-11  -2.52003965e-11\n",
      "  -6.18387298e-11  -6.99266155e-11   5.84758267e-11   6.40546132e-11\n",
      "  -2.21892127e-11  -1.87543320e-11   9.93355855e-12  -2.76485525e-12\n",
      "  -1.36505814e-11  -2.71622134e-11  -7.65084199e-12   5.11308020e-12\n",
      "   1.34288637e-11   6.43613570e-12  -1.66797530e-11  -1.74848434e-11\n",
      "   1.17039824e-11   7.60031814e-12  -7.31006647e-12  -1.98003790e-11\n",
      "   1.16856335e-12   1.13309120e-11   7.17394902e-12   1.10558668e-12\n",
      "  -5.22482775e-12   3.56600699e-14   8.85950270e-12   8.34329999e-12\n",
      "   2.28669654e-12  -3.38088503e-12   1.44411111e-12   7.33798799e-12\n",
      "   7.89316422e-12   5.84310682e-12   9.64801995e-13   2.35744947e-12\n",
      "   4.95128108e-12   6.41720566e-12   5.17427655e-12   2.98531402e-12\n",
      "   4.71385627e-13   1.74716744e-12   4.38157043e-12   4.84743090e-12\n",
      "   3.40943874e-12   2.56627652e-12   2.27102527e-12   3.90145839e-12\n",
      "   4.00137997e-12   3.45222746e-12   4.11728496e-13   4.25497492e-13\n",
      "   2.20595793e-12   2.79443972e-12   1.64871050e-12   6.80644777e-13\n",
      "   4.89815267e-13   1.09264995e-12   1.56164933e-12   1.27382660e-12\n",
      "  -2.68980732e-14  -8.58831313e-14   6.44414414e-13   8.80754568e-13\n",
      "   6.03809265e-13   3.21867125e-13   1.68003179e-13   4.03579441e-13\n",
      "   5.39223604e-13   4.47437410e-13  -8.72210078e-15   3.63439807e-15\n",
      "   1.76839220e-13   2.55459225e-13   1.81693802e-13   1.10396305e-13\n",
      "   4.29804700e-14   9.07040916e-14   1.56711140e-13   1.37749152e-13\n",
      "  -3.80459879e-16  -4.46297882e-15   3.64469272e-14   6.38317556e-14\n",
      "   4.16479461e-14   1.56403520e-14   1.97810805e-15   6.08334179e-15\n",
      "   3.17469117e-14   2.34965238e-14  -2.97151690e-15  -4.84839899e-15\n",
      "   3.31921088e-15   1.19427773e-14   6.57619850e-15  -9.86001829e-16\n",
      "  -1.93193845e-15   1.51390169e-16   2.67691193e-15  -1.38282319e-16\n",
      "  -9.15240488e-16   4.00861798e-18   1.15180789e-15   1.54198458e-15\n",
      "  -6.86101733e-16   2.58155800e-16   7.67731370e-16   9.04389337e-16\n",
      "   1.09655261e-15   6.04097182e-16  -7.74847353e-17   3.04626990e-16\n",
      "   5.82610385e-16  -6.48693109e-16  -5.44540707e-16   2.76748197e-17\n",
      "   3.37806932e-16   3.11340585e-16   3.21443521e-16   4.01532199e-16\n",
      "   5.63469604e-16   6.58043213e-16   5.16588968e-16  -5.74532010e-17\n",
      "  -6.94223314e-17   1.98222537e-17   1.47188548e-16   2.10467409e-17\n",
      "   8.57768056e-18   5.50735824e-18  -4.92164735e-17   6.08540637e-17\n",
      "   8.18180725e-17   2.94527851e-17   4.99422969e-17   2.50526823e-17\n",
      "   8.05523405e-17   9.01303168e-18   1.21458403e-17   4.16278004e-18\n",
      "   1.49145807e-17  -1.74155338e-18  -1.83944384e-18   2.44158052e-18\n",
      "   1.23850431e-18   1.63869553e-19  -6.13951094e-19  -1.49431206e-20\n",
      "  -3.07938389e-19  -2.73393638e-20   1.95094484e-20  -2.21726947e-19]\n"
     ]
    }
   ],
   "source": [
    "print dat[:,1] "
   ]
  },
  {
   "cell_type": "code",
   "execution_count": null,
   "metadata": {},
   "outputs": [],
   "source": []
  }
 ],
 "metadata": {
  "kernelspec": {
   "display_name": "Python 2",
   "language": "python",
   "name": "python2"
  },
  "language_info": {
   "codemirror_mode": {
    "name": "ipython",
    "version": 2
   },
   "file_extension": ".py",
   "mimetype": "text/x-python",
   "name": "python",
   "nbconvert_exporter": "python",
   "pygments_lexer": "ipython2",
   "version": "2.7.15rc1"
  }
 },
 "nbformat": 4,
 "nbformat_minor": 1
}
