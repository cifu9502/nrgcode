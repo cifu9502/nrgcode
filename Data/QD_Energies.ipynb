{
 "cells": [
  {
   "cell_type": "code",
   "execution_count": 61,
   "metadata": {},
   "outputs": [
    {
     "name": "stdout",
     "output_type": "stream",
     "text": [
      "Using matplotlib backend: TkAgg\n",
      "Populating the interactive namespace from numpy and matplotlib\n"
     ]
    }
   ],
   "source": [
    "from __future__ import division \n",
    "#%pylab inline\n",
    "#%matplotlib qt \n",
    "%pylab\n",
    "#%matplotlib notebook\n",
    "#%matplotlib nbagg\n",
    "import matplotlib.ticker as ticker\n",
    "import string\n",
    "import os\n",
    "rcParams.update({'font.size': 33})\n",
    "\n",
    "\n",
    "def plotStates(n, Nsites , numEst):\n",
    "    #n = 5\n",
    "    #output = \"/home/cifucito/nrgcode/TwoChNRG/Data/run\"+str(n)+\"/output_NRG_Code_NRG_main_Model_1chNupPdn_Majorana_Dir\"+str(n)+\".txt\"\n",
    "    #output = \"/home/cifucito/nrgcode/TwoChNRG/Data/run\"+str(n)+\"/output_NRG_Code_NRG_main_Model_1chNupPdn_Majorana_Band_Const_Dir\"+str(n)+\"_zEQ1.txt\"\n",
    "    output = \"/home/cifucito/ML/TwoChNRG/Runs/run\"+str(n)+\"/output_NRG_main_1Dot-Majorana.txt\"\n",
    "    output = \"/home/cifu/nrgcode/Data/run100/output_NRG_Code_NRG_main_Model_1chNupPdn_Majorana_Band_Const_Dir100_zEQ1.txt\"\n",
    "    infile = open(os.path.abspath(output), 'r')\n",
    "    #load the full text by lines\n",
    "    text = infile.readlines()\n",
    "\n",
    "    A = [] # Este sera el alfabeto\n",
    "    \n",
    "    for x in text:\n",
    "        #print(list(x))\n",
    "        a=x.split(' ')\n",
    "        if x.split(' ')[0]=='En':\n",
    "            #En , |n,m> , N\n",
    "            Ens = [float(a[2]),int(a[4]),float(a[6]),int(a[-1].split('\\n')[0])]\n",
    "            A.append(Ens)\n",
    "    A=array(A)  \n",
    "\n",
    "    minEns = zeros((Nsites+1,numEst))\n",
    "    for n in range(0,Nsites+1):\n",
    "        An = A[A[:,3]==n]\n",
    "        An = sorted(An, key=lambda An_entry: An_entry[0])\n",
    "        AnMins = An[0:numEst];\n",
    "        for m in range(0,len(AnMins)):\n",
    "            minEns[n,m] = AnMins[m][0]\n",
    "    for m in range(0,numEst):\n",
    "        plot(range(Nsites+1)[1::2],minEns[1::2,m],'r-');\n",
    "        #plot(range(Nsites+1)[2::2],minEns[0:-1:2,m],'k-');\n",
    "    xlabel('N')\n",
    "    \n",
    "    ylabel('E/D')\n",
    "    #title('Even-site spectrum  ',fontsize=20)\n",
    "    #label_size = 16\n",
    "    #xticks(fontsize=16, rotation=0)\n",
    "    #yticks(fontsize=16, rotation=0)\n",
    "    #xticks(arange(-1,70, step=70))\n",
    "    #yticks(arange(-2000,20000, step=1000))\n",
    "    axis('on')\n",
    "    xticks([])\n",
    "    yticks([])\n",
    " "
   ]
  },
  {
   "cell_type": "code",
   "execution_count": 62,
   "metadata": {},
   "outputs": [],
   "source": [
    "n =100\n",
    "Nsites = 50\n",
    "numEst = 1000\n",
    "plotStates(n, Nsites , numEst)"
   ]
  },
  {
   "cell_type": "code",
   "execution_count": 30,
   "metadata": {},
   "outputs": [
    {
     "ename": "IOError",
     "evalue": "[Errno 2] No such file or directory: '/home/cifucito/ML/TwoChNRG/Runs/run4/output_NRG_main_1Dot-Majorana.txt'",
     "output_type": "error",
     "traceback": [
      "\u001b[0;31m---------------------------------------------------------------------------\u001b[0m",
      "\u001b[0;31mIOError\u001b[0m                                   Traceback (most recent call last)",
      "\u001b[0;32m<ipython-input-30-7cd0a400234c>\u001b[0m in \u001b[0;36m<module>\u001b[0;34m()\u001b[0m\n\u001b[1;32m     29\u001b[0m         \u001b[0merror\u001b[0m\u001b[0;34m.\u001b[0m\u001b[0mappend\u001b[0m\u001b[0;34m(\u001b[0m\u001b[0msqrt\u001b[0m\u001b[0;34m(\u001b[0m\u001b[0msum\u001b[0m\u001b[0;34m(\u001b[0m\u001b[0;34m(\u001b[0m\u001b[0ma1\u001b[0m\u001b[0;34m[\u001b[0m\u001b[0;34m:\u001b[0m\u001b[0;34m,\u001b[0m\u001b[0;36m0\u001b[0m\u001b[0;34m]\u001b[0m\u001b[0;34m+\u001b[0m\u001b[0ma2\u001b[0m\u001b[0;34m[\u001b[0m\u001b[0;34m:\u001b[0m\u001b[0;34m,\u001b[0m\u001b[0;36m0\u001b[0m\u001b[0;34m]\u001b[0m\u001b[0;34m)\u001b[0m\u001b[0;34m**\u001b[0m\u001b[0;36m2\u001b[0m\u001b[0;34m)\u001b[0m\u001b[0;34m)\u001b[0m\u001b[0;34m/\u001b[0m\u001b[0;36m1000\u001b[0m\u001b[0;34m)\u001b[0m\u001b[0;34m\u001b[0m\u001b[0m\n\u001b[1;32m     30\u001b[0m     \u001b[0mplot\u001b[0m\u001b[0;34m(\u001b[0m\u001b[0mrange\u001b[0m\u001b[0;34m(\u001b[0m\u001b[0;34m-\u001b[0m\u001b[0;36m1\u001b[0m\u001b[0;34m,\u001b[0m\u001b[0;36m51\u001b[0m\u001b[0;34m)\u001b[0m \u001b[0;34m,\u001b[0m \u001b[0mlog10\u001b[0m\u001b[0;34m(\u001b[0m\u001b[0merror\u001b[0m\u001b[0;34m)\u001b[0m \u001b[0;34m,\u001b[0m \u001b[0;34m'o'\u001b[0m\u001b[0;34m)\u001b[0m\u001b[0;34m\u001b[0m\u001b[0m\n\u001b[0;32m---> 31\u001b[0;31m \u001b[0mplotError\u001b[0m\u001b[0;34m(\u001b[0m\u001b[0;36m56\u001b[0m\u001b[0;34m)\u001b[0m\u001b[0;34m\u001b[0m\u001b[0m\n\u001b[0m\u001b[1;32m     32\u001b[0m \u001b[0;31m#plotError(57)\u001b[0m\u001b[0;34m\u001b[0m\u001b[0;34m\u001b[0m\u001b[0m\n",
      "\u001b[0;32m<ipython-input-30-7cd0a400234c>\u001b[0m in \u001b[0;36mplotError\u001b[0;34m(n)\u001b[0m\n\u001b[1;32m      6\u001b[0m     \u001b[0moutput\u001b[0m \u001b[0;34m=\u001b[0m \u001b[0;34m\"/home/cifucito/nrgcode/TwoChNRG/Runs/run10/output_NRG_main_Majorana.txt\"\u001b[0m\u001b[0;34m\u001b[0m\u001b[0m\n\u001b[1;32m      7\u001b[0m     \u001b[0moutput\u001b[0m \u001b[0;34m=\u001b[0m \u001b[0;34m\"/home/cifucito/ML/TwoChNRG/Runs/run4/output_NRG_main_1Dot-Majorana.txt\"\u001b[0m\u001b[0;34m\u001b[0m\u001b[0m\n\u001b[0;32m----> 8\u001b[0;31m     \u001b[0minfile\u001b[0m \u001b[0;34m=\u001b[0m \u001b[0mopen\u001b[0m\u001b[0;34m(\u001b[0m\u001b[0mos\u001b[0m\u001b[0;34m.\u001b[0m\u001b[0mpath\u001b[0m\u001b[0;34m.\u001b[0m\u001b[0mabspath\u001b[0m\u001b[0;34m(\u001b[0m\u001b[0moutput\u001b[0m\u001b[0;34m)\u001b[0m\u001b[0;34m,\u001b[0m \u001b[0;34m'r'\u001b[0m\u001b[0;34m)\u001b[0m\u001b[0;34m\u001b[0m\u001b[0m\n\u001b[0m\u001b[1;32m      9\u001b[0m         \u001b[0;31m#load the full text by lines\u001b[0m\u001b[0;34m\u001b[0m\u001b[0;34m\u001b[0m\u001b[0m\n\u001b[1;32m     10\u001b[0m     \u001b[0mtext\u001b[0m \u001b[0;34m=\u001b[0m \u001b[0minfile\u001b[0m\u001b[0;34m.\u001b[0m\u001b[0mreadlines\u001b[0m\u001b[0;34m(\u001b[0m\u001b[0;34m)\u001b[0m\u001b[0;34m\u001b[0m\u001b[0m\n",
      "\u001b[0;31mIOError\u001b[0m: [Errno 2] No such file or directory: '/home/cifucito/ML/TwoChNRG/Runs/run4/output_NRG_main_1Dot-Majorana.txt'"
     ]
    }
   ],
   "source": [
    "n = 59\n",
    "def plotError(n):\n",
    "    Nsites = 50\n",
    "    numEst = 500\n",
    "    #output = \"/home/cifucito/nrgcode/TwoChNRG/Data/run\"+str(n)+\"/output_NRG_Code_NRG_main_Model_1chNupPdn_Majorana_Band_Const_Dir\"+str(n)+\"_zEQ1.txt\"\n",
    "    output = \"/home/cifucito/nrgcode/TwoChNRG/Runs/run10/output_NRG_main_Majorana.txt\"\n",
    "    output = \"/home/cifucito/ML/TwoChNRG/Runs/run4/output_NRG_main_1Dot-Majorana.txt\"\n",
    "    infile = open(os.path.abspath(output), 'r')\n",
    "        #load the full text by lines\n",
    "    text = infile.readlines()\n",
    "\n",
    "    A = [] # Este sera el alfabeto\n",
    "    for x in text:\n",
    "            #print(list(x))\n",
    "        a=x.split(' ')\n",
    "        if x.split(' ')[0]=='En':\n",
    "                #En , |n,m> , N\n",
    "            Ens = [float(a[2]),int(a[4]),float(a[6]),int(a[-1].split('\\n')[0])]\n",
    "            A.append(Ens)\n",
    "    A=array(A)  ; error = []\n",
    "    for Nmen in range(-1,51):\n",
    "        a1 = A[A[:,-1]== Nmen]\n",
    "        a2 = copy(a1)\n",
    "        N = Nmen+3\n",
    "        for i in range(N+1):\n",
    "            #print i , N-i ,N\n",
    "            a2[a1[:,1]==i ] = -a1[a1[:,1]==N-i]  \n",
    "\n",
    "        error.append(sqrt(sum((a1[:,0]+a2[:,0])**2))/1000)\n",
    "    plot(range(-1,51) , log10(error) , 'o')    \n",
    "plotError(56)\n",
    "#plotError(57)"
   ]
  },
  {
   "cell_type": "code",
   "execution_count": 18,
   "metadata": {},
   "outputs": [
    {
     "data": {
      "text/plain": [
       "2"
      ]
     },
     "execution_count": 18,
     "metadata": {},
     "output_type": "execute_result"
    }
   ],
   "source": [
    "np.fmod(5, 3)"
   ]
  },
  {
   "cell_type": "code",
   "execution_count": 59,
   "metadata": {},
   "outputs": [
    {
     "ename": "SyntaxError",
     "evalue": "invalid syntax (<ipython-input-59-689de2af2f1d>, line 1)",
     "output_type": "error",
     "traceback": [
      "\u001b[0;36m  File \u001b[0;32m\"<ipython-input-59-689de2af2f1d>\"\u001b[0;36m, line \u001b[0;32m1\u001b[0m\n\u001b[0;31m    3>2 && 1>5\u001b[0m\n\u001b[0m         ^\u001b[0m\n\u001b[0;31mSyntaxError\u001b[0m\u001b[0;31m:\u001b[0m invalid syntax\n"
     ]
    }
   ],
   "source": [
    "3>2 && 1>5"
   ]
  },
  {
   "cell_type": "code",
   "execution_count": null,
   "metadata": {},
   "outputs": [],
   "source": []
  }
 ],
 "metadata": {
  "kernelspec": {
   "display_name": "Python 2",
   "language": "python",
   "name": "python2"
  },
  "language_info": {
   "codemirror_mode": {
    "name": "ipython",
    "version": 2
   },
   "file_extension": ".py",
   "mimetype": "text/x-python",
   "name": "python",
   "nbconvert_exporter": "python",
   "pygments_lexer": "ipython2",
   "version": "2.7.15rc1"
  }
 },
 "nbformat": 4,
 "nbformat_minor": 1
}
