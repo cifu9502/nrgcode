{
 "metadata": {
  "name": "",
  "signature": "sha256:7c6340b42d208fa40835ba1bebbdcd81c54984dabe78fe3ce6da36087d68a7ec"
 },
 "nbformat": 3,
 "nbformat_minor": 0,
 "worksheets": [
  {
   "cells": [
    {
     "cell_type": "code",
     "collapsed": false,
     "input": [
      "from __future__ import division \n",
      "%pylab inline\n",
      "%matplotlib qt \n",
      "#%matplotlib notebook\n",
      "#%matplotlib nbagg\n",
      "import matplotlib.ticker as ticker\n",
      "import string\n",
      "import os\n",
      "\n",
      "\n",
      "def plotStates(n, Nsites , numEst):\n",
      "    #n = 5\n",
      "    #output = \"/home/cifucito/nrgcode/TwoChNRG/Data/run\"+str(n)+\"/output_NRG_Code_NRG_main_Model_1chNupPdn_Majorana_Dir\"+str(n)+\".txt\"\n",
      "    output = \"/home/cifucito/nrgcode/TwoChNRG/Data/run\"+str(n)+\"/output_NRG_Code_NRG_main_Model_1chNupPdn_Majorana_Band_Const_Dir\"+str(n)+\"_zEQ1.txt\"\n",
      "    #output = \"/home/cifucito/ML/TwoChNRG/Runs/run\"+str(n)+\"/output_NRG_main_1Dot-Majorana.txt\"\n",
      "    infile = open(os.path.abspath(output), 'r')\n",
      "    #load the full text by lines\n",
      "    text = infile.readlines()\n",
      "\n",
      "    A = [] # Este sera el alfabeto\n",
      "    \n",
      "    for x in text:\n",
      "        #print(list(x))\n",
      "        a=x.split(' ')\n",
      "        if x.split(' ')[0]=='En':\n",
      "            #En , |n,m> , N\n",
      "            Ens = [float(a[2]),int(a[4]),float(a[6]),int(a[-1].split('\\n')[0])]\n",
      "            A.append(Ens)\n",
      "    A=array(A)  \n",
      "\n",
      "    minEns = zeros((Nsites+1,numEst))\n",
      "    for n in range(0,Nsites+1):\n",
      "        An = A[A[:,3]==n]\n",
      "        An = sorted(An, key=lambda An_entry: An_entry[0])\n",
      "        AnMins = An[0:numEst];\n",
      "        for m in range(0,len(AnMins)):\n",
      "            minEns[n,m] = AnMins[m][0]\n",
      "    for m in range(0,numEst):\n",
      "        plot(range(Nsites+1)[1::2],minEns[1::2,m],'-');\n",
      "        #plot(range(Nsites+1)[2::2],minEns[0:-1:2,m],'--');\n",
      "    xlabel('Iteration Number(N)',fontsize=18)\n",
      "    ylabel('Energy Espectrum ',fontsize=18)\n",
      "    title('Espectrum Evolution ',fontsize=20)\n",
      "    #label_size = 16\n",
      "    xticks(fontsize=16, rotation=0)\n",
      "    yticks(fontsize=16, rotation=0)"
     ],
     "language": "python",
     "metadata": {},
     "outputs": [
      {
       "output_type": "stream",
       "stream": "stdout",
       "text": [
        "Populating the interactive namespace from numpy and matplotlib\n"
       ]
      }
     ],
     "prompt_number": 2
    },
    {
     "cell_type": "code",
     "collapsed": false,
     "input": [
      "n =169\n",
      "Nsites = 60\n",
      "numEst = 100\n",
      "plotStates(n, Nsites , numEst)"
     ],
     "language": "python",
     "metadata": {},
     "outputs": [],
     "prompt_number": 4
    },
    {
     "cell_type": "code",
     "collapsed": false,
     "input": [
      "n = 59\n",
      "def plotError(n):\n",
      "    Nsites = 50\n",
      "    numEst = 500\n",
      "    #output = \"/home/cifucito/nrgcode/TwoChNRG/Data/run\"+str(n)+\"/output_NRG_Code_NRG_main_Model_1chNupPdn_Majorana_Band_Const_Dir\"+str(n)+\"_zEQ1.txt\"\n",
      "    output = \"/home/cifucito/nrgcode/TwoChNRG/Runs/run10/output_NRG_main_Majorana.txt\"\n",
      "    output = \"/home/cifucito/ML/TwoChNRG/Runs/run4/output_NRG_main_1Dot-Majorana.txt\"\n",
      "    infile = open(os.path.abspath(output), 'r')\n",
      "        #load the full text by lines\n",
      "    text = infile.readlines()\n",
      "\n",
      "    A = [] # Este sera el alfabeto\n",
      "    for x in text:\n",
      "            #print(list(x))\n",
      "        a=x.split(' ')\n",
      "        if x.split(' ')[0]=='En':\n",
      "                #En , |n,m> , N\n",
      "            Ens = [float(a[2]),int(a[4]),float(a[6]),int(a[-1].split('\\n')[0])]\n",
      "            A.append(Ens)\n",
      "    A=array(A)  ; error = []\n",
      "    for Nmen in range(-1,51):\n",
      "        a1 = A[A[:,-1]== Nmen]\n",
      "        a2 = copy(a1)\n",
      "        N = Nmen+3\n",
      "        for i in range(N+1):\n",
      "            #print i , N-i ,N\n",
      "            a2[a1[:,1]==i ] = -a1[a1[:,1]==N-i]  \n",
      "\n",
      "        error.append(sqrt(sum((a1[:,0]+a2[:,0])**2))/1000)\n",
      "    plot(range(-1,51) , log10(error) , 'o')    \n",
      "plotError(56)\n",
      "#plotError(57)"
     ],
     "language": "python",
     "metadata": {},
     "outputs": [
      {
       "ename": "ValueError",
       "evalue": "shape mismatch: value array of shape (0,4) could not be broadcast to indexing result of shape (4,4)",
       "output_type": "pyerr",
       "traceback": [
        "\u001b[0;31m---------------------------------------------------------------------------\u001b[0m\n\u001b[0;31mValueError\u001b[0m                                Traceback (most recent call last)",
        "\u001b[0;32m<ipython-input-25-3e6bf2d4c2da>\u001b[0m in \u001b[0;36m<module>\u001b[0;34m()\u001b[0m\n\u001b[1;32m     29\u001b[0m         \u001b[0merror\u001b[0m\u001b[0;34m.\u001b[0m\u001b[0mappend\u001b[0m\u001b[0;34m(\u001b[0m\u001b[0msqrt\u001b[0m\u001b[0;34m(\u001b[0m\u001b[0msum\u001b[0m\u001b[0;34m(\u001b[0m\u001b[0;34m(\u001b[0m\u001b[0ma1\u001b[0m\u001b[0;34m[\u001b[0m\u001b[0;34m:\u001b[0m\u001b[0;34m,\u001b[0m\u001b[0;36m0\u001b[0m\u001b[0;34m]\u001b[0m\u001b[0;34m+\u001b[0m\u001b[0ma2\u001b[0m\u001b[0;34m[\u001b[0m\u001b[0;34m:\u001b[0m\u001b[0;34m,\u001b[0m\u001b[0;36m0\u001b[0m\u001b[0;34m]\u001b[0m\u001b[0;34m)\u001b[0m\u001b[0;34m**\u001b[0m\u001b[0;36m2\u001b[0m\u001b[0;34m)\u001b[0m\u001b[0;34m)\u001b[0m\u001b[0;34m/\u001b[0m\u001b[0;36m1000\u001b[0m\u001b[0;34m)\u001b[0m\u001b[0;34m\u001b[0m\u001b[0m\n\u001b[1;32m     30\u001b[0m     \u001b[0mplot\u001b[0m\u001b[0;34m(\u001b[0m\u001b[0mrange\u001b[0m\u001b[0;34m(\u001b[0m\u001b[0;34m-\u001b[0m\u001b[0;36m1\u001b[0m\u001b[0;34m,\u001b[0m\u001b[0;36m51\u001b[0m\u001b[0;34m)\u001b[0m \u001b[0;34m,\u001b[0m \u001b[0mlog10\u001b[0m\u001b[0;34m(\u001b[0m\u001b[0merror\u001b[0m\u001b[0;34m)\u001b[0m \u001b[0;34m,\u001b[0m \u001b[0;34m'o'\u001b[0m\u001b[0;34m)\u001b[0m\u001b[0;34m\u001b[0m\u001b[0m\n\u001b[0;32m---> 31\u001b[0;31m \u001b[0mplotError\u001b[0m\u001b[0;34m(\u001b[0m\u001b[0;36m56\u001b[0m\u001b[0;34m)\u001b[0m\u001b[0;34m\u001b[0m\u001b[0m\n\u001b[0m\u001b[1;32m     32\u001b[0m \u001b[0;31m#plotError(57)\u001b[0m\u001b[0;34m\u001b[0m\u001b[0;34m\u001b[0m\u001b[0m\n",
        "\u001b[0;32m<ipython-input-25-3e6bf2d4c2da>\u001b[0m in \u001b[0;36mplotError\u001b[0;34m(n)\u001b[0m\n\u001b[1;32m     25\u001b[0m         \u001b[0;32mfor\u001b[0m \u001b[0mi\u001b[0m \u001b[0;32min\u001b[0m \u001b[0mrange\u001b[0m\u001b[0;34m(\u001b[0m\u001b[0mN\u001b[0m\u001b[0;34m+\u001b[0m\u001b[0;36m1\u001b[0m\u001b[0;34m)\u001b[0m\u001b[0;34m:\u001b[0m\u001b[0;34m\u001b[0m\u001b[0m\n\u001b[1;32m     26\u001b[0m             \u001b[0;31m#print i , N-i ,N\u001b[0m\u001b[0;34m\u001b[0m\u001b[0;34m\u001b[0m\u001b[0m\n\u001b[0;32m---> 27\u001b[0;31m             \u001b[0ma2\u001b[0m\u001b[0;34m[\u001b[0m\u001b[0ma1\u001b[0m\u001b[0;34m[\u001b[0m\u001b[0;34m:\u001b[0m\u001b[0;34m,\u001b[0m\u001b[0;36m1\u001b[0m\u001b[0;34m]\u001b[0m\u001b[0;34m==\u001b[0m\u001b[0mi\u001b[0m \u001b[0;34m]\u001b[0m \u001b[0;34m=\u001b[0m \u001b[0;34m-\u001b[0m\u001b[0ma1\u001b[0m\u001b[0;34m[\u001b[0m\u001b[0ma1\u001b[0m\u001b[0;34m[\u001b[0m\u001b[0;34m:\u001b[0m\u001b[0;34m,\u001b[0m\u001b[0;36m1\u001b[0m\u001b[0;34m]\u001b[0m\u001b[0;34m==\u001b[0m\u001b[0mN\u001b[0m\u001b[0;34m-\u001b[0m\u001b[0mi\u001b[0m\u001b[0;34m]\u001b[0m\u001b[0;34m\u001b[0m\u001b[0m\n\u001b[0m\u001b[1;32m     28\u001b[0m \u001b[0;34m\u001b[0m\u001b[0m\n\u001b[1;32m     29\u001b[0m         \u001b[0merror\u001b[0m\u001b[0;34m.\u001b[0m\u001b[0mappend\u001b[0m\u001b[0;34m(\u001b[0m\u001b[0msqrt\u001b[0m\u001b[0;34m(\u001b[0m\u001b[0msum\u001b[0m\u001b[0;34m(\u001b[0m\u001b[0;34m(\u001b[0m\u001b[0ma1\u001b[0m\u001b[0;34m[\u001b[0m\u001b[0;34m:\u001b[0m\u001b[0;34m,\u001b[0m\u001b[0;36m0\u001b[0m\u001b[0;34m]\u001b[0m\u001b[0;34m+\u001b[0m\u001b[0ma2\u001b[0m\u001b[0;34m[\u001b[0m\u001b[0;34m:\u001b[0m\u001b[0;34m,\u001b[0m\u001b[0;36m0\u001b[0m\u001b[0;34m]\u001b[0m\u001b[0;34m)\u001b[0m\u001b[0;34m**\u001b[0m\u001b[0;36m2\u001b[0m\u001b[0;34m)\u001b[0m\u001b[0;34m)\u001b[0m\u001b[0;34m/\u001b[0m\u001b[0;36m1000\u001b[0m\u001b[0;34m)\u001b[0m\u001b[0;34m\u001b[0m\u001b[0m\n",
        "\u001b[0;31mValueError\u001b[0m: shape mismatch: value array of shape (0,4) could not be broadcast to indexing result of shape (4,4)"
       ]
      }
     ],
     "prompt_number": 25
    },
    {
     "cell_type": "code",
     "collapsed": false,
     "input": [
      "np.fmod(5, 3)"
     ],
     "language": "python",
     "metadata": {},
     "outputs": [
      {
       "metadata": {},
       "output_type": "pyout",
       "prompt_number": 18,
       "text": [
        "2"
       ]
      }
     ],
     "prompt_number": 18
    },
    {
     "cell_type": "code",
     "collapsed": false,
     "input": [
      "3>2 && 1>5"
     ],
     "language": "python",
     "metadata": {},
     "outputs": [
      {
       "ename": "SyntaxError",
       "evalue": "invalid syntax (<ipython-input-59-689de2af2f1d>, line 1)",
       "output_type": "pyerr",
       "traceback": [
        "\u001b[0;36m  File \u001b[0;32m\"<ipython-input-59-689de2af2f1d>\"\u001b[0;36m, line \u001b[0;32m1\u001b[0m\n\u001b[0;31m    3>2 && 1>5\u001b[0m\n\u001b[0m         ^\u001b[0m\n\u001b[0;31mSyntaxError\u001b[0m\u001b[0;31m:\u001b[0m invalid syntax\n"
       ]
      }
     ],
     "prompt_number": 59
    },
    {
     "cell_type": "code",
     "collapsed": false,
     "input": [],
     "language": "python",
     "metadata": {},
     "outputs": []
    }
   ],
   "metadata": {}
  }
 ]
}