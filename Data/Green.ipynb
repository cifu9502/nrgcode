{
 "cells": [
  {
   "cell_type": "code",
   "execution_count": 1,
   "metadata": {},
   "outputs": [
    {
     "name": "stdout",
     "output_type": "stream",
     "text": [
      "Using matplotlib backend: TkAgg\n",
      "Populating the interactive namespace from numpy and matplotlib\n"
     ]
    },
    {
     "data": {
      "text/plain": [
       "0.08880999688359521"
      ]
     },
     "execution_count": 1,
     "metadata": {},
     "output_type": "execute_result"
    }
   ],
   "source": [
    "#from __future__ import division \n",
    "%pylab \n",
    "# inline\n",
    "import string\n",
    "# %matplotlib qt \n",
    "#%matplotlib notebook\n",
    "#%matplotlib nbagg\n",
    "import matplotlib.ticker as ticker\n",
    "from mpl_toolkits.axes_grid1.inset_locator import inset_axes\n",
    "from mpl_toolkits.axes_grid1.inset_locator import zoomed_inset_axes, mark_inset\n",
    "import os\n",
    "\n",
    "txt = 'run'\n",
    "#txt = 'OldData/run'\n",
    "txt2 = '/rho_'\n",
    "inp ='/input_nrg.dat'\n",
    "densPath = '/home/cifucito/nrgcode/TwoChNRG/Images/Density/run'\n",
    "\n",
    "\n",
    "\n",
    "rcParams.update({'font.size': 30})\n",
    "rc(\"text\", usetex = True)\n",
    "rc(\"font\", family = \"serif\")\n",
    "#rcParams['figure.subplot.hspace'] = 0.3\n",
    "rcParams['figure.subplot.wspace'] = 0.1\n",
    "from scipy.interpolate import griddata\n",
    "from scipy.optimize import curve_fit\n",
    "from scipy import interpolate\n",
    "mpl.rcParams['lines.linewidth'] = 2\n",
    "Gamma = 2.82691*0.01\n",
    "pi*Gamma\n"
   ]
  },
  {
   "cell_type": "code",
   "execution_count": 2,
   "metadata": {},
   "outputs": [],
   "source": [
    "#read files for folder ini and dot \n",
    "#return\n",
    "def readfile(ini, dot):\n",
    "        output = txt+repr(ini)+txt2 +repr(dot)+'_'+repr(dot)+'_OmegaRhow_zEQAVG.00.dat'\n",
    "        \n",
    "        #output = txt+repr(ini)+txt2 +repr(dot)+'_'+repr(dot)+'_OmegaRhow.dat'\n",
    "        #output = 'NotSoOld_Data/'+txt+repr(ini)+txt2 +repr(dot)+'_'+repr(dot)+'_OmegaRhow.dat'\n",
    "        #output = 'OldData/'+txt+repr(ini)+txt2 +repr(dot)+'_'+repr(dot)+'_OmegaRhow.dat'\n",
    "        infile = open(os.path.abspath(output), 'r')\n",
    "        text = infile.readlines()\n",
    "        #Data managemente\n",
    "        vec = [];        vec2 = []  \n",
    "        for x in text:\n",
    "            #print(list(x))\n",
    "            a =x.split(' ') ;            vec.append(float(a[-3]))\n",
    "            vec2.append(float(a[0]))\n",
    "        #if j%20 == 1 : vec = vec[::-1];\n",
    "        DOS= array(vec) ; w = array(vec2) \n",
    "        return DOS , w\n",
    "    \n",
    "zvec = ['0.60','0.80','1.00','1.20','1.40']    \n",
    "def readfileZ(ini, dot, Ztrick):\n",
    "        output = txt+repr(ini)+txt2 +repr(dot)+'_'+repr(dot)+'_OmegaRhow_zEQ'+zvec[Ztrick]+'.dat'\n",
    "        #output = txt+repr(ini)+txt2 +repr(dot)+'_'+repr(dot)+'_OmegaRhow.dat'\n",
    "        infile = open(os.path.abspath(output), 'r')\n",
    "        text = infile.readlines()\n",
    "        #Data managemente\n",
    "        vec = [];        vec2 = []  \n",
    "        for x in text:\n",
    "            #print(list(x))\n",
    "            a =x.split(' ') ;            vec.append(float(a[-3]))\n",
    "            vec2.append(float(a[0]))\n",
    "        #if j%20 == 1 : vec = vec[::-1];\n",
    "        DOS= array(vec) ; w = array(vec2) \n",
    "        return DOS , w    \n",
    "    \n",
    "#returns the parameter value of file ini  at the given line    \n",
    "def readfile_Param(ini, line):\n",
    "        #output = txt+repr(ini)+txt2 +repr(dot)+'_'+repr(dot)+'_OmegaRhow_zEQAVG.00.dat'\n",
    "        output = txt+repr(ini)+ inp \n",
    "        #output = '/home/cifucito/nrgcode/TwoChNRG/src/Main/Run/Run2DOtM/rho_2_2_OmegaRhow.dat'\n",
    "        infile = open(os.path.abspath(output), 'r')\n",
    "        text = infile.readlines()\n",
    "        return  float(text[line])    \n",
    "    \n",
    "    \n",
    "#Define the log transform. \n",
    "#Inputs : w -- vector to transform ,  maxi- max(-log(w)) usually 10\n",
    "def LogTransform(w, maxi):\n",
    "    logw = zeros(size(w)) ; logw[w<0] = log10(-w[w<0]) ; logw[w>0] = log10(w[w>0]) \n",
    "    logw = -logw ;  #print \"b\" , logw\n",
    "    logw[size(logw)/2:] = -logw[size(logw)/2:]+ 2*maxi\n",
    "    logw =  logw -maxi\n",
    "    return logw     \n"
   ]
  },
  {
   "cell_type": "code",
   "execution_count": 3,
   "metadata": {},
   "outputs": [
    {
     "name": "stdout",
     "output_type": "stream",
     "text": [
      "1.0495\n"
     ]
    }
   ],
   "source": [
    " \n",
    "def find_nearest(array, value):\n",
    "    array = asarray(array)\n",
    "    idx = (abs(array - value)).argmin()\n",
    "    return idx\n",
    "\n",
    "def integrate(N, w, rho , A):\n",
    "    r = random.rand( 3, N) ;\n",
    "    sum = 0 \n",
    "    for n in range(N):\n",
    "        i1 =  find_nearest( w, A*r[0,n]) \n",
    "        add = 1 if r[1,n]<rho[i1] else 0\n",
    "        sum = add + sum\n",
    "    return  A*sum/float(N)   \n",
    "\n",
    "i = 350\n",
    "dot = 3\n",
    "\n",
    "rho, w = readfile(i, dot)\n",
    "#rho1, w1 = readfile(100+i, dot)\n",
    "#rho = 0.5*(rho +rho1)\n",
    "rho = rho*Gamma*pi ; w = w/Gamma\n",
    "plot(w, rho)\n",
    "\n",
    "\n",
    "N = 100000\n",
    "\n",
    "\n",
    "plot(w,rho)\n",
    "Int = 0\n",
    "for i in range(20):\n",
    "    Int = Int + integrate(N, w, rho,100)\n",
    "print Int/20.0    \n"
   ]
  },
  {
   "cell_type": "code",
   "execution_count": 5,
   "metadata": {},
   "outputs": [],
   "source": [
    "LIMSX = 10\n",
    "def readMath(  title):\n",
    "    #infile = open(os.path.abspath('Gamma1=0.0282691,Gamma2=0,tdots=0.02,t1=0,t2=0.02'), 'r')\n",
    "    #infile = open(os.path.abspath('Gamma1=0.0282691,Gamma2=0,tdots=0.02,t1=0.02,t2=0.'), 'r')\n",
    "    infile = open(os.path.abspath( title ), 'r')\n",
    "    text = infile.readlines()\n",
    "    Green = []\n",
    "    for x in text:\n",
    "         Green.append(pi*Gamma*float(x.split('\\n')[0]))\n",
    "    #return linspace(-10,10,500), array(Green)/(pi*Gamma)\n",
    "    return linspace(-LIMSX,LIMSX,500), array(Green)\n",
    "    #ax.plot(linspace(-10*Gamma,10*Gamma,500),Green, label = 'Green')\n",
    "    #return linspace(-10*Gamma,10*Gamma,500),Green\n",
    "    #plot(linspace(-10*Gamma,10*Gamma,500),Green, label = 'Green')\n",
    "    #plot(linspace(-10,10,500),Green, label = 'Green')\n",
    "#plot(Green)\n",
    "\n",
    "def plotMath( ax , title , lb , style,col):\n",
    "    w , Green = readMath( title)\n",
    "    Green = Green#/(pi*Gamma)\n",
    "    NLN = 4\n",
    "    \n",
    "    if col == 'no':\n",
    "        if lb == '':\n",
    "            if col == 'b' or style == ':':\n",
    "                ax.plot(linspace(-LIMSX,LIMSX,500),Green, ls = style , linewidth=NLN)\n",
    "            else:\n",
    "                ax.plot(linspace(-LIMSX,LIMSX,500),Green, ls = style ) \n",
    "        else :\n",
    "            if col == 'b' or style == ':':\n",
    "                ax.plot(linspace(-LIMSX,LIMSX,500),Green, label = lb,ls = style,  linewidth=NLN)\n",
    "            else:\n",
    "                ax.plot(linspace(-LIMSX,LIMSX,500),Green, label = lb,ls = style)\n",
    "            \n",
    "    else:\n",
    "        if lb == '':\n",
    "            if col == 'b'or style == ':' :\n",
    "                ax.plot(linspace(-LIMSX,LIMSX,500),Green, ls = style , color = col, linewidth=NLN)\n",
    "            else:\n",
    "                ax.plot(linspace(-LIMSX,LIMSX,500),Green, ls = style , color = col) \n",
    "\n",
    "        else :\n",
    "            if col == 'b' or style == ':':\n",
    "                ax.plot(linspace(-LIMSX,LIMSX,500),Green, label = lb,ls = style, color = col , linewidth=NLN)\n",
    "            else:\n",
    "                ax.plot(linspace(-LIMSX,LIMSX,500),Green, label = lb,ls = style, color = col)\n",
    "            \n",
    "        \n",
    "\n",
    "def plotOneDot(ax,i , dot , SUM , Reverse): #U=8.6 \\Gamma_1 \n",
    "    vec , w = readfile(i, dot)\n",
    "    NLN = 4\n",
    "    if Reverse:\n",
    "        vec = vec[::-1]\n",
    "    if SUM :\n",
    "        rho , vec2 = readfile(i+10, dot) \n",
    "        if Reverse:\n",
    "            rho = rho[::-1]\n",
    "        vec = 0.5*(rho+vec)\n",
    "    #vec = vec#*pi*Gamma#*Hib\n",
    "    spin = '\\uparrow' if dot%2!=1 else '\\downarrow'\n",
    "    ln = 'b-' if dot%2!=1 else 'r-'\n",
    "            #plot DOS\n",
    "    p0 = vec[w>0][0]\n",
    "    print p0*pi*Gamma*2   \n",
    "    #plot(w/(Gamma*0.8),vec*pi*Gamma/0.944036503513, 'o',label= '$'  +spin + '$') \n",
    "    if dot%2 == 0 :\n",
    "        ax.plot(w/Gamma,Gamma*pi*vec, ln,label= '$ '  +spin + '$' ,  linewidth=NLN)\n",
    "    else:\n",
    "        ax.plot(w/Gamma,Gamma*pi*vec, ln,label= '$ '  +spin + '$' )\n",
    "#plotOneDot(22 , 0)\n",
    "#plotOneDot(22 , 1)\n",
    "#plotOneDot(22 , 2)\n",
    "#plotOneDot(22, 3)\n",
    "#plot(linspace(-10*Gamma,10*Gamma,500),Green, label = 'Green')\n",
    "#readMath('DQD')\n",
    "#readMath('Gamma1=0.0282691,Gamma2=0,tdots=0.02,t1=0,t2=0.02')\n",
    "#xlim(-20,20)\n",
    "#legend(fontsize=17, loc='lower right')\n",
    "\n",
    "\n",
    "title = '/home/cifucito/nrgcode/TwoChNRG/Data/Green/Gamma1=2.,Gamma2=0.,tdots=0.,t1=5.,t2=0.,em=0.,e1=0.,e2=0..dat'\n",
    "#readMath(title)"
   ]
  },
  {
   "cell_type": "code",
   "execution_count": 6,
   "metadata": {},
   "outputs": [],
   "source": [
    "G2 = 1 ; tdots = 0 ;  t1 = 1 ; t2 = 1 ; em = 0 ; e1 = 0 ;e2 = 0\n",
    "title = 'd1/Gamma1=2.,Gamma2='+repr(int(G2*2) ) +'.,tdots='+repr(int(tdots*2))+'.,t1='+repr(int(2*t1))+'.,t2='+ repr(int(2*t2))+'.,em='+repr(int(2*em))+'.,e1='+repr(int(2*e1))+'.,e2='+repr(int(2*e2))+'..dat'\n",
    "\n",
    "#readMath(title)"
   ]
  },
  {
   "cell_type": "code",
   "execution_count": null,
   "metadata": {},
   "outputs": [],
   "source": []
  },
  {
   "cell_type": "code",
   "execution_count": 7,
   "metadata": {},
   "outputs": [
    {
     "ename": "NameError",
     "evalue": "name 'ax' is not defined",
     "output_type": "error",
     "traceback": [
      "\u001b[0;31m---------------------------------------------------------------------------\u001b[0m",
      "\u001b[0;31mNameError\u001b[0m                                 Traceback (most recent call last)",
      "\u001b[0;32m<ipython-input-7-2ca2567cc408>\u001b[0m in \u001b[0;36m<module>\u001b[0;34m()\u001b[0m\n\u001b[0;32m----> 1\u001b[0;31m \u001b[0mplotOneDot\u001b[0m\u001b[0;34m(\u001b[0m\u001b[0max\u001b[0m\u001b[0;34m,\u001b[0m \u001b[0;36m101\u001b[0m \u001b[0;34m,\u001b[0m \u001b[0;36m0\u001b[0m \u001b[0;34m,\u001b[0m \u001b[0mFalse\u001b[0m\u001b[0;34m)\u001b[0m\u001b[0;34m\u001b[0m\u001b[0m\n\u001b[0m\u001b[1;32m      2\u001b[0m \u001b[0mplotOneDot\u001b[0m\u001b[0;34m(\u001b[0m\u001b[0max\u001b[0m\u001b[0;34m,\u001b[0m \u001b[0;36m101\u001b[0m \u001b[0;34m,\u001b[0m \u001b[0;36m1\u001b[0m \u001b[0;34m,\u001b[0m \u001b[0mFalse\u001b[0m\u001b[0;34m)\u001b[0m\u001b[0;34m\u001b[0m\u001b[0m\n\u001b[1;32m      3\u001b[0m \u001b[0mw\u001b[0m \u001b[0;34m=\u001b[0m \u001b[0;34m\"35%\"\u001b[0m\u001b[0;34m\u001b[0m\u001b[0m\n\u001b[1;32m      4\u001b[0m \u001b[0mh\u001b[0m \u001b[0;34m=\u001b[0m \u001b[0;34m\"35%\"\u001b[0m\u001b[0;34m\u001b[0m\u001b[0m\n\u001b[1;32m      5\u001b[0m \u001b[0mpos\u001b[0m \u001b[0;34m=\u001b[0m \u001b[0;34m(\u001b[0m\u001b[0;36m0\u001b[0m\u001b[0;34m,\u001b[0m \u001b[0;36m0\u001b[0m\u001b[0;34m,\u001b[0m \u001b[0;36m1.03\u001b[0m\u001b[0;34m,\u001b[0m \u001b[0;36m1.3\u001b[0m\u001b[0;34m)\u001b[0m\u001b[0;34m\u001b[0m\u001b[0m\n",
      "\u001b[0;31mNameError\u001b[0m: name 'ax' is not defined"
     ]
    }
   ],
   "source": [
    "plotOneDot(ax, 101 , 0 , False)\n",
    "plotOneDot(ax, 101 , 1 , False)\n",
    "w = \"35%\" \n",
    "h = \"35%\" \n",
    "pos = (0, 0, 1.03, 1.3)\n",
    "axins = inset_axes(ax,  width=w, height=h, bbox_to_anchor=pos,loc=7, bbox_transform=ax.transAxes )\n",
    "plotOneDot(axins,101 , 0, False)\n",
    "plotOneDot(axins,101 , 1, False)\n",
    "#     axins.set_frame_on(False)\n",
    "#     axins.get_xaxis().set_visible(False)\n",
    "#     axins.get_yaxis().set_visible(False)\n",
    "ax.set_ylim(0,1.05)\n",
    "ax.set_xlim(-12,12)\n",
    "axins.set_xlim(-0.8,0.8)\n",
    "ax.set_yticks(arange(0,1.2, step=.5))\n",
    "axins.set_xticks(arange(-0.7,0.9, step=.7))\n",
    "axins.set_yticks(arange(0,1.2, step=.5))\n",
    "\n",
    "pos = (0, 0, 1.03, 1.3)\n",
    "axmod = inset_axes(ax,  width=w, height=h, bbox_to_anchor=pos,loc=6, bbox_transform=ax.transAxes )\n",
    "image = imread('QD1.png',  format='png') ; axmod.imshow(image)\n",
    "axmod.set_frame_on(False) ; axmod.get_xaxis().set_visible(False) ; axmod.get_yaxis().set_visible(False)"
   ]
  },
  {
   "cell_type": "code",
   "execution_count": 17,
   "metadata": {},
   "outputs": [
    {
     "name": "stdout",
     "output_type": "stream",
     "text": [
      "1.72525130383\n"
     ]
    },
    {
     "data": {
      "text/plain": [
       "[]"
      ]
     },
     "execution_count": 17,
     "metadata": {},
     "output_type": "execute_result"
    }
   ],
   "source": [
    "f, ax = subplots(1, 1, sharex='col', sharey='row', figsize=(7, 5))\n",
    "plotOneDot(ax,100 , 1, False,False)\n",
    "ax.set_xlabel('$\\omega$',fontsize=50)\n",
    "ax.set_ylabel('$\\\\rho$',fontsize=50)\n",
    "ax.set_xticks([])\n",
    "ax.set_yticks([])\n"
   ]
  },
  {
   "cell_type": "code",
   "execution_count": 18,
   "metadata": {
    "scrolled": true
   },
   "outputs": [
    {
     "name": "stdout",
     "output_type": "stream",
     "text": [
      "1.88604649031\n",
      "0.943023637165\n",
      "1.88604649031\n",
      "0.943023637165\n"
     ]
    },
    {
     "data": {
      "text/plain": [
       "<matplotlib.legend.Legend at 0x7fb2c75f7f10>"
      ]
     },
     "execution_count": 18,
     "metadata": {},
     "output_type": "execute_result"
    }
   ],
   "source": [
    "\n",
    "\n",
    "def plotFullDot(ax, IM , num , dot , SUM , INSET, Reverse):\n",
    "    plotOneDot(ax,  num , dot , SUM , Reverse)\n",
    "    plotOneDot(ax,  num , dot+1 , SUM , Reverse)\n",
    "    \n",
    "    \n",
    "#     ax.set_ylim(0,1.05);    ax.set_xlim(-12,12)\n",
    "#     ax.set_yticks(arange(0,1.2, step=.5))\n",
    "    \n",
    "    if INSET : \n",
    "        w = \"30%\" ; h = \"30%\"  ; pos = (0.006, 0.01, 1.02, 1.4)\n",
    "        axins = inset_axes(ax,  width=w, height=h, bbox_to_anchor=pos,loc=7, bbox_transform=ax.transAxes )\n",
    "        \n",
    "        plotOneDot(axins,num , dot , SUM , Reverse)\n",
    "        plotOneDot(axins,num , dot+1 , SUM , Reverse)\n",
    "        \n",
    "        \n",
    "#         Normal settings\n",
    "        axins.set_xlim(-0.8,0.8) ; axins.set_ylim(0,1.05)\n",
    "        axins.set_xticks(arange(-0.7,0.9, step=.7))\n",
    "#         axins.set_yticks(arange(0,1.2, step=.5))\n",
    "#         axins.set_xlim(-1.1,1.1) ; axins.set_ylim(0,0.26)\n",
    "\n",
    "#       t1>0\n",
    "#         axins.set_ylim(0,0.03)\n",
    "#         axins.set_xlim(-0.11,0.11)\n",
    "        \n",
    "#         axins.set_xticks(arange(-.1,.11, step=.2))\n",
    "#         setp(axins.get_xticklabels(), fontsize=23)\n",
    "        \n",
    "#         setp(axins.get_yticklabels(), fontsize=23)\n",
    "#         axins.set_yticks(arange(0,0.032, step=.03))\n",
    "\n",
    "\n",
    "#         axins.set_xticks([])\n",
    "#         axins.set_yticks([])\n",
    "        \n",
    "        \n",
    "        \n",
    "        axins.set_yticks(arange(0,.3, step=.2))\n",
    "        axins.set_xticks(arange(-1,1.1, step=1))\n",
    "        axins.set_yticks(arange(0,.3, step=.2))\n",
    "#     ax.set_xlabel('$\\omega/ \\Gamma_1$')\n",
    "#     ax.set_ylabel('$$\\\\rho \\pi \\Gamma_1 $')\n",
    "    \n",
    "    if IM!='':\n",
    "        w = \"75%\" ; h = \"75%\" ;pos = (0, 0, .3, 1.1)\n",
    "        axmod = inset_axes(ax,  width=w, height=h, bbox_to_anchor=pos,loc=6, bbox_transform=ax.transAxes )\n",
    "        image = imread(IM,  format='png') ; axmod.imshow(image)\n",
    "        axmod.set_frame_on(False) ; axmod.get_xaxis().set_visible(False) ; axmod.get_yaxis().set_visible(False)\n",
    "\n",
    "        \n",
    "f, ax = subplots(1, 1, sharex='col', sharey='row', figsize=(7, 5))\n",
    "# plotFullDot(ax, 'DQDM.png', 330 , 0 , True , True , False)\n",
    "#plotFullDot(ax, 'QD1.png', 365 , 1 , False , True , False)\n",
    "\n",
    "plotFullDot(ax, 'QD1.png', 101 , 0 , False , True , False)\n",
    "# ax.set_ylim(0,1);    ax.set_xlim(-12,12)\n",
    "# ax.set_yticks(arange(0,1.2, step=.5))\n",
    "# ax.set_ylim(0,.26);    ax.set_xlim(-12,12)\n",
    "# ax.set_yticks(arange(0,.3, step=.2))\n",
    "\n",
    "ax.set_yticks(arange(0,1.2, step=.5))\n",
    "ax.set_ylim(0,1.26);    ax.set_xlim(-12,12)\n",
    "# ax.set_yticks(arange(0,.3, step=.2))\n",
    "\n",
    "ax.set_xlabel('$\\omega/ \\Gamma_1$')\n",
    "ax.set_ylabel('$\\\\rho_1 \\pi \\Gamma_1 = \\\\rho_2 \\pi \\Gamma_1 $')\n",
    "ax.legend(fontsize=23 , loc='upper left')\n",
    "#plotFullDot(ax, 'QD1.png', 101 , 0 , False)"
   ]
  },
  {
   "cell_type": "code",
   "execution_count": null,
   "metadata": {},
   "outputs": [],
   "source": []
  },
  {
   "cell_type": "code",
   "execution_count": 6,
   "metadata": {},
   "outputs": [
    {
     "name": "stdout",
     "output_type": "stream",
     "text": [
      "0.465489732115\n",
      "0.232820028583\n",
      "0.465489732259\n",
      "0.232820028703\n",
      "0.225448406562\n",
      "0.415186458954\n",
      "0.173917474989\n",
      "0.109071378648\n",
      "0.17430603102\n",
      "0.109071381271\n",
      "0.225944125146\n",
      "0.415186446974\n",
      "0 0 (a)\n",
      "0 1 (b)\n",
      "1 0 (c)\n",
      "1 1 (d)\n",
      "2 0 (e)\n",
      "2 1 (f)\n"
     ]
    },
    {
     "ename": "NameError",
     "evalue": "name 'DrawInsets' is not defined",
     "output_type": "error",
     "traceback": [
      "\u001b[0;31m---------------------------------------------------------------------------\u001b[0m",
      "\u001b[0;31mNameError\u001b[0m                                 Traceback (most recent call last)",
      "\u001b[0;32m<ipython-input-6-5dd0b09fe598>\u001b[0m in \u001b[0;36m<module>\u001b[0;34m()\u001b[0m\n\u001b[1;32m     85\u001b[0m \u001b[0;34m\u001b[0m\u001b[0m\n\u001b[1;32m     86\u001b[0m \u001b[0;31m# t1=t2\u001b[0m\u001b[0;34m\u001b[0m\u001b[0;34m\u001b[0m\u001b[0m\n\u001b[0;32m---> 87\u001b[0;31m \u001b[0mDrawInsets\u001b[0m\u001b[0;34m(\u001b[0m\u001b[0maxarr\u001b[0m\u001b[0;34m,\u001b[0m \u001b[0;36m0\u001b[0m \u001b[0;34m,\u001b[0m  \u001b[0;34m'D3.png'\u001b[0m \u001b[0;34m,\u001b[0m \u001b[0;34m'D2V1.png'\u001b[0m \u001b[0;34m,\u001b[0m \u001b[0;34m'D1V2.png'\u001b[0m\u001b[0;34m)\u001b[0m\u001b[0;34m\u001b[0m\u001b[0m\n\u001b[0m\u001b[1;32m     88\u001b[0m \u001b[0;34m\u001b[0m\u001b[0m\n\u001b[1;32m     89\u001b[0m \u001b[0;31m# t2>0\u001b[0m\u001b[0;34m\u001b[0m\u001b[0;34m\u001b[0m\u001b[0m\n",
      "\u001b[0;31mNameError\u001b[0m: name 'DrawInsets' is not defined"
     ]
    }
   ],
   "source": [
    "#SuperPlot of Mathematica files. 6 plots in one shot\n",
    "numRows = 3\n",
    "numCols = 2\n",
    "\n",
    "# t2>0\n",
    "num = [350 , 356, 366]\n",
    "# t1>0\n",
    "# num = [370 , 376, 385]\n",
    "#t1=t2\n",
    "num = [330 , 335, 335]\n",
    "rcParams['figure.subplot.wspace'] = 0.04\n",
    "rcParams['figure.subplot.hspace'] = 0.1\n",
    "rcParams['figure.subplot.bottom'] = 0.14\n",
    "rcParams['figure.subplot.right'] = 0.98\n",
    "rcParams['figure.subplot.left'] = 0.18\n",
    "rcParams['figure.subplot.top'] = 0.92\n",
    "\n",
    "#f, axarr = subplots(numRows, numCols, sharex='col', sharey='row', figsize=(7, 5))\n",
    "f, axarr = subplots(numRows, numCols, sharex='col', sharey='row', figsize=(7.5, 6.5))\n",
    "for i in range(numRows):\n",
    "    for j in range(numCols):\n",
    "#         print i, j\n",
    "#         if (i == 0) & (j == 1) :\n",
    "#            print i , j\n",
    "# #            plotFullDot(axarr[i,j],'', num[i] , j*2 , False, True , False) \n",
    "#            plotFullDot(axarr[i,j],'', num[i] , j*2 , False, False , False) \n",
    "#         else:\n",
    "#             if i < 2 :\n",
    "#                 plotFullDot(axarr[i,j],'', num[i] , j*2 , False, False , False)\n",
    "#             else:\n",
    "#                 plotFullDot(axarr[i,j],'', num[i] , j*2 , False, False , True)\n",
    "\n",
    "# t1 = t2\n",
    "\n",
    "        if i == 0 :\n",
    "            plotFullDot(axarr[i,j],'', num[i] , j*2 , True, False , False)\n",
    "        elif i == 1:\n",
    "            plotFullDot(axarr[i,j],'', num[i] , 2 - j*2 , True, False , False)\n",
    "        else:\n",
    "            plotFullDot(axarr[i,j],'', num[i] , j*2 , True, False , True)\n",
    "        \n",
    "        axarr[2,j].set_xlabel('$\\omega/ \\Gamma_1$')\n",
    "        axarr[i,0].set_ylabel('$$\\\\rho \\pi \\Gamma_1 $')\n",
    "        \n",
    "#  t1=t2\n",
    "        axarr[i,j].set_xlim(-3,3)\n",
    "        \n",
    "        axarr[i,j].set_ylim(0,0.45)\n",
    "        axarr[i,0].set_yticks(arange(0,0.45, step=0.2))\n",
    "        axarr[0,j].set_ylim(0,0.3)\n",
    "        axarr[0,0].set_yticks(arange(0,0.25, step=.2))\n",
    "\n",
    "# t1>0\n",
    "#         axarr[i,j].set_xlim(-3,3)\n",
    "#         axarr[0,j].set_ylim(0,0.3)\n",
    "#         axarr[1,j].set_ylim(0,0.6)\n",
    "#         axarr[2,j].set_ylim(0,0.6)\n",
    "        \n",
    "        \n",
    "#         axarr[0,0].set_yticks(arange(0,0.3, step=.2))\n",
    "#         axarr[1,0].set_yticks(arange(0,0.6, step=.5))\n",
    "#         axarr[2,0].set_yticks(arange(0,0.6, step=0.5))\n",
    "\n",
    "# t2>0\n",
    "#         axarr[i,j].set_xlim(-3,3)\n",
    "#         axarr[0,j].set_ylim(0,0.6)\n",
    "#         axarr[1,j].set_ylim(0,0.6)\n",
    "#         axarr[2,j].set_ylim(0,0.6)\n",
    "        \n",
    "        \n",
    "#         axarr[0,0].set_yticks(arange(0,0.6, step=.5))\n",
    "#         axarr[1,0].set_yticks(arange(0,0.6, step=.5))\n",
    "#         axarr[2,0].set_yticks(arange(0,0.6, step=0.5))\n",
    "\n",
    "\n",
    "\n",
    "        axarr[0,0].set_title('Dot 1')\n",
    "        axarr[0,1].set_title('Dot 2')\n",
    "        \n",
    "for num,b in enumerate(('(a)', '(b)', '(c)', '(d)', '(e)','(f)')):\n",
    "    print num/2 , num%2 , b\n",
    "    axarr[num/2,num%2].text(0.05, 0.9, b, transform=axarr[num/2,num%2].transAxes, fontweight='bold', va='top')\n",
    "    \n",
    "rcParams.update({'figure.figsize': (500,500)}) \n",
    "\n",
    "# t1=t2\n",
    "DrawInsets(axarr, 0 ,  'D3.png' , 'D2V1.png' , 'D1V2.png')\n",
    "\n",
    "# t2>0\n",
    "# DrawInsets(axarr, 0 ,  'D3.png' , 'D1V1.png' , 'D1V2.png')\n",
    "\n",
    "# t1>0\n",
    "# DrawInsets(axarr, 0 ,  'D2.png' , 'D1V1.png' , 'D1V2.png')\n",
    "#for i in range(3):\n",
    "axarr[0,1].legend(fontsize=17, loc='upper right')"
   ]
  },
  {
   "cell_type": "code",
   "execution_count": null,
   "metadata": {},
   "outputs": [],
   "source": []
  },
  {
   "cell_type": "code",
   "execution_count": null,
   "metadata": {},
   "outputs": [],
   "source": []
  },
  {
   "cell_type": "code",
   "execution_count": null,
   "metadata": {},
   "outputs": [],
   "source": []
  },
  {
   "cell_type": "code",
   "execution_count": 8,
   "metadata": {},
   "outputs": [
    {
     "ename": "IOError",
     "evalue": "[Errno 2] No such file or directory: '/home/cifu/nrgcode/Data/d2/Gamma1=2.,Gamma2=8.,tdots=0.,t1=0.,t2=0.,em=0.,e1=0.,e2=0..dat'",
     "output_type": "error",
     "traceback": [
      "\u001b[0;31m---------------------------------------------------------------------------\u001b[0m",
      "\u001b[0;31mIOError\u001b[0m                                   Traceback (most recent call last)",
      "\u001b[0;32m<ipython-input-8-89da89f25924>\u001b[0m in \u001b[0;36m<module>\u001b[0;34m()\u001b[0m\n\u001b[1;32m     21\u001b[0m \u001b[0mG2\u001b[0m \u001b[0;34m=\u001b[0m \u001b[0;36m0\u001b[0m \u001b[0;34m;\u001b[0m \u001b[0mtdots\u001b[0m \u001b[0;34m=\u001b[0m \u001b[0;36m0\u001b[0m \u001b[0;34m;\u001b[0m  \u001b[0mt1\u001b[0m \u001b[0;34m=\u001b[0m \u001b[0;36m0\u001b[0m \u001b[0;34m;\u001b[0m \u001b[0mt2\u001b[0m \u001b[0;34m=\u001b[0m \u001b[0;36m0\u001b[0m \u001b[0;34m;\u001b[0m \u001b[0mem\u001b[0m \u001b[0;34m=\u001b[0m \u001b[0;36m0\u001b[0m \u001b[0;34m;\u001b[0m \u001b[0me1\u001b[0m \u001b[0;34m=\u001b[0m \u001b[0;36m0\u001b[0m \u001b[0;34m;\u001b[0m\u001b[0me2\u001b[0m \u001b[0;34m=\u001b[0m \u001b[0;36m0\u001b[0m\u001b[0;34m\u001b[0m\u001b[0m\n\u001b[1;32m     22\u001b[0m \u001b[0;32mfor\u001b[0m \u001b[0mG2\u001b[0m \u001b[0;32min\u001b[0m \u001b[0marray\u001b[0m\u001b[0;34m(\u001b[0m\u001b[0;34m[\u001b[0m\u001b[0;36m0\u001b[0m\u001b[0;34m,\u001b[0m\u001b[0;36m0.5\u001b[0m\u001b[0;34m,\u001b[0m\u001b[0;36m1\u001b[0m\u001b[0;34m,\u001b[0m\u001b[0;36m4\u001b[0m\u001b[0;34m]\u001b[0m\u001b[0;34m)\u001b[0m\u001b[0;34m:\u001b[0m\u001b[0;34m\u001b[0m\u001b[0m\n\u001b[0;32m---> 23\u001b[0;31m     \u001b[0mPlot2Tits\u001b[0m\u001b[0;34m(\u001b[0m\u001b[0maxarr\u001b[0m \u001b[0;34m,\u001b[0m \u001b[0mG2\u001b[0m \u001b[0;34m,\u001b[0m\u001b[0mtdots\u001b[0m\u001b[0;34m,\u001b[0m\u001b[0mt1\u001b[0m \u001b[0;34m,\u001b[0m\u001b[0mt2\u001b[0m \u001b[0;34m,\u001b[0m\u001b[0mem\u001b[0m\u001b[0;34m,\u001b[0m \u001b[0me1\u001b[0m \u001b[0;34m,\u001b[0m\u001b[0me2\u001b[0m \u001b[0;34m,\u001b[0m \u001b[0;34m'$\\Gamma_2 ='\u001b[0m\u001b[0;34m+\u001b[0m\u001b[0mrepr\u001b[0m\u001b[0;34m(\u001b[0m\u001b[0mG2\u001b[0m\u001b[0;34m)\u001b[0m\u001b[0;34m+\u001b[0m\u001b[0;34m'\\Gamma_1$'\u001b[0m\u001b[0;34m)\u001b[0m\u001b[0;34m\u001b[0m\u001b[0m\n\u001b[0m\u001b[1;32m     24\u001b[0m \u001b[0;34m\u001b[0m\u001b[0m\n\u001b[1;32m     25\u001b[0m \u001b[0;31m#for tdots in array([1,2,4]):\u001b[0m\u001b[0;34m\u001b[0m\u001b[0;34m\u001b[0m\u001b[0m\n",
      "\u001b[0;32m<ipython-input-8-89da89f25924>\u001b[0m in \u001b[0;36mPlot2Tits\u001b[0;34m(axarr, G2, tdots, t1, t2, em, e1, e2, lb)\u001b[0m\n\u001b[1;32m      9\u001b[0m \u001b[0;32mdef\u001b[0m \u001b[0mPlot2Tits\u001b[0m\u001b[0;34m(\u001b[0m\u001b[0maxarr\u001b[0m \u001b[0;34m,\u001b[0m \u001b[0mG2\u001b[0m \u001b[0;34m,\u001b[0m\u001b[0mtdots\u001b[0m\u001b[0;34m,\u001b[0m\u001b[0mt1\u001b[0m \u001b[0;34m,\u001b[0m\u001b[0mt2\u001b[0m \u001b[0;34m,\u001b[0m\u001b[0mem\u001b[0m\u001b[0;34m,\u001b[0m \u001b[0me1\u001b[0m \u001b[0;34m,\u001b[0m\u001b[0me2\u001b[0m \u001b[0;34m,\u001b[0m \u001b[0mlb\u001b[0m\u001b[0;34m)\u001b[0m\u001b[0;34m:\u001b[0m\u001b[0;34m\u001b[0m\u001b[0m\n\u001b[1;32m     10\u001b[0m     \u001b[0mtits\u001b[0m \u001b[0;34m=\u001b[0m \u001b[0mDefineTitles\u001b[0m\u001b[0;34m(\u001b[0m\u001b[0mG2\u001b[0m \u001b[0;34m,\u001b[0m\u001b[0mtdots\u001b[0m\u001b[0;34m,\u001b[0m\u001b[0mt1\u001b[0m \u001b[0;34m,\u001b[0m\u001b[0mt2\u001b[0m \u001b[0;34m,\u001b[0m\u001b[0mem\u001b[0m\u001b[0;34m,\u001b[0m \u001b[0me1\u001b[0m \u001b[0;34m,\u001b[0m\u001b[0me2\u001b[0m\u001b[0;34m)\u001b[0m\u001b[0;34m\u001b[0m\u001b[0m\n\u001b[0;32m---> 11\u001b[0;31m     \u001b[0mplotMath\u001b[0m\u001b[0;34m(\u001b[0m\u001b[0maxarr\u001b[0m\u001b[0;34m[\u001b[0m\u001b[0;36m0\u001b[0m\u001b[0;34m]\u001b[0m\u001b[0;34m,\u001b[0m\u001b[0mtits\u001b[0m\u001b[0;34m[\u001b[0m\u001b[0;36m1\u001b[0m\u001b[0;34m]\u001b[0m\u001b[0;34m,\u001b[0m\u001b[0;34m''\u001b[0m \u001b[0;34m,\u001b[0m \u001b[0;34m'-'\u001b[0m\u001b[0;34m,\u001b[0m \u001b[0;34m'b'\u001b[0m\u001b[0;34m)\u001b[0m\u001b[0;34m\u001b[0m\u001b[0m\n\u001b[0m\u001b[1;32m     12\u001b[0m \u001b[0;34m\u001b[0m\u001b[0m\n\u001b[1;32m     13\u001b[0m     \u001b[0mplotMath\u001b[0m\u001b[0;34m(\u001b[0m\u001b[0maxarr\u001b[0m\u001b[0;34m[\u001b[0m\u001b[0;36m0\u001b[0m\u001b[0;34m]\u001b[0m\u001b[0;34m,\u001b[0m\u001b[0mtits\u001b[0m\u001b[0;34m[\u001b[0m\u001b[0;36m0\u001b[0m\u001b[0;34m]\u001b[0m\u001b[0;34m,\u001b[0m\u001b[0;34m''\u001b[0m\u001b[0;34m,\u001b[0m \u001b[0;34m'--'\u001b[0m \u001b[0;34m,\u001b[0m \u001b[0;34m'r'\u001b[0m\u001b[0;34m)\u001b[0m\u001b[0;34m\u001b[0m\u001b[0m\n",
      "\u001b[0;32m<ipython-input-5-d976d3bd90ce>\u001b[0m in \u001b[0;36mplotMath\u001b[0;34m(ax, title, lb, style, col)\u001b[0m\n\u001b[1;32m     17\u001b[0m \u001b[0;34m\u001b[0m\u001b[0m\n\u001b[1;32m     18\u001b[0m \u001b[0;32mdef\u001b[0m \u001b[0mplotMath\u001b[0m\u001b[0;34m(\u001b[0m \u001b[0max\u001b[0m \u001b[0;34m,\u001b[0m \u001b[0mtitle\u001b[0m \u001b[0;34m,\u001b[0m \u001b[0mlb\u001b[0m \u001b[0;34m,\u001b[0m \u001b[0mstyle\u001b[0m\u001b[0;34m,\u001b[0m\u001b[0mcol\u001b[0m\u001b[0;34m)\u001b[0m\u001b[0;34m:\u001b[0m\u001b[0;34m\u001b[0m\u001b[0m\n\u001b[0;32m---> 19\u001b[0;31m     \u001b[0mw\u001b[0m \u001b[0;34m,\u001b[0m \u001b[0mGreen\u001b[0m \u001b[0;34m=\u001b[0m \u001b[0mreadMath\u001b[0m\u001b[0;34m(\u001b[0m \u001b[0mtitle\u001b[0m\u001b[0;34m)\u001b[0m\u001b[0;34m\u001b[0m\u001b[0m\n\u001b[0m\u001b[1;32m     20\u001b[0m     \u001b[0mGreen\u001b[0m \u001b[0;34m=\u001b[0m \u001b[0mGreen\u001b[0m\u001b[0;31m#/(pi*Gamma)\u001b[0m\u001b[0;34m\u001b[0m\u001b[0m\n\u001b[1;32m     21\u001b[0m     \u001b[0mNLN\u001b[0m \u001b[0;34m=\u001b[0m \u001b[0;36m4\u001b[0m\u001b[0;34m\u001b[0m\u001b[0m\n",
      "\u001b[0;32m<ipython-input-5-d976d3bd90ce>\u001b[0m in \u001b[0;36mreadMath\u001b[0;34m(title)\u001b[0m\n\u001b[1;32m      3\u001b[0m     \u001b[0;31m#infile = open(os.path.abspath('Gamma1=0.0282691,Gamma2=0,tdots=0.02,t1=0,t2=0.02'), 'r')\u001b[0m\u001b[0;34m\u001b[0m\u001b[0;34m\u001b[0m\u001b[0m\n\u001b[1;32m      4\u001b[0m     \u001b[0;31m#infile = open(os.path.abspath('Gamma1=0.0282691,Gamma2=0,tdots=0.02,t1=0.02,t2=0.'), 'r')\u001b[0m\u001b[0;34m\u001b[0m\u001b[0;34m\u001b[0m\u001b[0m\n\u001b[0;32m----> 5\u001b[0;31m     \u001b[0minfile\u001b[0m \u001b[0;34m=\u001b[0m \u001b[0mopen\u001b[0m\u001b[0;34m(\u001b[0m\u001b[0mos\u001b[0m\u001b[0;34m.\u001b[0m\u001b[0mpath\u001b[0m\u001b[0;34m.\u001b[0m\u001b[0mabspath\u001b[0m\u001b[0;34m(\u001b[0m \u001b[0mtitle\u001b[0m \u001b[0;34m)\u001b[0m\u001b[0;34m,\u001b[0m \u001b[0;34m'r'\u001b[0m\u001b[0;34m)\u001b[0m\u001b[0;34m\u001b[0m\u001b[0m\n\u001b[0m\u001b[1;32m      6\u001b[0m     \u001b[0mtext\u001b[0m \u001b[0;34m=\u001b[0m \u001b[0minfile\u001b[0m\u001b[0;34m.\u001b[0m\u001b[0mreadlines\u001b[0m\u001b[0;34m(\u001b[0m\u001b[0;34m)\u001b[0m\u001b[0;34m\u001b[0m\u001b[0m\n\u001b[1;32m      7\u001b[0m     \u001b[0mGreen\u001b[0m \u001b[0;34m=\u001b[0m \u001b[0;34m[\u001b[0m\u001b[0;34m]\u001b[0m\u001b[0;34m\u001b[0m\u001b[0m\n",
      "\u001b[0;31mIOError\u001b[0m: [Errno 2] No such file or directory: '/home/cifu/nrgcode/Data/d2/Gamma1=2.,Gamma2=8.,tdots=0.,t1=0.,t2=0.,em=0.,e1=0.,e2=0..dat'"
     ]
    }
   ],
   "source": [
    "def DefineTitles(G2 ,tdots,t1 ,t2 ,em, e1 ,e2):\n",
    "    title1 = 'd1/Gamma1=2.,Gamma2='+repr(int(G2*2) ) +'.,tdots='+repr(int(tdots*2))+'.,t1='+repr(int(2*t1))+'.,t2='+ repr(int(2*t2))+'.,em='+repr(int(2*em))+'.,e1='+repr(int(2*e1))+'.,e2='+repr(int(2*e2))+'..dat'\n",
    "    title2 = 'd2/Gamma1=2.,Gamma2='+repr(int(G2*2) ) +'.,tdots='+repr(int(tdots*2))+'.,t1='+repr(int(2*t1))+'.,t2='+ repr(int(2*t2))+'.,em='+repr(int(2*em))+'.,e1='+repr(int(2*e1))+'.,e2='+repr(int(2*e2))+'..dat'\n",
    "    title3 = 'd3/Gamma1=2.,Gamma2='+repr(int(G2*2) ) +'.,tdots='+repr(int(tdots*2))+'.,t1='+repr(int(2*t1))+'.,t2='+ repr(int(2*t2))+'.,em='+repr(int(2*em))+'.,e1='+repr(int(2*e1))+'.,e2='+repr(int(2*e2))+'..dat'\n",
    "    title4 = 'd4/Gamma1=2.,Gamma2='+repr(int(G2*2) ) +'.,tdots='+repr(int(tdots*2))+'.,t1='+repr(int(2*t1))+'.,t2='+ repr(int(2*t2))+'.,em='+repr(int(2*em))+'.,e1='+repr(int(2*e1))+'.,e2='+repr(int(2*e2))+'..dat'\n",
    "    return title1 , title2, title3 , title4\n",
    "\n",
    "\n",
    "def Plot2Tits(axarr , G2 ,tdots,t1 ,t2 ,em, e1 ,e2 , lb):\n",
    "    tits = DefineTitles(G2 ,tdots,t1 ,t2 ,em, e1 ,e2)\n",
    "    plotMath(axarr[0],tits[1],'' , '-', 'b')\n",
    "   \n",
    "    plotMath(axarr[0],tits[0],'', '--' , 'r')\n",
    "    \n",
    "    plotMath(axarr[1],tits[3],' $  \\uparrow$ ' + lb , '-', 'b')\n",
    "    plotMath(axarr[1],tits[2],' $\\downarrow$ '+ lb , '--' , 'r')\n",
    "\n",
    "\n",
    "f, axarr = subplots(1, 2, sharex='col', sharey='row', figsize=(9, 4))\n",
    "\n",
    "G2 = 0 ; tdots = 0 ;  t1 = 0 ; t2 = 0 ; em = 0 ; e1 = 0 ;e2 = 0\n",
    "for G2 in array([0,0.5,1,4]):\n",
    "    Plot2Tits(axarr , G2 ,tdots,t1 ,t2 ,em, e1 ,e2 , '$\\Gamma_2 ='+repr(G2)+'\\Gamma_1$')\n",
    "    \n",
    "#for tdots in array([1,2,4]):\n",
    "#    Plot2Tits(axarr , 0 ,tdots,t1 ,t2 ,em, e1 ,e2 , '$t_{dots}='+repr(tdots)+'\\Gamma_1$')      \n",
    "#\n",
    "\n",
    "\n",
    "\n",
    "#plotMath(axarr[0],tits[1],'Spin-$\\uparrow$', '-')\n",
    "#plotMath(axarr[1],tits[3],'Spin-$\\uparrow$', '-')\n",
    "#for t1 in array([1,2,3.5]):\n",
    "#    Plot2Tits(axarr , 0 ,1,t1 ,t2 ,em, e1 ,e2 , '$t_{1}='+repr(t1)+'\\Gamma_1$')      \n",
    "#\n",
    "\n",
    "#for t2 in array([1,2,3.5]):\n",
    "#    Plot2Tits(axarr , 0 ,1,t1 ,t2 ,em, e1 ,e2 , '$t_{2}='+repr(t2)+'\\Gamma_1$')      \n",
    "#\n",
    "\n",
    "G2 = 0 ; tdots = 0 ;  t1 = 0 ; t2 = 0 ; em = 0 ; e1 = 0 ;e2 = 0\n",
    "#for G2 in array([0,0.5,1,4]):\n",
    "#Plot2Tits(axarr , G2 ,1, 0,2 ,em, 0 , 0 , '')\n",
    "#Plot2Tits(axarr , G2 ,1, 2,0 ,em, 0 , 5 , '')\n",
    "Plot2Tits(axarr , 1 ,0, 1,1 ,em, 0 , 6 , '')\n",
    "\n",
    "\n",
    "axarr[0].set_ylim(0,12)\n",
    "axarr[0].set_xlim(-LIMSX,LIMSX)\n",
    "axarr[1].set_xlim(-LIMSX,LIMSX)\n",
    "axarr[0].set_title('Dot 1')\n",
    "axarr[1].set_title('Dot 2')\n",
    "axarr[0].set_xlabel('$\\omega/ \\Gamma_1$')\n",
    "axarr[1].set_xlabel('$\\omega/ \\Gamma_1$')\n",
    "axarr[0].set_ylabel('DOS')\n",
    "axarr[1].legend(fontsize=18 , loc='upper right' )\n",
    "axarr[0].set_xticks((-8,-4,0,4,8))\n",
    "axarr[1].set_xticks((-8,-4,0,4,8))\n",
    "axarr[0].set_yticks((0,5,10))"
   ]
  },
  {
   "cell_type": "code",
   "execution_count": 8,
   "metadata": {},
   "outputs": [
    {
     "data": {
      "text/plain": [
       "[<matplotlib.axis.XTick at 0x7fd203c4cfd0>,\n",
       " <matplotlib.axis.XTick at 0x7fd203c62150>,\n",
       " <matplotlib.axis.XTick at 0x7fd208247210>,\n",
       " <matplotlib.axis.XTick at 0x7fd208242310>,\n",
       " <matplotlib.axis.XTick at 0x7fd208242a10>]"
      ]
     },
     "execution_count": 8,
     "metadata": {},
     "output_type": "execute_result"
    }
   ],
   "source": [
    "axarr[1].legend(fontsize=20, loc='upper left' )\n",
    "#axarr[0].set_yticks((0,5,10,15))\n",
    "axarr[0].set_xticks((-8,-4,0,4,8))\n",
    "axarr[1].set_xticks((-8,-4,0,4,8))\n",
    "#axarr[0].set_yticks((0,3,6,9,12))"
   ]
  },
  {
   "cell_type": "code",
   "execution_count": 270,
   "metadata": {},
   "outputs": [],
   "source": []
  },
  {
   "cell_type": "code",
   "execution_count": 9,
   "metadata": {},
   "outputs": [],
   "source": [
    "#SuperPlot of Mathematica files. 6 plots in one shot\n",
    "def Plot4Tits(axarr , G2 ,tdots,t1 ,t2 , lb ):\n",
    "    tits = DefineTitles(G2 ,tdots,t1 ,t2 ,0, 0 ,0)\n",
    "    plotMath(axarr[0,0],tits[1],'\\uparrow' , '-', 'b')\n",
    "    plotMath(axarr[0,0],tits[0],'\\downarrow', '-' , 'r')\n",
    "    plotMath(axarr[0,1],tits[3],' $  \\uparrow$ ' + lb , '-', 'b')\n",
    "    plotMath(axarr[0,1],tits[2],' $\\downarrow$ '+ lb , '-' , 'r')\n",
    "    tits = DefineTitles(G2 ,tdots,t1 ,t2 ,0, 5 ,0)\n",
    "    plotMath(axarr[1,0],tits[1],'\\uparrow' , '-', 'b')\n",
    "    plotMath(axarr[1,0],tits[0],'\\downarrow', '-' , 'r')\n",
    "    plotMath(axarr[1,1],tits[3],' $  \\uparrow$ ' + lb , '-', 'b')\n",
    "    plotMath(axarr[1,1],tits[2],' $\\downarrow$ '+ lb , '-' , 'r')\n",
    "    tits = DefineTitles(G2 ,tdots,t1 ,t2 ,0, 0 ,-5)\n",
    "    plotMath(axarr[2,0],tits[1],'\\uparrow' , '-', 'b')\n",
    "    plotMath(axarr[2,0],tits[0],'\\downarrow', '-' , 'r')\n",
    "    plotMath(axarr[2,1],tits[3],' $  \\uparrow$ ' + lb , '-', 'b')\n",
    "    plotMath(axarr[2,1],tits[2],' $\\downarrow$ '+ lb , '-' , 'r')    \n",
    "    \n",
    "#SuperPlot of Mathematica files. 6 plots in one shot. More flexibility and inner for.     \n",
    "def PlotNewARR(axarr , lb ):\n",
    "    lt = [':','--','-']\n",
    "    \n",
    "    G2 = 0 ; tdots = 0 ; t1 = 0 ; t2 = 0\n",
    "    for n in range(3):\n",
    "        Gvec = [0,1,2] ;  G2 = Gvec[n] \n",
    "        tits = DefineTitles(G2 ,tdots,t1 ,t2 ,0, 0 ,0)\n",
    "        print \"G2 =\" + repr(G2) +  ', tdots =' +repr(tdots) + ', t1 =' +repr(t1) +  ', t2 =' + repr(t2)\n",
    "        plotMath(axarr[0,0],tits[1],'' , lt[n], 'no')\n",
    "        #plotMath(axarr[0,0],tits[0],'', '-' , 'no')\n",
    "        plotMath(axarr[0,1],tits[3],'$\\Gamma_2 = ' + repr(G2) + '\\Gamma_1$', lt[n], 'no')\n",
    "        #plotMath(axarr[0,1],tits[2],' $\\downarrow$ '+ lb , '-' , 'no')\n",
    "         \n",
    "    \n",
    "    G2 = 0 ; tdots = 0 ; t1 = 0 ; t2 = 0\n",
    "    for n in range(3):\n",
    "        tdvec = [0,1,2] ;  tdots = tdvec[n] \n",
    "        tits = DefineTitles(G2 ,tdots,t1 ,t2 ,0, 0 ,0)\n",
    "        print \"G2 =\" + repr(G2) +  ', tdots =' +repr(tdots) + ', t1 =' +repr(t1) +  ', t2 =' + repr(t2)\n",
    "        plotMath(axarr[1,0],tits[1],'' , lt[n], 'no')\n",
    "#         plotMath(axarr[0,0],tits[0],'', '-' , 'r')\n",
    "        plotMath(axarr[1,1],tits[3],'$t_{dots} = ' + repr(tdots) + '\\Gamma_1$' , lt[n], 'no')\n",
    "#         plotMath(axarr[0,1],tits[2],' $\\downarrow$ '+ lb , '-' , 'r')\n",
    "        \n",
    "    \n",
    "    G2 = 1 ; tdots = 0 ; t1 = 0 ; t2 = 0\n",
    "    for n in range(3):\n",
    "        tdvec = [0,1,3] ;  tdots = tdvec[n]\n",
    "        tits = DefineTitles(G2 ,tdots,t1 ,t2 ,0, 0 ,0)\n",
    "        print \"G2 =\" + repr(G2) +  ', tdots =' +repr(tdots) + ', t1 =' +repr(t1) +  ', t2 =' + repr(t2)\n",
    "        plotMath(axarr[2,0],tits[1],'' , lt[n], 'no')\n",
    "#         plotMath(axarr[0,0],tits[0],'', '-' , 'r')\n",
    "        plotMath(axarr[2,1],tits[3],'$t_{dots} = ' + repr(tdots) + '\\Gamma_1$' , lt[n], 'no')\n",
    "#         plotMath(axarr[0,1],tits[2],' $\\downarrow$ '+ lb , '-' , 'r')\n",
    "\n",
    "def DrawInsets(axarr , column , im1 , im2 , im3):\n",
    "    \n",
    "#     w = \"50%\" \n",
    "#     h = \"40%\" \n",
    "#     pos = (0, 0, 1.2, 1.25)\n",
    "    pos = (0, 0, 1.31, 1.25)\n",
    "    pos2 = (0, 0, 1.25, 1.25)\n",
    "    w = \"60%\" \n",
    "    h = \"50%\" \n",
    "    \n",
    "    \n",
    "    axins0 = inset_axes(axarr[0,column], width=w, height=h, bbox_to_anchor=pos,loc=7, bbox_transform=axarr[0,column].transAxes )\n",
    "    axins0.set_frame_on(False)\n",
    "    axins0.get_xaxis().set_visible(False)\n",
    "    axins0.get_yaxis().set_visible(False)\n",
    "    \n",
    "    pos = pos2\n",
    "    axins1 = inset_axes(axarr[1,column],  width=w, height=h, bbox_to_anchor=pos,loc=7, bbox_transform=axarr[1,column].transAxes )\n",
    "    axins1.set_frame_on(False)\n",
    "    axins1.get_xaxis().set_visible(False)\n",
    "    axins1.get_yaxis().set_visible(False)\n",
    "\n",
    "    axins2 = inset_axes(axarr[2,column],  width=w, height=h, bbox_to_anchor=pos,loc=7, bbox_transform=axarr[2,column].transAxes )\n",
    "    axins2.set_frame_on(False)\n",
    "    axins2.get_xaxis().set_visible(False)\n",
    "    axins2.get_yaxis().set_visible(False)\n",
    "    \n",
    "    image = imread(im1,  format='png')\n",
    "    axins0.imshow(image)\n",
    "\n",
    "    image = imread(im2,  format='png')\n",
    "    axins1.imshow(image)\n",
    "\n",
    "    image = imread(im3 ,  format='png')\n",
    "    axins2.imshow(image)\n",
    "    \n",
    "#     image = imread('D3.png')\n",
    "#     axins0.imshow(image)\n",
    "\n",
    "#     image = imread('D2.png')\n",
    "#     axins1.imshow(image)\n",
    "\n",
    "#     image = imread('D1.png')\n",
    "#     axins2.imshow(image)\n",
    "#axins.set_visible(False)\n",
    "# , bbox_to_anchor=(0.4,0.1)\n",
    "# axins = axarr[2,1].inset_axes([0.5, 0.5, 0.47, 0.47])      \n",
    "\n",
    "        "
   ]
  },
  {
   "cell_type": "code",
   "execution_count": null,
   "metadata": {},
   "outputs": [],
   "source": []
  },
  {
   "cell_type": "code",
   "execution_count": 97,
   "metadata": {},
   "outputs": [
    {
     "name": "stdout",
     "output_type": "stream",
     "text": [
      "AxesSubplot(0.18,0.67625;0.392157x0.24375)\n",
      "0 0 (a)\n",
      "0 1 (b)\n",
      "1 0 (c)\n",
      "1 1 (d)\n",
      "2 0 (e)\n",
      "2 1 (f)\n"
     ]
    },
    {
     "data": {
      "text/plain": [
       "<matplotlib.legend.Legend at 0x7f63d63ca950>"
      ]
     },
     "execution_count": 97,
     "metadata": {},
     "output_type": "execute_result"
    }
   ],
   "source": [
    "# f, axarr = subplots(3, 2, sharex='col', sharey='row', figsize=(6, 5.6))\n",
    "f, axarr = subplots(3, 2, sharex='col', sharey='row', figsize=(6.8, 6.8))\n",
    "# f, axarr = subplots(3, 2, sharex='col', sharey='row', figsize=(12, 11))\n",
    "print axarr[0,0]\n",
    "\n",
    "rcParams['figure.subplot.wspace'] = 0.04\n",
    "rcParams['figure.subplot.hspace'] = 0.1\n",
    "rcParams['figure.subplot.bottom'] = 0.13\n",
    "rcParams['figure.subplot.right'] = 0.98\n",
    "rcParams['figure.subplot.left'] = 0.16\n",
    "rcParams['figure.subplot.top'] = 0.92\n",
    "\n",
    "\n",
    "for num,b in enumerate(('(a)', '(b)', '(c)', '(d)', '(e)','(f)')):\n",
    "    print num/2 , num%2 , b\n",
    "    axarr[num/2,num%2].text(0.05, 0.9, b, transform=axarr[num/2,num%2].transAxes, fontweight='bold', va='top')\n",
    "    \n",
    "for i in range(3):\n",
    "    for j in range(2):\n",
    "#         axarr[0,j].set_ylim(0,12)\n",
    "# #         axarr[0,j].set_ylim(0,3.1)\n",
    "#         #axarr[1,j].set_ylim(0,21)\n",
    "#         axarr[1,j].set_ylim(0,15)\n",
    "#         axarr[2,j].set_ylim(0,7)\n",
    "\n",
    "#    cong for t1 = t2\n",
    "        axarr[0,j].set_ylim(0,0.4)\n",
    "        axarr[1,j].set_ylim(0,1.1)\n",
    "        axarr[2,j].set_ylim(0,1.1)\n",
    "        axarr[0,0].set_yticks(arange(0,.4, step=.2))\n",
    "        axarr[1,0].set_yticks(arange(0,1.1, step=.5))\n",
    "        axarr[2,0].set_yticks(arange(0,1.1, step=0.5))\n",
    "        \n",
    "    \n",
    "#     cong for t1 > 0 connected t2 = G2 =0\n",
    "#         axarr[0,j].set_ylim(0,1.6)\n",
    "#         axarr[1,j].set_ylim(0,1.7)\n",
    "#         axarr[2,j].set_ylim(0,1.7)\n",
    "#         axarr[0,0].set_yticks(arange(0,1.6, step=.5))\n",
    "#         axarr[1,0].set_yticks(arange(0,1.7, step=.5))\n",
    "#         axarr[2,0].set_yticks(arange(0,1.7, step=0.5)).\n",
    "\n",
    "#     cong for t2>0 connected t1 = G2 =0\n",
    "#         axarr[0,j].set_ylim(0,1.6)\n",
    "#         axarr[1,j].set_ylim(0,1.7)\n",
    "#         axarr[2,j].set_ylim(0,1.7)\n",
    "#         axarr[0,0].set_yticks(arange(0,1.6, step=.5))\n",
    "#         axarr[1,0].set_yticks(arange(0,1.7, step=.5))\n",
    "#         axarr[2,0].set_yticks(arange(0,1.7, step=0.5))\n",
    "        \n",
    "        \n",
    "        #axarr[i,j].text(0.1, 0.9, 'A', transform=axarr[i,j].transAxes, fontweight='bold', va='top')\n",
    "        #axarr[1,0].text(-0.3, 0.5, 'B', transform=axarr[1,1].transAxes, fontweight='bold', va='top')\n",
    "        \n",
    "        \n",
    "#         axarr[0,0].set_yticks(arange(0,3.1, step=1))\n",
    "#         axarr[0,0].set_yticks(arange(0,13, step=5))\n",
    "#         #axarr[0,0].set_yticks((0,5,10))\n",
    "#         axarr[1,0].set_yticks(arange(0,13, step=5))\n",
    "#         axarr[2,0].set_yticks(arange(0,7, step=2))\n",
    "        \n",
    "       \n",
    "        \n",
    "        axarr[0,0].set_ylabel('$\\\\rho \\pi \\Gamma_1 $'  , fontsize=24)\n",
    "        axarr[1,0].set_ylabel('$\\\\rho \\pi \\Gamma_1$' , fontsize=24)\n",
    "        axarr[2,0].set_ylabel('$\\\\rho \\pi \\Gamma_1$', fontsize=24)\n",
    "#         axarr[0,0].set_ylabel('$\\\\rho(\\omega) $'  , fontsize=24)\n",
    "#         axarr[1,0].set_ylabel('$\\\\rho(\\omega)$' , fontsize=24)\n",
    "#         axarr[2,0].set_ylabel('$\\\\rho(\\omega)$', fontsize=24)\n",
    "        \n",
    "        #axarr[0,0].set_ylabel('$ \\\\mathbf{ \\epsilon_{1,2} = 0 }$ \\n  $\\\\rho(\\omega) $'  , fontsize=26)\n",
    "        #axarr[1,0].set_ylabel('$ \\\\mathbf{ \\epsilon_1 = 5\\Gamma_1}$ \\n $\\\\rho(\\omega)$' , fontsize=24)\n",
    "        #axarr[2,0].set_ylabel('$ \\\\mathbf{\\epsilon_2 = -5\\Gamma_1}$ \\n $\\\\rho(\\omega)$', fontsize=24)\n",
    "        \n",
    "        axarr[2,j].set_xticks((-8,-4,0,4,8))\n",
    "        \n",
    "        axarr[2,j].set_xlabel('$\\omega/ \\Gamma_1$')\n",
    "        axarr[0,0].set_title('Dot 1')\n",
    "        axarr[0,1].set_title('Dot 2')\n",
    "\n",
    "        \n",
    "#Plot4Tits(axarr , 0 ,1.5, 3,0, '')\n",
    "# DrawInsets(axarr, 1 ,  'D3.png' , 'D2.png' , 'D1.png')\n",
    "# Plot4Tits(axarr , 1 ,0, 2,2, '')\n",
    "# Plot4Tits(axarr , G2 ,tdots,t1 ,t2 , lb ):\n",
    "\n",
    "# t1=t2\n",
    "Plot4Tits(axarr , 1 ,0, 2,2, '')\n",
    "DrawInsets(axarr, 1 , 'D3.png' , 'D2V1.png' , 'D1V2.png')\n",
    "\n",
    "# t1>0\n",
    "# Plot4Tits(axarr , 0 ,1, 2,0, '')\n",
    "# DrawInsets(axarr, 1 ,  'D2.png' , 'D2V1.png' , 'D1V2.png')\n",
    "\n",
    "# t2 >  0\n",
    "# Plot4Tits(axarr , 0 ,1, 0,2, '')\n",
    "# DrawInsets(axarr, 1 , 'D3.png' , 'D4V1.png' , 'D3V2.png')\n",
    "\n",
    "\n",
    "\n",
    "rcParams.update({'figure.figsize': (200,200)})\n",
    "#DrawInsets(axarr, 0 ,  'DQD1.png' , 'DQD2.png' , 'DQD3.png')\n",
    "#PlotNewARR(axarr , '' )\n",
    "#for i in range(3):\n",
    "axarr[0,0].legend(fontsize=17, loc='upper right')"
   ]
  },
  {
   "cell_type": "code",
   "execution_count": null,
   "metadata": {},
   "outputs": [],
   "source": []
  },
  {
   "cell_type": "code",
   "execution_count": 259,
   "metadata": {},
   "outputs": [
    {
     "data": {
      "text/plain": [
       "<matplotlib.image.AxesImage at 0x7efdd2816090>"
      ]
     },
     "execution_count": 259,
     "metadata": {},
     "output_type": "execute_result"
    }
   ],
   "source": [
    "# for i,b in enumerate(('(a)', '(b)', '(c)', '(d)', '(e)','(f)')):\n",
    "#     print i , b\n",
    "    \n",
    "# fig = figure()\n",
    "# for i, label in enumerate(('A', 'B', 'C', 'D')):\n",
    "#     ax = fig.add_subplot(2,2,i+1)\n",
    "#     ax.text(0.05, 0.95, label, transform=ax.transAxes,\n",
    "#      fontsize=16, fontweight='bold', va='top')\n",
    "\n",
    "#plt.show() \n",
    "\n",
    "image = imread('D1.png')\n",
    "imshow(image)\n"
   ]
  },
  {
   "cell_type": "code",
   "execution_count": 7,
   "metadata": {},
   "outputs": [
    {
     "name": "stdout",
     "output_type": "stream",
     "text": [
      "AxesSubplot(0.125,0.53;0.369048x0.35)\n"
     ]
    },
    {
     "ename": "NameError",
     "evalue": "global name 'DefineTitles' is not defined",
     "output_type": "error",
     "traceback": [
      "\u001b[0;31m---------------------------------------------------------------------------\u001b[0m",
      "\u001b[0;31mNameError\u001b[0m                                 Traceback (most recent call last)",
      "\u001b[0;32m<ipython-input-7-d894488a8192>\u001b[0m in \u001b[0;36m<module>\u001b[0;34m()\u001b[0m\n\u001b[1;32m     48\u001b[0m \u001b[0;31m#PlotMode(axarr , 818 ,1 ,0, 2,2, '', True)\u001b[0m\u001b[0;34m\u001b[0m\u001b[0;34m\u001b[0m\u001b[0m\n\u001b[1;32m     49\u001b[0m \u001b[0;31m#PlotMode(axarr , 304 ,0 ,1, 2,0, '',False)\u001b[0m\u001b[0;34m\u001b[0m\u001b[0;34m\u001b[0m\u001b[0m\n\u001b[0;32m---> 50\u001b[0;31m \u001b[0mPlotMode\u001b[0m\u001b[0;34m(\u001b[0m\u001b[0maxarr\u001b[0m \u001b[0;34m,\u001b[0m \u001b[0;36m309\u001b[0m \u001b[0;34m,\u001b[0m\u001b[0;36m0\u001b[0m \u001b[0;34m,\u001b[0m\u001b[0;36m1\u001b[0m\u001b[0;34m,\u001b[0m \u001b[0;36m0\u001b[0m\u001b[0;34m,\u001b[0m\u001b[0;36m2\u001b[0m\u001b[0;34m,\u001b[0m \u001b[0;34m''\u001b[0m\u001b[0;34m,\u001b[0m\u001b[0mFalse\u001b[0m\u001b[0;34m)\u001b[0m\u001b[0;34m\u001b[0m\u001b[0m\n\u001b[0m",
      "\u001b[0;32m<ipython-input-7-d894488a8192>\u001b[0m in \u001b[0;36mPlotMode\u001b[0;34m(axarr, NumCase, G2, tdots, t1, t2, lb, SUM)\u001b[0m\n\u001b[1;32m     10\u001b[0m \u001b[0;32mdef\u001b[0m \u001b[0mPlotMode\u001b[0m\u001b[0;34m(\u001b[0m\u001b[0maxarr\u001b[0m \u001b[0;34m,\u001b[0m \u001b[0mNumCase\u001b[0m \u001b[0;34m,\u001b[0m \u001b[0mG2\u001b[0m \u001b[0;34m,\u001b[0m\u001b[0mtdots\u001b[0m\u001b[0;34m,\u001b[0m\u001b[0mt1\u001b[0m \u001b[0;34m,\u001b[0m\u001b[0mt2\u001b[0m \u001b[0;34m,\u001b[0m \u001b[0mlb\u001b[0m \u001b[0;34m,\u001b[0m\u001b[0mSUM\u001b[0m\u001b[0;34m)\u001b[0m\u001b[0;34m:\u001b[0m\u001b[0;34m\u001b[0m\u001b[0m\n\u001b[1;32m     11\u001b[0m     \u001b[0mi\u001b[0m \u001b[0;34m=\u001b[0m \u001b[0mNumCase\u001b[0m\u001b[0;34m\u001b[0m\u001b[0m\n\u001b[0;32m---> 12\u001b[0;31m     \u001b[0mtits\u001b[0m \u001b[0;34m=\u001b[0m \u001b[0mDefineTitles\u001b[0m\u001b[0;34m(\u001b[0m\u001b[0mG2\u001b[0m \u001b[0;34m,\u001b[0m\u001b[0mtdots\u001b[0m\u001b[0;34m,\u001b[0m\u001b[0mt1\u001b[0m \u001b[0;34m,\u001b[0m\u001b[0mt2\u001b[0m \u001b[0;34m,\u001b[0m\u001b[0;36m0\u001b[0m\u001b[0;34m,\u001b[0m \u001b[0;36m0\u001b[0m \u001b[0;34m,\u001b[0m\u001b[0;36m0\u001b[0m\u001b[0;34m)\u001b[0m\u001b[0;34m\u001b[0m\u001b[0m\n\u001b[0m\u001b[1;32m     13\u001b[0m     \u001b[0mplotMath\u001b[0m\u001b[0;34m(\u001b[0m\u001b[0maxarr\u001b[0m\u001b[0;34m[\u001b[0m\u001b[0;36m0\u001b[0m\u001b[0;34m,\u001b[0m\u001b[0;36m0\u001b[0m\u001b[0;34m]\u001b[0m\u001b[0;34m,\u001b[0m\u001b[0mtits\u001b[0m\u001b[0;34m[\u001b[0m\u001b[0;36m1\u001b[0m\u001b[0;34m]\u001b[0m\u001b[0;34m,\u001b[0m\u001b[0;34m''\u001b[0m \u001b[0;34m,\u001b[0m \u001b[0;34m'-'\u001b[0m\u001b[0;34m,\u001b[0m \u001b[0;34m'b'\u001b[0m\u001b[0;34m)\u001b[0m\u001b[0;34m\u001b[0m\u001b[0m\n\u001b[1;32m     14\u001b[0m     \u001b[0mplotMath\u001b[0m\u001b[0;34m(\u001b[0m\u001b[0maxarr\u001b[0m\u001b[0;34m[\u001b[0m\u001b[0;36m0\u001b[0m\u001b[0;34m,\u001b[0m\u001b[0;36m0\u001b[0m\u001b[0;34m]\u001b[0m\u001b[0;34m,\u001b[0m\u001b[0mtits\u001b[0m\u001b[0;34m[\u001b[0m\u001b[0;36m0\u001b[0m\u001b[0;34m]\u001b[0m\u001b[0;34m,\u001b[0m\u001b[0;34m''\u001b[0m\u001b[0;34m,\u001b[0m \u001b[0;34m'--'\u001b[0m \u001b[0;34m,\u001b[0m \u001b[0;34m'r'\u001b[0m\u001b[0;34m)\u001b[0m\u001b[0;34m\u001b[0m\u001b[0m\n",
      "\u001b[0;31mNameError\u001b[0m: global name 'DefineTitles' is not defined"
     ]
    }
   ],
   "source": [
    "f, axarr = subplots(2, 2,  sharex='col',sharey='row', figsize=(6, 6.6))\n",
    "print axarr[0,0]\n",
    "\n",
    "rcParams['figure.subplot.wspace'] = 0.06\n",
    "rcParams['figure.subplot.hspace'] = 0.19\n",
    "rcParams['figure.subplot.bottom'] = 0.16\n",
    "rcParams['figure.subplot.right'] = 0.99\n",
    "rcParams['figure.subplot.left'] = 0.2\n",
    "\n",
    "def PlotMode(axarr , NumCase , G2 ,tdots,t1 ,t2 , lb ,SUM):\n",
    "    i = NumCase\n",
    "    tits = DefineTitles(G2 ,tdots,t1 ,t2 ,0, 0 ,0)\n",
    "    plotMath(axarr[0,0],tits[1],'' , '-', 'b')\n",
    "    plotMath(axarr[0,0],tits[0],'', '--' , 'r')\n",
    "    plotMath(axarr[0,1],tits[3],' $  \\uparrow$ ' + lb , '-', 'b')\n",
    "    plotMath(axarr[0,1],tits[2],' $\\downarrow$ '+ lb , '--' , 'r')\n",
    "    tits = DefineTitles(G2 ,tdots,t1 ,t2 ,0, 0 ,5)\n",
    "    plotOneDot(axarr[1,0],i , 0 ,SUM)\n",
    "    plotOneDot(axarr[1,0],i , 1 ,SUM)\n",
    "    plotOneDot(axarr[1,1],i , 2 ,SUM)\n",
    "    plotOneDot(axarr[1,1],i , 3 ,SUM)\n",
    "\n",
    "    \n",
    "#y1 = 3.2  ;  ystep1=1\n",
    "#y2 = 3.2  ;  ystep2=1\n",
    "y1 = 16.2  ;  ystep1=4\n",
    "y2 = 6.2  ;  ystep2=2\n",
    "for i in range(2):\n",
    "    for j in range(2):\n",
    "        axarr[i,j].set_xlim(-10,10)\n",
    "        axarr[0,j].set_xlabel('$\\omega/ \\Gamma_1$')\n",
    "        axarr[1,j].set_xlabel('$(\\omega / \\Gamma_1)(U/ \\Gamma_1)$')\n",
    "        \n",
    "        axarr[0,j].set_ylim(0,y1)\n",
    "        axarr[0,j].set_yticks(arange(0,y1, step=ystep1))\n",
    "        axarr[1,j].set_ylim(0,y2)\n",
    "        axarr[1,j].set_yticks(arange(0,y2, step=ystep2))\n",
    "        #axarr[1,j].set_ylim(0,3)\n",
    "       # axarr[1,0].set_yticks((0,1,2,3))\n",
    "        #axarr[1,j].set_xticks((-8,-4,0,4,8))\n",
    "        axarr[1,j].set_xticks((-8,0,8))\n",
    "        axarr[0,0].set_ylabel('$\\\\textbf{U = 0}$ \\n  $ \\\\rho(\\omega)$' )\n",
    "        axarr[1,0].set_ylabel('$\\\\textbf{U=17} \\\\mathbf{\\Gamma_1} $ \\n  $  \\\\rho(\\omega) $')\n",
    "        \n",
    "        axarr[0,0].set_title('Dot 1')\n",
    "        axarr[0,1].set_title('Dot 2')\n",
    "\n",
    "#PlotMode(axarr , 818 ,1 ,0, 2,2, '', True)    \n",
    "#PlotMode(axarr , 304 ,0 ,1, 2,0, '',False) \n",
    "PlotMode(axarr , 309 ,0 ,1, 0,2, '',False)"
   ]
  },
  {
   "cell_type": "code",
   "execution_count": null,
   "metadata": {},
   "outputs": [],
   "source": []
  },
  {
   "cell_type": "code",
   "execution_count": null,
   "metadata": {},
   "outputs": [],
   "source": []
  },
  {
   "cell_type": "code",
   "execution_count": 192,
   "metadata": {},
   "outputs": [],
   "source": []
  },
  {
   "cell_type": "code",
   "execution_count": null,
   "metadata": {},
   "outputs": [],
   "source": []
  },
  {
   "cell_type": "code",
   "execution_count": 15,
   "metadata": {},
   "outputs": [
    {
     "name": "stdout",
     "output_type": "stream",
     "text": [
      "0.210479176604\n",
      "0.125096967206\n",
      "0.371148567426\n",
      "0.384840804128\n",
      "0.02 0.02\n"
     ]
    }
   ],
   "source": [
    "i = 458\n",
    "#i = 817\n",
    "\n",
    "i = 465\n",
    "#i = 304\n",
    "#i = 318\n",
    "f, axarr = subplots(1, 2, sharex='col', sharey='row', figsize=(10, 5))\n",
    "\n",
    "plotOneDot(axarr[0],i , 0)\n",
    "plotOneDot(axarr[0],i , 1)\n",
    "plotOneDot(axarr[1],i , 2)\n",
    "plotOneDot(axarr[1],i , 3)\n",
    "\n",
    "axarr[0].set_ylim(0,6)\n",
    "axarr[0].set_xlim(-10,10)\n",
    "axarr[1].set_xlim(-10,10)\n",
    "axarr[0].set_title('Dot 1')\n",
    "axarr[1].set_title('Dot 2')\n",
    "axarr[0].set_xlabel('$(\\omega / \\Gamma_1) \\\\times (U/ \\Gamma_1)$')\n",
    "axarr[1].set_xlabel('$(\\omega / \\Gamma_1) \\\\times (U/ \\Gamma_1)$')\n",
    "axarr[0].set_ylabel('DOS')\n",
    "axarr[1].legend(fontsize=18 , loc='upper right' )\n",
    "#axarr[1].legend(fontsize=20, loc='upper right')\n",
    "#axarr[0].set_xlim(-10,10)\n",
    "#axarr[1].set_xlim(-10,10)\n",
    "#axarr[0].set_xticks((-1.5,0,1.5))\n",
    "#axarr[1].set_xticks((-1.5,0,1.5))\n",
    "\n",
    "#axarr[0].set_ylim(0,11)\n",
    "#axarr[0].set_yticks((0,1,2,3))\n",
    "\n",
    "#axarr[0].set_title('Dot 1')\n",
    "#axarr[1].set_title('Dot 2')\n",
    "\n",
    "#axarr[0].set_xlabel('$\\omega/\\Gamma$')\n",
    "#axarr[1].set_xlabel('$\\omega/\\Gamma$')\n",
    "#axarr[0].set_ylabel('DOS')\n",
    "axarr[1].legend(fontsize=18 , loc='upper right' )\n",
    "print readfile_Param(i, 12) , readfile_Param(i, 13)"
   ]
  },
  {
   "cell_type": "code",
   "execution_count": 24,
   "metadata": {},
   "outputs": [
    {
     "data": {
      "text/plain": [
       "[<matplotlib.axis.YTick at 0x7f9031f6f610>,\n",
       " <matplotlib.axis.YTick at 0x7f9031f6fe10>,\n",
       " <matplotlib.axis.YTick at 0x7f9032be4c90>,\n",
       " <matplotlib.axis.YTick at 0x7f9032c51c50>,\n",
       " <matplotlib.axis.YTick at 0x7f9032e57290>]"
      ]
     },
     "execution_count": 24,
     "metadata": {},
     "output_type": "execute_result"
    }
   ],
   "source": [
    "axarr[1].legend(fontsize=20, loc='upper left' )\n",
    "#axarr[0].set_yticks((0,5,10,15))\n",
    "axarr[0].set_yticks((0,1,2,3,4))\n",
    "#axarr[0].set_yticks((0,3,6,9,12))"
   ]
  },
  {
   "cell_type": "code",
   "execution_count": 63,
   "metadata": {},
   "outputs": [
    {
     "name": "stderr",
     "output_type": "stream",
     "text": [
      "/usr/lib/python2.7/dist-packages/matplotlib/axes/_axes.py:519: UserWarning: No labelled objects found. Use label='...' kwarg on individual plots.\n",
      "  warnings.warn(\"No labelled objects found. \"\n"
     ]
    }
   ],
   "source": [
    "#mpl.rcParams['lines.linewidth'] = 3\n",
    "f, axarr = subplots(1, 1, sharex='col', sharey='row', figsize=(10, 5))\n",
    "G2 = 0 ; tdots = 0 ;  t1 = 0 ; t2 = 0 ; em = 0 ; e1 = 0 ;e2 = 0 \n",
    "#for t1 in array([0.5,1,2]):\n",
    "    #Plot2Tits(axarr , 0 ,tdots,t1 ,t2 ,em, e1 ,e2 , '$t='+repr(t1)+'\\Gamma_1$') \n",
    "#    tits = DefineTitles(G2 ,tdots,t1 ,t2 ,em, e1 ,e2)\n",
    "#    plotMath(axarr,tits[0],'Spin-$\\downarrow , \\ t='+repr(t1)+'\\Gamma_1$', '--')\n",
    "\n",
    "#for e1 in array([1,2,5]):\n",
    "    #Plot2Tits(axarr , 0 ,tdots,t1 ,t2 ,em, e1 ,e2 , '$t='+repr(t1)+'\\Gamma_1$') \n",
    "#    tits = DefineTitles(G2 ,tdots,1 ,t2 ,em, e1 ,e2)\n",
    "#    plotMath(axarr,tits[0],'Spin-$\\downarrow , \\ \\epsilon_1='+repr(e1)+'\\Gamma_1$', '--')\n",
    "    #plotMath(axarr,tits[1],'Spin-$\\uparrow$' , '-')\n",
    "\n",
    "#   \n",
    "#for em in array([0.5,1,3]):\n",
    "    #Plot2Tits(axarr , 0 ,tdots,t1 ,t2 ,em, e1 ,e2 , '$t='+repr(t1)+'\\Gamma_1$') \n",
    "#    tits = DefineTitles(G2 ,tdots,1 ,t2 ,em, e1 ,e2)\n",
    "#    plotMath(axarr,tits[0],'Spin-$\\downarrow , \\ \\epsilon_m='+repr(em)+'\\Gamma_1$', '--')\n",
    "    #plotMath(axarr,tits[1],'Spin-$\\uparrow$' , '-')\n",
    "\n",
    "    \n",
    "axarr.set_ylim(0,1)\n",
    "axarr.set_title('')\n",
    "axarr.set_xlabel('$\\omega/ \\Gamma_1$')\n",
    "axarr.set_ylabel('DOS')\n",
    "axarr.legend(fontsize=18 , loc='upper right' )\n"
   ]
  },
  {
   "cell_type": "code",
   "execution_count": 65,
   "metadata": {},
   "outputs": [
    {
     "data": {
      "text/plain": [
       "<matplotlib.legend.Legend at 0x7fe21e02d2d0>"
      ]
     },
     "execution_count": 65,
     "metadata": {},
     "output_type": "execute_result"
    }
   ],
   "source": [
    "axarr[1].legend(fontsize=15, loc='upper left' )"
   ]
  },
  {
   "cell_type": "code",
   "execution_count": 52,
   "metadata": {},
   "outputs": [],
   "source": [
    "'Green/Gamma1=2.,Gamma2=2.,tdots=0.,t1=2.,t2=2.,em=0.,e1=0.,e2=0..dat'\n",
    "readMath('Green/Gamma1=2.,Gamma2=2.,tdots=0.,t1=2.,t2=2.,em=0.,e1=0.,e2=0..dat')"
   ]
  },
  {
   "cell_type": "code",
   "execution_count": 53,
   "metadata": {},
   "outputs": [],
   "source": [
    "'Green/Gamma1=2.,Gamma2=2.,tdots=0.,t1=2.,t2=2.,em=0.,e1=0.,e2=0..dat'\n",
    "readMath('Green/Gamma1=2.,Gamma2=2.,tdots=0.,t1=2.,t2=2.,em=0.,e1=0.,e2=0..dat')"
   ]
  },
  {
   "cell_type": "code",
   "execution_count": 29,
   "metadata": {},
   "outputs": [
    {
     "ename": "SyntaxError",
     "evalue": "unexpected EOF while parsing (<ipython-input-29-62e236601272>, line 1)",
     "output_type": "error",
     "traceback": [
      "\u001b[0;36m  File \u001b[0;32m\"<ipython-input-29-62e236601272>\"\u001b[0;36m, line \u001b[0;32m1\u001b[0m\n\u001b[0;31m    print 'Green/Gamma1=2.,Gamma2='+repr(int(G2*2)\u001b[0m\n\u001b[0m                                                  ^\u001b[0m\n\u001b[0;31mSyntaxError\u001b[0m\u001b[0;31m:\u001b[0m unexpected EOF while parsing\n"
     ]
    }
   ],
   "source": [
    "print 'Green/Gamma1=2.,Gamma2='+repr(int(G2*2))"
   ]
  },
  {
   "cell_type": "code",
   "execution_count": 114,
   "metadata": {},
   "outputs": [
    {
     "data": {
      "text/plain": [
       "array([ 0.,  1.,  2.,  3.])"
      ]
     },
     "execution_count": 114,
     "metadata": {},
     "output_type": "execute_result"
    }
   ],
   "source": [
    "linspace(0, 3 , 4)"
   ]
  },
  {
   "cell_type": "code",
   "execution_count": null,
   "metadata": {},
   "outputs": [],
   "source": []
  }
 ],
 "metadata": {
  "kernelspec": {
   "display_name": "Python 2",
   "language": "python",
   "name": "python2"
  },
  "language_info": {
   "codemirror_mode": {
    "name": "ipython",
    "version": 2
   },
   "file_extension": ".py",
   "mimetype": "text/x-python",
   "name": "python",
   "nbconvert_exporter": "python",
   "pygments_lexer": "ipython2",
   "version": "2.7.15rc1"
  }
 },
 "nbformat": 4,
 "nbformat_minor": 1
}
