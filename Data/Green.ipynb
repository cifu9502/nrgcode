{
 "metadata": {
  "name": "",
  "signature": "sha256:ce5d52a6fdaf6848ed9fcc3d8ef42a1459ffe3a4ecbf7a67bb4a069e90d3fdd1"
 },
 "nbformat": 3,
 "nbformat_minor": 0,
 "worksheets": [
  {
   "cells": [
    {
     "cell_type": "code",
     "collapsed": false,
     "input": [
      "#from __future__ import division \n",
      "%pylab inline\n",
      "import string\n",
      "%matplotlib qt \n",
      "#%matplotlib notebook\n",
      "#%matplotlib nbagg\n",
      "import matplotlib.ticker as ticker\n",
      "import os\n",
      "\n",
      "txt = 'run'\n",
      "#txt = 'OldData/run'\n",
      "txt2 = '/rho_'\n",
      "inp ='/input_nrg.dat'\n",
      "densPath = '/home/cifucito/nrgcode/TwoChNRG/Images/Density/run'\n",
      "\n",
      "\n",
      "\n",
      "rcParams.update({'font.size': 30})\n",
      "rc(\"text\", usetex = True)\n",
      "rc(\"font\", family = \"serif\")\n",
      "#rcParams['figure.subplot.hspace'] = 0.3\n",
      "rcParams['figure.subplot.wspace'] = 0.1\n",
      "from scipy.interpolate import griddata\n",
      "from scipy.optimize import curve_fit\n",
      "from scipy import interpolate\n",
      "mpl.rcParams['lines.linewidth'] = 2\n",
      "Gamma = 2.82691*0.01\n",
      "pi*Gamma\n"
     ],
     "language": "python",
     "metadata": {},
     "outputs": [
      {
       "output_type": "stream",
       "stream": "stdout",
       "text": [
        "Populating the interactive namespace from numpy and matplotlib\n"
       ]
      },
      {
       "metadata": {},
       "output_type": "pyout",
       "prompt_number": 4,
       "text": [
        "0.08880999688359521"
       ]
      }
     ],
     "prompt_number": 4
    },
    {
     "cell_type": "code",
     "collapsed": false,
     "input": [
      "#read files for folder ini and dot \n",
      "#return\n",
      "def readfile(ini, dot):\n",
      "        output = txt+repr(ini)+txt2 +repr(dot)+'_'+repr(dot)+'_OmegaRhow_zEQAVG.00.dat'\n",
      "        \n",
      "        #output = txt+repr(ini)+txt2 +repr(dot)+'_'+repr(dot)+'_OmegaRhow.dat'\n",
      "        #output = 'NotSoOld_Data/'+txt+repr(ini)+txt2 +repr(dot)+'_'+repr(dot)+'_OmegaRhow.dat'\n",
      "        #output = 'OldData/'+txt+repr(ini)+txt2 +repr(dot)+'_'+repr(dot)+'_OmegaRhow.dat'\n",
      "        infile = open(os.path.abspath(output), 'r')\n",
      "        text = infile.readlines()\n",
      "        \n",
      "        #Data managemente\n",
      "        vec = [];        vec2 = []  \n",
      "        for x in text:\n",
      "            #print(list(x))\n",
      "            a =x.split(' ') ;            vec.append(float(a[-3]))\n",
      "            vec2.append(float(a[0]))\n",
      "        #if j%20 == 1 : vec = vec[::-1];\n",
      "        DOS= array(vec) ; w = array(vec2) \n",
      "        return DOS , w\n",
      "    \n",
      "zvec = ['0.60','0.80','1.00','1.20','1.40']    \n",
      "def readfileZ(ini, dot, Ztrick):\n",
      "        output = txt+repr(ini)+txt2 +repr(dot)+'_'+repr(dot)+'_OmegaRhow_zEQ'+zvec[Ztrick]+'.dat'\n",
      "        #output = txt+repr(ini)+txt2 +repr(dot)+'_'+repr(dot)+'_OmegaRhow.dat'\n",
      "        infile = open(os.path.abspath(output), 'r')\n",
      "        text = infile.readlines()\n",
      "        #Data managemente\n",
      "        vec = [];        vec2 = []  \n",
      "        for x in text:\n",
      "            #print(list(x))\n",
      "            a =x.split(' ') ;            vec.append(float(a[-3]))\n",
      "            vec2.append(float(a[0]))\n",
      "        #if j%20 == 1 : vec = vec[::-1];\n",
      "        DOS= array(vec) ; w = array(vec2) \n",
      "        return DOS , w    \n",
      "    \n",
      "#returns the parameter value of file ini  at the given line    \n",
      "def readfile_Param(ini, line):\n",
      "        #output = txt+repr(ini)+txt2 +repr(dot)+'_'+repr(dot)+'_OmegaRhow_zEQAVG.00.dat'\n",
      "        output = txt+repr(ini)+ inp \n",
      "        #output = '/home/cifucito/nrgcode/TwoChNRG/src/Main/Run/Run2DOtM/rho_2_2_OmegaRhow.dat'\n",
      "        infile = open(os.path.abspath(output), 'r')\n",
      "        text = infile.readlines()\n",
      "        return  float(text[line])    \n",
      "    \n",
      "    \n",
      "#Define the log transform. \n",
      "#Inputs : w -- vector to transform ,  maxi- max(-log(w)) usually 10\n",
      "def LogTransform(w, maxi):\n",
      "    logw = zeros(size(w)) ; logw[w<0] = log10(-w[w<0]) ; logw[w>0] = log10(w[w>0]) \n",
      "    logw = -logw ;  #print \"b\" , logw\n",
      "    logw[size(logw)/2:] = -logw[size(logw)/2:]+ 2*maxi\n",
      "    logw =  logw -maxi\n",
      "    return logw     \n"
     ],
     "language": "python",
     "metadata": {},
     "outputs": [],
     "prompt_number": 5
    },
    {
     "cell_type": "code",
     "collapsed": false,
     "input": [
      " \n",
      "def find_nearest(array, value):\n",
      "    array = asarray(array)\n",
      "    idx = (abs(array - value)).argmin()\n",
      "    return idx\n",
      "\n",
      "def integrate(N, w, rho , A):\n",
      "    r = random.rand( 3, N) ;\n",
      "    sum = 0 \n",
      "    for n in range(N):\n",
      "        i1 =  find_nearest( w, A*r[0,n]) \n",
      "        add = 1 if r[1,n]<rho[i1] else 0\n",
      "        sum = add + sum\n",
      "    return  A*sum/float(N)   \n",
      "\n",
      "i = 431\n",
      "dot = 3\n",
      "\n",
      "rho, w = readfile(i, dot)\n",
      "rho1, w1 = readfile(100+i, dot)\n",
      "rho = 0.5*(rho +rho1)\n",
      "rho = rho*Gamma*pi ; w = w/Gamma\n",
      "plot(w, rho)\n",
      "\n",
      "\n",
      "N = 100000\n",
      "\n",
      "\n",
      "plot(w,rho)\n",
      "Int = 0\n",
      "for i in range(20):\n",
      "    Int = Int + integrate(N, w, rho,100)\n",
      "print Int/20.0    \n"
     ],
     "language": "python",
     "metadata": {},
     "outputs": [
      {
       "output_type": "stream",
       "stream": "stdout",
       "text": [
        "1.0705\n"
       ]
      }
     ],
     "prompt_number": 17
    },
    {
     "cell_type": "code",
     "collapsed": false,
     "input": [
      "\n",
      "def readMath(  title):\n",
      "    #infile = open(os.path.abspath('Gamma1=0.0282691,Gamma2=0,tdots=0.02,t1=0,t2=0.02'), 'r')\n",
      "    #infile = open(os.path.abspath('Gamma1=0.0282691,Gamma2=0,tdots=0.02,t1=0.02,t2=0.'), 'r')\n",
      "    infile = open(os.path.abspath( title ), 'r')\n",
      "    text = infile.readlines()\n",
      "    Green = []\n",
      "    for x in text:\n",
      "         Green.append(pi*Gamma*float(x.split('\\n')[0]))\n",
      "    #return linspace(-10,10,500), array(Green)/(pi*Gamma)\n",
      "    return linspace(-10,10,500), array(Green)\n",
      "    #ax.plot(linspace(-10*Gamma,10*Gamma,500),Green, label = 'Green')\n",
      "    #return linspace(-10*Gamma,10*Gamma,500),Green\n",
      "    #plot(linspace(-10*Gamma,10*Gamma,500),Green, label = 'Green')\n",
      "    #plot(linspace(-10,10,500),Green, label = 'Green')\n",
      "#plot(Green)\n",
      "\n",
      "def plotMath( ax , title , lb , style):\n",
      "    w , Green = readMath( title)\n",
      "    if lb == '':\n",
      "        ax.plot(linspace(-10,10,500),Green, ls = style)\n",
      "    else :\n",
      "        ax.plot(linspace(-10,10,500),Green, label = lb,ls = style)\n",
      "\n",
      "def plotOneDot(i , dot):\n",
      "    vec , w = readfile(i, dot)\n",
      "    #rho , vec2 = readfile(i+100, dot)\n",
      "    #vec = 0.5*(rho+vec)\n",
      "    vec = vec#*pi*Gamma#*Hib\n",
      "    spin = '\\uparrow' if dot%2!=1 else '\\downarrow'\n",
      "            #plot DOS\n",
      "    p0 = vec[w>0][0]\n",
      "    print p0*pi*Gamma*2   \n",
      "    #plot(w/(Gamma*0.8),vec*pi*Gamma/0.944036503513, 'o',label= '$'  +spin + '$') \n",
      "    plot(w/(Gamma),vec*pi*Gamma, 'o',label= '$'  +spin + '$')\n",
      "#plotDOS(initials,17,0.1,4)            \n",
      "#plotOneDot(22 , 0)\n",
      "#plotOneDot(22 , 1)\n",
      "#plotOneDot(22 , 2)\n",
      "#plotOneDot(22, 3)\n",
      "#plot(linspace(-10*Gamma,10*Gamma,500),Green, label = 'Green')\n",
      "#readMath('DQD')\n",
      "#readMath('Gamma1=0.0282691,Gamma2=0,tdots=0.02,t1=0,t2=0.02')\n",
      "#xlim(-20,20)\n",
      "#legend(fontsize=17, loc='lower right')\n",
      "#plotOneDot(556 , 0)\n",
      "\n",
      "title = '/home/cifucito/nrgcode/TwoChNRG/Data/Green/Gamma1=2.,Gamma2=0.,tdots=0.,t1=5.,t2=0.,em=0.,e1=0.,e2=0..dat'\n",
      "#readMath(title)"
     ],
     "language": "python",
     "metadata": {},
     "outputs": [],
     "prompt_number": 146
    },
    {
     "cell_type": "code",
     "collapsed": false,
     "input": [
      "G2 = 1 ; tdots = 0 ;  t1 = 1 ; t2 = 1 ; em = 0 ; e1 = 0 ;e2 = 0\n",
      "title = 'd1/Gamma1=2.,Gamma2='+repr(int(G2*2) ) +'.,tdots='+repr(int(tdots*2))+'.,t1='+repr(int(2*t1))+'.,t2='+ repr(int(2*t2))+'.,em='+repr(int(2*em))+'.,e1='+repr(int(2*e1))+'.,e2='+repr(int(2*e2))+'..dat'\n",
      "\n",
      "readMath(title)"
     ],
     "language": "python",
     "metadata": {},
     "outputs": [],
     "prompt_number": 55
    },
    {
     "cell_type": "code",
     "collapsed": false,
     "input": [
      "def DefineTitles(G2 ,tdots,t1 ,t2 ,em, e1 ,e2):\n",
      "    title1 = 'd1/Gamma1=2.,Gamma2='+repr(int(G2*2) ) +'.,tdots='+repr(int(tdots*2))+'.,t1='+repr(int(2*t1))+'.,t2='+ repr(int(2*t2))+'.,em='+repr(int(2*em))+'.,e1='+repr(int(2*e1))+'.,e2='+repr(int(2*e2))+'..dat'\n",
      "    title2 = 'd2/Gamma1=2.,Gamma2='+repr(int(G2*2) ) +'.,tdots='+repr(int(tdots*2))+'.,t1='+repr(int(2*t1))+'.,t2='+ repr(int(2*t2))+'.,em='+repr(int(2*em))+'.,e1='+repr(int(2*e1))+'.,e2='+repr(int(2*e2))+'..dat'\n",
      "    title3 = 'd3/Gamma1=2.,Gamma2='+repr(int(G2*2) ) +'.,tdots='+repr(int(tdots*2))+'.,t1='+repr(int(2*t1))+'.,t2='+ repr(int(2*t2))+'.,em='+repr(int(2*em))+'.,e1='+repr(int(2*e1))+'.,e2='+repr(int(2*e2))+'..dat'\n",
      "    title4 = 'd4/Gamma1=2.,Gamma2='+repr(int(G2*2) ) +'.,tdots='+repr(int(tdots*2))+'.,t1='+repr(int(2*t1))+'.,t2='+ repr(int(2*t2))+'.,em='+repr(int(2*em))+'.,e1='+repr(int(2*e1))+'.,e2='+repr(int(2*e2))+'..dat'\n",
      "    return title1 , title2, title3 , title4\n",
      "def Plot2Tits(axarr , G2 ,tdots,t1 ,t2 ,em, e1 ,e2 , lb):\n",
      "    tits = DefineTitles(G2 ,tdots,t1 ,t2 ,em, e1 ,e2)\n",
      "    plotMath(axarr[0],tits[0],'', '-')\n",
      "    #plotMath(axarr[0],tits[1],'' , '--')\n",
      "    plotMath(axarr[1],tits[2],lb , '-')\n",
      "    #plotMath(axarr[1],tits[3],'up' , '--')\n",
      "\n",
      "\n",
      "f, axarr = subplots(1, 2, sharex='col', sharey='row', figsize=(10, 5))\n",
      "\n",
      "G2 = 0 ; tdots = 0 ;  t1 = 0 ; t2 = 0 ; em = 0 ; e1 = 0 ;e2 = 0\n",
      "for G2 in array([0,0.5,1,4]):\n",
      "    Plot2Tits(axarr , G2 ,tdots,t1 ,t2 ,em, e1 ,e2 , '$\\Gamma_2 ='+repr(G2)+'\\Gamma_1$')\n",
      "    \n",
      "#for tdots in array([1,2,4]):\n",
      "#    Plot2Tits(axarr , 1 ,tdots,t1 ,t2 ,em, e1 ,e2 , '$t_{dots}='+repr(tdots)+'\\Gamma_1$')      \n",
      "#\n",
      "axarr[0].set_ylim(0,1.5)\n",
      "axarr[0].set_title('Dot 1')\n",
      "axarr[1].set_title('Dot 2')\n",
      "axarr[0].set_xlabel('$\\omega/ \\Gamma_1$')\n",
      "axarr[1].set_xlabel('$\\omega/ \\Gamma_1$')\n",
      "axarr[0].set_ylabel('$\\\\rho\\pi\\Gamma_1$')\n",
      "axarr[1].legend(fontsize=18 , loc='upper right' )"
     ],
     "language": "python",
     "metadata": {},
     "outputs": [
      {
       "metadata": {},
       "output_type": "pyout",
       "prompt_number": 174,
       "text": [
        "<matplotlib.legend.Legend at 0x7ff52d19a990>"
       ]
      }
     ],
     "prompt_number": 174
    },
    {
     "cell_type": "code",
     "collapsed": false,
     "input": [
      "'Green/Gamma1=2.,Gamma2=2.,tdots=0.,t1=2.,t2=2.,em=0.,e1=0.,e2=0..dat'\n",
      "readMath('Green/Gamma1=2.,Gamma2=2.,tdots=0.,t1=2.,t2=2.,em=0.,e1=0.,e2=0..dat')"
     ],
     "language": "python",
     "metadata": {},
     "outputs": [],
     "prompt_number": 52
    },
    {
     "cell_type": "code",
     "collapsed": false,
     "input": [
      "'Green/Gamma1=2.,Gamma2=2.,tdots=0.,t1=2.,t2=2.,em=0.,e1=0.,e2=0..dat'\n",
      "readMath('Green/Gamma1=2.,Gamma2=2.,tdots=0.,t1=2.,t2=2.,em=0.,e1=0.,e2=0..dat')"
     ],
     "language": "python",
     "metadata": {},
     "outputs": [],
     "prompt_number": 53
    },
    {
     "cell_type": "code",
     "collapsed": false,
     "input": [
      "print 'Green/Gamma1=2.,Gamma2='+repr(int(G2*2))"
     ],
     "language": "python",
     "metadata": {},
     "outputs": [
      {
       "ename": "SyntaxError",
       "evalue": "unexpected EOF while parsing (<ipython-input-29-62e236601272>, line 1)",
       "output_type": "pyerr",
       "traceback": [
        "\u001b[0;36m  File \u001b[0;32m\"<ipython-input-29-62e236601272>\"\u001b[0;36m, line \u001b[0;32m1\u001b[0m\n\u001b[0;31m    print 'Green/Gamma1=2.,Gamma2='+repr(int(G2*2)\u001b[0m\n\u001b[0m                                                  ^\u001b[0m\n\u001b[0;31mSyntaxError\u001b[0m\u001b[0;31m:\u001b[0m unexpected EOF while parsing\n"
       ]
      }
     ],
     "prompt_number": 29
    },
    {
     "cell_type": "code",
     "collapsed": false,
     "input": [
      "linspace(0, 3 , 4)"
     ],
     "language": "python",
     "metadata": {},
     "outputs": [
      {
       "metadata": {},
       "output_type": "pyout",
       "prompt_number": 114,
       "text": [
        "array([ 0.,  1.,  2.,  3.])"
       ]
      }
     ],
     "prompt_number": 114
    },
    {
     "cell_type": "code",
     "collapsed": false,
     "input": [],
     "language": "python",
     "metadata": {},
     "outputs": []
    }
   ],
   "metadata": {}
  }
 ]
}