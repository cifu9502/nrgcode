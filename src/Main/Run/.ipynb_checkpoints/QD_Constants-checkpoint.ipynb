{
 "metadata": {
  "name": "",
  "signature": "sha256:ca85e6e8f0332db6639686496048ea1d6a00c403b623ad18ea72d1a2c1b53c59"
 },
 "nbformat": 3,
 "nbformat_minor": 0,
 "worksheets": [
  {
   "cells": [
    {
     "cell_type": "code",
     "collapsed": false,
     "input": [
      "%pylab inline\n",
      "from __future__ import division"
     ],
     "language": "python",
     "metadata": {},
     "outputs": [
      {
       "output_type": "stream",
       "stream": "stdout",
       "text": [
        "Populating the interactive namespace from numpy and matplotlib\n"
       ]
      }
     ],
     "prompt_number": 4
    },
    {
     "cell_type": "markdown",
     "metadata": {},
     "source": [
      "The following is the imput file \n",
      "6 \\\\\n",
      "1000  \\\\\n",
      "5.E-1 \\\\\n",
      "2.82691E-2 \\\\\n",
      "-0.25 \\\\\n",
      "2.5 \\\\\n",
      "0 \\\\\n",
      "0 \\\\\n",
      "0 \\\\\n",
      "0 \\\\\n",
      "9999999 \\\\ \n",
      "0.2 \\\\\n",
      "0.0  \\\\\n",
      "1.0 \\\\\n",
      "1.0 \\\\\n",
      "0.0 \\\\\n",
      "0.0 \\\\\n",
      "0.0 \\\\\n",
      "0.0 \\\\\n",
      "Got OneChQS \n",
      " .. SetSingleSite done!\n",
      " Fsq = 2 chi_m1 = 0.121207 eN(0) = 0\n",
      " sqrt(ALambda)*chi_m1 = 0.125319\n"
     ]
    },
    {
     "cell_type": "code",
     "collapsed": false,
     "input": [
      "Nsitesmax = 5\n",
      "Ncutoff = 1000\n",
      "U = 0.5\n",
      "Gamma = 0.0282691\n",
      "ed = -0.5\n",
      "Lambda = 2.5\n",
      "ChemPot = 0\n",
      "UpdateBefCut = 0\n",
      "calcdens = 0\n",
      "Oliveira_z = 1"
     ],
     "language": "python",
     "metadata": {},
     "outputs": [],
     "prompt_number": 5
    },
    {
     "cell_type": "code",
     "collapsed": false,
     "input": [
      "log(2.7)"
     ],
     "language": "python",
     "metadata": {},
     "outputs": [
      {
       "metadata": {},
       "output_type": "pyout",
       "prompt_number": 6,
       "text": [
        "0.99325177301028345"
       ]
      }
     ],
     "prompt_number": 6
    },
    {
     "cell_type": "code",
     "collapsed": false,
     "input": [
      "x0=(1+Lambda**(-1))/2\n",
      "x1=2/(1+Lambda**(-1))\n",
      "x2=2/(1+Lambda**(-1))*(Lambda**(-1))\n",
      "x3=0.5*U*2/(1+Lambda**(-1))*(Lambda**(-1))#this is the energy E0\n",
      "x4=(ed+0.5*U)/(0.5*(1+Lambda**(-1))*Lambda)\n",
      "x5=0.5*U*2/(1+Lambda**(-1))\n",
      "x6=((x1**2)*2*Gamma/pi)**(1/2)\n",
      "print(x0,x1,x2,x3,x4,x5,x6)\n",
      "  \n",
      "Alamb = (log(Lambda)/2)*(Lambda+1)/(Lambda-1)\n",
      "#This is the one!!!!\n",
      "print x6*Lambda**(-1/2) ,x6*Lambda**(-1/2)*Alamb**(1/2)\n",
      "print Alamb\n"
     ],
     "language": "python",
     "metadata": {},
     "outputs": [
      {
       "output_type": "stream",
       "stream": "stdout",
       "text": [
        "(0.7, 1.4285714285714286, 0.5714285714285715, 0.14285714285714288, -0.14285714285714285, 0.35714285714285715, 0.19164522924380614)\n",
        "0.121207085423 0.125319325836\n",
        "1.06900585385\n"
       ]
      }
     ],
     "prompt_number": 9
    },
    {
     "cell_type": "code",
     "collapsed": false,
     "input": [],
     "language": "python",
     "metadata": {},
     "outputs": []
    },
    {
     "cell_type": "code",
     "collapsed": false,
     "input": [
      "b1 = 1-Lambda**(-Nsitesmax -1)\n",
      "b2 = 1-Lambda**(-2*Nsitesmax -1)\n",
      "b3 = 1-Lambda**(-2*Nsitesmax -3)\n",
      "b4 =b1/(b2*b3)\n",
      "print(b1,b2,b3,b4)"
     ],
     "language": "python",
     "metadata": {},
     "outputs": []
    },
    {
     "cell_type": "code",
     "collapsed": false,
     "input": [
      "b1 = 1-Lambda**(-1-1)\n",
      "b2 = 1-Lambda**(-2*1 -1)\n",
      "b3 = 1-Lambda**(-2*1 -3)\n",
      "b4 =b1/(b2*b3)\n",
      "print(b1,b2,b3,b4)"
     ],
     "language": "python",
     "metadata": {},
     "outputs": [
      {
       "output_type": "stream",
       "stream": "stdout",
       "text": [
        " (0.84, 0.9359999999999999, 0.98976, 0.9067207175839572)\n"
       ]
      }
     ],
     "prompt_number": 8
    },
    {
     "cell_type": "code",
     "collapsed": false,
     "input": [
      "b1 = 1-Lambda**(-1)\n",
      "b2 = 1-Lambda**( -1)\n",
      "b3 = 1-Lambda**(-3)\n",
      "b4 =b1/(b2*b3)\n",
      "print(b1,b2,b3,b4)"
     ],
     "language": "python",
     "metadata": {},
     "outputs": [
      {
       "output_type": "stream",
       "stream": "stdout",
       "text": [
        "(0.6, 0.6, 0.9359999999999999, 1.0683760683760684)\n"
       ]
      }
     ],
     "prompt_number": 30
    },
    {
     "cell_type": "code",
     "collapsed": false,
     "input": [
      "Lambda= 2.500000 \n",
      "U= 0.285714 \n",
      "t= 0.125319 \n",
      "t1= 0.000000 \n",
      "em= 0.000000 \n",
      "Lambda= 2.500000 "
     ],
     "language": "python",
     "metadata": {},
     "outputs": [],
     "prompt_number": 10
    },
    {
     "cell_type": "code",
     "collapsed": false,
     "input": [
      "U/2"
     ],
     "language": "python",
     "metadata": {},
     "outputs": [
      {
       "metadata": {},
       "output_type": "pyout",
       "prompt_number": 11,
       "text": [
        "0.142857"
       ]
      }
     ],
     "prompt_number": 11
    },
    {
     "cell_type": "code",
     "collapsed": false,
     "input": [],
     "language": "python",
     "metadata": {},
     "outputs": []
    }
   ],
   "metadata": {}
  }
 ]
}