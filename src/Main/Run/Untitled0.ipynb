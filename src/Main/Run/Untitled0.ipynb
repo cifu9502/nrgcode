{
 "metadata": {
  "name": "",
  "signature": "sha256:37f7ee81d2b5628780fd7ef9a763a9d4632c6b59fe017e127e8f84f7b5369291"
 },
 "nbformat": 3,
 "nbformat_minor": 0,
 "worksheets": [
  {
   "cells": [
    {
     "cell_type": "code",
     "collapsed": false,
     "input": [
      "from __future__ import division \n",
      "%pylab inline\n",
      "import string\n",
      "import os\n",
      "output = 'rho_0_0_OmegaRhow.dat'\n",
      "infile = open(os.path.abspath(output), 'r')\n",
      "text = infile.readlines()"
     ],
     "language": "python",
     "metadata": {},
     "outputs": [
      {
       "output_type": "stream",
       "stream": "stdout",
       "text": [
        "Populating the interactive namespace from numpy and matplotlib\n"
       ]
      }
     ],
     "prompt_number": 8
    },
    {
     "cell_type": "code",
     "collapsed": false,
     "input": [
      "vec = []\n",
      "vec2 = []\n",
      "for x in text:\n",
      "    #print(list(x))\n",
      "    a =x.split(' ')\n",
      "    vec.append(float(a[-3]))\n",
      "    vec2.append(float(a[0]))"
     ],
     "language": "python",
     "metadata": {},
     "outputs": [],
     "prompt_number": 21
    },
    {
     "cell_type": "code",
     "collapsed": false,
     "input": [
      "plot(vec2,vec)"
     ],
     "language": "python",
     "metadata": {},
     "outputs": [
      {
       "metadata": {},
       "output_type": "pyout",
       "prompt_number": 22,
       "text": [
        "[<matplotlib.lines.Line2D at 0x7fe01d33c290>]"
       ]
      },
      {
       "metadata": {},
       "output_type": "display_data",
       "png": "[encoded data removed]",
       "text": [
        "<matplotlib.figure.Figure at 0x7fe01d4131d0>"
       ]
      }
     ],
     "prompt_number": 22
    },
    {
     "cell_type": "code",
     "collapsed": false,
     "input": [],
     "language": "python",
     "metadata": {},
     "outputs": []
    }
   ],
   "metadata": {}
  }
 ]
}