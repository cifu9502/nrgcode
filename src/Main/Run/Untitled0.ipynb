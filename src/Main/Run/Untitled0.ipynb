{
 "metadata": {
  "name": "",
  "signature": "sha256:0c575834113a597f2406400eb2ce0c50550c8fe7b15e09ef4dd8599d3de6eaaf"
 },
 "nbformat": 3,
 "nbformat_minor": 0,
 "worksheets": [
  {
   "cells": [
    {
     "cell_type": "code",
     "collapsed": false,
     "input": [
      "from __future__ import division \n",
      "%pylab inline\n",
      "import string\n",
      "import os\n",
      "output = 'rho_1_1_OmegaRhow.dat'\n",
      "infile = open(os.path.abspath(output), 'r')\n",
      "text = infile.readlines()"
     ],
     "language": "python",
     "metadata": {},
     "outputs": [
      {
       "output_type": "stream",
       "stream": "stdout",
       "text": [
        "Populating the interactive namespace from numpy and matplotlib\n"
       ]
      },
      {
       "output_type": "stream",
       "stream": "stderr",
       "text": [
        "WARNING: pylab import has clobbered these variables: ['text']\n",
        "`%matplotlib` prevents importing * from pylab and numpy\n"
       ]
      }
     ],
     "prompt_number": 21
    },
    {
     "cell_type": "code",
     "collapsed": false,
     "input": [
      "vec = []\n",
      "vec2 = []\n",
      "for x in text:\n",
      "    #print(list(x))\n",
      "    a =x.split(' ')\n",
      "    vec.append(float(a[-3]))\n",
      "    vec2.append(float(a[0]))"
     ],
     "language": "python",
     "metadata": {},
     "outputs": [],
     "prompt_number": 22
    },
    {
     "cell_type": "code",
     "collapsed": false,
     "input": [
      "plot(vec2,vec)"
     ],
     "language": "python",
     "metadata": {},
     "outputs": [
      {
       "metadata": {},
       "output_type": "pyout",
       "prompt_number": 23,
       "text": [
        "[<matplotlib.lines.Line2D at 0x7f92f5fab6d0>]"
       ]
      },
      {
       "metadata": {},
       "output_type": "display_data",
       "png": "[encoded data removed]",
       "text": [
        "<matplotlib.figure.Figure at 0x7f92f60115d0>"
       ]
      }
     ],
     "prompt_number": 23
    },
    {
     "cell_type": "code",
     "collapsed": false,
     "input": [
      "vec"
     ],
     "language": "python",
     "metadata": {},
     "outputs": [
      {
       "metadata": {},
       "output_type": "pyout",
       "prompt_number": 24,
       "text": [
        "[0.0002040715832252596,\n",
        " 0.01349151027604426,\n",
        " 0.08129062333156878,\n",
        " 0.3909910313951033,\n",
        " 0.8337991465350286,\n",
        " 0.8352672222164756,\n",
        " 0.5436505347976756,\n",
        " 0.4408350572516605,\n",
        " 0.4550755992211,\n",
        " 0.5143273285053462,\n",
        " 0.6170653222534231,\n",
        " 0.8015046838408348,\n",
        " 1.073372644914838,\n",
        " 1.480393099461885,\n",
        " 2.006697851680173,\n",
        " 2.726686207363537,\n",
        " 3.556532465415697,\n",
        " 4.273665550795653,\n",
        " 4.774096315891986,\n",
        " 5.023108409706392,\n",
        " 5.155557218210402,\n",
        " 5.206415356683099,\n",
        " 5.231805008347553,\n",
        " 5.240793965988747,\n",
        " 5.245338777380644,\n",
        " 5.246983616646867,\n",
        " 5.247830060309554,\n",
        " 5.248148361759418,\n",
        " 5.248303487629994,\n",
        " 5.24835007519516,\n",
        " 5.24835623367105,\n",
        " 5.24833609931519,\n",
        " 5.248302805969587,\n",
        " 5.248261551986026,\n",
        " 5.248215717041136,\n",
        " 5.248167336967748,\n",
        " 5.248117123781777,\n",
        " 5.248066083519502,\n",
        " 5.24801424531995,\n",
        " 5.247962189273498,\n",
        " 5.247909976181909,\n",
        " 5.247857659589195,\n",
        " 5.24780693744803,\n",
        " 5.247755400431914,\n",
        " 5.247715521516097,\n",
        " 5.247669807162374,\n",
        " 5.247698403471924,\n",
        " 5.247689242150145,\n",
        " 5.248149984000933,\n",
        " 5.248352039885735,\n",
        " 5.251980286585324,\n",
        " 5.254317255934819,\n",
        " 5.254317255934829,\n",
        " 5.251980286585338,\n",
        " 5.248352039885754,\n",
        " 5.248149984000955,\n",
        " 5.247689242150167,\n",
        " 5.247698403471942,\n",
        " 5.247669807162385,\n",
        " 5.247715521516101,\n",
        " 5.247755400431915,\n",
        " 5.247806937448034,\n",
        " 5.247857659589201,\n",
        " 5.247909976181915,\n",
        " 5.2479621892735,\n",
        " 5.248014245319945,\n",
        " 5.248066083519495,\n",
        " 5.248117123781781,\n",
        " 5.248167336967756,\n",
        " 5.248215717041138,\n",
        " 5.248261551986024,\n",
        " 5.248302805969577,\n",
        " 5.248336099315173,\n",
        " 5.248356233671027,\n",
        " 5.248350075195123,\n",
        " 5.248303487629933,\n",
        " 5.248148361759329,\n",
        " 5.247830060309429,\n",
        " 5.246983616646666,\n",
        " 5.245338777380309,\n",
        " 5.240793965988201,\n",
        " 5.231805008346681,\n",
        " 5.206415356681725,\n",
        " 5.155557218208255,\n",
        " 5.023108409703116,\n",
        " 4.774096315887142,\n",
        " 4.273665550789266,\n",
        " 3.556532465408782,\n",
        " 2.726686207358609,\n",
        " 2.006697851679,\n",
        " 1.48039309946366,\n",
        " 1.073372644917609,\n",
        " 0.801504683843369,\n",
        " 0.6170653222555904,\n",
        " 0.514327328507256,\n",
        " 0.4550755992229345,\n",
        " 0.4408350572535959,\n",
        " 0.5436505348003324,\n",
        " 0.8352672222208364,\n",
        " 0.8337991465394371,\n",
        " 0.3909910313971094,\n",
        " 0.0812906233319415,\n",
        " 0.01349151027608407,\n",
        " 0.0002040715832252599]"
       ]
      }
     ],
     "prompt_number": 24
    },
    {
     "cell_type": "code",
     "collapsed": false,
     "input": [],
     "language": "python",
     "metadata": {},
     "outputs": [],
     "prompt_number": 41
    },
    {
     "cell_type": "code",
     "collapsed": false,
     "input": [],
     "language": "python",
     "metadata": {},
     "outputs": [],
     "prompt_number": 41
    },
    {
     "cell_type": "code",
     "collapsed": false,
     "input": [],
     "language": "python",
     "metadata": {},
     "outputs": []
    }
   ],
   "metadata": {}
  }
 ]
}