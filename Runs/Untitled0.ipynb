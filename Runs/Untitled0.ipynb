{
 "metadata": {
  "name": "",
  "signature": "sha256:006bb00a943459d302a35aad1cab5836352bc4ee4e0d3c828f40a7baadfd15c4"
 },
 "nbformat": 3,
 "nbformat_minor": 0,
 "worksheets": [
  {
   "cells": [
    {
     "cell_type": "code",
     "collapsed": false,
     "input": [
      "from __future__ import division \n",
      "%pylab inline\n",
      "import string\n",
      "import os\n",
      "txt = 'run'\n",
      "txt = '/home/cifucito/nrgcode/TwoChNRG/Images/run'\n",
      "txt2 = '/rho_'\n",
      "densPath = '/home/cifucito/nrgcode/TwoChNRG/Images/Density/run'"
     ],
     "language": "python",
     "metadata": {},
     "outputs": [
      {
       "output_type": "stream",
       "stream": "stdout",
       "text": [
        "Populating the interactive namespace from numpy and matplotlib\n"
       ]
      }
     ],
     "prompt_number": 6
    },
    {
     "cell_type": "code",
     "collapsed": false,
     "input": [
      "for j in range(46,51):\n",
      "    for i in range(4):\n",
      "        output = txt+repr(j)+txt2 +repr(i)+'_'+repr(i)+'_OmegaRhow.dat'\n",
      "        #output = txt+repr(j)+txt2 +repr(i)+'_'+repr(i)+'_OmegaRhow_zEQ1.40.dat'\n",
      "        #output = '/home/cifucito/nrgcode/TwoChNRG/src/Main/Run/Run2DOtM/rho_2_2_OmegaRhow.dat'\n",
      "        infile = open(os.path.abspath(output), 'r')\n",
      "        text = infile.readlines()\n",
      "        vec = [];        vec2 = []\n",
      "        for x in text:\n",
      "            #print(list(x))\n",
      "            a =x.split(' ') ;            vec.append(float(a[-3]))\n",
      "            vec2.append(float(a[0]))\n",
      "        vec = array(vec)    \n",
      "        maxima = vec[r_[True, vec[1:] > vec[:-1]] & r_[vec[:-1] > vec[1:], True]]\n",
      "        maxima = sort(maxima)\n",
      "        plot(vec2,vec)    \n",
      "        xlabel('$\\omega$',fontsize=19)\n",
      "        ylabel('Spectral Density ',fontsize=18)\n",
      "        title(\" , \".join(str(x) for x in maxima[-3:]),fontsize=10)\n",
      "        directory = densPath + repr(j)\n",
      "        #!mkdir {directory}\n",
      "        save = directory +'/'+txt2 +repr(i)+'_'+repr(i)+'_OmegaRhow.png'\n",
      "        savefig(save)\n",
      "        close()"
     ],
     "language": "python",
     "metadata": {},
     "outputs": [],
     "prompt_number": 9
    },
    {
     "cell_type": "code",
     "collapsed": false,
     "input": [
      "for i in range(1):\n",
      "    #i = i +3\n",
      "    #fig, axes = subplots(1, 4, sharey=True)\n",
      "    for j in range(46,50):\n",
      "        output = txt+repr(j)+txt2 +repr(i)+'_'+repr(i)+'_OmegaRhow.dat'\n",
      "        #output = txt+repr(j)+txt2 +repr(i)+'_'+repr(i)+'_OmegaRhow_zEQ1.40.dat'\n",
      "        #output = '/home/cifucito/nrgcode/TwoChNRG/src/Main/Run/Run2DOtM/rho_2_2_OmegaRhow.dat'\n",
      "        print output\n",
      "        infile = open(os.path.abspath(output), 'r')\n",
      "        text = infile.readlines()\n",
      "        vec = [];        vec2 = []\n",
      "        for x in text:\n",
      "            #print(list(x))\n",
      "            a =x.split(' ') ;            vec.append(float(a[-3]))\n",
      "            vec2.append(float(a[0]))\n",
      "            \n",
      "        vec = array(vec)    \n",
      "        print size(vec)\n",
      "        maxima = vec[r_[True, vec[1:] > vec[:-1]] & r_[vec[:-1] > vec[1:], True]]\n",
      "        maxima = sort(maxima)\n",
      "        m = j-46\n",
      "        axes[m].plot(vec2,vec)\n",
      "    \n",
      "        \n",
      "    xlabel('$\\omega$',fontsize=19)\n",
      "    ylabel('Spectral Density ',fontsize=18)\n",
      "    #title(\" , \".join(str(x) for x in maxima[-3:]),fontsize=10)\n",
      "    directory = densPath + repr(j)\n",
      "    show()\n",
      "        #!mkdir {directory}\n",
      "        #save = directory +'/'+txt2 +repr(i)+'_'+repr(i)+'_OmegaRhow.png'\n",
      "        #savefig(save)\n",
      "    #close()"
     ],
     "language": "python",
     "metadata": {},
     "outputs": [
      {
       "output_type": "stream",
       "stream": "stdout",
       "text": [
        "/home/cifucito/nrgcode/TwoChNRG/Images/run46/rho_0_0_OmegaRhow.dat\n",
        "104\n",
        "/home/cifucito/nrgcode/TwoChNRG/Images/run47/rho_0_0_OmegaRhow.dat\n",
        "104\n",
        "/home/cifucito/nrgcode/TwoChNRG/Images/run48/rho_0_0_OmegaRhow.dat\n",
        "104\n",
        "/home/cifucito/nrgcode/TwoChNRG/Images/run49/rho_0_0_OmegaRhow.dat\n",
        "104\n"
       ]
      },
      {
       "metadata": {},
       "output_type": "display_data",
       "png": "[encoded data removed]",
       "text": [
        "<matplotlib.figure.Figure at 0x7f62cf64e110>"
       ]
      }
     ],
     "prompt_number": 31
    },
    {
     "cell_type": "code",
     "collapsed": false,
     "input": [],
     "language": "python",
     "metadata": {},
     "outputs": [
      {
       "metadata": {},
       "output_type": "display_data",
       "png": "[encoded data removed]",
       "text": [
        "<matplotlib.figure.Figure at 0x7f62d2acb990>"
       ]
      }
     ],
     "prompt_number": 11
    },
    {
     "cell_type": "code",
     "collapsed": false,
     "input": [],
     "language": "python",
     "metadata": {},
     "outputs": [],
     "prompt_number": 41
    },
    {
     "cell_type": "code",
     "collapsed": false,
     "input": [],
     "language": "python",
     "metadata": {},
     "outputs": [],
     "prompt_number": 41
    },
    {
     "cell_type": "code",
     "collapsed": false,
     "input": [],
     "language": "python",
     "metadata": {},
     "outputs": []
    }
   ],
   "metadata": {}
  }
 ]
}