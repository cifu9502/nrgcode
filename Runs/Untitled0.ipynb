{
 "metadata": {
  "name": "",
  "signature": "sha256:92930931d0cdd4fab44971e46b43980763f4f47eb0519e3a3cac20fb389d1b29"
 },
 "nbformat": 3,
 "nbformat_minor": 0,
 "worksheets": [
  {
   "cells": [
    {
     "cell_type": "code",
     "collapsed": false,
     "input": [
      "from __future__ import division \n",
      "%pylab inline\n",
      "import string\n",
      "import os\n",
      "txt = 'run'\n",
      "txt = '/home/cifucito/master/nrgcode/Images/run'\n",
      "txt2 = '/rho_'\n",
      "densPath = '/home/cifucito/master/nrgcode/Images/Density/run'"
     ],
     "language": "python",
     "metadata": {},
     "outputs": [
      {
       "output_type": "stream",
       "stream": "stdout",
       "text": [
        "Populating the interactive namespace from numpy and matplotlib\n"
       ]
      }
     ],
     "prompt_number": 11
    },
    {
     "cell_type": "code",
     "collapsed": false,
     "input": [
      "for j in range(40,46):\n",
      "    for i in range(4):\n",
      "        output = txt+repr(j)+txt2 +repr(i)+'_'+repr(i)+'_OmegaRhow.dat'\n",
      "        output = txt+repr(j)+txt2 +repr(i)+'_'+repr(i)+'_OmegaRhow_zEQ1.40.dat'\n",
      "        #output = '/home/cifucito/nrgcode/TwoChNRG/src/Main/Run/Run2DOtM/rho_2_2_OmegaRhow.dat'\n",
      "        print output\n",
      "        infile = open(os.path.abspath(output), 'r')\n",
      "        text = infile.readlines()\n",
      "        vec = []\n",
      "        vec2 = []\n",
      "        for x in text:\n",
      "            #print(list(x))\n",
      "            a =x.split(' ')\n",
      "            vec.append(float(a[-3]))\n",
      "            vec2.append(float(a[0]))\n",
      "        vec = array(vec)    \n",
      "        maxima = vec[r_[True, vec[1:] > vec[:-1]] & r_[vec[:-1] > vec[1:], True]]\n",
      "        maxima = sort(maxima)\n",
      "        plot(vec2,vec)    \n",
      "        xlabel('$\\omega$',fontsize=19)\n",
      "        ylabel('Spectral Density ',fontsize=18)\n",
      "        title(\" , \".join(str(x) for x in maxima[-3:]),fontsize=10)\n",
      "        directory = densPath + repr(j)\n",
      "        !mkdir {directory}\n",
      "        save = directory +'/'+txt2 +repr(i)+'_'+repr(i)+'_OmegaRhow.png'\n",
      "       \n",
      "\n",
      "        savefig(save)\n",
      "        close()"
     ],
     "language": "python",
     "metadata": {},
     "outputs": [
      {
       "output_type": "stream",
       "stream": "stdout",
       "text": [
        "/home/cifucito/master/nrgcode/Images/run40/rho_0_0_OmegaRhow_zEQ1.40.dat\n"
       ]
      },
      {
       "output_type": "stream",
       "stream": "stdout",
       "text": [
        "/home/cifucito/master/nrgcode/Images/run40/rho_1_1_OmegaRhow_zEQ1.40.dat\n",
        "mkdir: cannot create directory \u2018/home/cifucito/master/nrgcode/Images/Density/run40\u2019: File exists\r\n"
       ]
      },
      {
       "output_type": "stream",
       "stream": "stdout",
       "text": [
        "/home/cifucito/master/nrgcode/Images/run40/rho_2_2_OmegaRhow_zEQ1.40.dat\n",
        "mkdir: cannot create directory \u2018/home/cifucito/master/nrgcode/Images/Density/run40\u2019: File exists\r\n"
       ]
      },
      {
       "output_type": "stream",
       "stream": "stdout",
       "text": [
        "/home/cifucito/master/nrgcode/Images/run40/rho_3_3_OmegaRhow_zEQ1.40.dat\n",
        "mkdir: cannot create directory \u2018/home/cifucito/master/nrgcode/Images/Density/run40\u2019: File exists\r\n"
       ]
      },
      {
       "output_type": "stream",
       "stream": "stdout",
       "text": [
        "/home/cifucito/master/nrgcode/Images/run41/rho_0_0_OmegaRhow_zEQ1.40.dat\n"
       ]
      },
      {
       "output_type": "stream",
       "stream": "stdout",
       "text": [
        "/home/cifucito/master/nrgcode/Images/run41/rho_1_1_OmegaRhow_zEQ1.40.dat\n",
        "mkdir: cannot create directory \u2018/home/cifucito/master/nrgcode/Images/Density/run41\u2019: File exists\r\n"
       ]
      },
      {
       "output_type": "stream",
       "stream": "stdout",
       "text": [
        "/home/cifucito/master/nrgcode/Images/run41/rho_2_2_OmegaRhow_zEQ1.40.dat\n",
        "mkdir: cannot create directory \u2018/home/cifucito/master/nrgcode/Images/Density/run41\u2019: File exists\r\n"
       ]
      },
      {
       "output_type": "stream",
       "stream": "stdout",
       "text": [
        "/home/cifucito/master/nrgcode/Images/run41/rho_3_3_OmegaRhow_zEQ1.40.dat\n",
        "mkdir: cannot create directory \u2018/home/cifucito/master/nrgcode/Images/Density/run41\u2019: File exists\r\n"
       ]
      },
      {
       "output_type": "stream",
       "stream": "stdout",
       "text": [
        "/home/cifucito/master/nrgcode/Images/run42/rho_0_0_OmegaRhow_zEQ1.40.dat\n"
       ]
      },
      {
       "output_type": "stream",
       "stream": "stdout",
       "text": [
        "/home/cifucito/master/nrgcode/Images/run42/rho_1_1_OmegaRhow_zEQ1.40.dat\n",
        "mkdir: cannot create directory \u2018/home/cifucito/master/nrgcode/Images/Density/run42\u2019: File exists\r\n"
       ]
      },
      {
       "output_type": "stream",
       "stream": "stdout",
       "text": [
        "/home/cifucito/master/nrgcode/Images/run42/rho_2_2_OmegaRhow_zEQ1.40.dat\n",
        "mkdir: cannot create directory \u2018/home/cifucito/master/nrgcode/Images/Density/run42\u2019: File exists\r\n"
       ]
      },
      {
       "output_type": "stream",
       "stream": "stdout",
       "text": [
        "/home/cifucito/master/nrgcode/Images/run42/rho_3_3_OmegaRhow_zEQ1.40.dat\n",
        "mkdir: cannot create directory \u2018/home/cifucito/master/nrgcode/Images/Density/run42\u2019: File exists\r\n"
       ]
      },
      {
       "output_type": "stream",
       "stream": "stdout",
       "text": [
        "/home/cifucito/master/nrgcode/Images/run43/rho_0_0_OmegaRhow_zEQ1.40.dat\n"
       ]
      },
      {
       "output_type": "stream",
       "stream": "stdout",
       "text": [
        "/home/cifucito/master/nrgcode/Images/run43/rho_1_1_OmegaRhow_zEQ1.40.dat\n",
        "mkdir: cannot create directory \u2018/home/cifucito/master/nrgcode/Images/Density/run43\u2019: File exists\r\n"
       ]
      },
      {
       "output_type": "stream",
       "stream": "stdout",
       "text": [
        "/home/cifucito/master/nrgcode/Images/run43/rho_2_2_OmegaRhow_zEQ1.40.dat\n",
        "mkdir: cannot create directory \u2018/home/cifucito/master/nrgcode/Images/Density/run43\u2019: File exists\r\n"
       ]
      },
      {
       "output_type": "stream",
       "stream": "stdout",
       "text": [
        "/home/cifucito/master/nrgcode/Images/run43/rho_3_3_OmegaRhow_zEQ1.40.dat\n",
        "mkdir: cannot create directory \u2018/home/cifucito/master/nrgcode/Images/Density/run43\u2019: File exists\r\n"
       ]
      },
      {
       "output_type": "stream",
       "stream": "stdout",
       "text": [
        "/home/cifucito/master/nrgcode/Images/run44/rho_0_0_OmegaRhow_zEQ1.40.dat\n"
       ]
      },
      {
       "output_type": "stream",
       "stream": "stdout",
       "text": [
        "/home/cifucito/master/nrgcode/Images/run44/rho_1_1_OmegaRhow_zEQ1.40.dat\n",
        "mkdir: cannot create directory \u2018/home/cifucito/master/nrgcode/Images/Density/run44\u2019: File exists\r\n"
       ]
      },
      {
       "output_type": "stream",
       "stream": "stdout",
       "text": [
        "/home/cifucito/master/nrgcode/Images/run44/rho_2_2_OmegaRhow_zEQ1.40.dat\n",
        "mkdir: cannot create directory \u2018/home/cifucito/master/nrgcode/Images/Density/run44\u2019: File exists\r\n"
       ]
      },
      {
       "output_type": "stream",
       "stream": "stdout",
       "text": [
        "/home/cifucito/master/nrgcode/Images/run44/rho_3_3_OmegaRhow_zEQ1.40.dat\n",
        "mkdir: cannot create directory \u2018/home/cifucito/master/nrgcode/Images/Density/run44\u2019: File exists\r\n"
       ]
      },
      {
       "output_type": "stream",
       "stream": "stdout",
       "text": [
        "/home/cifucito/master/nrgcode/Images/run45/rho_0_0_OmegaRhow_zEQ1.40.dat\n"
       ]
      },
      {
       "output_type": "stream",
       "stream": "stdout",
       "text": [
        "/home/cifucito/master/nrgcode/Images/run45/rho_1_1_OmegaRhow_zEQ1.40.dat\n",
        "mkdir: cannot create directory \u2018/home/cifucito/master/nrgcode/Images/Density/run45\u2019: File exists\r\n"
       ]
      },
      {
       "output_type": "stream",
       "stream": "stdout",
       "text": [
        "/home/cifucito/master/nrgcode/Images/run45/rho_2_2_OmegaRhow_zEQ1.40.dat\n",
        "mkdir: cannot create directory \u2018/home/cifucito/master/nrgcode/Images/Density/run45\u2019: File exists\r\n"
       ]
      },
      {
       "output_type": "stream",
       "stream": "stdout",
       "text": [
        "/home/cifucito/master/nrgcode/Images/run45/rho_3_3_OmegaRhow_zEQ1.40.dat\n",
        "mkdir: cannot create directory \u2018/home/cifucito/master/nrgcode/Images/Density/run45\u2019: File exists\r\n"
       ]
      }
     ],
     "prompt_number": 12
    },
    {
     "cell_type": "code",
     "collapsed": false,
     "input": [
      "!mkdir {txt}"
     ],
     "language": "python",
     "metadata": {},
     "outputs": [],
     "prompt_number": 7
    },
    {
     "cell_type": "code",
     "collapsed": false,
     "input": [
      "vec"
     ],
     "language": "python",
     "metadata": {},
     "outputs": [
      {
       "metadata": {},
       "output_type": "pyout",
       "prompt_number": 18,
       "text": [
        "[9.229172586340199e-05,\n",
        " 0.01334291418994035,\n",
        " 0.08144538561886815,\n",
        " 0.388576033614062,\n",
        " 0.821149502384257,\n",
        " 0.8150037059028259,\n",
        " 0.5218576173385497,\n",
        " 0.4147239698854034,\n",
        " 0.41851444007989,\n",
        " 0.4616937288751194,\n",
        " 0.5370473330582222,\n",
        " 0.7055981282152675,\n",
        " 1.017338903381566,\n",
        " 1.74339787259361,\n",
        " 3.025296763768499,\n",
        " 4.9042246443719,\n",
        " 6.908973978657301,\n",
        " 8.492323322397109,\n",
        " 9.535170550186134,\n",
        " 10.04277660028582,\n",
        " 10.31002569774943,\n",
        " 10.41245346350279,\n",
        " 10.46346329860892,\n",
        " 10.48153263428563,\n",
        " 10.49065497711147,\n",
        " 10.49395857724373,\n",
        " 10.49565655592403,\n",
        " 10.49629535289515,\n",
        " 10.49660641000306,\n",
        " 10.49669993232259,\n",
        " 10.49671237662379,\n",
        " 10.49667216363337,\n",
        " 10.49660559755489,\n",
        " 10.49652309843098,\n",
        " 10.4964314318067,\n",
        " 10.49633467305979,\n",
        " 10.49623424720465,\n",
        " 10.49613216690177,\n",
        " 10.49602849058492,\n",
        " 10.49592437852743,\n",
        " 10.49581995235736,\n",
        " 10.49571531917748,\n",
        " 10.49561387489719,\n",
        " 10.49551080086571,\n",
        " 10.49543104303432,\n",
        " 10.49533961432694,\n",
        " 10.49539680694623,\n",
        " 10.49537848430253,\n",
        " 10.4962999680036,\n",
        " 10.49670407977264,\n",
        " 10.5039605731714,\n",
        " 10.50863451186981,\n",
        " 10.50863451187002,\n",
        " 10.50396057317069,\n",
        " 10.49670407977176,\n",
        " 10.49629996800233,\n",
        " 10.49537848430096,\n",
        " 10.49539680694472,\n",
        " 10.49533961432577,\n",
        " 10.49543104303333,\n",
        " 10.49551080086481,\n",
        " 10.49561387489608,\n",
        " 10.4957153191762,\n",
        " 10.49581995235596,\n",
        " 10.49592437852633,\n",
        " 10.49602849058447,\n",
        " 10.49613216690196,\n",
        " 10.49623424720502,\n",
        " 10.49633467306013,\n",
        " 10.49643143180683,\n",
        " 10.49652309843104,\n",
        " 10.49660559755535,\n",
        " 10.49667216363397,\n",
        " 10.49671237662386,\n",
        " 10.49669993232211,\n",
        " 10.49660641000256,\n",
        " 10.49629535289499,\n",
        " 10.49565655592448,\n",
        " 10.49395857724494,\n",
        " 10.4906549771133,\n",
        " 10.481532634288,\n",
        " 10.46346329861178,\n",
        " 10.41245346350623,\n",
        " 10.31002569775364,\n",
        " 10.04277660029106,\n",
        " 9.535170550193136,\n",
        " 8.492323322405124,\n",
        " 6.908973978665386,\n",
        " 4.904224644377742,\n",
        " 3.025296763771781,\n",
        " 1.743397872594815,\n",
        " 1.017338903381959,\n",
        " 0.7055981282154757,\n",
        " 0.5370473330584512,\n",
        " 0.4616937288753783,\n",
        " 0.4185144400801768,\n",
        " 0.4147239698857372,\n",
        " 0.5218576173390485,\n",
        " 0.8150037059036801,\n",
        " 0.8211495023851338,\n",
        " 0.3885760336144651,\n",
        " 0.0814453856189443,\n",
        " 0.01334291418994998,\n",
        " 9.229172586345397e-05]"
       ]
      }
     ],
     "prompt_number": 18
    },
    {
     "cell_type": "code",
     "collapsed": false,
     "input": [],
     "language": "python",
     "metadata": {},
     "outputs": [],
     "prompt_number": 41
    },
    {
     "cell_type": "code",
     "collapsed": false,
     "input": [],
     "language": "python",
     "metadata": {},
     "outputs": [],
     "prompt_number": 41
    },
    {
     "cell_type": "code",
     "collapsed": false,
     "input": [],
     "language": "python",
     "metadata": {},
     "outputs": []
    }
   ],
   "metadata": {}
  }
 ]
}