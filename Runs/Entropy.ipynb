{
 "metadata": {
  "name": "",
  "signature": "sha256:b6a948292b6991c191e887cb6e96a3f1310b388dd3fae06680ba87258e22e3c2"
 },
 "nbformat": 3,
 "nbformat_minor": 0,
 "worksheets": [
  {
   "cells": [
    {
     "cell_type": "code",
     "collapsed": false,
     "input": [
      "#from __future__ import division \n",
      "%pylab inline\n",
      "import string\n",
      "%matplotlib qt \n",
      "#%matplotlib notebook\n",
      "#%matplotlib nbagg\n",
      "import matplotlib.ticker as ticker\n",
      "import os\n",
      "\n",
      "txt = 'run'\n",
      "#txt = 'OldData/run'\n",
      "txt2 = '/rho_'\n",
      "inp ='/input_nrg.dat'\n",
      "\n",
      "\n",
      "rcParams.update({'font.size': 30})\n",
      "rc(\"text\", usetex = True)\n",
      "rc(\"font\", family = \"serif\")\n",
      "#rcParams['figure.subplot.hspace'] = 0.3\n",
      "rcParams['figure.subplot.wspace'] = 0.1\n",
      "from scipy.interpolate import griddata\n",
      "from scipy.optimize import curve_fit\n",
      "from scipy import interpolate\n",
      "mpl.rcParams['lines.linewidth'] = 2\n",
      "Gamma = 2.82691*0.01\n",
      "pi*Gamma\n",
      "\n",
      "\n",
      "def readfile(ini):\n",
      "        output = txt+repr(ini)+'/EntropyChain1Ch_NupPdn_zEQ1.dat'\n",
      "        output = txt+repr(ini)+'/EntropyImp1ChNupPdn_Majorana_zEQ1.dat'\n",
      "        infile = open(os.path.abspath(output), 'r')\n",
      "        text = infile.readlines()\n",
      "        \n",
      "        #Data managemente\n",
      "        Temp = [];         Tot = [];  Chain = [];  Imp = [];  \n",
      "        for x in text:\n",
      "            #print(list(x))\n",
      "            a =x.split(' ') ; a[3]=a[3].split('\\n')[0] \n",
      "            Temp.append(float(a[0]))\n",
      "            Tot.append(float(a[1]))\n",
      "            Chain.append(float(a[2]))\n",
      "            Imp.append(float(a[3]))\n",
      "        return array(Temp) , array(Tot) , array(Chain) , array(Imp)"
     ],
     "language": "python",
     "metadata": {},
     "outputs": [
      {
       "output_type": "stream",
       "stream": "stdout",
       "text": [
        "Populating the interactive namespace from numpy and matplotlib\n"
       ]
      },
      {
       "output_type": "stream",
       "stream": "stderr",
       "text": [
        "WARNING: pylab import has clobbered these variables: ['griddata']\n",
        "`%matplotlib` prevents importing * from pylab and numpy\n"
       ]
      }
     ],
     "prompt_number": 45
    },
    {
     "cell_type": "code",
     "collapsed": false,
     "input": [
      "Temp , Tot , Chain , Imp = readfile(20)\n",
      "#semilogx(Temp , Tot , label = 'Tot')\n",
      "semilogx(Temp , Chain , label = 'Chain')\n",
      "#semilogx(Temp , Imp , label = 'Imp')\n",
      "legend(fontsize=18,loc='lower left')"
     ],
     "language": "python",
     "metadata": {},
     "outputs": [
      {
       "metadata": {},
       "output_type": "pyout",
       "prompt_number": 46,
       "text": [
        "<matplotlib.legend.Legend at 0x7ff784421890>"
       ]
      }
     ],
     "prompt_number": 46
    },
    {
     "cell_type": "code",
     "collapsed": false,
     "input": [
      "legend()"
     ],
     "language": "python",
     "metadata": {},
     "outputs": [
      {
       "metadata": {},
       "output_type": "pyout",
       "prompt_number": 34,
       "text": [
        "<matplotlib.legend.Legend at 0x7ff7868fd650>"
       ]
      }
     ],
     "prompt_number": 34
    },
    {
     "cell_type": "code",
     "collapsed": false,
     "input": [],
     "language": "python",
     "metadata": {},
     "outputs": []
    }
   ],
   "metadata": {}
  }
 ]
}