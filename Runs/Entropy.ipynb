{
 "metadata": {
  "name": "",
  "signature": "sha256:60acbbc477a869e8bcc0ab7ae6121cd01cfb501534ecc76e37759eb1918b5e4d"
 },
 "nbformat": 3,
 "nbformat_minor": 0,
 "worksheets": [
  {
   "cells": [
    {
     "cell_type": "code",
     "collapsed": false,
     "input": [
      "#from __future__ import division \n",
      "%pylab inline\n",
      "import string\n",
      "%matplotlib qt \n",
      "#%matplotlib notebook\n",
      "#%matplotlib nbagg\n",
      "import matplotlib.ticker as ticker\n",
      "import os\n",
      "\n",
      "txt = 'run'\n",
      "#txt = 'OldData/run'\n",
      "txt2 = '/rho_'\n",
      "inp ='/input_nrg.dat'\n",
      "\n",
      "\n",
      "rcParams.update({'font.size': 30})\n",
      "rc(\"text\", usetex = True)\n",
      "rc(\"font\", family = \"serif\")\n",
      "#rcParams['figure.subplot.hspace'] = 0.3\n",
      "rcParams['figure.subplot.wspace'] = 0.1\n",
      "from scipy.interpolate import griddata\n",
      "from scipy.optimize import curve_fit\n",
      "from scipy import interpolate\n",
      "mpl.rcParams['lines.linewidth'] = 2\n",
      "Gamma = 2.82691*0.01\n",
      "pi*Gamma\n",
      "\n",
      "\n",
      "def readfile(ini):\n",
      "        output = txt+repr(ini)+'/EntropyChain1Ch_NupPdn_zEQ1.dat'\n",
      "        output = txt+repr(ini)+'/EntropyImp1ChNupPdn_Majorana_zEQ1.dat'\n",
      "        infile = open(os.path.abspath(output), 'r')\n",
      "        text = infile.readlines()\n",
      "        \n",
      "        #Data managemente\n",
      "        Temp = [];         Tot = [];  Chain = [];  Imp = [];  \n",
      "        for x in text:\n",
      "            #print(list(x))\n",
      "            a =x.split(' ') ; a[3]=a[3].split('\\n')[0] \n",
      "            Temp.append(float(a[0]))\n",
      "            Tot.append(float(a[1]))\n",
      "            Chain.append(float(a[2]))\n",
      "            Imp.append(float(a[3]))\n",
      "        return array(Temp) , array(Tot) , array(Chain) , array(Imp)"
     ],
     "language": "python",
     "metadata": {},
     "outputs": [
      {
       "output_type": "stream",
       "stream": "stdout",
       "text": [
        "Populating the interactive namespace from numpy and matplotlib\n"
       ]
      },
      {
       "output_type": "stream",
       "stream": "stderr",
       "text": [
        "WARNING: pylab import has clobbered these variables: ['griddata']\n",
        "`%matplotlib` prevents importing * from pylab and numpy\n"
       ]
      }
     ],
     "prompt_number": 31
    },
    {
     "cell_type": "code",
     "collapsed": false,
     "input": [
      "#returns the parameter value of file ini  at the given line    \n",
      "def readfile_Param(ini, line):\n",
      "        #output = txt+repr(ini)+txt2 +repr(dot)+'_'+repr(dot)+'_OmegaRhow_zEQAVG.00.dat'\n",
      "        output = txt+repr(ini)+ inp \n",
      "        #output = '/home/cifucito/nrgcode/TwoChNRG/src/Main/Run/Run2DOtM/rho_2_2_OmegaRhow.dat'\n",
      "        infile = open(os.path.abspath(output), 'r')\n",
      "        text = infile.readlines()\n",
      "        return  float(text[line])   \n",
      "    \n",
      "    \n",
      "    \n",
      "#read files for folder ini and dot \n",
      "#return\n",
      "def readfile2(ini, dot):\n",
      "        output = txt+repr(ini)+txt2 +repr(dot)+'_'+repr(dot)+'_OmegaRhow_zEQAVG.00.dat'\n",
      "        \n",
      "        output = txt+repr(ini)+txt2 +repr(dot)+'_'+repr(dot)+'_OmegaRhow.dat'\n",
      "        #output = 'NotSoOld_Data/'+txt+repr(ini)+txt2 +repr(dot)+'_'+repr(dot)+'_OmegaRhow.dat'\n",
      "        #output = 'OldData/'+txt+repr(ini)+txt2 +repr(dot)+'_'+repr(dot)+'_OmegaRhow.dat'\n",
      "        infile = open(os.path.abspath(output), 'r')\n",
      "        text = infile.readlines()\n",
      "        \n",
      "        #Data managemente\n",
      "        vec = [];        vec2 = []  \n",
      "        for x in text:\n",
      "            #print(list(x))\n",
      "            a =x.split(' ') ;            vec.append(float(a[-3]))\n",
      "            vec2.append(float(a[0]))\n",
      "        #if j%20 == 1 : vec = vec[::-1];\n",
      "        DOS= array(vec) ; w = array(vec2) \n",
      "        return DOS , w    "
     ],
     "language": "python",
     "metadata": {},
     "outputs": [],
     "prompt_number": 32
    },
    {
     "cell_type": "code",
     "collapsed": false,
     "input": [
      "ini = 30 ; line = 21\n",
      "Temp , Tot , Chain , Imp = readfile(ini)\n",
      "param = readfile_Param(ini, line)\n",
      "semilogx(Temp , Tot/log(2) , label = 'Tot'+ ', \\eta_1 = '+ str(param) )\n",
      "semilogx(Temp , Chain/log(2) , label = 'Chain' + ', \\eta_1 = '+ str(param) )\n",
      "semilogx(Temp , Imp/log(2) , label = 'Imp'+  ',\\eta_1 = '+ str(param) )\n",
      "legend(fontsize=18,loc='lower left')"
     ],
     "language": "python",
     "metadata": {},
     "outputs": [
      {
       "metadata": {},
       "output_type": "pyout",
       "prompt_number": 48,
       "text": [
        "<matplotlib.legend.Legend at 0x7fd0788a4a50>"
       ]
      }
     ],
     "prompt_number": 48
    },
    {
     "cell_type": "code",
     "collapsed": false,
     "input": [
      "legend(fontsize=18,loc='lower left')\n",
      "xlabel('Temperature')\n",
      "ylabel('$\\\\times \\log(2)$')"
     ],
     "language": "python",
     "metadata": {},
     "outputs": [
      {
       "metadata": {},
       "output_type": "pyout",
       "prompt_number": 18,
       "text": [
        "<matplotlib.text.Text at 0x7fd07bddc210>"
       ]
      }
     ],
     "prompt_number": 18
    },
    {
     "cell_type": "code",
     "collapsed": false,
     "input": [
      "ini = 30 ; line = 21\n",
      "Temp , Tot , Chain , Imp = readfile(ini)\n",
      "Rho , w  =readfile2(3, 0)\n",
      "plot(range(size(w[w>0])),log(Rho[w>0]) )\n",
      "plot(range(size(Imp[::-4])),Imp[::-4] )"
     ],
     "language": "python",
     "metadata": {},
     "outputs": [
      {
       "metadata": {},
       "output_type": "pyout",
       "prompt_number": 47,
       "text": [
        "[<matplotlib.lines.Line2D at 0x7fd06aea8b50>]"
       ]
      }
     ],
     "prompt_number": 47
    },
    {
     "cell_type": "code",
     "collapsed": false,
     "input": [],
     "language": "python",
     "metadata": {},
     "outputs": []
    }
   ],
   "metadata": {}
  }
 ]
}